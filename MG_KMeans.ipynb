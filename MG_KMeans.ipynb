{
 "cells": [
  {
   "cell_type": "markdown",
   "metadata": {},
   "source": [
    "## KMeans Notebook\n",
    "\n",
    "By: Megan Grout (groutm@ohsu.edu)\n",
    "\n",
    "Adapted from code written by Dr. Marilyne Labrie and Nick Kendsersky\n",
    "\n",
    "\n",
    "Last updated: 20191213"
   ]
  },
  {
   "cell_type": "code",
   "execution_count": 2,
   "metadata": {},
   "outputs": [
    {
     "data": {
      "text/html": [
       "        <script type=\"text/javascript\">\n",
       "        window.PlotlyConfig = {MathJaxConfig: 'local'};\n",
       "        if (window.MathJax) {MathJax.Hub.Config({SVG: {font: \"STIX-Web\"}});}\n",
       "        if (typeof require !== 'undefined') {\n",
       "        require.undef(\"plotly\");\n",
       "        requirejs.config({\n",
       "            paths: {\n",
       "                'plotly': ['https://cdn.plot.ly/plotly-latest.min']\n",
       "            }\n",
       "        });\n",
       "        require(['plotly'], function(Plotly) {\n",
       "            window._Plotly = Plotly;\n",
       "        });\n",
       "        }\n",
       "        </script>\n",
       "        "
      ]
     },
     "metadata": {},
     "output_type": "display_data"
    }
   ],
   "source": [
    "import os\n",
    "import random\n",
    "import re\n",
    "import pandas as pd\n",
    "import numpy as np\n",
    "import seaborn as sb\n",
    "import matplotlib.pyplot as plt\n",
    "import matplotlib.colors as mplc\n",
    "import subprocess\n",
    "\n",
    "\n",
    "from scipy import signal\n",
    "\n",
    "import plotly.figure_factory as ff\n",
    "import plotly\n",
    "import plotly.graph_objs as go\n",
    "from plotly.offline import download_plotlyjs, init_notebook_mode, plot, iplot \n",
    "import plotly.express as px\n",
    "init_notebook_mode(connected = True)"
   ]
  },
  {
   "cell_type": "code",
   "execution_count": 3,
   "metadata": {},
   "outputs": [],
   "source": [
    "from cycif_modules import *"
   ]
  },
  {
   "cell_type": "markdown",
   "metadata": {},
   "source": [
    "## Functions"
   ]
  },
  {
   "cell_type": "code",
   "execution_count": 4,
   "metadata": {},
   "outputs": [],
   "source": [
    "# This may change for each experiment, so I have not sequestered\n",
    "# this code in the my_modules.py file\n",
    "\n",
    "# This function takes in a dataframe, changes the names\n",
    "# of the column in various ways, and returns the dataframe.\n",
    "# For best accuracy and generalizability, the code uses\n",
    "# regular expressions (regex) to find strings for replacement.\n",
    "def apply_header_changes(df):\n",
    "    # remove lowercase x at beginning of name\n",
    "    df.columns = df.columns.str.replace(\"^x\",\"\")\n",
    "    # remove space at beginning of name\n",
    "    df.columns = df.columns.str.replace(\"^ \",\"\")\n",
    "    # replace space with underscore\n",
    "    df.columns = df.columns.str.replace(\" \",\"_\")\n",
    "    # fix typos\n",
    "    df.columns = df.columns.str.replace(\"CKD1\",\"CDK1\")\n",
    "    df.columns = df.columns.str.replace(\"GAG3\",\"GATA3\")\n",
    "    return df"
   ]
  },
  {
   "cell_type": "markdown",
   "metadata": {},
   "source": [
    "## Begin Workflow"
   ]
  },
  {
   "cell_type": "markdown",
   "metadata": {},
   "source": [
    "### Get directories"
   ]
  },
  {
   "cell_type": "code",
   "execution_count": 5,
   "metadata": {},
   "outputs": [],
   "source": [
    "#set directory\n",
    "## needs to be user iput\n",
    "\n",
    "# Base directory for project\n",
    "base_dir = '/Users/groutm/Desktop/weewin'\n",
    "base_dir = '/Users/groutm/Desktop/reproducibility'\n",
    "base_dir = 'Z:\\Marilyne\\Axioscan\\Gao_Zhang\\Segmentation'\n",
    "base_dir = '/Users/groutm/Desktop/gz_new'\n",
    "\n",
    "\n",
    "\n",
    "project_name = 'ww'\n",
    "project_name = 'repro'\n",
    "project_name = 'gz_new'\n",
    "\n",
    "step_suffix = 'kmeans'\n",
    "previous_step_suffix_long = \"_zscore\"\n",
    "\n",
    "# Initial input data directory\n",
    "#input_data_dir = r'/Users/groutm/Desktop/TMAdata'\n",
    "#input_data_dir = r'/Users/groutm/Desktop/ww_data'\n",
    "input_data_dir = os.path.join(base_dir, project_name + previous_step_suffix_long)\n",
    "\n",
    "\n",
    "# log2/z-score directory\n",
    "#output_data_dir = r'/Users/groutm/Desktop/TMAoutputdata'\n",
    "#output_data_dir = r'/Users/groutm/Desktop/ww_outputdata'\n",
    "output_data_dir = os.path.join(base_dir, project_name + \"_\" + step_suffix)\n",
    "\n",
    "# log2/z-score images subdirectory\n",
    "#output_images_dir = r'/Users/groutm/Desktop/TMAimages'\n",
    "#output_images_dir = r'/Users/groutm/Desktop/wwimages'\n",
    "output_images_dir = os.path.join(output_data_dir,\"images\")\n",
    "\n",
    "# Metadata directories\n",
    "metadata_dir = os.path.join(base_dir, project_name + \"_metadata\")\n",
    "metadata_images_dir = os.path.join(metadata_dir,\"images\")\n",
    "\n",
    "for d in [base_dir, input_data_dir, output_data_dir, output_images_dir, \n",
    "          metadata_dir, metadata_images_dir]:\n",
    "    if not os.path.exists(d):\n",
    "        os.makedirs(d)\n",
    "\n",
    "os.chdir(input_data_dir)\n",
    "\n"
   ]
  },
  {
   "cell_type": "code",
   "execution_count": 30,
   "metadata": {},
   "outputs": [],
   "source": [
    "## Comment for final workflow\n",
    "\n",
    "ls_samples = ['TMA','ww1', 'ww10', 'ww11', 'ww12', 'ww13', 'ww15', \n",
    "              'ww16', 'ww17', 'ww19', 'ww2', 'ww20', 'ww21', \n",
    "              'ww22', 'ww23', 'ww3', 'ww4', 'ww5', 'ww6', 'ww7', \n",
    "              'ww8', 'ww9']#,'bad_header_file']\n",
    "\n",
    "ls_samples = ['TMA1.1', 'TMA1.2', 'TMA1.3', 'TMA2.1', 'TMA2.2', 'TMA2.3']\n",
    "\n",
    "ls_samples = ['GZ10.1', 'GZ10.2', 'GZ10.3', 'GZ7.1', 'GZ6', 'GZ7.2']\n",
    "\n",
    "ls_samples = ['A_GZ2', 'B_GZ1', 'C_GZ5', 'D_GZ4', 'E_GZ3','F_GZ6','G_GZ7', \n",
    "              'H_GZ9',\n",
    "              'I_GZ10']"
   ]
  },
  {
   "cell_type": "markdown",
   "metadata": {},
   "source": [
    "## Import all metadata we need from the QC/EDA chapter"
   ]
  },
  {
   "cell_type": "markdown",
   "metadata": {},
   "source": [
    "### metadata"
   ]
  },
  {
   "cell_type": "code",
   "execution_count": 7,
   "metadata": {},
   "outputs": [],
   "source": [
    "filename = \"marker_intensity_metadata.csv\"\n",
    "filename = os.path.join(metadata_dir, filename)\n",
    "\n",
    "# Check file exists\n",
    "if not os.path.exists(filename):\n",
    "    print(\"WARNING: Could not find desired file: \"+filename)"
   ]
  },
  {
   "cell_type": "code",
   "execution_count": 8,
   "metadata": {},
   "outputs": [
    {
     "name": "stdout",
     "output_type": "stream",
     "text": [
      "WARNING: 'Marker metadata file' has the following unexpected item(s): \n",
      "['Exp']\n"
     ]
    }
   ],
   "source": [
    "# Open, read in information\n",
    "metadata = pd.read_csv(filename)\n",
    "\n",
    "# Verify size\n",
    "##verify_line_no(filename, metadata.shape[0] + 1)\n",
    "\n",
    "\n",
    "# Verify headers\n",
    "exp_cols = ['Round','Target','Channel','target_lower','full_column','marker','location']\n",
    "compare_headers(exp_cols, metadata.columns.values, \"Marker metadata file\")"
   ]
  },
  {
   "cell_type": "code",
   "execution_count": 9,
   "metadata": {},
   "outputs": [
    {
     "data": {
      "text/html": [
       "<div>\n",
       "<style scoped>\n",
       "    .dataframe tbody tr th:only-of-type {\n",
       "        vertical-align: middle;\n",
       "    }\n",
       "\n",
       "    .dataframe tbody tr th {\n",
       "        vertical-align: top;\n",
       "    }\n",
       "\n",
       "    .dataframe thead th {\n",
       "        text-align: right;\n",
       "    }\n",
       "</style>\n",
       "<table border=\"1\" class=\"dataframe\">\n",
       "  <thead>\n",
       "    <tr style=\"text-align: right;\">\n",
       "      <th></th>\n",
       "      <th>Round</th>\n",
       "      <th>Target</th>\n",
       "      <th>Exp</th>\n",
       "      <th>Channel</th>\n",
       "      <th>target_lower</th>\n",
       "      <th>full_column</th>\n",
       "      <th>marker</th>\n",
       "      <th>location</th>\n",
       "    </tr>\n",
       "  </thead>\n",
       "  <tbody>\n",
       "    <tr>\n",
       "      <th>0</th>\n",
       "      <td>R0</td>\n",
       "      <td>AF488</td>\n",
       "      <td>300</td>\n",
       "      <td>c2</td>\n",
       "      <td>af488</td>\n",
       "      <td>AF488_Cell_Intensity_Average</td>\n",
       "      <td>AF488</td>\n",
       "      <td>cell</td>\n",
       "    </tr>\n",
       "    <tr>\n",
       "      <th>1</th>\n",
       "      <td>R0</td>\n",
       "      <td>AF555</td>\n",
       "      <td>1500</td>\n",
       "      <td>c3</td>\n",
       "      <td>af555</td>\n",
       "      <td>AF555_Cell_Intensity_Average</td>\n",
       "      <td>AF555</td>\n",
       "      <td>cell</td>\n",
       "    </tr>\n",
       "    <tr>\n",
       "      <th>2</th>\n",
       "      <td>R0</td>\n",
       "      <td>AF647</td>\n",
       "      <td>1500</td>\n",
       "      <td>c4</td>\n",
       "      <td>af647</td>\n",
       "      <td>AF647_Cell_Intensity_Average</td>\n",
       "      <td>AF647</td>\n",
       "      <td>cell</td>\n",
       "    </tr>\n",
       "    <tr>\n",
       "      <th>3</th>\n",
       "      <td>R0</td>\n",
       "      <td>AF750</td>\n",
       "      <td>1500</td>\n",
       "      <td>c5</td>\n",
       "      <td>af750</td>\n",
       "      <td>AF750_Cell_Intensity_Average</td>\n",
       "      <td>AF750</td>\n",
       "      <td>cell</td>\n",
       "    </tr>\n",
       "    <tr>\n",
       "      <th>4</th>\n",
       "      <td>R1</td>\n",
       "      <td>H3K27me3</td>\n",
       "      <td>200</td>\n",
       "      <td>c2</td>\n",
       "      <td>h3k27me3</td>\n",
       "      <td>H3K27me3_Cell_Intensity_Average</td>\n",
       "      <td>H3K27me3</td>\n",
       "      <td>cell</td>\n",
       "    </tr>\n",
       "  </tbody>\n",
       "</table>\n",
       "</div>"
      ],
      "text/plain": [
       "  Round    Target   Exp Channel target_lower                      full_column  \\\n",
       "0    R0     AF488   300      c2        af488     AF488_Cell_Intensity_Average   \n",
       "1    R0     AF555  1500      c3        af555     AF555_Cell_Intensity_Average   \n",
       "2    R0     AF647  1500      c4        af647     AF647_Cell_Intensity_Average   \n",
       "3    R0     AF750  1500      c5        af750     AF750_Cell_Intensity_Average   \n",
       "4    R1  H3K27me3   200      c2     h3k27me3  H3K27me3_Cell_Intensity_Average   \n",
       "\n",
       "     marker location  \n",
       "0     AF488     cell  \n",
       "1     AF555     cell  \n",
       "2     AF647     cell  \n",
       "3     AF750     cell  \n",
       "4  H3K27me3     cell  "
      ]
     },
     "execution_count": 9,
     "metadata": {},
     "output_type": "execute_result"
    }
   ],
   "source": [
    "# Show some of dataframe - FYI\n",
    "metadata.head()"
   ]
  },
  {
   "cell_type": "markdown",
   "metadata": {},
   "source": [
    "### not_intensities"
   ]
  },
  {
   "cell_type": "code",
   "execution_count": 10,
   "metadata": {},
   "outputs": [],
   "source": [
    "filename = \"not_intensities.csv\"\n",
    "filename = os.path.join(metadata_dir, filename)\n",
    "\n",
    "# Check file exists\n",
    "if not os.path.exists(filename):\n",
    "    print(\"WARNING: Could not find desired file: \"+filename)"
   ]
  },
  {
   "cell_type": "code",
   "execution_count": 11,
   "metadata": {},
   "outputs": [
    {
     "name": "stdout",
     "output_type": "stream",
     "text": [
      "Verifying data read from file is the correct length...\n",
      "\n",
      "not_intensities = \n",
      "['Nuc_X', 'Nuc_X_Inv', 'Nuc_Y', 'Nuc_Y_Inv', 'Nucleus_Roundness', 'Nucleus_Size', 'Cell_Size', 'ROI_index', 'Sample_ID', 'replicate_ID', 'Cell_ID', 'cell_type', 'cluster', 'ID']\n"
     ]
    }
   ],
   "source": [
    "# Open, read in information\n",
    "not_intensities = []\n",
    "with open(filename, 'r') as fh:\n",
    "    not_intensities = fh.read().strip().split(\"\\n\")\n",
    "    # take str, strip whitespace, split on new line character\n",
    "\n",
    "# Verify size\n",
    "print(\"Verifying data read from file is the correct length...\\n\")\n",
    "#verify_line_no(filename, len(not_intensities))\n",
    "\n",
    "# Print to console\n",
    "print(\"not_intensities = \")\n",
    "print(not_intensities)"
   ]
  },
  {
   "cell_type": "markdown",
   "metadata": {},
   "source": [
    "### full_to_short_column names"
   ]
  },
  {
   "cell_type": "code",
   "execution_count": 12,
   "metadata": {},
   "outputs": [],
   "source": [
    "filename = \"full_to_short_column_names.csv\"\n",
    "filename = os.path.join(metadata_dir, filename)\n",
    "\n",
    "# Check file exists\n",
    "if not os.path.exists(filename):\n",
    "    print(\"WARNING: Could not find desired file: \" + filename)"
   ]
  },
  {
   "cell_type": "code",
   "execution_count": 13,
   "metadata": {},
   "outputs": [
    {
     "name": "stdout",
     "output_type": "stream",
     "text": [
      "Verifying data read from file is the correct length...\n",
      "\n",
      "full_to_short_names =\n",
      "{'53BP1_Cell_Intensity_Average': '53BP1', 'AF488_Cell_Intensity_Average': 'AF488', 'AF555_Cell_Intensity_Average': 'AF555', 'AF647_Cell_Intensity_Average': 'AF647', 'AF750_Cell_Intensity_Average': 'AF750', 'AXL_Cell_Intensity_Average': 'AXL', 'CCNA2_Cell_Intensity_Average': 'CCNA2', 'CCND1_Cell_Intensity_Average': 'CCND1', 'CD45_Cell_Intensity_Average': 'CD45', 'CD4_Cell_Intensity_Average': 'CD4', 'CD68_Cell_Intensity_Average': 'CD68', 'CD8_Cell_Intensity_Average': 'CD8', 'EGFR_Cell_Intensity_Average': 'EGFR', 'Ecad_Cell_Intensity_Average': 'Ecad', 'FOXP3_Cell_Intensity_Average': 'FOXP3', 'H3K27me3_Cell_Intensity_Average': 'H3K27me3', 'KI67_Cell_Intensity_Average': 'KI67', 'MITF_Cell_Intensity_Average': 'MITF', 'PCNA_Cell_Intensity_Average': 'PCNA', 'PDGFR_Cell_Intensity_Average': 'PDGFR', 'S100_Cell_Intensity_Average': 'S100', 'Vimentin_Cell_Intensity_Average': 'Vimentin', 'p4EBP1_Cell_Intensity_Average': 'p4EBP1', 'p75_Cell_Intensity_Average': 'p75', 'pATM_Cell_Intensity_Average': 'pATM', 'pATR_Cell_Intensity_Average': 'pATR', 'pCHK2_Cell_Intensity_Average': 'pCHK2', 'pEGFR_Cell_Intensity_Average': 'pEGFR', 'pGSK3b_Cell_Intensity_Average': 'pGSK3b', 'pH2AX_Cell_Intensity_Average': 'pH2AX', 'pHH3_Cell_Intensity_Average': 'pHH3', 'pS6_Cell_Intensity_Average': 'pS6'}\n"
     ]
    }
   ],
   "source": [
    "# Open, read in information\n",
    "df = pd.read_csv(filename, header = 0)\n",
    "\n",
    "# Verify size\n",
    "print(\"Verifying data read from file is the correct length...\\n\")\n",
    "#verify_line_no(filename, df.shape[0] + 1)\n",
    "\n",
    "# Turn into dictionary\n",
    "full_to_short_names = df.set_index('full_name').T.to_dict('records')[0]\n",
    "\n",
    "# Print information\n",
    "print('full_to_short_names =')\n",
    "print(full_to_short_names)"
   ]
  },
  {
   "cell_type": "markdown",
   "metadata": {},
   "source": [
    "### short_to_full_column_names"
   ]
  },
  {
   "cell_type": "code",
   "execution_count": 14,
   "metadata": {},
   "outputs": [],
   "source": [
    "filename = \"short_to_full_column_names.csv\"\n",
    "filename = os.path.join(metadata_dir, filename)\n",
    "\n",
    "# Check file exists\n",
    "if not os.path.exists(filename):\n",
    "    print(\"WARNING: Could not find desired file: \" + filename)"
   ]
  },
  {
   "cell_type": "code",
   "execution_count": 15,
   "metadata": {},
   "outputs": [
    {
     "name": "stdout",
     "output_type": "stream",
     "text": [
      "Verifying data read from file is the correct length...\n",
      "\n",
      "short_to_full_names =\n",
      "{'53BP1': '53BP1_Cell_Intensity_Average', 'AF488': 'AF488_Cell_Intensity_Average', 'AF555': 'AF555_Cell_Intensity_Average', 'AF647': 'AF647_Cell_Intensity_Average', 'AF750': 'AF750_Cell_Intensity_Average', 'AXL': 'AXL_Cell_Intensity_Average', 'CCNA2': 'CCNA2_Cell_Intensity_Average', 'CCND1': 'CCND1_Cell_Intensity_Average', 'CD45': 'CD45_Cell_Intensity_Average', 'CD4': 'CD4_Cell_Intensity_Average', 'CD68': 'CD68_Cell_Intensity_Average', 'CD8': 'CD8_Cell_Intensity_Average', 'EGFR': 'EGFR_Cell_Intensity_Average', 'Ecad': 'Ecad_Cell_Intensity_Average', 'FOXP3': 'FOXP3_Cell_Intensity_Average', 'H3K27me3': 'H3K27me3_Cell_Intensity_Average', 'KI67': 'KI67_Cell_Intensity_Average', 'MITF': 'MITF_Cell_Intensity_Average', 'PCNA': 'PCNA_Cell_Intensity_Average', 'PDGFR': 'PDGFR_Cell_Intensity_Average', 'S100': 'S100_Cell_Intensity_Average', 'Vimentin': 'Vimentin_Cell_Intensity_Average', 'p4EBP1': 'p4EBP1_Cell_Intensity_Average', 'p75': 'p75_Cell_Intensity_Average', 'pATM': 'pATM_Cell_Intensity_Average', 'pATR': 'pATR_Cell_Intensity_Average', 'pCHK2': 'pCHK2_Cell_Intensity_Average', 'pEGFR': 'pEGFR_Cell_Intensity_Average', 'pGSK3b': 'pGSK3b_Cell_Intensity_Average', 'pH2AX': 'pH2AX_Cell_Intensity_Average', 'pHH3': 'pHH3_Cell_Intensity_Average', 'pS6': 'pS6_Cell_Intensity_Average'}\n"
     ]
    }
   ],
   "source": [
    "# Open, read in information\n",
    "df = pd.read_csv(filename, header = 0)\n",
    "\n",
    "# Verify size\n",
    "print(\"Verifying data read from file is the correct length...\\n\")\n",
    "#verify_line_no(filename, df.shape[0] + 1)\n",
    "\n",
    "# Turn into dictionary\n",
    "short_to_full_names = df.set_index('short_name').T.to_dict('records')[0]\n",
    "\n",
    "# Print information\n",
    "print('short_to_full_names =')\n",
    "print(short_to_full_names)"
   ]
  },
  {
   "cell_type": "markdown",
   "metadata": {},
   "source": [
    "### Color information"
   ]
  },
  {
   "cell_type": "markdown",
   "metadata": {},
   "source": [
    "#### Samples"
   ]
  },
  {
   "cell_type": "code",
   "execution_count": 16,
   "metadata": {},
   "outputs": [],
   "source": [
    "filename = \"sample_color_data.csv\"\n",
    "filename = os.path.join(metadata_dir, filename)\n",
    "\n",
    "# Check file exists\n",
    "if not os.path.exists(filename):\n",
    "    print(\"WARNING: Could not find desired file: \" + filename)"
   ]
  },
  {
   "cell_type": "code",
   "execution_count": 17,
   "metadata": {},
   "outputs": [
    {
     "name": "stdout",
     "output_type": "stream",
     "text": [
      "Verifying data read from file is the correct length...\n",
      "\n",
      "sample_color_dict =\n",
      "{'A_GZ2': (0.9677975592919913, 0.44127456009157356, 0.5358103155058701), 'B_GZ1': (0.8616090647292522, 0.536495730113334, 0.19548899031476086), 'C_GZ5': (0.6804189127793346, 0.6151497514677574, 0.19405452111445337), 'D_GZ4': (0.46810256823426105, 0.6699492535792404, 0.1928958739904499), 'E_GZ3': (0.20125317221201128, 0.6907920815379025, 0.47966761189275336), 'F_GZ6': (0.21044753832183283, 0.6773105080456748, 0.6433941168468681), 'G_GZ7': (0.2197995660828324, 0.6625157876850336, 0.7732093159317209), 'H_GZ9': (0.433280341176423, 0.6065273407962815, 0.9585467098271748), 'I_GZ10': (0.8004936186423958, 0.47703363533737203, 0.9579547196007522), 'TMA': (0.5019607843137255, 0.5019607843137255, 0.5019607843137255)}\n"
     ]
    }
   ],
   "source": [
    "# Open, read in information\n",
    "df = pd.read_csv(filename, header = 0)\n",
    "df = df.drop(columns = ['hex'])\n",
    "\n",
    "# our tuple of float values for rgb, (r, g, b) was read in \n",
    "# as a string '(r, g, b)'. We need to extract the r-, g-, and b-\n",
    "# substrings and convert them back into floats\n",
    "df['rgb'] = df.apply(lambda row: rgb_tuple_from_str(row['rgb']), axis = 1)\n",
    "\n",
    "# Verify size\n",
    "print(\"Verifying data read from file is the correct length...\\n\")\n",
    "#verify_line_no(filename, df.shape[0] + 1)\n",
    "\n",
    "# Turn into dictionary\n",
    "sample_color_dict = df.set_index('Sample_ID').T.to_dict('rgb')[0]\n",
    "\n",
    "# Print information\n",
    "print('sample_color_dict =')\n",
    "print(sample_color_dict)\n"
   ]
  },
  {
   "cell_type": "markdown",
   "metadata": {},
   "source": [
    "#### Channels"
   ]
  },
  {
   "cell_type": "code",
   "execution_count": 18,
   "metadata": {},
   "outputs": [],
   "source": [
    "filename = \"channel_color_data.csv\"\n",
    "filename = os.path.join(metadata_dir, filename)\n",
    "\n",
    "# Check file exists\n",
    "if not os.path.exists(filename):\n",
    "    print(\"WARNING: Could not find desired file: \"+filename)"
   ]
  },
  {
   "cell_type": "code",
   "execution_count": 19,
   "metadata": {},
   "outputs": [
    {
     "name": "stdout",
     "output_type": "stream",
     "text": [
      "Verifying data read from file is the correct length...\n",
      "\n",
      "channel_color_dict =\n",
      "{'c3': (1.0, 0.6470588235294118, 0.0), 'c4': (1.0, 0.0, 0.0), 'c5': (0.25098039215686274, 0.8784313725490196, 0.8156862745098039), 'c2': (0.0, 0.5019607843137255, 0.0)}\n"
     ]
    }
   ],
   "source": [
    "# Open, read in information\n",
    "df = pd.read_csv(filename, header = 0)\n",
    "df = df.drop(columns = ['hex'])\n",
    "\n",
    "# our tuple of float values for rgb, (r, g, b) was read in \n",
    "# as a string '(r, g, b)'. We need to extract the r-, g-, and b-\n",
    "# substrings and convert them back into floats\n",
    "df['rgb'] = df.apply(lambda row: rgb_tuple_from_str(row['rgb']), axis = 1)\n",
    "\n",
    "# Verify size\n",
    "print(\"Verifying data read from file is the correct length...\\n\")\n",
    "#verify_line_no(filename, df.shape[0] + 1)\n",
    "\n",
    "# Turn into dictionary\n",
    "channel_color_dict = df.set_index('Channel').T.to_dict('rgb')[0]\n",
    "\n",
    "# Print information\n",
    "print('channel_color_dict =')\n",
    "print(channel_color_dict)\n"
   ]
  },
  {
   "cell_type": "markdown",
   "metadata": {},
   "source": [
    "#### Round"
   ]
  },
  {
   "cell_type": "code",
   "execution_count": 20,
   "metadata": {},
   "outputs": [],
   "source": [
    "filename = \"round_color_data.csv\"\n",
    "filename = os.path.join(metadata_dir, filename)\n",
    "\n",
    "# Check file exists\n",
    "if not os.path.exists(filename):\n",
    "    print(\"WARNING: Could not find desired file: \"+filename)"
   ]
  },
  {
   "cell_type": "code",
   "execution_count": 21,
   "metadata": {},
   "outputs": [
    {
     "name": "stdout",
     "output_type": "stream",
     "text": [
      "Verifying data read from file is the correct length...\n",
      "\n",
      "round_color_dict =\n",
      "{'R0': (0.28685356234627135, 0.13009829239513535, 0.23110332132624437), 'R1': (0.3736023974468758, 0.214424058315835, 0.3978381676792029), 'R2': (0.4159341362257507, 0.3236230119238674, 0.5522993139842536), 'R3': (0.4347275623260717, 0.45841778084048856, 0.6693193307565182), 'R4': (0.45985383722977585, 0.5938507827180669, 0.7299938636762819), 'R5': (0.5193510814616777, 0.7186903518953451, 0.7537488291211205), 'R6': (0.6251959781814483, 0.8211474484187268, 0.77115296242133), 'R7': (0.7684256891219349, 0.8992667116749021, 0.8171383269422353)}\n"
     ]
    }
   ],
   "source": [
    "# Open, read in information\n",
    "df = pd.read_csv(filename, header = 0)\n",
    "df = df.drop(columns = ['hex'])\n",
    "\n",
    "# our tuple of float values for rgb, (r, g, b) was read in \n",
    "# as a string '(r, g, b)'. We need to extract the r-, g-, and b-\n",
    "# substrings and convert them back into floats\n",
    "df['rgb'] = df.apply(lambda row: rgb_tuple_from_str(row['rgb']), axis = 1)\n",
    "\n",
    "# Verify size\n",
    "print(\"Verifying data read from file is the correct length...\\n\")\n",
    "#verify_line_no(filename, df.shape[0] + 1)\n",
    "\n",
    "# Turn into dictionary\n",
    "round_color_dict = df.set_index('Round').T.to_dict('rgb')[0]\n",
    "\n",
    "# Print information\n",
    "print('round_color_dict =')\n",
    "print(round_color_dict)"
   ]
  },
  {
   "cell_type": "markdown",
   "metadata": {},
   "source": [
    "#### Cell Type"
   ]
  },
  {
   "cell_type": "code",
   "execution_count": 22,
   "metadata": {},
   "outputs": [],
   "source": [
    "filename = \"celltype_color_data.csv\"\n",
    "filename = os.path.join(metadata_dir, filename)\n",
    "\n",
    "# Check file exists\n",
    "if not os.path.exists(filename):\n",
    "    print(\"WARNING: Could not find desired file: \"+filename)"
   ]
  },
  {
   "cell_type": "code",
   "execution_count": 23,
   "metadata": {},
   "outputs": [
    {
     "name": "stdout",
     "output_type": "stream",
     "text": [
      "Verifying data read from file is the correct length...\n",
      "\n",
      "celltype_color_dict =\n",
      "{'STROMA': (0.86, 0.3712, 0.33999999999999997), 'CANCER': (0.33999999999999997, 0.86, 0.3712), 'IMMUNE': (0.3712, 0.33999999999999997, 0.86)}\n"
     ]
    }
   ],
   "source": [
    "# Open, read in information\n",
    "df = pd.read_csv(filename, header = 0)\n",
    "df = df.drop(columns = ['hex'])\n",
    "\n",
    "# our tuple of float values for rgb, (r, g, b) was read in \n",
    "# as a string '(r, g, b)'. We need to extract the r-, g-, and b-\n",
    "# substrings and convert them back into floats\n",
    "df['rgb'] = df.apply(lambda row: rgb_tuple_from_str(row['rgb']), axis = 1)\n",
    "\n",
    "# Verify size\n",
    "print(\"Verifying data read from file is the correct length...\\n\")\n",
    "#verify_line_no(filename, df.shape[0] + 1)\n",
    "\n",
    "# Turn into dictionary\n",
    "celltype_color_dict = df.set_index('cell_type').T.to_dict('rgb')[0]\n",
    "\n",
    "# Print information\n",
    "print('celltype_color_dict =')\n",
    "print(celltype_color_dict)"
   ]
  },
  {
   "cell_type": "markdown",
   "metadata": {},
   "source": [
    "## Import data"
   ]
  },
  {
   "cell_type": "markdown",
   "metadata": {},
   "source": [
    "Prompt user for any files they would like excluded from analysis."
   ]
  },
  {
   "cell_type": "code",
   "execution_count": 24,
   "metadata": {},
   "outputs": [
    {
     "name": "stdout",
     "output_type": "stream",
     "text": [
      "df index name is currently None\n"
     ]
    }
   ],
   "source": [
    "# Import all data files for this portion of workflow\n",
    "\n",
    "# First gather information on expected headers using first file in ls_samples\n",
    "\n",
    "# Read in the first row of the file correpsonding to the first sample (index = 0)\n",
    "# in ls_samples\n",
    "df = pd.read_csv(ls_samples[0] + \n",
    "                 previous_step_suffix_long + \".csv\", nrows = 1, index_col = 0)\n",
    "\n",
    "# Apply the changes to the headers as specified in above funciton\n",
    "df = apply_header_changes(df)\n",
    "\n",
    "# Set variable to hold default header values\n",
    "expected_headers = df.columns.values\n",
    "\n",
    "print(\"df index name is currently\",df.index.name)"
   ]
  },
  {
   "cell_type": "code",
   "execution_count": 25,
   "metadata": {},
   "outputs": [
    {
     "data": {
      "text/html": [
       "<div>\n",
       "<style scoped>\n",
       "    .dataframe tbody tr th:only-of-type {\n",
       "        vertical-align: middle;\n",
       "    }\n",
       "\n",
       "    .dataframe tbody tr th {\n",
       "        vertical-align: top;\n",
       "    }\n",
       "\n",
       "    .dataframe thead th {\n",
       "        text-align: right;\n",
       "    }\n",
       "</style>\n",
       "<table border=\"1\" class=\"dataframe\">\n",
       "  <thead>\n",
       "    <tr style=\"text-align: right;\">\n",
       "      <th></th>\n",
       "      <th>53BP1</th>\n",
       "      <th>AXL</th>\n",
       "      <th>CCNA2</th>\n",
       "      <th>CCND1</th>\n",
       "      <th>CD45</th>\n",
       "      <th>CD4</th>\n",
       "      <th>CD68</th>\n",
       "      <th>CD8</th>\n",
       "      <th>Cell_Size</th>\n",
       "      <th>EGFR</th>\n",
       "      <th>...</th>\n",
       "      <th>p4EBP1</th>\n",
       "      <th>p75</th>\n",
       "      <th>pATM</th>\n",
       "      <th>pATR</th>\n",
       "      <th>pCHK2</th>\n",
       "      <th>pEGFR</th>\n",
       "      <th>pGSK3b</th>\n",
       "      <th>pH2AX</th>\n",
       "      <th>pHH3</th>\n",
       "      <th>pS6</th>\n",
       "    </tr>\n",
       "  </thead>\n",
       "  <tbody>\n",
       "    <tr>\n",
       "      <th>A_GZ2_Cell_0</th>\n",
       "      <td>-0.682094</td>\n",
       "      <td>-1.638605</td>\n",
       "      <td>-2.213975</td>\n",
       "      <td>-1.388343</td>\n",
       "      <td>-1.810311</td>\n",
       "      <td>-1.011022</td>\n",
       "      <td>-1.683999</td>\n",
       "      <td>-0.025108</td>\n",
       "      <td>329</td>\n",
       "      <td>-2.157665</td>\n",
       "      <td>...</td>\n",
       "      <td>-1.929355</td>\n",
       "      <td>0.398482</td>\n",
       "      <td>-2.128896</td>\n",
       "      <td>-0.035847</td>\n",
       "      <td>-1.2362</td>\n",
       "      <td>-1.695086</td>\n",
       "      <td>-1.76626</td>\n",
       "      <td>-1.656667</td>\n",
       "      <td>1.721911</td>\n",
       "      <td>0.708195</td>\n",
       "    </tr>\n",
       "  </tbody>\n",
       "</table>\n",
       "<p>1 rows × 38 columns</p>\n",
       "</div>"
      ],
      "text/plain": [
       "                 53BP1       AXL     CCNA2     CCND1      CD45       CD4  \\\n",
       "A_GZ2_Cell_0 -0.682094 -1.638605 -2.213975 -1.388343 -1.810311 -1.011022   \n",
       "\n",
       "                  CD68       CD8  Cell_Size      EGFR  ...    p4EBP1  \\\n",
       "A_GZ2_Cell_0 -1.683999 -0.025108        329 -2.157665  ... -1.929355   \n",
       "\n",
       "                   p75      pATM      pATR   pCHK2     pEGFR   pGSK3b  \\\n",
       "A_GZ2_Cell_0  0.398482 -2.128896 -0.035847 -1.2362 -1.695086 -1.76626   \n",
       "\n",
       "                 pH2AX      pHH3       pS6  \n",
       "A_GZ2_Cell_0 -1.656667  1.721911  0.708195  \n",
       "\n",
       "[1 rows x 38 columns]"
      ]
     },
     "execution_count": 25,
     "metadata": {},
     "output_type": "execute_result"
    }
   ],
   "source": [
    "df.head()"
   ]
  },
  {
   "cell_type": "code",
   "execution_count": 26,
   "metadata": {},
   "outputs": [
    {
     "name": "stdout",
     "output_type": "stream",
     "text": [
      "Used A_GZ2_zscore.csv to determine the expected, corrected headers for all files.\n",
      "There headers are: \n",
      "53BP1, AXL, CCNA2, CCND1, CD45, CD4, CD68, CD8, Cell_Size, EGFR, Ecad, FOXP3, H3K27me3, KI67, MITF, Nuc_X, Nuc_X_Inv, Nuc_Y, Nuc_Y_Inv, Nucleus_Roundness, Nucleus_Size, PCNA, PDGFR, ROI_index, S100, Sample_ID, Vimentin, cell_type, p4EBP1, p75, pATM, pATR, pCHK2, pEGFR, pGSK3b, pH2AX, pHH3, pS6.\n"
     ]
    }
   ],
   "source": [
    "print(\"Used \" + ls_samples[0] + previous_step_suffix_long +\n",
    "      \".csv to determine the expected, corrected headers for all files.\")\n",
    "print(\"There headers are: \\n\" + \", \".join([h for h in expected_headers]) + \".\")"
   ]
  },
  {
   "cell_type": "code",
   "execution_count": 38,
   "metadata": {},
   "outputs": [
    {
     "name": "stdout",
     "output_type": "stream",
     "text": [
      "A_GZ2\n",
      "Reading in data for A_GZ2\n",
      "B_GZ1\n",
      "Reading in data for B_GZ1\n",
      "C_GZ5\n",
      "Reading in data for C_GZ5\n",
      "D_GZ4\n",
      "Reading in data for D_GZ4\n",
      "E_GZ3\n",
      "Reading in data for E_GZ3\n",
      "F_GZ6\n",
      "Reading in data for F_GZ6\n",
      "G_GZ7\n",
      "Reading in data for G_GZ7\n",
      "I_GZ10\n",
      "Reading in data for I_GZ10\n",
      "Zero content lines detected in I_GZ10 file.Removing from analysis...\n"
     ]
    }
   ],
   "source": [
    "# Import all dfs\n",
    "\n",
    "## TO-DO: include check that imported df is the expected size and shape...\n",
    "\n",
    "dfs = {}\n",
    "for sample in ls_samples:\n",
    "    print(sample)\n",
    "    # Open file\n",
    "    ################################\n",
    "    # only reading first 500 lines #\n",
    "    ################################\n",
    "    \n",
    "    if not os.path.exists(sample+previous_step_suffix_long+\".csv\"):\n",
    "        print(\"File \" + sample+previous_step_suffix_long+\".csv\" +\n",
    "             \" does not exist. Removing from analysis...\")\n",
    "        ls_samples.remove(sample)\n",
    "        continue\n",
    "    \n",
    "    print(\"Reading in data for \"+ sample)\n",
    "    df = pd.read_csv(sample + previous_step_suffix_long + \".csv\", \n",
    "                     index_col = 0) #,  nrows = 500)\n",
    "    \n",
    "    # Check for empty df\n",
    "    # if so, don't continue trying to process df\n",
    "    if df.shape[0] == 0:\n",
    "        print('Zero content lines detected in ' + sample + ' file.'\n",
    "              'Removing from analysis...')\n",
    "        ls_samples.remove(sample)\n",
    "        continue\n",
    "    \n",
    "    # Instead of reading only the top 500 row in the file,\n",
    "    # let's read in all rows and then only use a random\n",
    "    # sampling (w/o replacement) of 500\n",
    "\n",
    "    \n",
    "    # Verify that the loaded df are the right length\n",
    "    try:\n",
    "        verify_line_no(sample + previous_step_suffix_long + \".csv\", \n",
    "                       df.shape[0] + 1)\n",
    "    except:\n",
    "        pass\n",
    "    # adding 1 because we expect the header was detected \n",
    "    # during file import and not counted towards length of df\n",
    "    \n",
    "     # Manipulations necessary for concatenation\n",
    "    df = apply_header_changes(df)\n",
    "    df = df[[x for x in sorted(df.columns.values)]]\n",
    "    \n",
    "    # Compare headers of new df against what is expected\n",
    "    compare_headers(expected_headers, df.columns.values, sample)\n",
    "    df['Sample_ID'] = sample\n",
    "\n",
    "    # For cases where we have samples called TMA1.1, TMA1.2, TMA1.3, etc.\n",
    "    # Using regular expressions (regex) to extract the characters in the\n",
    "    # sample name from TMA to the following digits, stopping at the period\n",
    "    #if 'ROI_index' in df.columns.values:\n",
    "    #    df['ROI_slide'] = re.findall(r'(TMA\\d+)',sample)[0]    \n",
    "    \n",
    "    # Add to df of dfs \n",
    "    dfs[sample] = df\n",
    "    \n",
    "\n",
    "\n",
    "\n",
    "#Merge dfs into one df\n",
    "df = pd.concat(dfs.values(), ignore_index=False , sort = False)\n",
    "del dfs\n"
   ]
  },
  {
   "cell_type": "markdown",
   "metadata": {},
   "source": [
    "Let's take a look at a few features to make sure our dataframe is as expected"
   ]
  },
  {
   "cell_type": "code",
   "execution_count": 39,
   "metadata": {},
   "outputs": [
    {
     "data": {
      "text/plain": [
       "(601056, 38)"
      ]
     },
     "execution_count": 39,
     "metadata": {},
     "output_type": "execute_result"
    }
   ],
   "source": [
    "df.shape"
   ]
  },
  {
   "cell_type": "code",
   "execution_count": 40,
   "metadata": {},
   "outputs": [
    {
     "data": {
      "text/plain": [
       "Index(['A_GZ2_Cell_0', 'A_GZ2_Cell_2', 'A_GZ2_Cell_6', 'A_GZ2_Cell_7',\n",
       "       'A_GZ2_Cell_8', 'A_GZ2_Cell_9', 'A_GZ2_Cell_10', 'A_GZ2_Cell_11',\n",
       "       'A_GZ2_Cell_12', 'A_GZ2_Cell_15',\n",
       "       ...\n",
       "       'G_GZ7_Cell_498511', 'G_GZ7_Cell_498513', 'G_GZ7_Cell_498514',\n",
       "       'G_GZ7_Cell_498516', 'G_GZ7_Cell_498517', 'G_GZ7_Cell_498518',\n",
       "       'G_GZ7_Cell_498521', 'G_GZ7_Cell_498523', 'G_GZ7_Cell_498524',\n",
       "       'G_GZ7_Cell_498525'],\n",
       "      dtype='object', length=601056)"
      ]
     },
     "execution_count": 40,
     "metadata": {},
     "output_type": "execute_result"
    }
   ],
   "source": [
    "df.index "
   ]
  },
  {
   "cell_type": "code",
   "execution_count": 41,
   "metadata": {},
   "outputs": [],
   "source": [
    "#check for NaN entries (should not be any unless columns do not align)\n",
    "# if there are any null values, then print names of columns containing\n",
    "# null values\n",
    "if df.isnull().any().any():\n",
    "    print(df.columns[df.isnull().any()])\n",
    "\n",
    "#in 'if' statement, false means no NaN entries True means NaN entries "
   ]
  },
  {
   "cell_type": "code",
   "execution_count": 42,
   "metadata": {},
   "outputs": [
    {
     "name": "stdout",
     "output_type": "stream",
     "text": [
      "All expected filenames present in big df Sample_ID column.\n"
     ]
    }
   ],
   "source": [
    "# Check that all expected files were imported into final dataframe\n",
    "\n",
    "if sorted(df.Sample_ID.unique()) == sorted(ls_samples):\n",
    "    print(\"All expected filenames present in big df Sample_ID column.\")\n",
    "else:\n",
    "    compare_headers(ls_samples, df.Sample_ID.unique(), \"big df Sample_ID column\")"
   ]
  },
  {
   "cell_type": "markdown",
   "metadata": {},
   "source": [
    "# K-Means Clustering"
   ]
  },
  {
   "cell_type": "markdown",
   "metadata": {},
   "source": [
    "First, we will determine the best number of clusters, K, to use in our KMeans clustering. We may decide to operate on a random subset of our data (with Sample_ID proportions the same), in order to save time. Then, once the best K is determined using the elbox method, we will perform KMeans clustering, using that K, on the entire dataset."
   ]
  },
  {
   "cell_type": "markdown",
   "metadata": {},
   "source": [
    "## Elbow method"
   ]
  },
  {
   "cell_type": "raw",
   "metadata": {},
   "source": [
    "Elbow/knee method references:\n",
    "\n",
    "https://github.com/arvkevi/kneed\n",
    "https://raghavan.usc.edu//papers/kneedle-simplex11.pdf\n",
    "https://github.com/arvkevi/kneed/blob/master/notebooks/decreasing_function_walkthrough.ipynb"
   ]
  },
  {
   "cell_type": "markdown",
   "metadata": {},
   "source": [
    "### Find elbow and plot all at once"
   ]
  },
  {
   "cell_type": "markdown",
   "metadata": {},
   "source": [
    "https://www.scikit-yb.org/en/latest/api/cluster/elbow.html#elbow-method"
   ]
  },
  {
   "cell_type": "raw",
   "metadata": {},
   "source": [
    "from sklearn.datasets import make_blobs\n",
    "from sklearn.cluster import KMeans \n",
    "\n",
    "from yellowbrick.cluster import KElbowVisualizer\n",
    "\n",
    "# Generate synthetic dataset with 8 random clusters\n",
    "\n",
    "# Instantiate the clustering model and visualizer\n",
    "model = KMeans()\n",
    "visualizer = KElbowVisualizer(model, k=(1,20), timings = False,\n",
    "                             metric = 'distortion')\n",
    "\n",
    "visualizer.fit(df.loc[:,~df.columns.isin(not_intensities)])        # Fit the data to the visualizer\n",
    "visualizer.show()        # Finalize and render the figure"
   ]
  },
  {
   "cell_type": "markdown",
   "metadata": {},
   "source": [
    "But this doesn't allow us to modify/stylize the plot the way we want, and doesn't lend itself well to a dashboard. We also cannot determine the metric used to calculated `cdist()` to caluclate distorition (Euclidean, sqeuclidean, etc.), just that the metric for the visualization *overall* is distortion. It looks like the value for every *K* is the `_intertia` object from our `KMeans()` model..."
   ]
  },
  {
   "cell_type": "markdown",
   "metadata": {},
   "source": [
    "### Calculate distortions for each K"
   ]
  },
  {
   "cell_type": "markdown",
   "metadata": {},
   "source": [
    "https://www.geeksforgeeks.org/elbow-method-for-optimal-value-of-k-in-kmeans/"
   ]
  },
  {
   "cell_type": "code",
   "execution_count": 43,
   "metadata": {},
   "outputs": [],
   "source": [
    "from scipy.spatial.distance import cdist\n",
    "from sklearn import metrics\n",
    "from sklearn.cluster import KMeans "
   ]
  },
  {
   "cell_type": "markdown",
   "metadata": {},
   "source": [
    "FYI: on a size (190214, 28) df, 1-20 Ks took 19 minutes on the MacBook I have on loan from the dept. But let's say we want just a subset of data, like that used in previous chapters for heatmaps. What we can do is pick 10k cells using the same method as before."
   ]
  },
  {
   "cell_type": "code",
   "execution_count": 44,
   "metadata": {},
   "outputs": [],
   "source": [
    "kmeans_row_count = min(10000, df.shape[0])"
   ]
  },
  {
   "cell_type": "code",
   "execution_count": 46,
   "metadata": {},
   "outputs": [
    {
     "data": {
      "text/html": [
       "<div>\n",
       "<style scoped>\n",
       "    .dataframe tbody tr th:only-of-type {\n",
       "        vertical-align: middle;\n",
       "    }\n",
       "\n",
       "    .dataframe tbody tr th {\n",
       "        vertical-align: top;\n",
       "    }\n",
       "\n",
       "    .dataframe thead th {\n",
       "        text-align: right;\n",
       "    }\n",
       "</style>\n",
       "<table border=\"1\" class=\"dataframe\">\n",
       "  <thead>\n",
       "    <tr style=\"text-align: right;\">\n",
       "      <th></th>\n",
       "      <th>current_row_count</th>\n",
       "      <th>prop</th>\n",
       "      <th>desired_row_count</th>\n",
       "    </tr>\n",
       "  </thead>\n",
       "  <tbody>\n",
       "    <tr>\n",
       "      <th>A_GZ2</th>\n",
       "      <td>66137</td>\n",
       "      <td>0.110035</td>\n",
       "      <td>1100</td>\n",
       "    </tr>\n",
       "    <tr>\n",
       "      <th>B_GZ1</th>\n",
       "      <td>1443</td>\n",
       "      <td>0.002401</td>\n",
       "      <td>24</td>\n",
       "    </tr>\n",
       "    <tr>\n",
       "      <th>C_GZ5</th>\n",
       "      <td>185</td>\n",
       "      <td>0.000308</td>\n",
       "      <td>3</td>\n",
       "    </tr>\n",
       "    <tr>\n",
       "      <th>D_GZ4</th>\n",
       "      <td>47135</td>\n",
       "      <td>0.078420</td>\n",
       "      <td>784</td>\n",
       "    </tr>\n",
       "    <tr>\n",
       "      <th>E_GZ3</th>\n",
       "      <td>5502</td>\n",
       "      <td>0.009154</td>\n",
       "      <td>92</td>\n",
       "    </tr>\n",
       "    <tr>\n",
       "      <th>F_GZ6</th>\n",
       "      <td>54962</td>\n",
       "      <td>0.091442</td>\n",
       "      <td>914</td>\n",
       "    </tr>\n",
       "    <tr>\n",
       "      <th>G_GZ7</th>\n",
       "      <td>425692</td>\n",
       "      <td>0.708240</td>\n",
       "      <td>7082</td>\n",
       "    </tr>\n",
       "  </tbody>\n",
       "</table>\n",
       "</div>"
      ],
      "text/plain": [
       "       current_row_count      prop  desired_row_count\n",
       "A_GZ2              66137  0.110035               1100\n",
       "B_GZ1               1443  0.002401                 24\n",
       "C_GZ5                185  0.000308                  3\n",
       "D_GZ4              47135  0.078420                784\n",
       "E_GZ3               5502  0.009154                 92\n",
       "F_GZ6              54962  0.091442                914\n",
       "G_GZ7             425692  0.708240               7082"
      ]
     },
     "execution_count": 46,
     "metadata": {},
     "output_type": "execute_result"
    }
   ],
   "source": [
    "# Create df of each feature type, its proportion in the full df,\n",
    "# and the number of rows we want for a sum of heatmap_row_count rows\n",
    "counts_for_kmeans = maintain_value_counts(df, 'Sample_ID',kmeans_row_count)\n",
    "counts_for_kmeans"
   ]
  },
  {
   "cell_type": "code",
   "execution_count": 47,
   "metadata": {},
   "outputs": [],
   "source": [
    "# Create new df to hold our heatmap data\n",
    "kmeans_data = pd.DataFrame(columns = df.columns)\n",
    "\n",
    "# populate the df\n",
    "for sample in df.Sample_ID.unique():\n",
    "    a = counts_for_kmeans.loc[counts_for_kmeans.index == sample,'current_row_count'].values[0]\n",
    "    size = counts_for_kmeans.loc[counts_for_kmeans.index == sample,'desired_row_count'].values[0]\n",
    "    random_rows = np.random.choice(a = a, size = size, replace = False)\n",
    "    df_sample = df.loc[df['Sample_ID'] == sample,:]\n",
    "    kmeans_data = kmeans_data.append(df_sample.iloc[random_rows,:])"
   ]
  },
  {
   "cell_type": "code",
   "execution_count": 48,
   "metadata": {},
   "outputs": [
    {
     "data": {
      "text/html": [
       "<div>\n",
       "<style scoped>\n",
       "    .dataframe tbody tr th:only-of-type {\n",
       "        vertical-align: middle;\n",
       "    }\n",
       "\n",
       "    .dataframe tbody tr th {\n",
       "        vertical-align: top;\n",
       "    }\n",
       "\n",
       "    .dataframe thead th {\n",
       "        text-align: right;\n",
       "    }\n",
       "</style>\n",
       "<table border=\"1\" class=\"dataframe\">\n",
       "  <thead>\n",
       "    <tr style=\"text-align: right;\">\n",
       "      <th></th>\n",
       "      <th>current_row_count</th>\n",
       "      <th>prop</th>\n",
       "      <th>desired_row_count</th>\n",
       "    </tr>\n",
       "  </thead>\n",
       "  <tbody>\n",
       "    <tr>\n",
       "      <th>A_GZ2</th>\n",
       "      <td>1100</td>\n",
       "      <td>0.110011</td>\n",
       "      <td>1100</td>\n",
       "    </tr>\n",
       "    <tr>\n",
       "      <th>B_GZ1</th>\n",
       "      <td>24</td>\n",
       "      <td>0.002400</td>\n",
       "      <td>24</td>\n",
       "    </tr>\n",
       "    <tr>\n",
       "      <th>C_GZ5</th>\n",
       "      <td>3</td>\n",
       "      <td>0.000300</td>\n",
       "      <td>3</td>\n",
       "    </tr>\n",
       "    <tr>\n",
       "      <th>D_GZ4</th>\n",
       "      <td>784</td>\n",
       "      <td>0.078408</td>\n",
       "      <td>784</td>\n",
       "    </tr>\n",
       "    <tr>\n",
       "      <th>E_GZ3</th>\n",
       "      <td>92</td>\n",
       "      <td>0.009201</td>\n",
       "      <td>92</td>\n",
       "    </tr>\n",
       "    <tr>\n",
       "      <th>F_GZ6</th>\n",
       "      <td>914</td>\n",
       "      <td>0.091409</td>\n",
       "      <td>914</td>\n",
       "    </tr>\n",
       "    <tr>\n",
       "      <th>G_GZ7</th>\n",
       "      <td>7082</td>\n",
       "      <td>0.708271</td>\n",
       "      <td>7082</td>\n",
       "    </tr>\n",
       "  </tbody>\n",
       "</table>\n",
       "</div>"
      ],
      "text/plain": [
       "       current_row_count      prop  desired_row_count\n",
       "A_GZ2               1100  0.110011               1100\n",
       "B_GZ1                 24  0.002400                 24\n",
       "C_GZ5                  3  0.000300                  3\n",
       "D_GZ4                784  0.078408                784\n",
       "E_GZ3                 92  0.009201                 92\n",
       "F_GZ6                914  0.091409                914\n",
       "G_GZ7               7082  0.708271               7082"
      ]
     },
     "execution_count": 48,
     "metadata": {},
     "output_type": "execute_result"
    }
   ],
   "source": [
    "## We want to make sure our sampling worked as expected.\n",
    "\n",
    "# In our new dataframe, how many rows do we actually have for each sample?\n",
    "# What is the proportion of each sample's rows of the total dataframe?\n",
    "\n",
    "# Compare this with the 'counts_for_heatmap' above\n",
    "# Note there might be slight differences in 'prop' due to rounding\n",
    "\n",
    "maintain_value_counts(kmeans_data, 'Sample_ID', kmeans_data.shape[0])"
   ]
  },
  {
   "cell_type": "code",
   "execution_count": 49,
   "metadata": {},
   "outputs": [
    {
     "name": "stdout",
     "output_type": "stream",
     "text": [
      "Running KMeans with 1 clusters...\n",
      "Running KMeans with 2 clusters...\n",
      "Running KMeans with 3 clusters...\n",
      "Running KMeans with 4 clusters...\n",
      "Running KMeans with 5 clusters...\n",
      "Running KMeans with 6 clusters...\n",
      "Running KMeans with 7 clusters...\n",
      "Running KMeans with 8 clusters...\n",
      "Running KMeans with 9 clusters...\n",
      "Running KMeans with 10 clusters...\n",
      "Running KMeans with 11 clusters...\n",
      "Running KMeans with 12 clusters...\n",
      "Running KMeans with 13 clusters...\n",
      "Running KMeans with 14 clusters...\n",
      "Running KMeans with 15 clusters...\n",
      "Running KMeans with 16 clusters...\n",
      "Running KMeans with 17 clusters...\n",
      "Running KMeans with 18 clusters...\n",
      "Running KMeans with 19 clusters...\n",
      "Running KMeans with 20 clusters...\n"
     ]
    }
   ],
   "source": [
    "distortions = [] \n",
    "inertias = [] \n",
    "mapping1 = {} \n",
    "mapping2 = {} \n",
    "\n",
    "# How many different Ks do we want to try?\n",
    "# range(1,21) is 1-20 Ks\n",
    "\n",
    "\n",
    "K = range(1,21) \n",
    "#X = df.loc[:,~df.columns.isin(not_intensities)]\n",
    "X = kmeans_data.loc[:,~kmeans_data.columns.isin(not_intensities)]\n",
    "    \n",
    "for k in K: \n",
    "    print(\"Running KMeans with \" + str(k) + \" clusters...\")\n",
    "    #Building and fitting the model \n",
    "    kmeanModel = KMeans(n_clusters=k).fit(X) \n",
    "    kmeanModel.fit(X)     \n",
    "      \n",
    "    distortions.append(sum(np.min(cdist(X, kmeanModel.cluster_centers_, \n",
    "                      metric = 'euclidean'),axis=1)) / X.shape[0]) \n",
    "    inertias.append(kmeanModel.inertia_) \n",
    "  \n",
    "    mapping1[k] = sum(np.min(cdist(X, kmeanModel.cluster_centers_, \n",
    "                 'euclidean'),axis=1)) / X.shape[0] \n",
    "    mapping2[k] = kmeanModel.inertia_ "
   ]
  },
  {
   "cell_type": "markdown",
   "metadata": {},
   "source": [
    "### Plot distortions for each K"
   ]
  },
  {
   "cell_type": "code",
   "execution_count": 50,
   "metadata": {},
   "outputs": [],
   "source": [
    "fig = go.Figure()\n",
    "title = 'K-Means cluster count determination'\n",
    "\n",
    "fig.add_trace(go.Scatter(x=list(K), y=distortions,\n",
    "                    mode='lines+markers',\n",
    "                    name='lines',\n",
    "                        marker=dict(\n",
    "            color='LightSkyBlue',\n",
    "            size=15,\n",
    "            line=dict(\n",
    "                color='MediumPurple',\n",
    "                width=2\n",
    "            ))))\n",
    "    \n",
    "    \n",
    "fig.update_layout(title = title, plot_bgcolor = 'white')\n",
    "\n",
    "\n",
    "fig.update_xaxes(title_text = 'Number of clusters', linecolor = 'black')\n",
    "fig.update_yaxes(title_text = 'Distortion', linecolor = 'black', \n",
    "                 range = [0, max(distortions)+0.1*max(distortions)])\n",
    "#plot(fig)\n",
    "\n",
    "filename = title.replace(\" \",\"_\") + \".png\"\n",
    "filename = os.path.join(output_images_dir, filename)\n",
    "fig.write_image(filename)"
   ]
  },
  {
   "cell_type": "markdown",
   "metadata": {},
   "source": [
    "### Find elbow in above"
   ]
  },
  {
   "cell_type": "markdown",
   "metadata": {},
   "source": [
    "https://github.com/arvkevi/kneed/blob/master/notebooks/decreasing_function_walkthrough.ipynb"
   ]
  },
  {
   "cell_type": "code",
   "execution_count": 51,
   "metadata": {},
   "outputs": [],
   "source": [
    "from kneed import KneeLocator"
   ]
  },
  {
   "cell_type": "code",
   "execution_count": 52,
   "metadata": {},
   "outputs": [],
   "source": [
    "kn = KneeLocator(list(K), distortions, S=1.0, curve='convex', direction='decreasing')"
   ]
  },
  {
   "cell_type": "code",
   "execution_count": 53,
   "metadata": {},
   "outputs": [
    {
     "data": {
      "text/plain": [
       "6"
      ]
     },
     "execution_count": 53,
     "metadata": {},
     "output_type": "execute_result"
    }
   ],
   "source": [
    "kn.knee"
   ]
  },
  {
   "cell_type": "code",
   "execution_count": 54,
   "metadata": {},
   "outputs": [],
   "source": [
    "fig = go.Figure()\n",
    "title = 'K-Means cluster count determination with elbow'\n",
    "\n",
    "fig.add_trace(go.Scatter(x=list(K), y=distortions, mode='lines+markers',\n",
    "                        marker=dict(\n",
    "                            color='LightSkyBlue', size=15,\n",
    "                            line=dict(\n",
    "                                color='MediumPurple',width=2\n",
    "                        ))))\n",
    "    \n",
    "fig.add_shape(\n",
    "    # Line Vertical\n",
    "    go.layout.Shape(\n",
    "        type=\"line\",\n",
    "        xref = \"x\",\n",
    "        yref = \"y\",\n",
    "        x0=kn.knee,\n",
    "        y0=0,\n",
    "        x1=kn.knee,\n",
    "        y1= max(distortions)+0.1*max(distortions),\n",
    "        line=dict(\n",
    "            color=\"black\", width=2, dash = 'dot'\n",
    "        ),\n",
    "))   \n",
    "    \n",
    "fig.update_layout(title = title, plot_bgcolor = 'white')\n",
    "\n",
    "\n",
    "fig.update_xaxes(title_text = 'Number of clusters', linecolor = 'black')\n",
    "fig.update_yaxes(title_text = 'Distortion', linecolor = 'black',\n",
    "                 range = [0, max(distortions)+0.1*max(distortions)])\n",
    "#plot(fig)\n",
    "fig.write_image(output_images_dir + \"/\" + title.replace(\" \",\"_\") + \".png\")\n"
   ]
  },
  {
   "cell_type": "markdown",
   "metadata": {},
   "source": [
    "### Perform KMean clustering"
   ]
  },
  {
   "cell_type": "code",
   "execution_count": 55,
   "metadata": {},
   "outputs": [
    {
     "data": {
      "text/plain": [
       "6"
      ]
     },
     "execution_count": 55,
     "metadata": {},
     "output_type": "execute_result"
    }
   ],
   "source": [
    "n_clusters = kn.knee\n",
    "#n_clusters = \n",
    "n_clusters"
   ]
  },
  {
   "cell_type": "code",
   "execution_count": 56,
   "metadata": {},
   "outputs": [
    {
     "data": {
      "text/plain": [
       "array([1, 1, 1, ..., 2, 4, 2], dtype=int32)"
      ]
     },
     "execution_count": 56,
     "metadata": {},
     "output_type": "execute_result"
    }
   ],
   "source": [
    "#KMeans Clustering on mean intensities\n",
    "\n",
    "from sklearn.cluster import KMeans\n",
    "cluster = KMeans(n_clusters = n_clusters, random_state = 20) #number of clusters can be set here \n",
    "\n",
    "# We are performing KMeans clustering on df using K (5) clusters\n",
    "cluster.fit_predict(df.loc[:,~df.columns.isin(not_intensities)])"
   ]
  },
  {
   "cell_type": "code",
   "execution_count": 57,
   "metadata": {},
   "outputs": [],
   "source": [
    "#create a new column with cluster number \n",
    "# We don't want our cluster labels to start with '0'\n",
    "df['cluster'] = cluster.labels_ + 1"
   ]
  },
  {
   "cell_type": "markdown",
   "metadata": {},
   "source": [
    "Save the full dataset with the clustering column."
   ]
  },
  {
   "cell_type": "code",
   "execution_count": 58,
   "metadata": {},
   "outputs": [],
   "source": [
    "df.rename(columns = full_to_short_names).to_csv(\"for_KMeans.csv\")"
   ]
  },
  {
   "cell_type": "markdown",
   "metadata": {},
   "source": [
    "## Visualizations"
   ]
  },
  {
   "cell_type": "markdown",
   "metadata": {},
   "source": [
    "#### Create color dictionary for clusters"
   ]
  },
  {
   "cell_type": "markdown",
   "metadata": {},
   "source": [
    "In theory, we to choose colors that are categorical, since Cluster is actually a non-ordered category. However, since we could conceivably be working with > 10-11 clusters, we do not want a color palette that will just cycle back through the same limited colors, so we are going to take this continuous color palette and get the number of unique colors we need."
   ]
  },
  {
   "cell_type": "code",
   "execution_count": 59,
   "metadata": {},
   "outputs": [
    {
     "name": "stdout",
     "output_type": "stream",
     "text": [
      "[1, 2, 3, 4, 5, 6]\n"
     ]
    },
    {
     "data": {
      "image/png": "[encoded data removed]",
      "text/plain": [
       "<Figure size 432x72 with 1 Axes>"
      ]
     },
     "metadata": {
      "needs_background": "light"
     },
     "output_type": "display_data"
    }
   ],
   "source": [
    "# Get those unique colors\n",
    "cluster_color_values = sb.color_palette(\"hls\",n_colors = len(df.cluster.unique()))#'HLS'\n",
    "\n",
    "print(sorted(df.cluster.unique()))\n",
    "# Display those unique colors\n",
    "sb.palplot(sb.color_palette(cluster_color_values))\n"
   ]
  },
  {
   "cell_type": "markdown",
   "metadata": {},
   "source": [
    "Store in a dictionary"
   ]
  },
  {
   "cell_type": "code",
   "execution_count": 60,
   "metadata": {},
   "outputs": [
    {
     "data": {
      "text/plain": [
       "{1: (0.86, 0.3712, 0.33999999999999997),\n",
       " 2: (0.8287999999999999, 0.86, 0.33999999999999997),\n",
       " 3: (0.33999999999999997, 0.86, 0.3712),\n",
       " 4: (0.33999999999999997, 0.8287999999999999, 0.86),\n",
       " 5: (0.3712, 0.33999999999999997, 0.86),\n",
       " 6: (0.86, 0.33999999999999997, 0.8287999999999999)}"
      ]
     },
     "execution_count": 60,
     "metadata": {},
     "output_type": "execute_result"
    }
   ],
   "source": [
    "cluster_color_dict = dict(zip(sorted(df.cluster.unique()), cluster_color_values))\n",
    "cluster_color_dict"
   ]
  },
  {
   "cell_type": "code",
   "execution_count": 61,
   "metadata": {},
   "outputs": [
    {
     "data": {
      "image/png": "[encoded data removed]",
      "text/plain": [
       "<Figure size 360x72 with 1 Axes>"
      ]
     },
     "metadata": {
      "needs_background": "light"
     },
     "output_type": "display_data"
    }
   ],
   "source": [
    "## Here is an example of how you might specify the values yourself,\n",
    "# derived from the QC/EDA chapter. Note that in this case, our keys\n",
    "# are not strings (e.g., '1'), but are actually ints (integers, e.g., 1).\n",
    "\n",
    "#cluster_color_dict['1'] = mplc.to_rgb('xkcd:dark sky blue')\n",
    "#cluster_color_dict['2'] = mplc.to_rgb('xkcd:reddish orange')\n",
    "#cluster_color_dict['3'] = mplc.to_rgb('xkcd:jungle green')\n",
    "\n",
    "\n",
    "sb.palplot(sb.color_palette(\n",
    "    [cluster_color_dict[1],\n",
    "     cluster_color_dict[2],\n",
    "     cluster_color_dict[3],\n",
    "    cluster_color_dict[4],\n",
    "    cluster_color_dict[5]]))\n"
   ]
  },
  {
   "cell_type": "markdown",
   "metadata": {},
   "source": [
    "#### Save color information (mapping and legend) to metadata directory"
   ]
  },
  {
   "cell_type": "code",
   "execution_count": 62,
   "metadata": {},
   "outputs": [],
   "source": [
    "# Create dataframe\n",
    "cluster_color_df = color_dict_to_df(cluster_color_dict, \"cluster\")\n",
    "cluster_color_df.head()\n",
    "\n",
    "# Save to file in metadatadirectory\n",
    "filename = \"cluster_color_data.csv\"\n",
    "filename = os.path.join(metadata_dir, filename)\n",
    "cluster_color_df.to_csv(filename, index = False)"
   ]
  },
  {
   "cell_type": "code",
   "execution_count": 63,
   "metadata": {},
   "outputs": [
    {
     "data": {
      "image/png": "[encoded data removed]",
      "text/plain": [
       "<Figure size 72x72 with 1 Axes>"
      ]
     },
     "metadata": {
      "needs_background": "light"
     },
     "output_type": "display_data"
    }
   ],
   "source": [
    "# Legend of cluster info only\n",
    "\n",
    "g  = plt.figure(figsize = (1,1)).add_subplot(111)\n",
    "g.axis('off')\n",
    "handles = []\n",
    "for item in sorted(cluster_color_dict.keys()):\n",
    "        h = g.bar(0,0, color = cluster_color_dict[item],\n",
    "                  label = item, linewidth =0)\n",
    "        handles.append(h)\n",
    "first_legend = plt.legend(handles=handles, loc='upper right', title = 'Cluster'),\n",
    "\n",
    "\n",
    "filename = \"Clustertype_legend.png\"\n",
    "filename = os.path.join(metadata_images_dir, filename)\n",
    "plt.savefig(filename, bbox_inches = 'tight')"
   ]
  },
  {
   "cell_type": "markdown",
   "metadata": {},
   "source": [
    "### Heatmap"
   ]
  },
  {
   "cell_type": "markdown",
   "metadata": {},
   "source": [
    "Here, I assume we have clustering data for the full df loaded in for this chapter, not just a subset of ~10k cells, regardless of how many rows of our df were used to determine the best K. If we *are* working with a subsetted df at this point, then the below method to get a subset appropriate for the heatmap will still work fine."
   ]
  },
  {
   "cell_type": "markdown",
   "metadata": {},
   "source": [
    "We will only be plotting ~10k cells in the interest of time/computing resources. We want these 10k lines in our original df to be sampled randomly, without replacement, with the caveat that the proportions of all samples in the data remains the same in this subset. If the size of the dataframe is > 10k rows, then we will proceed with the entire dataset."
   ]
  },
  {
   "cell_type": "code",
   "execution_count": 64,
   "metadata": {},
   "outputs": [],
   "source": [
    "heatmap_row_count = min(10000, df.shape[0])"
   ]
  },
  {
   "cell_type": "code",
   "execution_count": 65,
   "metadata": {},
   "outputs": [
    {
     "data": {
      "text/html": [
       "<div>\n",
       "<style scoped>\n",
       "    .dataframe tbody tr th:only-of-type {\n",
       "        vertical-align: middle;\n",
       "    }\n",
       "\n",
       "    .dataframe tbody tr th {\n",
       "        vertical-align: top;\n",
       "    }\n",
       "\n",
       "    .dataframe thead th {\n",
       "        text-align: right;\n",
       "    }\n",
       "</style>\n",
       "<table border=\"1\" class=\"dataframe\">\n",
       "  <thead>\n",
       "    <tr style=\"text-align: right;\">\n",
       "      <th></th>\n",
       "      <th>current_row_count</th>\n",
       "      <th>prop</th>\n",
       "      <th>desired_row_count</th>\n",
       "    </tr>\n",
       "  </thead>\n",
       "  <tbody>\n",
       "    <tr>\n",
       "      <th>A_GZ2</th>\n",
       "      <td>66137</td>\n",
       "      <td>0.110035</td>\n",
       "      <td>1429.0</td>\n",
       "    </tr>\n",
       "    <tr>\n",
       "      <th>B_GZ1</th>\n",
       "      <td>1443</td>\n",
       "      <td>0.002401</td>\n",
       "      <td>1429.0</td>\n",
       "    </tr>\n",
       "    <tr>\n",
       "      <th>C_GZ5</th>\n",
       "      <td>185</td>\n",
       "      <td>0.000308</td>\n",
       "      <td>185.0</td>\n",
       "    </tr>\n",
       "    <tr>\n",
       "      <th>D_GZ4</th>\n",
       "      <td>47135</td>\n",
       "      <td>0.078420</td>\n",
       "      <td>1429.0</td>\n",
       "    </tr>\n",
       "    <tr>\n",
       "      <th>E_GZ3</th>\n",
       "      <td>5502</td>\n",
       "      <td>0.009154</td>\n",
       "      <td>1429.0</td>\n",
       "    </tr>\n",
       "    <tr>\n",
       "      <th>F_GZ6</th>\n",
       "      <td>54962</td>\n",
       "      <td>0.091442</td>\n",
       "      <td>1429.0</td>\n",
       "    </tr>\n",
       "    <tr>\n",
       "      <th>G_GZ7</th>\n",
       "      <td>425692</td>\n",
       "      <td>0.708240</td>\n",
       "      <td>1429.0</td>\n",
       "    </tr>\n",
       "  </tbody>\n",
       "</table>\n",
       "</div>"
      ],
      "text/plain": [
       "       current_row_count      prop  desired_row_count\n",
       "A_GZ2              66137  0.110035             1429.0\n",
       "B_GZ1               1443  0.002401             1429.0\n",
       "C_GZ5                185  0.000308              185.0\n",
       "D_GZ4              47135  0.078420             1429.0\n",
       "E_GZ3               5502  0.009154             1429.0\n",
       "F_GZ6              54962  0.091442             1429.0\n",
       "G_GZ7             425692  0.708240             1429.0"
      ]
     },
     "execution_count": 65,
     "metadata": {},
     "output_type": "execute_result"
    }
   ],
   "source": [
    "# Create df of each feature type, its proportion in the full df,\n",
    "# and the number of rows we want for a sum of heatmap_row_count rows\n",
    "counts_for_heatmap = create_equal_value_counts(df, 'Sample_ID',heatmap_row_count)\n",
    "counts_for_heatmap"
   ]
  },
  {
   "cell_type": "code",
   "execution_count": 67,
   "metadata": {},
   "outputs": [],
   "source": [
    "# Create new df to hold our heatmap data\n",
    "heatmap_data = pd.DataFrame(columns = df.columns)\n",
    "\n",
    "# populate the df\n",
    "for sample in df.Sample_ID.unique():\n",
    "    a = counts_for_heatmap.loc[counts_for_heatmap.index == sample,'current_row_count'].values[0]\n",
    "    size = int(counts_for_heatmap.loc[counts_for_heatmap.index == sample,'desired_row_count'].values[0])\n",
    "    random_rows = np.random.choice(a = a, size = size, replace = False)\n",
    "    df_sample = df.loc[df['Sample_ID'] == sample,:]\n",
    "    heatmap_data = heatmap_data.append(df_sample.iloc[random_rows,:])"
   ]
  },
  {
   "cell_type": "code",
   "execution_count": 69,
   "metadata": {},
   "outputs": [
    {
     "data": {
      "text/html": [
       "<div>\n",
       "<style scoped>\n",
       "    .dataframe tbody tr th:only-of-type {\n",
       "        vertical-align: middle;\n",
       "    }\n",
       "\n",
       "    .dataframe tbody tr th {\n",
       "        vertical-align: top;\n",
       "    }\n",
       "\n",
       "    .dataframe thead th {\n",
       "        text-align: right;\n",
       "    }\n",
       "</style>\n",
       "<table border=\"1\" class=\"dataframe\">\n",
       "  <thead>\n",
       "    <tr style=\"text-align: right;\">\n",
       "      <th></th>\n",
       "      <th>current_row_count</th>\n",
       "      <th>prop</th>\n",
       "      <th>desired_row_count</th>\n",
       "    </tr>\n",
       "  </thead>\n",
       "  <tbody>\n",
       "    <tr>\n",
       "      <th>A_GZ2</th>\n",
       "      <td>1429</td>\n",
       "      <td>0.163146</td>\n",
       "      <td>1251.0</td>\n",
       "    </tr>\n",
       "    <tr>\n",
       "      <th>B_GZ1</th>\n",
       "      <td>1429</td>\n",
       "      <td>0.163146</td>\n",
       "      <td>1251.0</td>\n",
       "    </tr>\n",
       "    <tr>\n",
       "      <th>C_GZ5</th>\n",
       "      <td>185</td>\n",
       "      <td>0.021121</td>\n",
       "      <td>185.0</td>\n",
       "    </tr>\n",
       "    <tr>\n",
       "      <th>D_GZ4</th>\n",
       "      <td>1429</td>\n",
       "      <td>0.163146</td>\n",
       "      <td>1251.0</td>\n",
       "    </tr>\n",
       "    <tr>\n",
       "      <th>E_GZ3</th>\n",
       "      <td>1429</td>\n",
       "      <td>0.163146</td>\n",
       "      <td>1251.0</td>\n",
       "    </tr>\n",
       "    <tr>\n",
       "      <th>F_GZ6</th>\n",
       "      <td>1429</td>\n",
       "      <td>0.163146</td>\n",
       "      <td>1251.0</td>\n",
       "    </tr>\n",
       "    <tr>\n",
       "      <th>G_GZ7</th>\n",
       "      <td>1429</td>\n",
       "      <td>0.163146</td>\n",
       "      <td>1251.0</td>\n",
       "    </tr>\n",
       "  </tbody>\n",
       "</table>\n",
       "</div>"
      ],
      "text/plain": [
       "       current_row_count      prop  desired_row_count\n",
       "A_GZ2               1429  0.163146             1251.0\n",
       "B_GZ1               1429  0.163146             1251.0\n",
       "C_GZ5                185  0.021121              185.0\n",
       "D_GZ4               1429  0.163146             1251.0\n",
       "E_GZ3               1429  0.163146             1251.0\n",
       "F_GZ6               1429  0.163146             1251.0\n",
       "G_GZ7               1429  0.163146             1251.0"
      ]
     },
     "execution_count": 69,
     "metadata": {},
     "output_type": "execute_result"
    }
   ],
   "source": [
    "## We want to make sure our sampling worked as expected.\n",
    "\n",
    "# In our new dataframe, how many rows do we actually have for each sample?\n",
    "# What is the proportion of each sample's rows of the total dataframe?\n",
    "\n",
    "# Compare this with the 'counts_for_heatmap' above\n",
    "# Note there might be slight differences in 'prop' due to rounding\n",
    "\n",
    "create_equal_value_counts(heatmap_data, 'Sample_ID', heatmap_data.shape[0])"
   ]
  },
  {
   "cell_type": "markdown",
   "metadata": {},
   "source": [
    "Unlike other heatmaps in the workflow, this one will not use row clustering. We want to arrange the rows first by cluster number and then by Sample_ID."
   ]
  },
  {
   "cell_type": "code",
   "execution_count": 70,
   "metadata": {},
   "outputs": [],
   "source": [
    "heatmap_data = heatmap_data.sort_values(by = ['cluster','Sample_ID'])"
   ]
  },
  {
   "cell_type": "markdown",
   "metadata": {},
   "source": [
    "Get data structures to map colors to columns and rows..."
   ]
  },
  {
   "cell_type": "code",
   "execution_count": 71,
   "metadata": {},
   "outputs": [
    {
     "data": {
      "text/plain": [
       "E_GZ3_Cell_15913    (0.20125317221201128, 0.6907920815379025, 0.47...\n",
       "E_GZ3_Cell_15627    (0.20125317221201128, 0.6907920815379025, 0.47...\n",
       "E_GZ3_Cell_12666    (0.20125317221201128, 0.6907920815379025, 0.47...\n",
       "E_GZ3_Cell_39648    (0.20125317221201128, 0.6907920815379025, 0.47...\n",
       "Name: Sample_ID, dtype: object"
      ]
     },
     "execution_count": 71,
     "metadata": {},
     "output_type": "execute_result"
    }
   ],
   "source": [
    "sample_row_colors = heatmap_data.Sample_ID.map(sample_color_dict)\n",
    "\n",
    "sample_row_colors[1:5]"
   ]
  },
  {
   "cell_type": "code",
   "execution_count": 72,
   "metadata": {},
   "outputs": [
    {
     "data": {
      "text/plain": [
       "E_GZ3_Cell_15913    (0.3712, 0.33999999999999997, 0.86)\n",
       "E_GZ3_Cell_15627    (0.86, 0.3712, 0.33999999999999997)\n",
       "E_GZ3_Cell_12666    (0.86, 0.3712, 0.33999999999999997)\n",
       "E_GZ3_Cell_39648    (0.33999999999999997, 0.86, 0.3712)\n",
       "Name: cell_type, dtype: object"
      ]
     },
     "execution_count": 72,
     "metadata": {},
     "output_type": "execute_result"
    }
   ],
   "source": [
    "row_celltype_colors = heatmap_data.cell_type.map(celltype_color_dict)\n",
    "\n",
    "row_celltype_colors[1:5]"
   ]
  },
  {
   "cell_type": "code",
   "execution_count": 73,
   "metadata": {},
   "outputs": [
    {
     "data": {
      "text/plain": [
       "E_GZ3_Cell_15913    (0.86, 0.3712, 0.33999999999999997)\n",
       "E_GZ3_Cell_15627    (0.86, 0.3712, 0.33999999999999997)\n",
       "E_GZ3_Cell_12666    (0.86, 0.3712, 0.33999999999999997)\n",
       "E_GZ3_Cell_39648    (0.86, 0.3712, 0.33999999999999997)\n",
       "Name: cluster, dtype: object"
      ]
     },
     "execution_count": 73,
     "metadata": {},
     "output_type": "execute_result"
    }
   ],
   "source": [
    "row_cluster_colors = heatmap_data.cluster.map(cluster_color_dict)\n",
    "\n",
    "row_cluster_colors[1:5]"
   ]
  },
  {
   "cell_type": "code",
   "execution_count": 79,
   "metadata": {},
   "outputs": [
    {
     "data": {
      "text/plain": [
       "0    53BP1\n",
       "1      AXL\n",
       "2    CCNA2\n",
       "3    CCND1\n",
       "4      CD4\n",
       "dtype: object"
      ]
     },
     "execution_count": 79,
     "metadata": {},
     "output_type": "execute_result"
    }
   ],
   "source": [
    "pd.Series(\n",
    "    heatmap_data.loc[:,~heatmap_data.columns.isin(not_intensities)].columns.values).head()"
   ]
  },
  {
   "cell_type": "code",
   "execution_count": null,
   "metadata": {},
   "outputs": [],
   "source": [
    "metadata['full']"
   ]
  },
  {
   "cell_type": "code",
   "execution_count": 81,
   "metadata": {},
   "outputs": [
    {
     "data": {
      "text/plain": [
       "53BP1    (0.25098039215686274, 0.8784313725490196, 0.81...\n",
       "AXL                         (1.0, 0.6470588235294118, 0.0)\n",
       "CCNA2                       (1.0, 0.6470588235294118, 0.0)\n",
       "CCND1                                      (1.0, 0.0, 0.0)\n",
       "CD4                                        (1.0, 0.0, 0.0)\n",
       "Name: Channel, dtype: object"
      ]
     },
     "execution_count": 81,
     "metadata": {},
     "output_type": "execute_result"
    }
   ],
   "source": [
    "column_channel_colors = pd.merge(pd.DataFrame(pd.Series(\n",
    "    heatmap_data.loc[:,~heatmap_data.columns.isin(not_intensities)].columns.values)), \n",
    "                  metadata, how = 'left',\n",
    "         left_on = 0, right_on = 'full_column')[[0,'Channel']]['Channel'].map(channel_color_dict)\n",
    "\n",
    "\n",
    "column_channel_colors.index = heatmap_data.loc[:,~heatmap_data.columns.isin(not_intensities)].columns.values\n",
    "\n",
    "column_channel_colors.head()"
   ]
  },
  {
   "cell_type": "code",
   "execution_count": 82,
   "metadata": {},
   "outputs": [
    {
     "data": {
      "text/plain": [
       "53BP1    (0.3736023974468758, 0.214424058315835, 0.3978...\n",
       "AXL      (0.4347275623260717, 0.45841778084048856, 0.66...\n",
       "CCNA2    (0.3736023974468758, 0.214424058315835, 0.3978...\n",
       "CCND1    (0.4347275623260717, 0.45841778084048856, 0.66...\n",
       "CD4      (0.4159341362257507, 0.3236230119238674, 0.552...\n",
       "Name: Round, dtype: object"
      ]
     },
     "execution_count": 82,
     "metadata": {},
     "output_type": "execute_result"
    }
   ],
   "source": [
    "column_round_colors = pd.merge(pd.DataFrame(pd.Series(\n",
    "    heatmap_data.loc[:,~heatmap_data.columns.isin(not_intensities)].columns.values)), \n",
    "                  metadata, how = 'left',\n",
    "         left_on = 0, right_on = 'full_column')[[0,'Round']]['Round'].map(round_color_dict)\n",
    "\n",
    "\n",
    "column_round_colors.index = heatmap_data.loc[:,~heatmap_data.columns.isin(not_intensities)].columns.values\n",
    "\n",
    "column_round_colors.head()"
   ]
  },
  {
   "cell_type": "code",
   "execution_count": 101,
   "metadata": {},
   "outputs": [],
   "source": [
    "# Create data structure to hold everything we need for row/column annotations\n",
    "# annotations is a dictionary\n",
    "## IMPORTANT - if you use 'annotations', it MUST have both 'rows' and 'cols'\n",
    "## objects inside. These can be empty lists, but they must be there!\n",
    "anns = {}\n",
    "\n",
    "# create a data structure to hold everything we need for only row annotations\n",
    "# row_annotations is a list, where each item therein is a dictioary corresponding\n",
    "# to all of the data pertaining to that particular annotation\n",
    "# Adding each item (e.g., Sample, then Cluster), one at a time to ensure ordering\n",
    "# is as anticipated on figure\n",
    "row_annotations = []\n",
    "row_annotations.append({'label':'Sample','type':'row','mapping':sample_row_colors,'dict':sample_color_dict,\n",
    "                        'location':'center left','bbox_to_anchor':(0, 0.5)})\n",
    "row_annotations.append({'label':'Cell type','type':'row','mapping':row_celltype_colors,\n",
    "                        'dict':celltype_color_dict,\n",
    "                        'location':'lower left','bbox_to_anchor':(0, 0.65)})\n",
    "row_annotations.append({'label':'Cluster','type':'row','mapping':row_cluster_colors,\n",
    "                        'dict':cluster_color_dict,\n",
    "                        'location':'lower left','bbox_to_anchor':(0, 0.20)})\n",
    "# Add all row information into the annotations dictionary\n",
    "anns['rows'] = row_annotations\n",
    "\n",
    "\n",
    "# Now we repeat the process for column annotations\n",
    "col_annotations = []\n",
    "col_annotations.append({'label':'Round','type':'column','mapping':column_round_colors,'dict':round_color_dict,\n",
    "                       'location':'upper right','bbox_to_anchor':(1,0.50)})\n",
    "\n",
    "col_annotations.append({'label':'Column','type':'column','mapping':column_channel_colors,'dict':channel_color_dict,\n",
    "                       'location':'upper right','bbox_to_anchor':(1,0.75)})\n",
    "anns['cols'] = col_annotations"
   ]
  },
  {
   "cell_type": "markdown",
   "metadata": {},
   "source": [
    "#### Actually plot the heatmap"
   ]
  },
  {
   "cell_type": "code",
   "execution_count": 103,
   "metadata": {},
   "outputs": [
    {
     "data": {
      "image/png": "[encoded data removed]",
      "text/plain": [
       "<Figure size 2880x2160 with 4 Axes>"
      ]
     },
     "metadata": {},
     "output_type": "display_data"
    }
   ],
   "source": [
    "heatmap_function(data = heatmap_data.loc[:,~heatmap_data.columns.isin(not_intensities)],\n",
    "    title = \"KMeans heatmap\",\n",
    "               # define method, metric, and color map\n",
    "          method = 'ward', metric = 'correlation',cmap = 'coolwarm',\n",
    "               # colorbar (legend coloring of main plot) \n",
    "               cbar_kws = {'label':'Correlation'},\n",
    "               # xticklabels - want to have the nicknames instead of full names\n",
    "                xticklabels = [name for name in\n",
    "                 #xticklabels = [full_to_short_names[name] for name in \n",
    "                     heatmap_data.loc[:,\n",
    "                                 ~heatmap_data.columns.isin(not_intensities)].columns.values],\n",
    "                 save_loc = output_images_dir,\n",
    "                 row_cluster = False, col_cluster = True,\n",
    "                    annotations = anns\n",
    "          )"
   ]
  },
  {
   "cell_type": "markdown",
   "metadata": {},
   "source": [
    "### XY Maps"
   ]
  },
  {
   "cell_type": "code",
   "execution_count": 98,
   "metadata": {},
   "outputs": [
    {
     "ename": "ValueError",
     "evalue": "\nFor some reason plotly.py was unable to communicate with the\nlocal orca server process, even though the server process seems to be running.\n\nPlease review the process and connection information below:\n\norca status\n-----------\n    state: running\n    executable: /Users/groutm/anaconda3/bin/orca\n    version: 1.2.1\n    port: 61483\n    pid: 16680\n    command: ['/Users/groutm/anaconda3/bin/orca', 'serve', '-p', '61483', '--plotly', '/Users/groutm/anaconda3/lib/python3.7/site-packages/plotly/package_data/plotly.min.js', '--graph-only', '--mathjax', 'https://cdnjs.cloudflare.com/ajax/libs/mathjax/2.7.5/MathJax.js']\n\n\n",
     "output_type": "error",
     "traceback": [
      "\u001b[0;31m---------------------------------------------------------------------------\u001b[0m",
      "\u001b[0;31mConnectionRefusedError\u001b[0m                    Traceback (most recent call last)",
      "\u001b[0;32m~/anaconda3/lib/python3.7/site-packages/urllib3/connection.py\u001b[0m in \u001b[0;36m_new_conn\u001b[0;34m(self)\u001b[0m\n\u001b[1;32m    158\u001b[0m             conn = connection.create_connection(\n\u001b[0;32m--> 159\u001b[0;31m                 (self._dns_host, self.port), self.timeout, **extra_kw)\n\u001b[0m\u001b[1;32m    160\u001b[0m \u001b[0;34m\u001b[0m\u001b[0m\n",
      "\u001b[0;32m~/anaconda3/lib/python3.7/site-packages/urllib3/util/connection.py\u001b[0m in \u001b[0;36mcreate_connection\u001b[0;34m(address, timeout, source_address, socket_options)\u001b[0m\n\u001b[1;32m     79\u001b[0m     \u001b[0;32mif\u001b[0m \u001b[0merr\u001b[0m \u001b[0;32mis\u001b[0m \u001b[0;32mnot\u001b[0m \u001b[0;32mNone\u001b[0m\u001b[0;34m:\u001b[0m\u001b[0;34m\u001b[0m\u001b[0;34m\u001b[0m\u001b[0m\n\u001b[0;32m---> 80\u001b[0;31m         \u001b[0;32mraise\u001b[0m \u001b[0merr\u001b[0m\u001b[0;34m\u001b[0m\u001b[0;34m\u001b[0m\u001b[0m\n\u001b[0m\u001b[1;32m     81\u001b[0m \u001b[0;34m\u001b[0m\u001b[0m\n",
      "\u001b[0;32m~/anaconda3/lib/python3.7/site-packages/urllib3/util/connection.py\u001b[0m in \u001b[0;36mcreate_connection\u001b[0;34m(address, timeout, source_address, socket_options)\u001b[0m\n\u001b[1;32m     69\u001b[0m                 \u001b[0msock\u001b[0m\u001b[0;34m.\u001b[0m\u001b[0mbind\u001b[0m\u001b[0;34m(\u001b[0m\u001b[0msource_address\u001b[0m\u001b[0;34m)\u001b[0m\u001b[0;34m\u001b[0m\u001b[0;34m\u001b[0m\u001b[0m\n\u001b[0;32m---> 70\u001b[0;31m             \u001b[0msock\u001b[0m\u001b[0;34m.\u001b[0m\u001b[0mconnect\u001b[0m\u001b[0;34m(\u001b[0m\u001b[0msa\u001b[0m\u001b[0;34m)\u001b[0m\u001b[0;34m\u001b[0m\u001b[0;34m\u001b[0m\u001b[0m\n\u001b[0m\u001b[1;32m     71\u001b[0m             \u001b[0;32mreturn\u001b[0m \u001b[0msock\u001b[0m\u001b[0;34m\u001b[0m\u001b[0;34m\u001b[0m\u001b[0m\n",
      "\u001b[0;31mConnectionRefusedError\u001b[0m: [Errno 61] Connection refused",
      "\nDuring handling of the above exception, another exception occurred:\n",
      "\u001b[0;31mNewConnectionError\u001b[0m                        Traceback (most recent call last)",
      "\u001b[0;32m~/anaconda3/lib/python3.7/site-packages/urllib3/connectionpool.py\u001b[0m in \u001b[0;36murlopen\u001b[0;34m(self, method, url, body, headers, retries, redirect, assert_same_host, timeout, pool_timeout, release_conn, chunked, body_pos, **response_kw)\u001b[0m\n\u001b[1;32m    599\u001b[0m                                                   \u001b[0mbody\u001b[0m\u001b[0;34m=\u001b[0m\u001b[0mbody\u001b[0m\u001b[0;34m,\u001b[0m \u001b[0mheaders\u001b[0m\u001b[0;34m=\u001b[0m\u001b[0mheaders\u001b[0m\u001b[0;34m,\u001b[0m\u001b[0;34m\u001b[0m\u001b[0;34m\u001b[0m\u001b[0m\n\u001b[0;32m--> 600\u001b[0;31m                                                   chunked=chunked)\n\u001b[0m\u001b[1;32m    601\u001b[0m \u001b[0;34m\u001b[0m\u001b[0m\n",
      "\u001b[0;32m~/anaconda3/lib/python3.7/site-packages/urllib3/connectionpool.py\u001b[0m in \u001b[0;36m_make_request\u001b[0;34m(self, conn, method, url, timeout, chunked, **httplib_request_kw)\u001b[0m\n\u001b[1;32m    353\u001b[0m         \u001b[0;32melse\u001b[0m\u001b[0;34m:\u001b[0m\u001b[0;34m\u001b[0m\u001b[0;34m\u001b[0m\u001b[0m\n\u001b[0;32m--> 354\u001b[0;31m             \u001b[0mconn\u001b[0m\u001b[0;34m.\u001b[0m\u001b[0mrequest\u001b[0m\u001b[0;34m(\u001b[0m\u001b[0mmethod\u001b[0m\u001b[0;34m,\u001b[0m \u001b[0murl\u001b[0m\u001b[0;34m,\u001b[0m \u001b[0;34m**\u001b[0m\u001b[0mhttplib_request_kw\u001b[0m\u001b[0;34m)\u001b[0m\u001b[0;34m\u001b[0m\u001b[0;34m\u001b[0m\u001b[0m\n\u001b[0m\u001b[1;32m    355\u001b[0m \u001b[0;34m\u001b[0m\u001b[0m\n",
      "\u001b[0;32m~/anaconda3/lib/python3.7/http/client.py\u001b[0m in \u001b[0;36mrequest\u001b[0;34m(self, method, url, body, headers, encode_chunked)\u001b[0m\n\u001b[1;32m   1228\u001b[0m         \u001b[0;34m\"\"\"Send a complete request to the server.\"\"\"\u001b[0m\u001b[0;34m\u001b[0m\u001b[0;34m\u001b[0m\u001b[0m\n\u001b[0;32m-> 1229\u001b[0;31m         \u001b[0mself\u001b[0m\u001b[0;34m.\u001b[0m\u001b[0m_send_request\u001b[0m\u001b[0;34m(\u001b[0m\u001b[0mmethod\u001b[0m\u001b[0;34m,\u001b[0m \u001b[0murl\u001b[0m\u001b[0;34m,\u001b[0m \u001b[0mbody\u001b[0m\u001b[0;34m,\u001b[0m \u001b[0mheaders\u001b[0m\u001b[0;34m,\u001b[0m \u001b[0mencode_chunked\u001b[0m\u001b[0;34m)\u001b[0m\u001b[0;34m\u001b[0m\u001b[0;34m\u001b[0m\u001b[0m\n\u001b[0m\u001b[1;32m   1230\u001b[0m \u001b[0;34m\u001b[0m\u001b[0m\n",
      "\u001b[0;32m~/anaconda3/lib/python3.7/http/client.py\u001b[0m in \u001b[0;36m_send_request\u001b[0;34m(self, method, url, body, headers, encode_chunked)\u001b[0m\n\u001b[1;32m   1274\u001b[0m             \u001b[0mbody\u001b[0m \u001b[0;34m=\u001b[0m \u001b[0m_encode\u001b[0m\u001b[0;34m(\u001b[0m\u001b[0mbody\u001b[0m\u001b[0;34m,\u001b[0m \u001b[0;34m'body'\u001b[0m\u001b[0;34m)\u001b[0m\u001b[0;34m\u001b[0m\u001b[0;34m\u001b[0m\u001b[0m\n\u001b[0;32m-> 1275\u001b[0;31m         \u001b[0mself\u001b[0m\u001b[0;34m.\u001b[0m\u001b[0mendheaders\u001b[0m\u001b[0;34m(\u001b[0m\u001b[0mbody\u001b[0m\u001b[0;34m,\u001b[0m \u001b[0mencode_chunked\u001b[0m\u001b[0;34m=\u001b[0m\u001b[0mencode_chunked\u001b[0m\u001b[0;34m)\u001b[0m\u001b[0;34m\u001b[0m\u001b[0;34m\u001b[0m\u001b[0m\n\u001b[0m\u001b[1;32m   1276\u001b[0m \u001b[0;34m\u001b[0m\u001b[0m\n",
      "\u001b[0;32m~/anaconda3/lib/python3.7/http/client.py\u001b[0m in \u001b[0;36mendheaders\u001b[0;34m(self, message_body, encode_chunked)\u001b[0m\n\u001b[1;32m   1223\u001b[0m             \u001b[0;32mraise\u001b[0m \u001b[0mCannotSendHeader\u001b[0m\u001b[0;34m(\u001b[0m\u001b[0;34m)\u001b[0m\u001b[0;34m\u001b[0m\u001b[0;34m\u001b[0m\u001b[0m\n\u001b[0;32m-> 1224\u001b[0;31m         \u001b[0mself\u001b[0m\u001b[0;34m.\u001b[0m\u001b[0m_send_output\u001b[0m\u001b[0;34m(\u001b[0m\u001b[0mmessage_body\u001b[0m\u001b[0;34m,\u001b[0m \u001b[0mencode_chunked\u001b[0m\u001b[0;34m=\u001b[0m\u001b[0mencode_chunked\u001b[0m\u001b[0;34m)\u001b[0m\u001b[0;34m\u001b[0m\u001b[0;34m\u001b[0m\u001b[0m\n\u001b[0m\u001b[1;32m   1225\u001b[0m \u001b[0;34m\u001b[0m\u001b[0m\n",
      "\u001b[0;32m~/anaconda3/lib/python3.7/http/client.py\u001b[0m in \u001b[0;36m_send_output\u001b[0;34m(self, message_body, encode_chunked)\u001b[0m\n\u001b[1;32m   1015\u001b[0m         \u001b[0;32mdel\u001b[0m \u001b[0mself\u001b[0m\u001b[0;34m.\u001b[0m\u001b[0m_buffer\u001b[0m\u001b[0;34m[\u001b[0m\u001b[0;34m:\u001b[0m\u001b[0;34m]\u001b[0m\u001b[0;34m\u001b[0m\u001b[0;34m\u001b[0m\u001b[0m\n\u001b[0;32m-> 1016\u001b[0;31m         \u001b[0mself\u001b[0m\u001b[0;34m.\u001b[0m\u001b[0msend\u001b[0m\u001b[0;34m(\u001b[0m\u001b[0mmsg\u001b[0m\u001b[0;34m)\u001b[0m\u001b[0;34m\u001b[0m\u001b[0;34m\u001b[0m\u001b[0m\n\u001b[0m\u001b[1;32m   1017\u001b[0m \u001b[0;34m\u001b[0m\u001b[0m\n",
      "\u001b[0;32m~/anaconda3/lib/python3.7/http/client.py\u001b[0m in \u001b[0;36msend\u001b[0;34m(self, data)\u001b[0m\n\u001b[1;32m    955\u001b[0m             \u001b[0;32mif\u001b[0m \u001b[0mself\u001b[0m\u001b[0;34m.\u001b[0m\u001b[0mauto_open\u001b[0m\u001b[0;34m:\u001b[0m\u001b[0;34m\u001b[0m\u001b[0;34m\u001b[0m\u001b[0m\n\u001b[0;32m--> 956\u001b[0;31m                 \u001b[0mself\u001b[0m\u001b[0;34m.\u001b[0m\u001b[0mconnect\u001b[0m\u001b[0;34m(\u001b[0m\u001b[0;34m)\u001b[0m\u001b[0;34m\u001b[0m\u001b[0;34m\u001b[0m\u001b[0m\n\u001b[0m\u001b[1;32m    957\u001b[0m             \u001b[0;32melse\u001b[0m\u001b[0;34m:\u001b[0m\u001b[0;34m\u001b[0m\u001b[0;34m\u001b[0m\u001b[0m\n",
      "\u001b[0;32m~/anaconda3/lib/python3.7/site-packages/urllib3/connection.py\u001b[0m in \u001b[0;36mconnect\u001b[0;34m(self)\u001b[0m\n\u001b[1;32m    180\u001b[0m     \u001b[0;32mdef\u001b[0m \u001b[0mconnect\u001b[0m\u001b[0;34m(\u001b[0m\u001b[0mself\u001b[0m\u001b[0;34m)\u001b[0m\u001b[0;34m:\u001b[0m\u001b[0;34m\u001b[0m\u001b[0;34m\u001b[0m\u001b[0m\n\u001b[0;32m--> 181\u001b[0;31m         \u001b[0mconn\u001b[0m \u001b[0;34m=\u001b[0m \u001b[0mself\u001b[0m\u001b[0;34m.\u001b[0m\u001b[0m_new_conn\u001b[0m\u001b[0;34m(\u001b[0m\u001b[0;34m)\u001b[0m\u001b[0;34m\u001b[0m\u001b[0;34m\u001b[0m\u001b[0m\n\u001b[0m\u001b[1;32m    182\u001b[0m         \u001b[0mself\u001b[0m\u001b[0;34m.\u001b[0m\u001b[0m_prepare_conn\u001b[0m\u001b[0;34m(\u001b[0m\u001b[0mconn\u001b[0m\u001b[0;34m)\u001b[0m\u001b[0;34m\u001b[0m\u001b[0;34m\u001b[0m\u001b[0m\n",
      "\u001b[0;32m~/anaconda3/lib/python3.7/site-packages/urllib3/connection.py\u001b[0m in \u001b[0;36m_new_conn\u001b[0;34m(self)\u001b[0m\n\u001b[1;32m    167\u001b[0m             raise NewConnectionError(\n\u001b[0;32m--> 168\u001b[0;31m                 self, \"Failed to establish a new connection: %s\" % e)\n\u001b[0m\u001b[1;32m    169\u001b[0m \u001b[0;34m\u001b[0m\u001b[0m\n",
      "\u001b[0;31mNewConnectionError\u001b[0m: <urllib3.connection.HTTPConnection object at 0x1c327b2048>: Failed to establish a new connection: [Errno 61] Connection refused",
      "\nDuring handling of the above exception, another exception occurred:\n",
      "\u001b[0;31mMaxRetryError\u001b[0m                             Traceback (most recent call last)",
      "\u001b[0;32m~/anaconda3/lib/python3.7/site-packages/requests/adapters.py\u001b[0m in \u001b[0;36msend\u001b[0;34m(self, request, stream, timeout, verify, cert, proxies)\u001b[0m\n\u001b[1;32m    448\u001b[0m                     \u001b[0mretries\u001b[0m\u001b[0;34m=\u001b[0m\u001b[0mself\u001b[0m\u001b[0;34m.\u001b[0m\u001b[0mmax_retries\u001b[0m\u001b[0;34m,\u001b[0m\u001b[0;34m\u001b[0m\u001b[0;34m\u001b[0m\u001b[0m\n\u001b[0;32m--> 449\u001b[0;31m                     \u001b[0mtimeout\u001b[0m\u001b[0;34m=\u001b[0m\u001b[0mtimeout\u001b[0m\u001b[0;34m\u001b[0m\u001b[0;34m\u001b[0m\u001b[0m\n\u001b[0m\u001b[1;32m    450\u001b[0m                 )\n",
      "\u001b[0;32m~/anaconda3/lib/python3.7/site-packages/urllib3/connectionpool.py\u001b[0m in \u001b[0;36murlopen\u001b[0;34m(self, method, url, body, headers, retries, redirect, assert_same_host, timeout, pool_timeout, release_conn, chunked, body_pos, **response_kw)\u001b[0m\n\u001b[1;32m    637\u001b[0m             retries = retries.increment(method, url, error=e, _pool=self,\n\u001b[0;32m--> 638\u001b[0;31m                                         _stacktrace=sys.exc_info()[2])\n\u001b[0m\u001b[1;32m    639\u001b[0m             \u001b[0mretries\u001b[0m\u001b[0;34m.\u001b[0m\u001b[0msleep\u001b[0m\u001b[0;34m(\u001b[0m\u001b[0;34m)\u001b[0m\u001b[0;34m\u001b[0m\u001b[0;34m\u001b[0m\u001b[0m\n",
      "\u001b[0;32m~/anaconda3/lib/python3.7/site-packages/urllib3/util/retry.py\u001b[0m in \u001b[0;36mincrement\u001b[0;34m(self, method, url, response, error, _pool, _stacktrace)\u001b[0m\n\u001b[1;32m    398\u001b[0m         \u001b[0;32mif\u001b[0m \u001b[0mnew_retry\u001b[0m\u001b[0;34m.\u001b[0m\u001b[0mis_exhausted\u001b[0m\u001b[0;34m(\u001b[0m\u001b[0;34m)\u001b[0m\u001b[0;34m:\u001b[0m\u001b[0;34m\u001b[0m\u001b[0;34m\u001b[0m\u001b[0m\n\u001b[0;32m--> 399\u001b[0;31m             \u001b[0;32mraise\u001b[0m \u001b[0mMaxRetryError\u001b[0m\u001b[0;34m(\u001b[0m\u001b[0m_pool\u001b[0m\u001b[0;34m,\u001b[0m \u001b[0murl\u001b[0m\u001b[0;34m,\u001b[0m \u001b[0merror\u001b[0m \u001b[0;32mor\u001b[0m \u001b[0mResponseError\u001b[0m\u001b[0;34m(\u001b[0m\u001b[0mcause\u001b[0m\u001b[0;34m)\u001b[0m\u001b[0;34m)\u001b[0m\u001b[0;34m\u001b[0m\u001b[0;34m\u001b[0m\u001b[0m\n\u001b[0m\u001b[1;32m    400\u001b[0m \u001b[0;34m\u001b[0m\u001b[0m\n",
      "\u001b[0;31mMaxRetryError\u001b[0m: HTTPConnectionPool(host='localhost', port=61483): Max retries exceeded with url: / (Caused by NewConnectionError('<urllib3.connection.HTTPConnection object at 0x1c327b2048>: Failed to establish a new connection: [Errno 61] Connection refused'))",
      "\nDuring handling of the above exception, another exception occurred:\n",
      "\u001b[0;31mConnectionError\u001b[0m                           Traceback (most recent call last)",
      "\u001b[0;32m~/anaconda3/lib/python3.7/site-packages/plotly/io/_orca.py\u001b[0m in \u001b[0;36mto_image\u001b[0;34m(fig, format, width, height, scale, validate)\u001b[0m\n\u001b[1;32m   1508\u001b[0m         response = request_image_with_retrying(\n\u001b[0;32m-> 1509\u001b[0;31m             \u001b[0mfigure\u001b[0m\u001b[0;34m=\u001b[0m\u001b[0mfig_dict\u001b[0m\u001b[0;34m,\u001b[0m \u001b[0mformat\u001b[0m\u001b[0;34m=\u001b[0m\u001b[0mformat\u001b[0m\u001b[0;34m,\u001b[0m \u001b[0mscale\u001b[0m\u001b[0;34m=\u001b[0m\u001b[0mscale\u001b[0m\u001b[0;34m,\u001b[0m \u001b[0mwidth\u001b[0m\u001b[0;34m=\u001b[0m\u001b[0mwidth\u001b[0m\u001b[0;34m,\u001b[0m \u001b[0mheight\u001b[0m\u001b[0;34m=\u001b[0m\u001b[0mheight\u001b[0m\u001b[0;34m\u001b[0m\u001b[0;34m\u001b[0m\u001b[0m\n\u001b[0m\u001b[1;32m   1510\u001b[0m         )\n",
      "\u001b[0;32m~/anaconda3/lib/python3.7/site-packages/retrying.py\u001b[0m in \u001b[0;36mwrapped_f\u001b[0;34m(*args, **kw)\u001b[0m\n\u001b[1;32m     48\u001b[0m             \u001b[0;32mdef\u001b[0m \u001b[0mwrapped_f\u001b[0m\u001b[0;34m(\u001b[0m\u001b[0;34m*\u001b[0m\u001b[0margs\u001b[0m\u001b[0;34m,\u001b[0m \u001b[0;34m**\u001b[0m\u001b[0mkw\u001b[0m\u001b[0;34m)\u001b[0m\u001b[0;34m:\u001b[0m\u001b[0;34m\u001b[0m\u001b[0;34m\u001b[0m\u001b[0m\n\u001b[0;32m---> 49\u001b[0;31m                 \u001b[0;32mreturn\u001b[0m \u001b[0mRetrying\u001b[0m\u001b[0;34m(\u001b[0m\u001b[0;34m*\u001b[0m\u001b[0mdargs\u001b[0m\u001b[0;34m,\u001b[0m \u001b[0;34m**\u001b[0m\u001b[0mdkw\u001b[0m\u001b[0;34m)\u001b[0m\u001b[0;34m.\u001b[0m\u001b[0mcall\u001b[0m\u001b[0;34m(\u001b[0m\u001b[0mf\u001b[0m\u001b[0;34m,\u001b[0m \u001b[0;34m*\u001b[0m\u001b[0margs\u001b[0m\u001b[0;34m,\u001b[0m \u001b[0;34m**\u001b[0m\u001b[0mkw\u001b[0m\u001b[0;34m)\u001b[0m\u001b[0;34m\u001b[0m\u001b[0;34m\u001b[0m\u001b[0m\n\u001b[0m\u001b[1;32m     50\u001b[0m \u001b[0;34m\u001b[0m\u001b[0m\n",
      "\u001b[0;32m~/anaconda3/lib/python3.7/site-packages/retrying.py\u001b[0m in \u001b[0;36mcall\u001b[0;34m(self, fn, *args, **kwargs)\u001b[0m\n\u001b[1;32m    211\u001b[0m                     \u001b[0;31m# get() on an attempt with an exception should cause it to be raised, but raise just in case\u001b[0m\u001b[0;34m\u001b[0m\u001b[0;34m\u001b[0m\u001b[0;34m\u001b[0m\u001b[0m\n\u001b[0;32m--> 212\u001b[0;31m                     \u001b[0;32mraise\u001b[0m \u001b[0mattempt\u001b[0m\u001b[0;34m.\u001b[0m\u001b[0mget\u001b[0m\u001b[0;34m(\u001b[0m\u001b[0;34m)\u001b[0m\u001b[0;34m\u001b[0m\u001b[0;34m\u001b[0m\u001b[0m\n\u001b[0m\u001b[1;32m    213\u001b[0m                 \u001b[0;32melse\u001b[0m\u001b[0;34m:\u001b[0m\u001b[0;34m\u001b[0m\u001b[0;34m\u001b[0m\u001b[0m\n",
      "\u001b[0;32m~/anaconda3/lib/python3.7/site-packages/retrying.py\u001b[0m in \u001b[0;36mget\u001b[0;34m(self, wrap_exception)\u001b[0m\n\u001b[1;32m    246\u001b[0m             \u001b[0;32melse\u001b[0m\u001b[0;34m:\u001b[0m\u001b[0;34m\u001b[0m\u001b[0;34m\u001b[0m\u001b[0m\n\u001b[0;32m--> 247\u001b[0;31m                 \u001b[0msix\u001b[0m\u001b[0;34m.\u001b[0m\u001b[0mreraise\u001b[0m\u001b[0;34m(\u001b[0m\u001b[0mself\u001b[0m\u001b[0;34m.\u001b[0m\u001b[0mvalue\u001b[0m\u001b[0;34m[\u001b[0m\u001b[0;36m0\u001b[0m\u001b[0;34m]\u001b[0m\u001b[0;34m,\u001b[0m \u001b[0mself\u001b[0m\u001b[0;34m.\u001b[0m\u001b[0mvalue\u001b[0m\u001b[0;34m[\u001b[0m\u001b[0;36m1\u001b[0m\u001b[0;34m]\u001b[0m\u001b[0;34m,\u001b[0m \u001b[0mself\u001b[0m\u001b[0;34m.\u001b[0m\u001b[0mvalue\u001b[0m\u001b[0;34m[\u001b[0m\u001b[0;36m2\u001b[0m\u001b[0;34m]\u001b[0m\u001b[0;34m)\u001b[0m\u001b[0;34m\u001b[0m\u001b[0;34m\u001b[0m\u001b[0m\n\u001b[0m\u001b[1;32m    248\u001b[0m         \u001b[0;32melse\u001b[0m\u001b[0;34m:\u001b[0m\u001b[0;34m\u001b[0m\u001b[0;34m\u001b[0m\u001b[0m\n",
      "\u001b[0;32m~/anaconda3/lib/python3.7/site-packages/six.py\u001b[0m in \u001b[0;36mreraise\u001b[0;34m(tp, value, tb)\u001b[0m\n\u001b[1;32m    692\u001b[0m                 \u001b[0;32mraise\u001b[0m \u001b[0mvalue\u001b[0m\u001b[0;34m.\u001b[0m\u001b[0mwith_traceback\u001b[0m\u001b[0;34m(\u001b[0m\u001b[0mtb\u001b[0m\u001b[0;34m)\u001b[0m\u001b[0;34m\u001b[0m\u001b[0;34m\u001b[0m\u001b[0m\n\u001b[0;32m--> 693\u001b[0;31m             \u001b[0;32mraise\u001b[0m \u001b[0mvalue\u001b[0m\u001b[0;34m\u001b[0m\u001b[0;34m\u001b[0m\u001b[0m\n\u001b[0m\u001b[1;32m    694\u001b[0m         \u001b[0;32mfinally\u001b[0m\u001b[0;34m:\u001b[0m\u001b[0;34m\u001b[0m\u001b[0;34m\u001b[0m\u001b[0m\n",
      "\u001b[0;32m~/anaconda3/lib/python3.7/site-packages/retrying.py\u001b[0m in \u001b[0;36mcall\u001b[0;34m(self, fn, *args, **kwargs)\u001b[0m\n\u001b[1;32m    199\u001b[0m             \u001b[0;32mtry\u001b[0m\u001b[0;34m:\u001b[0m\u001b[0;34m\u001b[0m\u001b[0;34m\u001b[0m\u001b[0m\n\u001b[0;32m--> 200\u001b[0;31m                 \u001b[0mattempt\u001b[0m \u001b[0;34m=\u001b[0m \u001b[0mAttempt\u001b[0m\u001b[0;34m(\u001b[0m\u001b[0mfn\u001b[0m\u001b[0;34m(\u001b[0m\u001b[0;34m*\u001b[0m\u001b[0margs\u001b[0m\u001b[0;34m,\u001b[0m \u001b[0;34m**\u001b[0m\u001b[0mkwargs\u001b[0m\u001b[0;34m)\u001b[0m\u001b[0;34m,\u001b[0m \u001b[0mattempt_number\u001b[0m\u001b[0;34m,\u001b[0m \u001b[0;32mFalse\u001b[0m\u001b[0;34m)\u001b[0m\u001b[0;34m\u001b[0m\u001b[0;34m\u001b[0m\u001b[0m\n\u001b[0m\u001b[1;32m    201\u001b[0m             \u001b[0;32mexcept\u001b[0m\u001b[0;34m:\u001b[0m\u001b[0;34m\u001b[0m\u001b[0;34m\u001b[0m\u001b[0m\n",
      "\u001b[0;32m~/anaconda3/lib/python3.7/site-packages/plotly/io/_orca.py\u001b[0m in \u001b[0;36mrequest_image_with_retrying\u001b[0;34m(**kwargs)\u001b[0m\n\u001b[1;32m   1417\u001b[0m     \u001b[0mjson_str\u001b[0m \u001b[0;34m=\u001b[0m \u001b[0mjson\u001b[0m\u001b[0;34m.\u001b[0m\u001b[0mdumps\u001b[0m\u001b[0;34m(\u001b[0m\u001b[0mrequest_params\u001b[0m\u001b[0;34m,\u001b[0m \u001b[0mcls\u001b[0m\u001b[0;34m=\u001b[0m\u001b[0m_plotly_utils\u001b[0m\u001b[0;34m.\u001b[0m\u001b[0mutils\u001b[0m\u001b[0;34m.\u001b[0m\u001b[0mPlotlyJSONEncoder\u001b[0m\u001b[0;34m)\u001b[0m\u001b[0;34m\u001b[0m\u001b[0;34m\u001b[0m\u001b[0m\n\u001b[0;32m-> 1418\u001b[0;31m     \u001b[0mresponse\u001b[0m \u001b[0;34m=\u001b[0m \u001b[0mpost\u001b[0m\u001b[0;34m(\u001b[0m\u001b[0mserver_url\u001b[0m \u001b[0;34m+\u001b[0m \u001b[0;34m\"/\"\u001b[0m\u001b[0;34m,\u001b[0m \u001b[0mdata\u001b[0m\u001b[0;34m=\u001b[0m\u001b[0mjson_str\u001b[0m\u001b[0;34m)\u001b[0m\u001b[0;34m\u001b[0m\u001b[0;34m\u001b[0m\u001b[0m\n\u001b[0m\u001b[1;32m   1419\u001b[0m \u001b[0;34m\u001b[0m\u001b[0m\n",
      "\u001b[0;32m~/anaconda3/lib/python3.7/site-packages/requests/api.py\u001b[0m in \u001b[0;36mpost\u001b[0;34m(url, data, json, **kwargs)\u001b[0m\n\u001b[1;32m    115\u001b[0m \u001b[0;34m\u001b[0m\u001b[0m\n\u001b[0;32m--> 116\u001b[0;31m     \u001b[0;32mreturn\u001b[0m \u001b[0mrequest\u001b[0m\u001b[0;34m(\u001b[0m\u001b[0;34m'post'\u001b[0m\u001b[0;34m,\u001b[0m \u001b[0murl\u001b[0m\u001b[0;34m,\u001b[0m \u001b[0mdata\u001b[0m\u001b[0;34m=\u001b[0m\u001b[0mdata\u001b[0m\u001b[0;34m,\u001b[0m \u001b[0mjson\u001b[0m\u001b[0;34m=\u001b[0m\u001b[0mjson\u001b[0m\u001b[0;34m,\u001b[0m \u001b[0;34m**\u001b[0m\u001b[0mkwargs\u001b[0m\u001b[0;34m)\u001b[0m\u001b[0;34m\u001b[0m\u001b[0;34m\u001b[0m\u001b[0m\n\u001b[0m\u001b[1;32m    117\u001b[0m \u001b[0;34m\u001b[0m\u001b[0m\n",
      "\u001b[0;32m~/anaconda3/lib/python3.7/site-packages/requests/api.py\u001b[0m in \u001b[0;36mrequest\u001b[0;34m(method, url, **kwargs)\u001b[0m\n\u001b[1;32m     59\u001b[0m     \u001b[0;32mwith\u001b[0m \u001b[0msessions\u001b[0m\u001b[0;34m.\u001b[0m\u001b[0mSession\u001b[0m\u001b[0;34m(\u001b[0m\u001b[0;34m)\u001b[0m \u001b[0;32mas\u001b[0m \u001b[0msession\u001b[0m\u001b[0;34m:\u001b[0m\u001b[0;34m\u001b[0m\u001b[0;34m\u001b[0m\u001b[0m\n\u001b[0;32m---> 60\u001b[0;31m         \u001b[0;32mreturn\u001b[0m \u001b[0msession\u001b[0m\u001b[0;34m.\u001b[0m\u001b[0mrequest\u001b[0m\u001b[0;34m(\u001b[0m\u001b[0mmethod\u001b[0m\u001b[0;34m=\u001b[0m\u001b[0mmethod\u001b[0m\u001b[0;34m,\u001b[0m \u001b[0murl\u001b[0m\u001b[0;34m=\u001b[0m\u001b[0murl\u001b[0m\u001b[0;34m,\u001b[0m \u001b[0;34m**\u001b[0m\u001b[0mkwargs\u001b[0m\u001b[0;34m)\u001b[0m\u001b[0;34m\u001b[0m\u001b[0;34m\u001b[0m\u001b[0m\n\u001b[0m\u001b[1;32m     61\u001b[0m \u001b[0;34m\u001b[0m\u001b[0m\n",
      "\u001b[0;32m~/anaconda3/lib/python3.7/site-packages/requests/sessions.py\u001b[0m in \u001b[0;36mrequest\u001b[0;34m(self, method, url, params, data, headers, cookies, files, auth, timeout, allow_redirects, proxies, hooks, stream, verify, cert, json)\u001b[0m\n\u001b[1;32m    532\u001b[0m         \u001b[0msend_kwargs\u001b[0m\u001b[0;34m.\u001b[0m\u001b[0mupdate\u001b[0m\u001b[0;34m(\u001b[0m\u001b[0msettings\u001b[0m\u001b[0;34m)\u001b[0m\u001b[0;34m\u001b[0m\u001b[0;34m\u001b[0m\u001b[0m\n\u001b[0;32m--> 533\u001b[0;31m         \u001b[0mresp\u001b[0m \u001b[0;34m=\u001b[0m \u001b[0mself\u001b[0m\u001b[0;34m.\u001b[0m\u001b[0msend\u001b[0m\u001b[0;34m(\u001b[0m\u001b[0mprep\u001b[0m\u001b[0;34m,\u001b[0m \u001b[0;34m**\u001b[0m\u001b[0msend_kwargs\u001b[0m\u001b[0;34m)\u001b[0m\u001b[0;34m\u001b[0m\u001b[0;34m\u001b[0m\u001b[0m\n\u001b[0m\u001b[1;32m    534\u001b[0m \u001b[0;34m\u001b[0m\u001b[0m\n",
      "\u001b[0;32m~/anaconda3/lib/python3.7/site-packages/requests/sessions.py\u001b[0m in \u001b[0;36msend\u001b[0;34m(self, request, **kwargs)\u001b[0m\n\u001b[1;32m    645\u001b[0m         \u001b[0;31m# Send the request\u001b[0m\u001b[0;34m\u001b[0m\u001b[0;34m\u001b[0m\u001b[0;34m\u001b[0m\u001b[0m\n\u001b[0;32m--> 646\u001b[0;31m         \u001b[0mr\u001b[0m \u001b[0;34m=\u001b[0m \u001b[0madapter\u001b[0m\u001b[0;34m.\u001b[0m\u001b[0msend\u001b[0m\u001b[0;34m(\u001b[0m\u001b[0mrequest\u001b[0m\u001b[0;34m,\u001b[0m \u001b[0;34m**\u001b[0m\u001b[0mkwargs\u001b[0m\u001b[0;34m)\u001b[0m\u001b[0;34m\u001b[0m\u001b[0;34m\u001b[0m\u001b[0m\n\u001b[0m\u001b[1;32m    647\u001b[0m \u001b[0;34m\u001b[0m\u001b[0m\n",
      "\u001b[0;32m~/anaconda3/lib/python3.7/site-packages/requests/adapters.py\u001b[0m in \u001b[0;36msend\u001b[0;34m(self, request, stream, timeout, verify, cert, proxies)\u001b[0m\n\u001b[1;32m    515\u001b[0m \u001b[0;34m\u001b[0m\u001b[0m\n\u001b[0;32m--> 516\u001b[0;31m             \u001b[0;32mraise\u001b[0m \u001b[0mConnectionError\u001b[0m\u001b[0;34m(\u001b[0m\u001b[0me\u001b[0m\u001b[0;34m,\u001b[0m \u001b[0mrequest\u001b[0m\u001b[0;34m=\u001b[0m\u001b[0mrequest\u001b[0m\u001b[0;34m)\u001b[0m\u001b[0;34m\u001b[0m\u001b[0;34m\u001b[0m\u001b[0m\n\u001b[0m\u001b[1;32m    517\u001b[0m \u001b[0;34m\u001b[0m\u001b[0m\n",
      "\u001b[0;31mConnectionError\u001b[0m: HTTPConnectionPool(host='localhost', port=61483): Max retries exceeded with url: / (Caused by NewConnectionError('<urllib3.connection.HTTPConnection object at 0x1c327b2048>: Failed to establish a new connection: [Errno 61] Connection refused'))",
      "\nDuring handling of the above exception, another exception occurred:\n",
      "\u001b[0;31mValueError\u001b[0m                                Traceback (most recent call last)",
      "\u001b[0;32m<ipython-input-98-dd1f3502cc28>\u001b[0m in \u001b[0;36m<module>\u001b[0;34m\u001b[0m\n\u001b[1;32m     34\u001b[0m     \u001b[0mfilename\u001b[0m \u001b[0;34m=\u001b[0m \u001b[0mfilename\u001b[0m\u001b[0;34m.\u001b[0m\u001b[0mreplace\u001b[0m\u001b[0;34m(\u001b[0m\u001b[0;34m\" \"\u001b[0m\u001b[0;34m,\u001b[0m \u001b[0;34m\"_\"\u001b[0m\u001b[0;34m)\u001b[0m\u001b[0;34m\u001b[0m\u001b[0;34m\u001b[0m\u001b[0m\n\u001b[1;32m     35\u001b[0m     \u001b[0mfilename\u001b[0m \u001b[0;34m=\u001b[0m \u001b[0mos\u001b[0m\u001b[0;34m.\u001b[0m\u001b[0mpath\u001b[0m\u001b[0;34m.\u001b[0m\u001b[0mjoin\u001b[0m\u001b[0;34m(\u001b[0m\u001b[0moutput_images_dir\u001b[0m\u001b[0;34m,\u001b[0m \u001b[0mfilename\u001b[0m\u001b[0;34m)\u001b[0m\u001b[0;34m\u001b[0m\u001b[0;34m\u001b[0m\u001b[0m\n\u001b[0;32m---> 36\u001b[0;31m     \u001b[0mfig\u001b[0m\u001b[0;34m.\u001b[0m\u001b[0mwrite_image\u001b[0m\u001b[0;34m(\u001b[0m\u001b[0mfilename\u001b[0m\u001b[0;34m)\u001b[0m\u001b[0;34m\u001b[0m\u001b[0;34m\u001b[0m\u001b[0m\n\u001b[0m\u001b[1;32m     37\u001b[0m \u001b[0;34m\u001b[0m\u001b[0m\n",
      "\u001b[0;32m~/anaconda3/lib/python3.7/site-packages/plotly/basedatatypes.py\u001b[0m in \u001b[0;36mwrite_image\u001b[0;34m(self, *args, **kwargs)\u001b[0m\n\u001b[1;32m   2815\u001b[0m         \u001b[0;32mimport\u001b[0m \u001b[0mplotly\u001b[0m\u001b[0;34m.\u001b[0m\u001b[0mio\u001b[0m \u001b[0;32mas\u001b[0m \u001b[0mpio\u001b[0m\u001b[0;34m\u001b[0m\u001b[0;34m\u001b[0m\u001b[0m\n\u001b[1;32m   2816\u001b[0m \u001b[0;34m\u001b[0m\u001b[0m\n\u001b[0;32m-> 2817\u001b[0;31m         \u001b[0;32mreturn\u001b[0m \u001b[0mpio\u001b[0m\u001b[0;34m.\u001b[0m\u001b[0mwrite_image\u001b[0m\u001b[0;34m(\u001b[0m\u001b[0mself\u001b[0m\u001b[0;34m,\u001b[0m \u001b[0;34m*\u001b[0m\u001b[0margs\u001b[0m\u001b[0;34m,\u001b[0m \u001b[0;34m**\u001b[0m\u001b[0mkwargs\u001b[0m\u001b[0;34m)\u001b[0m\u001b[0;34m\u001b[0m\u001b[0;34m\u001b[0m\u001b[0m\n\u001b[0m\u001b[1;32m   2818\u001b[0m \u001b[0;34m\u001b[0m\u001b[0m\n\u001b[1;32m   2819\u001b[0m     \u001b[0;31m# Static helpers\u001b[0m\u001b[0;34m\u001b[0m\u001b[0;34m\u001b[0m\u001b[0;34m\u001b[0m\u001b[0m\n",
      "\u001b[0;32m~/anaconda3/lib/python3.7/site-packages/plotly/io/_orca.py\u001b[0m in \u001b[0;36mwrite_image\u001b[0;34m(fig, file, format, scale, width, height, validate)\u001b[0m\n\u001b[1;32m   1703\u001b[0m     \u001b[0;31m# Do this first so we don't create a file if image conversion fails\u001b[0m\u001b[0;34m\u001b[0m\u001b[0;34m\u001b[0m\u001b[0;34m\u001b[0m\u001b[0m\n\u001b[1;32m   1704\u001b[0m     img_data = to_image(\n\u001b[0;32m-> 1705\u001b[0;31m         \u001b[0mfig\u001b[0m\u001b[0;34m,\u001b[0m \u001b[0mformat\u001b[0m\u001b[0;34m=\u001b[0m\u001b[0mformat\u001b[0m\u001b[0;34m,\u001b[0m \u001b[0mscale\u001b[0m\u001b[0;34m=\u001b[0m\u001b[0mscale\u001b[0m\u001b[0;34m,\u001b[0m \u001b[0mwidth\u001b[0m\u001b[0;34m=\u001b[0m\u001b[0mwidth\u001b[0m\u001b[0;34m,\u001b[0m \u001b[0mheight\u001b[0m\u001b[0;34m=\u001b[0m\u001b[0mheight\u001b[0m\u001b[0;34m,\u001b[0m \u001b[0mvalidate\u001b[0m\u001b[0;34m=\u001b[0m\u001b[0mvalidate\u001b[0m\u001b[0;34m\u001b[0m\u001b[0;34m\u001b[0m\u001b[0m\n\u001b[0m\u001b[1;32m   1706\u001b[0m     )\n\u001b[1;32m   1707\u001b[0m \u001b[0;34m\u001b[0m\u001b[0m\n",
      "\u001b[0;32m~/anaconda3/lib/python3.7/site-packages/plotly/io/_orca.py\u001b[0m in \u001b[0;36mto_image\u001b[0;34m(fig, format, width, height, scale, validate)\u001b[0m\n\u001b[1;32m   1527\u001b[0m \u001b[0;34m{\u001b[0m\u001b[0minfo\u001b[0m\u001b[0;34m}\u001b[0m\u001b[0;34m\u001b[0m\u001b[0;34m\u001b[0m\u001b[0m\n\u001b[1;32m   1528\u001b[0m \"\"\".format(\n\u001b[0;32m-> 1529\u001b[0;31m                     \u001b[0minfo\u001b[0m\u001b[0;34m=\u001b[0m\u001b[0mstatus_str\u001b[0m\u001b[0;34m\u001b[0m\u001b[0;34m\u001b[0m\u001b[0m\n\u001b[0m\u001b[1;32m   1530\u001b[0m                 )\n\u001b[1;32m   1531\u001b[0m             )\n",
      "\u001b[0;31mValueError\u001b[0m: \nFor some reason plotly.py was unable to communicate with the\nlocal orca server process, even though the server process seems to be running.\n\nPlease review the process and connection information below:\n\norca status\n-----------\n    state: running\n    executable: /Users/groutm/anaconda3/bin/orca\n    version: 1.2.1\n    port: 61483\n    pid: 16680\n    command: ['/Users/groutm/anaconda3/bin/orca', 'serve', '-p', '61483', '--plotly', '/Users/groutm/anaconda3/lib/python3.7/site-packages/plotly/package_data/plotly.min.js', '--graph-only', '--mathjax', 'https://cdnjs.cloudflare.com/ajax/libs/mathjax/2.7.5/MathJax.js']\n\n\n"
     ]
    }
   ],
   "source": [
    "# Plot one XY map for each sample, where each cluster is a different color\n",
    "\n",
    "# iterate through all samples\n",
    "for sample in ls_samples:\n",
    "    location_colors = df.loc[df['Sample_ID'] == sample,['Nuc_X_Inv','Nuc_Y_Inv','cluster']]\n",
    "\n",
    "    fig = go.Figure()\n",
    "    \n",
    "    title = sample\n",
    "    \n",
    "    # Iterate through all unique cluster values assocaited with this sample\n",
    "    # Not every cluster may be present in every sample\n",
    "    for cluster in sorted(df.loc[df['Sample_ID'] == sample,'cluster'].unique()):\n",
    "        fig.add_scatter(\n",
    "            mode = 'markers',\n",
    "            marker=dict(\n",
    "                size=5, opacity=0.4, # size is dot size, higher opacity = less opaque\n",
    "                color='rgb' + str(cluster_color_dict[cluster])#,\n",
    "                #line = dict(width = 2, color = 'gray') # line around each marker\n",
    "            ),\n",
    "        x = location_colors.loc[location_colors['cluster']==cluster,'Nuc_X_Inv'],\n",
    "        y = location_colors.loc[location_colors['cluster']==cluster,'Nuc_Y_Inv'],\n",
    "        name = \"Cluster \" + str(cluster))\n",
    "\n",
    "\n",
    "    fig.update_layout(title = title, plot_bgcolor = 'white', showlegend = True,\n",
    "                     legend= {'itemsizing': 'constant'}) # make the legend dots a bit bigger\n",
    "    fig.update_xaxes(title_text = 'Nuc_X_Inv', linecolor = 'black')\n",
    "    fig.update_yaxes(title_text = 'Nuc_Y_Inv', linecolor = 'black')\n",
    "\n",
    "\n",
    "    #plot(fig)\n",
    "    filename = sample + \" KMeans XY Map with \" + str(n_clusters) + \" clusters.png\"\n",
    "    filename = filename.replace(\" \", \"_\")\n",
    "    filename = os.path.join(output_images_dir, filename)\n",
    "    fig.write_image(filename)\n",
    "\n"
   ]
  },
  {
   "cell_type": "markdown",
   "metadata": {},
   "source": [
    "### Bar plots"
   ]
  },
  {
   "cell_type": "markdown",
   "metadata": {},
   "source": [
    "#### Bar plot - counts of cells in each cluster"
   ]
  },
  {
   "cell_type": "code",
   "execution_count": 88,
   "metadata": {},
   "outputs": [
    {
     "data": {
      "text/html": [
       "<div>\n",
       "<style scoped>\n",
       "    .dataframe tbody tr th:only-of-type {\n",
       "        vertical-align: middle;\n",
       "    }\n",
       "\n",
       "    .dataframe tbody tr th {\n",
       "        vertical-align: top;\n",
       "    }\n",
       "\n",
       "    .dataframe thead th {\n",
       "        text-align: right;\n",
       "    }\n",
       "</style>\n",
       "<table border=\"1\" class=\"dataframe\">\n",
       "  <thead>\n",
       "    <tr style=\"text-align: right;\">\n",
       "      <th></th>\n",
       "      <th>clusternum</th>\n",
       "      <th>clustername</th>\n",
       "      <th>clustername_full</th>\n",
       "      <th>count</th>\n",
       "    </tr>\n",
       "  </thead>\n",
       "  <tbody>\n",
       "    <tr>\n",
       "      <th>0</th>\n",
       "      <td>1</td>\n",
       "      <td>Cl 1</td>\n",
       "      <td>Cluster 1</td>\n",
       "      <td>42647</td>\n",
       "    </tr>\n",
       "    <tr>\n",
       "      <th>1</th>\n",
       "      <td>2</td>\n",
       "      <td>Cl 2</td>\n",
       "      <td>Cluster 2</td>\n",
       "      <td>72611</td>\n",
       "    </tr>\n",
       "    <tr>\n",
       "      <th>2</th>\n",
       "      <td>3</td>\n",
       "      <td>Cl 3</td>\n",
       "      <td>Cluster 3</td>\n",
       "      <td>257656</td>\n",
       "    </tr>\n",
       "    <tr>\n",
       "      <th>3</th>\n",
       "      <td>4</td>\n",
       "      <td>Cl 4</td>\n",
       "      <td>Cluster 4</td>\n",
       "      <td>124267</td>\n",
       "    </tr>\n",
       "    <tr>\n",
       "      <th>4</th>\n",
       "      <td>5</td>\n",
       "      <td>Cl 5</td>\n",
       "      <td>Cluster 5</td>\n",
       "      <td>48609</td>\n",
       "    </tr>\n",
       "  </tbody>\n",
       "</table>\n",
       "</div>"
      ],
      "text/plain": [
       "  clusternum clustername clustername_full   count\n",
       "0          1        Cl 1        Cluster 1   42647\n",
       "1          2        Cl 2        Cluster 2   72611\n",
       "2          3        Cl 3        Cluster 3  257656\n",
       "3          4        Cl 4        Cluster 4  124267\n",
       "4          5        Cl 5        Cluster 5   48609"
      ]
     },
     "execution_count": 88,
     "metadata": {},
     "output_type": "execute_result"
    }
   ],
   "source": [
    "cluster_counts = pd.DataFrame(columns = ['clusternum','clustername','clustername_full','count'])\n",
    "\n",
    "df.loc[df['cluster'] == 1,:].shape[0]\n",
    "\n",
    "for c in range(1,n_clusters+1):\n",
    "    cluster_counts = cluster_counts.append(pd.DataFrame(\n",
    "        {'clusternum':[c],\n",
    "         'clustername':['Cl ' + str(c)],\n",
    "         'clustername_full':['Cluster ' + str(c)],\n",
    "         'count':[df.loc[df['cluster'] == c,:].shape[0]]}))\n",
    "    \n",
    "    \n",
    "cluster_counts.index = range(cluster_counts.shape[0])\n",
    "\n",
    "cluster_counts.head()"
   ]
  },
  {
   "cell_type": "code",
   "execution_count": 89,
   "metadata": {},
   "outputs": [],
   "source": [
    "# By Cluster only\n",
    "\n",
    "fig = go.Figure()\n",
    "title = 'KMeans cluster cell counts'\n",
    "\n",
    "for c in sorted(df.cluster.unique()):\n",
    "    fig.add_trace(go.Bar(\n",
    "        x=cluster_counts.loc[cluster_counts['clusternum']==c,'clustername'], \n",
    "        y = cluster_counts.loc[cluster_counts['clusternum']==c,'count'],\n",
    "        text = cluster_counts.loc[cluster_counts['clusternum']==c,'count'], textposition= 'outside',\n",
    "        marker=dict(\n",
    "            color='rgb' + str(cluster_color_dict[c])),\n",
    "            showlegend = False\n",
    "        \n",
    "    ))\n",
    "fig.update_layout(title = title, plot_bgcolor = 'white')\n",
    "fig.update_xaxes(linecolor = 'black')\n",
    "fig.update_yaxes(title_text = \"Cells\", linecolor = 'black')\n",
    "#plot(fig)\n",
    "\n",
    "filename = title.replace(\" \",\"_\") + \".png\"\n",
    "filename = os.path.join(output_images_dir, filename)\n",
    "fig.write_image(filename)\n"
   ]
  },
  {
   "cell_type": "markdown",
   "metadata": {},
   "source": [
    "#### Bar plot - Proportional and count breakdowns of tissue type within each cluster"
   ]
  },
  {
   "cell_type": "code",
   "execution_count": 90,
   "metadata": {},
   "outputs": [
    {
     "data": {
      "text/html": [
       "<div>\n",
       "<style scoped>\n",
       "    .dataframe tbody tr th:only-of-type {\n",
       "        vertical-align: middle;\n",
       "    }\n",
       "\n",
       "    .dataframe tbody tr th {\n",
       "        vertical-align: top;\n",
       "    }\n",
       "\n",
       "    .dataframe thead th {\n",
       "        text-align: right;\n",
       "    }\n",
       "</style>\n",
       "<table border=\"1\" class=\"dataframe\">\n",
       "  <thead>\n",
       "    <tr style=\"text-align: right;\">\n",
       "      <th></th>\n",
       "      <th>clusternum</th>\n",
       "      <th>clustername</th>\n",
       "      <th>clustername_full</th>\n",
       "      <th>count</th>\n",
       "    </tr>\n",
       "  </thead>\n",
       "  <tbody>\n",
       "    <tr>\n",
       "      <th>0</th>\n",
       "      <td>1</td>\n",
       "      <td>Cl 1</td>\n",
       "      <td>Cluster 1</td>\n",
       "      <td>42647</td>\n",
       "    </tr>\n",
       "    <tr>\n",
       "      <th>1</th>\n",
       "      <td>2</td>\n",
       "      <td>Cl 2</td>\n",
       "      <td>Cluster 2</td>\n",
       "      <td>72611</td>\n",
       "    </tr>\n",
       "    <tr>\n",
       "      <th>2</th>\n",
       "      <td>3</td>\n",
       "      <td>Cl 3</td>\n",
       "      <td>Cluster 3</td>\n",
       "      <td>257656</td>\n",
       "    </tr>\n",
       "    <tr>\n",
       "      <th>3</th>\n",
       "      <td>4</td>\n",
       "      <td>Cl 4</td>\n",
       "      <td>Cluster 4</td>\n",
       "      <td>124267</td>\n",
       "    </tr>\n",
       "    <tr>\n",
       "      <th>4</th>\n",
       "      <td>5</td>\n",
       "      <td>Cl 5</td>\n",
       "      <td>Cluster 5</td>\n",
       "      <td>48609</td>\n",
       "    </tr>\n",
       "    <tr>\n",
       "      <th>5</th>\n",
       "      <td>6</td>\n",
       "      <td>Cl 6</td>\n",
       "      <td>Cluster 6</td>\n",
       "      <td>55266</td>\n",
       "    </tr>\n",
       "  </tbody>\n",
       "</table>\n",
       "</div>"
      ],
      "text/plain": [
       "  clusternum clustername clustername_full   count\n",
       "0          1        Cl 1        Cluster 1   42647\n",
       "1          2        Cl 2        Cluster 2   72611\n",
       "2          3        Cl 3        Cluster 3  257656\n",
       "3          4        Cl 4        Cluster 4  124267\n",
       "4          5        Cl 5        Cluster 5   48609\n",
       "5          6        Cl 6        Cluster 6   55266"
      ]
     },
     "execution_count": 90,
     "metadata": {},
     "output_type": "execute_result"
    }
   ],
   "source": [
    "cluster_counts"
   ]
  },
  {
   "cell_type": "code",
   "execution_count": 91,
   "metadata": {},
   "outputs": [],
   "source": [
    "cluster_counts['stroma'] = cluster_counts.apply(lambda row: \n",
    "    df.loc[(df['cluster'] == row['clusternum']) &\n",
    "             (df['cell_type'] == 'STROMA'),:].shape[0] , axis = 1)\n",
    "\n",
    "cluster_counts['immune'] = cluster_counts.apply(lambda row: \n",
    "    df.loc[(df['cluster'] == row['clusternum']) &\n",
    "             (df['cell_type'] == 'IMMUNE'),:].shape[0] , axis = 1)\n",
    "\n",
    "cluster_counts['cancer'] = cluster_counts.apply(lambda row: \n",
    "    df.loc[(df['cluster'] == row['clusternum']) &\n",
    "             (df['cell_type'] == 'CANCER'),:].shape[0] , axis = 1)\n",
    "\n",
    "cluster_counts['stroma_perc'] = cluster_counts.apply(\n",
    "    lambda row: round(row['stroma']/row['count']*100,1) , axis = 1)\n",
    "\n",
    "cluster_counts['immune_perc'] = cluster_counts.apply(\n",
    "    lambda row: round(row['immune']/row['count']*100,1) , axis = 1)\n",
    "\n",
    "cluster_counts['cancer_perc'] = cluster_counts.apply(\n",
    "    lambda row: round(row['cancer']/row['count']*100,1) , axis = 1)"
   ]
  },
  {
   "cell_type": "code",
   "execution_count": 92,
   "metadata": {},
   "outputs": [
    {
     "data": {
      "text/html": [
       "<div>\n",
       "<style scoped>\n",
       "    .dataframe tbody tr th:only-of-type {\n",
       "        vertical-align: middle;\n",
       "    }\n",
       "\n",
       "    .dataframe tbody tr th {\n",
       "        vertical-align: top;\n",
       "    }\n",
       "\n",
       "    .dataframe thead th {\n",
       "        text-align: right;\n",
       "    }\n",
       "</style>\n",
       "<table border=\"1\" class=\"dataframe\">\n",
       "  <thead>\n",
       "    <tr style=\"text-align: right;\">\n",
       "      <th></th>\n",
       "      <th>clusternum</th>\n",
       "      <th>clustername</th>\n",
       "      <th>clustername_full</th>\n",
       "      <th>count</th>\n",
       "      <th>stroma</th>\n",
       "      <th>immune</th>\n",
       "      <th>cancer</th>\n",
       "      <th>stroma_perc</th>\n",
       "      <th>immune_perc</th>\n",
       "      <th>cancer_perc</th>\n",
       "    </tr>\n",
       "  </thead>\n",
       "  <tbody>\n",
       "    <tr>\n",
       "      <th>0</th>\n",
       "      <td>1</td>\n",
       "      <td>Cl 1</td>\n",
       "      <td>Cluster 1</td>\n",
       "      <td>42647</td>\n",
       "      <td>21238</td>\n",
       "      <td>8481</td>\n",
       "      <td>12928</td>\n",
       "      <td>49.8</td>\n",
       "      <td>19.9</td>\n",
       "      <td>30.3</td>\n",
       "    </tr>\n",
       "    <tr>\n",
       "      <th>1</th>\n",
       "      <td>2</td>\n",
       "      <td>Cl 2</td>\n",
       "      <td>Cluster 2</td>\n",
       "      <td>72611</td>\n",
       "      <td>36317</td>\n",
       "      <td>14635</td>\n",
       "      <td>21659</td>\n",
       "      <td>50.0</td>\n",
       "      <td>20.2</td>\n",
       "      <td>29.8</td>\n",
       "    </tr>\n",
       "    <tr>\n",
       "      <th>2</th>\n",
       "      <td>3</td>\n",
       "      <td>Cl 3</td>\n",
       "      <td>Cluster 3</td>\n",
       "      <td>257656</td>\n",
       "      <td>128659</td>\n",
       "      <td>51548</td>\n",
       "      <td>77449</td>\n",
       "      <td>49.9</td>\n",
       "      <td>20.0</td>\n",
       "      <td>30.1</td>\n",
       "    </tr>\n",
       "    <tr>\n",
       "      <th>3</th>\n",
       "      <td>4</td>\n",
       "      <td>Cl 4</td>\n",
       "      <td>Cluster 4</td>\n",
       "      <td>124267</td>\n",
       "      <td>62336</td>\n",
       "      <td>24693</td>\n",
       "      <td>37238</td>\n",
       "      <td>50.2</td>\n",
       "      <td>19.9</td>\n",
       "      <td>30.0</td>\n",
       "    </tr>\n",
       "    <tr>\n",
       "      <th>4</th>\n",
       "      <td>5</td>\n",
       "      <td>Cl 5</td>\n",
       "      <td>Cluster 5</td>\n",
       "      <td>48609</td>\n",
       "      <td>24312</td>\n",
       "      <td>9647</td>\n",
       "      <td>14650</td>\n",
       "      <td>50.0</td>\n",
       "      <td>19.8</td>\n",
       "      <td>30.1</td>\n",
       "    </tr>\n",
       "    <tr>\n",
       "      <th>5</th>\n",
       "      <td>6</td>\n",
       "      <td>Cl 6</td>\n",
       "      <td>Cluster 6</td>\n",
       "      <td>55266</td>\n",
       "      <td>27927</td>\n",
       "      <td>10790</td>\n",
       "      <td>16549</td>\n",
       "      <td>50.5</td>\n",
       "      <td>19.5</td>\n",
       "      <td>29.9</td>\n",
       "    </tr>\n",
       "  </tbody>\n",
       "</table>\n",
       "</div>"
      ],
      "text/plain": [
       "  clusternum clustername clustername_full   count  stroma  immune  cancer  \\\n",
       "0          1        Cl 1        Cluster 1   42647   21238    8481   12928   \n",
       "1          2        Cl 2        Cluster 2   72611   36317   14635   21659   \n",
       "2          3        Cl 3        Cluster 3  257656  128659   51548   77449   \n",
       "3          4        Cl 4        Cluster 4  124267   62336   24693   37238   \n",
       "4          5        Cl 5        Cluster 5   48609   24312    9647   14650   \n",
       "5          6        Cl 6        Cluster 6   55266   27927   10790   16549   \n",
       "\n",
       "   stroma_perc  immune_perc  cancer_perc  \n",
       "0         49.8         19.9         30.3  \n",
       "1         50.0         20.2         29.8  \n",
       "2         49.9         20.0         30.1  \n",
       "3         50.2         19.9         30.0  \n",
       "4         50.0         19.8         30.1  \n",
       "5         50.5         19.5         29.9  "
      ]
     },
     "execution_count": 92,
     "metadata": {},
     "output_type": "execute_result"
    }
   ],
   "source": [
    "cluster_counts"
   ]
  },
  {
   "cell_type": "code",
   "execution_count": 93,
   "metadata": {},
   "outputs": [],
   "source": [
    "# Cell type within cluster - count\n",
    "\n",
    "\n",
    "fig = go.Figure()\n",
    "title = 'KMeans cell types count within clusters'\n",
    "\n",
    "fig = go.Figure(data=[\n",
    "    go.Bar(name='Stroma', x=cluster_counts['clustername'], y=cluster_counts['stroma'], \n",
    "           text = cluster_counts['stroma'], textposition='auto',\n",
    "           marker_color = 'rgb' + str(celltype_color_dict['STROMA'])),\n",
    "    \n",
    "    go.Bar(name='Immune', x=cluster_counts['clustername'], y=cluster_counts['immune'], \n",
    "           text = cluster_counts['immune'], textposition='auto',\n",
    "           marker_color = 'rgb' + str(celltype_color_dict['IMMUNE'])),\n",
    "    \n",
    "    go.Bar(name='Cancer',x=cluster_counts['clustername'], y=cluster_counts['cancer'], \n",
    "           text = cluster_counts['cancer'], textposition='auto', \n",
    "           marker_color = 'rgb' + str(celltype_color_dict['CANCER']))\n",
    "])\n",
    "    \n",
    "fig.update_layout(title = title, plot_bgcolor = 'white',barmode ='stack')\n",
    "fig.update_xaxes(linecolor = 'black')\n",
    "fig.update_yaxes(title = \"Cell count\", linecolor = 'black')\n",
    "#plot(fig)\n",
    "\n",
    "filename = title.replace(\" \",\"_\") + \".png\"\n",
    "filename = os.path.join(output_images_dir, filename)\n",
    "fig.write_image(filename)"
   ]
  },
  {
   "cell_type": "code",
   "execution_count": 94,
   "metadata": {},
   "outputs": [],
   "source": [
    "# Cell type within cluster - proportional\n",
    "\n",
    "fig = go.Figure()\n",
    "title = 'KMeans cell types proportions within clusters'\n",
    "\n",
    "fig = go.Figure(data=[\n",
    "    go.Bar(name='Stroma', x=cluster_counts['clustername'], y=cluster_counts['stroma_perc'], \n",
    "           text = cluster_counts['stroma_perc'], textposition='auto',\n",
    "           marker_color = 'rgb' + str(celltype_color_dict['STROMA'])),\n",
    "    \n",
    "    go.Bar(name='Immune', x=cluster_counts['clustername'], y=cluster_counts['immune_perc'], \n",
    "           text = cluster_counts['immune_perc'], textposition='auto',\n",
    "           marker_color = 'rgb' + str(celltype_color_dict['IMMUNE'])),\n",
    "    \n",
    "    go.Bar(name='Cancer',x=cluster_counts['clustername'], y=cluster_counts['cancer_perc'], \n",
    "           text = cluster_counts['cancer_perc'], textposition='auto', \n",
    "           marker_color = 'rgb' + str(celltype_color_dict['CANCER']))\n",
    "])\n",
    "    \n",
    "fig.update_layout(title = title, plot_bgcolor = 'white',barmode ='stack')\n",
    "fig.update_xaxes(linecolor = 'black')\n",
    "fig.update_yaxes(title = \"Cell proportion of total\", linecolor = 'black')\n",
    "#plot(fig)\n",
    "\n",
    "filename  = title.replace(\" \",\"_\") + \".png\"\n",
    "filename = os.path.join(output_images_dir, filename)\n",
    "fig.write_image(filename)\n"
   ]
  },
  {
   "cell_type": "markdown",
   "metadata": {},
   "source": [
    "### Distributions"
   ]
  },
  {
   "cell_type": "markdown",
   "metadata": {},
   "source": [
    "\n",
    "Boxplots distributions\n",
    "On Kmeans clusters – one plot per marker, each box is a cluster, all samples in there\n"
   ]
  },
  {
   "cell_type": "code",
   "execution_count": 95,
   "metadata": {},
   "outputs": [],
   "source": [
    "# By sample ID and cell type\n",
    "def make_cluster_boxplot(my_marker, df):\n",
    "    fig = go.Figure()\n",
    "    title = 'KMeans ' + my_marker + ' Distributions by cluster'\n",
    "\n",
    "    clusters = sorted(df.cluster.unique())\n",
    "    data = []\n",
    "    for c in clusters:\n",
    "        data.append(go.Box(name=\"Cl \"+str(c),\n",
    "                           y = df.loc[df['cluster']==c,my_marker],\n",
    "                          marker = dict(color = 'rgb'+str(cluster_color_dict[c]))))\n",
    "\n",
    "    fig = go.Figure(data=data)\n",
    "    fig.update_layout(title = title, plot_bgcolor = 'white',barmode ='stack', showlegend = False)\n",
    "    fig.update_xaxes(linecolor = 'black')\n",
    "    fig.update_yaxes(title_text = 'Z-Scored Intensity', linecolor = 'black')\n",
    "    #plot(fig)\n",
    "    \n",
    "    filename = title.replace(\" \",\"_\") + \".png\"\n",
    "    filename = os.path.join(output_images_dir, filename)\n",
    "    fig.write_image(filename)\n",
    "    return None\n"
   ]
  },
  {
   "cell_type": "code",
   "execution_count": 96,
   "metadata": {},
   "outputs": [],
   "source": [
    "df = df.rename(columns = full_to_short_names)\n",
    "\n",
    "for m in [m for m in df.columns.values if m not in not_intensities]:\n",
    "    pass\n",
    "    make_cluster_boxplot(m, df)\n",
    "\n",
    "df = df.rename(columns = short_to_full_names)"
   ]
  },
  {
   "cell_type": "markdown",
   "metadata": {},
   "source": [
    "### Calculate the percentage/proportion of each cluster for each sample"
   ]
  },
  {
   "cell_type": "markdown",
   "metadata": {},
   "source": [
    "This information will be used in a few subsequent visualizations, as well as saved for future reference. One important thing to note about these dataframes is that Sample_ID is the name of the index, and the values of the index are our sample names. This is how the dfs are generated, and I've chosen to keep them that way because it will make it a bit easier for the median value heatmap later on. Note that the bar plot will gather its x-axis data from the index of a dataframe. Both the index (Sample_ID) and columns (cluster) are going to be named, which might make the dfs look a little unusual when printed to the screen."
   ]
  },
  {
   "cell_type": "markdown",
   "metadata": {},
   "source": [
    "First, we create a dataframe of the counts for each sample/cluster combination."
   ]
  },
  {
   "cell_type": "code",
   "execution_count": 236,
   "metadata": {},
   "outputs": [],
   "source": [
    "# Group by Sample_ID, then get the value counts for each cluster,\n",
    "# then massage into a dataframe\n",
    "cluster_sample_counts = df.groupby('Sample_ID')['cluster'].value_counts().unstack().fillna(0)\n",
    "\n",
    "## Keeping some commented out code in case we want to make 'Sample_ID' a column in its own right\n",
    "#cluster_sample_counts['Sample_ID'] = cluster_sample_counts.index\n",
    "\n",
    "## Change from floats to ints\n",
    "#cluster_sample_counts.loc[:,cluster_sample_counts.columns != 'Sample_ID'] = \\\n",
    "#    cluster_sample_counts.loc[:,cluster_sample_counts.columns != 'Sample_ID'].astype(int)\n",
    "cluster_sample_counts = cluster_sample_counts.astype(int)"
   ]
  },
  {
   "cell_type": "code",
   "execution_count": 237,
   "metadata": {},
   "outputs": [
    {
     "data": {
      "text/html": [
       "<div>\n",
       "<style scoped>\n",
       "    .dataframe tbody tr th:only-of-type {\n",
       "        vertical-align: middle;\n",
       "    }\n",
       "\n",
       "    .dataframe tbody tr th {\n",
       "        vertical-align: top;\n",
       "    }\n",
       "\n",
       "    .dataframe thead th {\n",
       "        text-align: right;\n",
       "    }\n",
       "</style>\n",
       "<table border=\"1\" class=\"dataframe\">\n",
       "  <thead>\n",
       "    <tr style=\"text-align: right;\">\n",
       "      <th>cluster</th>\n",
       "      <th>1</th>\n",
       "      <th>2</th>\n",
       "      <th>3</th>\n",
       "      <th>4</th>\n",
       "      <th>5</th>\n",
       "    </tr>\n",
       "    <tr>\n",
       "      <th>Sample_ID</th>\n",
       "      <th></th>\n",
       "      <th></th>\n",
       "      <th></th>\n",
       "      <th></th>\n",
       "      <th></th>\n",
       "    </tr>\n",
       "  </thead>\n",
       "  <tbody>\n",
       "    <tr>\n",
       "      <th>GZ10.1</th>\n",
       "      <td>38</td>\n",
       "      <td>4</td>\n",
       "      <td>3061</td>\n",
       "      <td>3</td>\n",
       "      <td>11</td>\n",
       "    </tr>\n",
       "    <tr>\n",
       "      <th>GZ10.2</th>\n",
       "      <td>331</td>\n",
       "      <td>26</td>\n",
       "      <td>2190</td>\n",
       "      <td>112</td>\n",
       "      <td>6</td>\n",
       "    </tr>\n",
       "    <tr>\n",
       "      <th>GZ10.3</th>\n",
       "      <td>795</td>\n",
       "      <td>227</td>\n",
       "      <td>5920</td>\n",
       "      <td>92</td>\n",
       "      <td>16</td>\n",
       "    </tr>\n",
       "    <tr>\n",
       "      <th>GZ6</th>\n",
       "      <td>254</td>\n",
       "      <td>47716</td>\n",
       "      <td>364</td>\n",
       "      <td>577</td>\n",
       "      <td>0</td>\n",
       "    </tr>\n",
       "    <tr>\n",
       "      <th>GZ7.1</th>\n",
       "      <td>7434</td>\n",
       "      <td>7</td>\n",
       "      <td>10</td>\n",
       "      <td>1715</td>\n",
       "      <td>411</td>\n",
       "    </tr>\n",
       "  </tbody>\n",
       "</table>\n",
       "</div>"
      ],
      "text/plain": [
       "cluster       1      2     3     4    5\n",
       "Sample_ID                              \n",
       "GZ10.1       38      4  3061     3   11\n",
       "GZ10.2      331     26  2190   112    6\n",
       "GZ10.3      795    227  5920    92   16\n",
       "GZ6         254  47716   364   577    0\n",
       "GZ7.1      7434      7    10  1715  411"
      ]
     },
     "execution_count": 237,
     "metadata": {},
     "output_type": "execute_result"
    }
   ],
   "source": [
    "cluster_sample_counts.head()\n",
    "\n",
    "# Note 'Sample_ID' is name of index, 'cluster' is name of columns."
   ]
  },
  {
   "cell_type": "markdown",
   "metadata": {},
   "source": [
    "We are also interested in the proportion values."
   ]
  },
  {
   "cell_type": "code",
   "execution_count": 238,
   "metadata": {},
   "outputs": [],
   "source": [
    "## Proportions\n",
    "cluster_sample_props = cluster_sample_counts.copy()\n",
    "\n",
    "# Keeping some commented out code in case we've chosen\n",
    "# to make 'Sample_ID' a column in its own right\n",
    "\"\"\"cluster_sample_props.loc[:,\n",
    "    cluster_sample_props.columns != 'Sample_ID'] = \\\n",
    "        cluster_sample_props.loc[:,cluster_sample_props.columns != 'Sample_ID'].apply(\n",
    "            lambda row: round(row/row.sum()*100,1), axis =1)\"\"\"\n",
    "cluster_sample_props = \\\n",
    "        cluster_sample_props.apply(\n",
    "            lambda row: round(row/row.sum()*100,1), axis =1)"
   ]
  },
  {
   "cell_type": "code",
   "execution_count": 239,
   "metadata": {},
   "outputs": [
    {
     "data": {
      "text/html": [
       "<div>\n",
       "<style scoped>\n",
       "    .dataframe tbody tr th:only-of-type {\n",
       "        vertical-align: middle;\n",
       "    }\n",
       "\n",
       "    .dataframe tbody tr th {\n",
       "        vertical-align: top;\n",
       "    }\n",
       "\n",
       "    .dataframe thead th {\n",
       "        text-align: right;\n",
       "    }\n",
       "</style>\n",
       "<table border=\"1\" class=\"dataframe\">\n",
       "  <thead>\n",
       "    <tr style=\"text-align: right;\">\n",
       "      <th>cluster</th>\n",
       "      <th>1</th>\n",
       "      <th>2</th>\n",
       "      <th>3</th>\n",
       "      <th>4</th>\n",
       "      <th>5</th>\n",
       "    </tr>\n",
       "    <tr>\n",
       "      <th>Sample_ID</th>\n",
       "      <th></th>\n",
       "      <th></th>\n",
       "      <th></th>\n",
       "      <th></th>\n",
       "      <th></th>\n",
       "    </tr>\n",
       "  </thead>\n",
       "  <tbody>\n",
       "    <tr>\n",
       "      <th>GZ10.1</th>\n",
       "      <td>1.2</td>\n",
       "      <td>0.1</td>\n",
       "      <td>98.2</td>\n",
       "      <td>0.1</td>\n",
       "      <td>0.4</td>\n",
       "    </tr>\n",
       "    <tr>\n",
       "      <th>GZ10.2</th>\n",
       "      <td>12.4</td>\n",
       "      <td>1.0</td>\n",
       "      <td>82.2</td>\n",
       "      <td>4.2</td>\n",
       "      <td>0.2</td>\n",
       "    </tr>\n",
       "    <tr>\n",
       "      <th>GZ10.3</th>\n",
       "      <td>11.3</td>\n",
       "      <td>3.2</td>\n",
       "      <td>84.0</td>\n",
       "      <td>1.3</td>\n",
       "      <td>0.2</td>\n",
       "    </tr>\n",
       "    <tr>\n",
       "      <th>GZ6</th>\n",
       "      <td>0.5</td>\n",
       "      <td>97.6</td>\n",
       "      <td>0.7</td>\n",
       "      <td>1.2</td>\n",
       "      <td>0.0</td>\n",
       "    </tr>\n",
       "    <tr>\n",
       "      <th>GZ7.1</th>\n",
       "      <td>77.6</td>\n",
       "      <td>0.1</td>\n",
       "      <td>0.1</td>\n",
       "      <td>17.9</td>\n",
       "      <td>4.3</td>\n",
       "    </tr>\n",
       "  </tbody>\n",
       "</table>\n",
       "</div>"
      ],
      "text/plain": [
       "cluster       1     2     3     4    5\n",
       "Sample_ID                             \n",
       "GZ10.1      1.2   0.1  98.2   0.1  0.4\n",
       "GZ10.2     12.4   1.0  82.2   4.2  0.2\n",
       "GZ10.3     11.3   3.2  84.0   1.3  0.2\n",
       "GZ6         0.5  97.6   0.7   1.2  0.0\n",
       "GZ7.1      77.6   0.1   0.1  17.9  4.3"
      ]
     },
     "execution_count": 239,
     "metadata": {},
     "output_type": "execute_result"
    }
   ],
   "source": [
    "cluster_sample_props.head()\n",
    "\n",
    "# Note 'Sample_ID' is name of index, 'cluster' is name of columns."
   ]
  },
  {
   "cell_type": "markdown",
   "metadata": {},
   "source": [
    "Save files of these two dataframes."
   ]
  },
  {
   "cell_type": "code",
   "execution_count": 240,
   "metadata": {},
   "outputs": [],
   "source": [
    "## Counts\n",
    "filename = \"sample_cluster_counts.csv\"\n",
    "filename = os.path.join(output_data_dir, filename)\n",
    "cluster_sample_counts.to_csv(filename, index = True, \n",
    "                             # We want the header of the output file to have the format 'cluster_#' instead of '#'\n",
    "                             ## Keeping some commented out code in case we have decided to make 'Sample_ID' a column in its own right\n",
    "                             # We also do not want to alter the name of the 'Sample_ID' column\n",
    "                             #header = [\"cluster_\" + str(c) for c in cluster_sample_counts.columns if c != 'Sample_ID'] +\\\n",
    "                             #        ['Sample_ID'])\n",
    "                            header = [\"cluster_\" + str(c) for c in cluster_sample_counts.columns])\n",
    "# Proportions\n",
    "filename = \"sample_cluster_counts_perc.csv\"\n",
    "filename = os.path.join(output_data_dir, filename)\n",
    "cluster_sample_props.to_csv(filename, index = True,\n",
    "                            # We want the header of the output file to have the format 'cluster_#' instead of '#'\n",
    "                            ## Keeping some commented out code in case we have decided to make 'Sample_ID' a column in its own right\n",
    "                             # We also do not want to alter the name of the 'Sample_ID' column\n",
    "                             #header = [\"cluster_\" + str(c) for c in cluster_sample_counts.columns if c != 'Sample_ID'] +\\\n",
    "                             #        ['Sample_ID'])\n",
    "                            header = [\"cluster_\" + str(c) for c in cluster_sample_counts.columns])"
   ]
  },
  {
   "cell_type": "markdown",
   "metadata": {},
   "source": [
    "### Bar plot - Proportional breakdown of clusters within sample"
   ]
  },
  {
   "cell_type": "code",
   "execution_count": 241,
   "metadata": {},
   "outputs": [],
   "source": [
    "# By sample ID and cell type\n",
    "\n",
    "fig = go.Figure()\n",
    "title = 'Proportional breakdown of clusters within sample'\n",
    "\n",
    "clusters = list(range(1,n_clusters+1))\n",
    "data = []\n",
    "for c in clusters:\n",
    "    data.append(go.Bar(name=\"Cl \"+str(c),\n",
    "                       x=cluster_sample_counts.index, # if 'Sample_ID' were a column, we would have said cluster_sample_counts['Sample_ID']\n",
    "                       y=cluster_sample_counts[c],\n",
    "                       marker = dict(\n",
    "                           color='rgb' + str(cluster_color_dict[c]))))\n",
    "\n",
    "fig = go.Figure(data=data)\n",
    "    \n",
    "fig.update_layout(title = title, plot_bgcolor = 'white',barmode ='stack')\n",
    "fig.update_xaxes(linecolor = 'black')\n",
    "fig.update_yaxes(title_text = \"Cluster proportion\", linecolor = 'black')\n",
    "#plot(fig)\n",
    "\n",
    "filename = title.replace(\" \",\"_\") + \".png\"\n",
    "filename = os.path.join(output_images_dir, filename)\n",
    "fig.write_image(filename)\n"
   ]
  },
  {
   "cell_type": "markdown",
   "metadata": {},
   "source": [
    "### Prepare for median value heatmap"
   ]
  },
  {
   "cell_type": "markdown",
   "metadata": {},
   "source": [
    "For this, we will want to combine rows in `cluster_sample_counts` at will, using whichever criteria we chose. The added rows will be replaced with one sum row. Then, we will determine the proportions and only plot the samples/data we are interested in."
   ]
  },
  {
   "cell_type": "markdown",
   "metadata": {},
   "source": [
    "First, let's create a copy of the `cluster_sample_counts` to work with. We want to maintain the original, so that we can create as many different combinations of rows as we want without extra work to revert back to the original."
   ]
  },
  {
   "cell_type": "code",
   "execution_count": 242,
   "metadata": {},
   "outputs": [
    {
     "data": {
      "text/html": [
       "<div>\n",
       "<style scoped>\n",
       "    .dataframe tbody tr th:only-of-type {\n",
       "        vertical-align: middle;\n",
       "    }\n",
       "\n",
       "    .dataframe tbody tr th {\n",
       "        vertical-align: top;\n",
       "    }\n",
       "\n",
       "    .dataframe thead th {\n",
       "        text-align: right;\n",
       "    }\n",
       "</style>\n",
       "<table border=\"1\" class=\"dataframe\">\n",
       "  <thead>\n",
       "    <tr style=\"text-align: right;\">\n",
       "      <th>cluster</th>\n",
       "      <th>1</th>\n",
       "      <th>2</th>\n",
       "      <th>3</th>\n",
       "      <th>4</th>\n",
       "      <th>5</th>\n",
       "    </tr>\n",
       "    <tr>\n",
       "      <th>Sample_ID</th>\n",
       "      <th></th>\n",
       "      <th></th>\n",
       "      <th></th>\n",
       "      <th></th>\n",
       "      <th></th>\n",
       "    </tr>\n",
       "  </thead>\n",
       "  <tbody>\n",
       "    <tr>\n",
       "      <th>GZ10.1</th>\n",
       "      <td>38</td>\n",
       "      <td>4</td>\n",
       "      <td>3061</td>\n",
       "      <td>3</td>\n",
       "      <td>11</td>\n",
       "    </tr>\n",
       "    <tr>\n",
       "      <th>GZ10.2</th>\n",
       "      <td>331</td>\n",
       "      <td>26</td>\n",
       "      <td>2190</td>\n",
       "      <td>112</td>\n",
       "      <td>6</td>\n",
       "    </tr>\n",
       "    <tr>\n",
       "      <th>GZ10.3</th>\n",
       "      <td>795</td>\n",
       "      <td>227</td>\n",
       "      <td>5920</td>\n",
       "      <td>92</td>\n",
       "      <td>16</td>\n",
       "    </tr>\n",
       "    <tr>\n",
       "      <th>GZ6</th>\n",
       "      <td>254</td>\n",
       "      <td>47716</td>\n",
       "      <td>364</td>\n",
       "      <td>577</td>\n",
       "      <td>0</td>\n",
       "    </tr>\n",
       "    <tr>\n",
       "      <th>GZ7.1</th>\n",
       "      <td>7434</td>\n",
       "      <td>7</td>\n",
       "      <td>10</td>\n",
       "      <td>1715</td>\n",
       "      <td>411</td>\n",
       "    </tr>\n",
       "  </tbody>\n",
       "</table>\n",
       "</div>"
      ],
      "text/plain": [
       "cluster       1      2     3     4    5\n",
       "Sample_ID                              \n",
       "GZ10.1       38      4  3061     3   11\n",
       "GZ10.2      331     26  2190   112    6\n",
       "GZ10.3      795    227  5920    92   16\n",
       "GZ6         254  47716   364   577    0\n",
       "GZ7.1      7434      7    10  1715  411"
      ]
     },
     "execution_count": 242,
     "metadata": {},
     "output_type": "execute_result"
    }
   ],
   "source": [
    "counts_subset = cluster_sample_counts.copy()\n",
    "\n",
    "counts_subset.head()"
   ]
  },
  {
   "cell_type": "code",
   "execution_count": 243,
   "metadata": {},
   "outputs": [],
   "source": [
    "def row_combiner(df, drop_rows, new_name):\n",
    "    # Check that drop_rows are in the index\n",
    "    if len(set(drop_rows).intersection(set(df.index))) == 0:\n",
    "        print(\"1+ item(s) specified for dropping not found in dataframe's index.\")\n",
    "        print(\"Returning unaltered dataframe.\")\n",
    "        return df\n",
    "    \n",
    "    # First create a dataframe consisiting of the chosen summed rows\n",
    "    # Note that we are feeding a list of index identifiers into\n",
    "    # the .index.isin() portion\n",
    "    new_row = pd.DataFrame( # make a df out of the following...\n",
    "    counts_subset.loc[ # only the rows where given df has rows meeting criteria\n",
    "                    # criteria are that index identifiers are in the given list\n",
    "        df.index.isin(drop_rows),\n",
    "        # all columns are wanted, hence the \":\"\n",
    "        # We are also summming along the first (0th index) axis, along the rows\n",
    "        :].sum(axis = 0)\n",
    "            ).T # transpose to get a row instead of a column\n",
    "\n",
    "    # In order to replace the summed rows with our new row,\n",
    "    # we will need to assign our new row an index identifier\n",
    "    # This should be the identifier you want to see on the median\n",
    "    # value heatmap.\n",
    "    new_row.index = [new_name]\n",
    "\n",
    "    # We will also rename the axis to 'Sample_ID', as before,\n",
    "    # or else the counts_subset will lose its axis name when\n",
    "    # the new row is added\n",
    "    new_row = new_row.rename_axis(df.index.name, axis = 'index')\n",
    "\n",
    "    # What does this new dataframe look like?\n",
    "    # Remember 'cluster' is just the name of the columns\n",
    "    \n",
    "    df = df.append(new_row)\n",
    "    df = df.drop(drop_rows)\n",
    "\n",
    "    return df"
   ]
  },
  {
   "cell_type": "code",
   "execution_count": 261,
   "metadata": {},
   "outputs": [
    {
     "name": "stdout",
     "output_type": "stream",
     "text": [
      "1+ item(s) specified for dropping not found in dataframe's index.\n",
      "Returning unaltered dataframe.\n"
     ]
    },
    {
     "data": {
      "text/html": [
       "<div>\n",
       "<style scoped>\n",
       "    .dataframe tbody tr th:only-of-type {\n",
       "        vertical-align: middle;\n",
       "    }\n",
       "\n",
       "    .dataframe tbody tr th {\n",
       "        vertical-align: top;\n",
       "    }\n",
       "\n",
       "    .dataframe thead th {\n",
       "        text-align: right;\n",
       "    }\n",
       "</style>\n",
       "<table border=\"1\" class=\"dataframe\">\n",
       "  <thead>\n",
       "    <tr style=\"text-align: right;\">\n",
       "      <th>cluster</th>\n",
       "      <th>1</th>\n",
       "      <th>2</th>\n",
       "      <th>3</th>\n",
       "      <th>4</th>\n",
       "      <th>5</th>\n",
       "    </tr>\n",
       "    <tr>\n",
       "      <th>Sample_ID</th>\n",
       "      <th></th>\n",
       "      <th></th>\n",
       "      <th></th>\n",
       "      <th></th>\n",
       "      <th></th>\n",
       "    </tr>\n",
       "  </thead>\n",
       "  <tbody>\n",
       "    <tr>\n",
       "      <th>GZ10.3</th>\n",
       "      <td>795</td>\n",
       "      <td>227</td>\n",
       "      <td>5920</td>\n",
       "      <td>92</td>\n",
       "      <td>16</td>\n",
       "    </tr>\n",
       "    <tr>\n",
       "      <th>GZ6</th>\n",
       "      <td>254</td>\n",
       "      <td>47716</td>\n",
       "      <td>364</td>\n",
       "      <td>577</td>\n",
       "      <td>0</td>\n",
       "    </tr>\n",
       "    <tr>\n",
       "      <th>Patient_1</th>\n",
       "      <td>369</td>\n",
       "      <td>30</td>\n",
       "      <td>5251</td>\n",
       "      <td>115</td>\n",
       "      <td>17</td>\n",
       "    </tr>\n",
       "    <tr>\n",
       "      <th>Patient_2</th>\n",
       "      <td>74025</td>\n",
       "      <td>192</td>\n",
       "      <td>871</td>\n",
       "      <td>46017</td>\n",
       "      <td>7366</td>\n",
       "    </tr>\n",
       "  </tbody>\n",
       "</table>\n",
       "</div>"
      ],
      "text/plain": [
       "cluster        1      2     3      4     5\n",
       "Sample_ID                                 \n",
       "GZ10.3       795    227  5920     92    16\n",
       "GZ6          254  47716   364    577     0\n",
       "Patient_1    369     30  5251    115    17\n",
       "Patient_2  74025    192   871  46017  7366"
      ]
     },
     "execution_count": 261,
     "metadata": {},
     "output_type": "execute_result"
    }
   ],
   "source": [
    "counts_subset = \\\n",
    "    row_combiner(df = counts_subset, drop_rows = ['GZ10.1','GZ10.2'], new_name = 'Patient_1')\n",
    "\n",
    "counts_subset = \\\n",
    "    row_combiner(df = counts_subset, drop_rows = ['GZ7.1','GZ7.2'], new_name = 'Patient_2')\n",
    "\n",
    "counts_subset"
   ]
  },
  {
   "cell_type": "markdown",
   "metadata": {},
   "source": [
    "You can repeat the above process as many times as you would like to add on as many rows as you would like. There are a few other manipulations to consider."
   ]
  },
  {
   "cell_type": "markdown",
   "metadata": {},
   "source": [
    "What if we want to drop some additional rows? The `drop()` function is fed a list of index identifiers to drop from the dataframe."
   ]
  },
  {
   "cell_type": "code",
   "execution_count": 265,
   "metadata": {},
   "outputs": [
    {
     "data": {
      "text/html": [
       "<div>\n",
       "<style scoped>\n",
       "    .dataframe tbody tr th:only-of-type {\n",
       "        vertical-align: middle;\n",
       "    }\n",
       "\n",
       "    .dataframe tbody tr th {\n",
       "        vertical-align: top;\n",
       "    }\n",
       "\n",
       "    .dataframe thead th {\n",
       "        text-align: right;\n",
       "    }\n",
       "</style>\n",
       "<table border=\"1\" class=\"dataframe\">\n",
       "  <thead>\n",
       "    <tr style=\"text-align: right;\">\n",
       "      <th>cluster</th>\n",
       "      <th>1</th>\n",
       "      <th>2</th>\n",
       "      <th>3</th>\n",
       "      <th>4</th>\n",
       "      <th>5</th>\n",
       "    </tr>\n",
       "    <tr>\n",
       "      <th>Sample_ID</th>\n",
       "      <th></th>\n",
       "      <th></th>\n",
       "      <th></th>\n",
       "      <th></th>\n",
       "      <th></th>\n",
       "    </tr>\n",
       "  </thead>\n",
       "  <tbody>\n",
       "    <tr>\n",
       "      <th>GZ10.3</th>\n",
       "      <td>795</td>\n",
       "      <td>227</td>\n",
       "      <td>5920</td>\n",
       "      <td>92</td>\n",
       "      <td>16</td>\n",
       "    </tr>\n",
       "    <tr>\n",
       "      <th>Patient_1</th>\n",
       "      <td>369</td>\n",
       "      <td>30</td>\n",
       "      <td>5251</td>\n",
       "      <td>115</td>\n",
       "      <td>17</td>\n",
       "    </tr>\n",
       "    <tr>\n",
       "      <th>Patient_2</th>\n",
       "      <td>74025</td>\n",
       "      <td>192</td>\n",
       "      <td>871</td>\n",
       "      <td>46017</td>\n",
       "      <td>7366</td>\n",
       "    </tr>\n",
       "  </tbody>\n",
       "</table>\n",
       "</div>"
      ],
      "text/plain": [
       "cluster        1    2     3      4     5\n",
       "Sample_ID                               \n",
       "GZ10.3       795  227  5920     92    16\n",
       "Patient_1    369   30  5251    115    17\n",
       "Patient_2  74025  192   871  46017  7366"
      ]
     },
     "execution_count": 265,
     "metadata": {},
     "output_type": "execute_result"
    }
   ],
   "source": [
    "counts_subset.drop(['GZ6'])"
   ]
  },
  {
   "cell_type": "markdown",
   "metadata": {},
   "source": [
    "What if we want to rename the index name? I will not write over `cluster_sample_counts`, but here is what you would do."
   ]
  },
  {
   "cell_type": "code",
   "execution_count": 266,
   "metadata": {},
   "outputs": [
    {
     "data": {
      "text/html": [
       "<div>\n",
       "<style scoped>\n",
       "    .dataframe tbody tr th:only-of-type {\n",
       "        vertical-align: middle;\n",
       "    }\n",
       "\n",
       "    .dataframe tbody tr th {\n",
       "        vertical-align: top;\n",
       "    }\n",
       "\n",
       "    .dataframe thead th {\n",
       "        text-align: right;\n",
       "    }\n",
       "</style>\n",
       "<table border=\"1\" class=\"dataframe\">\n",
       "  <thead>\n",
       "    <tr style=\"text-align: right;\">\n",
       "      <th>cluster</th>\n",
       "      <th>1</th>\n",
       "      <th>2</th>\n",
       "      <th>3</th>\n",
       "      <th>4</th>\n",
       "      <th>5</th>\n",
       "    </tr>\n",
       "    <tr>\n",
       "      <th>new_index_name</th>\n",
       "      <th></th>\n",
       "      <th></th>\n",
       "      <th></th>\n",
       "      <th></th>\n",
       "      <th></th>\n",
       "    </tr>\n",
       "  </thead>\n",
       "  <tbody>\n",
       "    <tr>\n",
       "      <th>GZ10.3</th>\n",
       "      <td>795</td>\n",
       "      <td>227</td>\n",
       "      <td>5920</td>\n",
       "      <td>92</td>\n",
       "      <td>16</td>\n",
       "    </tr>\n",
       "    <tr>\n",
       "      <th>GZ6</th>\n",
       "      <td>254</td>\n",
       "      <td>47716</td>\n",
       "      <td>364</td>\n",
       "      <td>577</td>\n",
       "      <td>0</td>\n",
       "    </tr>\n",
       "    <tr>\n",
       "      <th>Patient_1</th>\n",
       "      <td>369</td>\n",
       "      <td>30</td>\n",
       "      <td>5251</td>\n",
       "      <td>115</td>\n",
       "      <td>17</td>\n",
       "    </tr>\n",
       "    <tr>\n",
       "      <th>Patient_2</th>\n",
       "      <td>74025</td>\n",
       "      <td>192</td>\n",
       "      <td>871</td>\n",
       "      <td>46017</td>\n",
       "      <td>7366</td>\n",
       "    </tr>\n",
       "  </tbody>\n",
       "</table>\n",
       "</div>"
      ],
      "text/plain": [
       "cluster             1      2     3      4     5\n",
       "new_index_name                                 \n",
       "GZ10.3            795    227  5920     92    16\n",
       "GZ6               254  47716   364    577     0\n",
       "Patient_1         369     30  5251    115    17\n",
       "Patient_2       74025    192   871  46017  7366"
      ]
     },
     "execution_count": 266,
     "metadata": {},
     "output_type": "execute_result"
    }
   ],
   "source": [
    "counts_subset.rename_axis('new_index_name',axis = 'index')"
   ]
  },
  {
   "cell_type": "markdown",
   "metadata": {},
   "source": [
    "What if we made a typo, and Patient_1 should be Patient_10? Again, I am not overwriting `counts_subset` unless I set it equal to this new expression."
   ]
  },
  {
   "cell_type": "code",
   "execution_count": 267,
   "metadata": {},
   "outputs": [
    {
     "data": {
      "text/html": [
       "<div>\n",
       "<style scoped>\n",
       "    .dataframe tbody tr th:only-of-type {\n",
       "        vertical-align: middle;\n",
       "    }\n",
       "\n",
       "    .dataframe tbody tr th {\n",
       "        vertical-align: top;\n",
       "    }\n",
       "\n",
       "    .dataframe thead th {\n",
       "        text-align: right;\n",
       "    }\n",
       "</style>\n",
       "<table border=\"1\" class=\"dataframe\">\n",
       "  <thead>\n",
       "    <tr style=\"text-align: right;\">\n",
       "      <th>cluster</th>\n",
       "      <th>1</th>\n",
       "      <th>2</th>\n",
       "      <th>3</th>\n",
       "      <th>4</th>\n",
       "      <th>5</th>\n",
       "    </tr>\n",
       "    <tr>\n",
       "      <th>Sample_ID</th>\n",
       "      <th></th>\n",
       "      <th></th>\n",
       "      <th></th>\n",
       "      <th></th>\n",
       "      <th></th>\n",
       "    </tr>\n",
       "  </thead>\n",
       "  <tbody>\n",
       "    <tr>\n",
       "      <th>GZ10.3</th>\n",
       "      <td>795</td>\n",
       "      <td>227</td>\n",
       "      <td>5920</td>\n",
       "      <td>92</td>\n",
       "      <td>16</td>\n",
       "    </tr>\n",
       "    <tr>\n",
       "      <th>GZ6</th>\n",
       "      <td>254</td>\n",
       "      <td>47716</td>\n",
       "      <td>364</td>\n",
       "      <td>577</td>\n",
       "      <td>0</td>\n",
       "    </tr>\n",
       "    <tr>\n",
       "      <th>Patient_10</th>\n",
       "      <td>369</td>\n",
       "      <td>30</td>\n",
       "      <td>5251</td>\n",
       "      <td>115</td>\n",
       "      <td>17</td>\n",
       "    </tr>\n",
       "    <tr>\n",
       "      <th>Patient_2</th>\n",
       "      <td>74025</td>\n",
       "      <td>192</td>\n",
       "      <td>871</td>\n",
       "      <td>46017</td>\n",
       "      <td>7366</td>\n",
       "    </tr>\n",
       "  </tbody>\n",
       "</table>\n",
       "</div>"
      ],
      "text/plain": [
       "cluster         1      2     3      4     5\n",
       "Sample_ID                                  \n",
       "GZ10.3        795    227  5920     92    16\n",
       "GZ6           254  47716   364    577     0\n",
       "Patient_10    369     30  5251    115    17\n",
       "Patient_2   74025    192   871  46017  7366"
      ]
     },
     "execution_count": 267,
     "metadata": {},
     "output_type": "execute_result"
    }
   ],
   "source": [
    "counts_subset.rename(index={'Patient_1':'Patient_10'})"
   ]
  },
  {
   "cell_type": "markdown",
   "metadata": {},
   "source": [
    "What if we want to include one or more of our dropped rows? We can append those from the intact `counts_subset`. Here is what the resulting dataframe would look like."
   ]
  },
  {
   "cell_type": "code",
   "execution_count": 268,
   "metadata": {},
   "outputs": [
    {
     "data": {
      "text/html": [
       "<div>\n",
       "<style scoped>\n",
       "    .dataframe tbody tr th:only-of-type {\n",
       "        vertical-align: middle;\n",
       "    }\n",
       "\n",
       "    .dataframe tbody tr th {\n",
       "        vertical-align: top;\n",
       "    }\n",
       "\n",
       "    .dataframe thead th {\n",
       "        text-align: right;\n",
       "    }\n",
       "</style>\n",
       "<table border=\"1\" class=\"dataframe\">\n",
       "  <thead>\n",
       "    <tr style=\"text-align: right;\">\n",
       "      <th>cluster</th>\n",
       "      <th>1</th>\n",
       "      <th>2</th>\n",
       "      <th>3</th>\n",
       "      <th>4</th>\n",
       "      <th>5</th>\n",
       "    </tr>\n",
       "    <tr>\n",
       "      <th>Sample_ID</th>\n",
       "      <th></th>\n",
       "      <th></th>\n",
       "      <th></th>\n",
       "      <th></th>\n",
       "      <th></th>\n",
       "    </tr>\n",
       "  </thead>\n",
       "  <tbody>\n",
       "    <tr>\n",
       "      <th>GZ10.3</th>\n",
       "      <td>795</td>\n",
       "      <td>227</td>\n",
       "      <td>5920</td>\n",
       "      <td>92</td>\n",
       "      <td>16</td>\n",
       "    </tr>\n",
       "    <tr>\n",
       "      <th>GZ6</th>\n",
       "      <td>254</td>\n",
       "      <td>47716</td>\n",
       "      <td>364</td>\n",
       "      <td>577</td>\n",
       "      <td>0</td>\n",
       "    </tr>\n",
       "    <tr>\n",
       "      <th>Patient_1</th>\n",
       "      <td>369</td>\n",
       "      <td>30</td>\n",
       "      <td>5251</td>\n",
       "      <td>115</td>\n",
       "      <td>17</td>\n",
       "    </tr>\n",
       "    <tr>\n",
       "      <th>Patient_2</th>\n",
       "      <td>74025</td>\n",
       "      <td>192</td>\n",
       "      <td>871</td>\n",
       "      <td>46017</td>\n",
       "      <td>7366</td>\n",
       "    </tr>\n",
       "    <tr>\n",
       "      <th>GZ10.1</th>\n",
       "      <td>38</td>\n",
       "      <td>4</td>\n",
       "      <td>3061</td>\n",
       "      <td>3</td>\n",
       "      <td>11</td>\n",
       "    </tr>\n",
       "  </tbody>\n",
       "</table>\n",
       "</div>"
      ],
      "text/plain": [
       "cluster        1      2     3      4     5\n",
       "Sample_ID                                 \n",
       "GZ10.3       795    227  5920     92    16\n",
       "GZ6          254  47716   364    577     0\n",
       "Patient_1    369     30  5251    115    17\n",
       "Patient_2  74025    192   871  46017  7366\n",
       "GZ10.1        38      4  3061      3    11"
      ]
     },
     "execution_count": 268,
     "metadata": {},
     "output_type": "execute_result"
    }
   ],
   "source": [
    "counts_subset.append(cluster_sample_counts.loc[['GZ10.1'],:])"
   ]
  },
  {
   "cell_type": "markdown",
   "metadata": {},
   "source": [
    "We also want to create a copy of our original dataframe to use for finding the medians. As before, we will be exchanging original sample labels with other labels. Unlike before, we will not be combining rows until the very end. Row renaming will occur more simply."
   ]
  },
  {
   "cell_type": "code",
   "execution_count": 326,
   "metadata": {},
   "outputs": [],
   "source": [
    "# Create a copy of the original df\n",
    "\n",
    "for_medians = df.copy()"
   ]
  },
  {
   "cell_type": "code",
   "execution_count": 327,
   "metadata": {},
   "outputs": [
    {
     "data": {
      "text/plain": [
       "array(['Patient_1', 'GZ10.3', 'Patient_2', 'GZ6'], dtype=object)"
      ]
     },
     "execution_count": 327,
     "metadata": {},
     "output_type": "execute_result"
    }
   ],
   "source": [
    "# Rename rows as necessary\n",
    "\n",
    "for_medians.loc[for_medians['Sample_ID'].isin(['GZ10.1','GZ10.2']),['Sample_ID']] = \\\n",
    "    'Patient_1' \n",
    "\n",
    "\n",
    "for_medians.loc[for_medians['Sample_ID'].isin(['GZ7.1','GZ7.2']),['Sample_ID']] = \\\n",
    "    'Patient_2' \n",
    "\n",
    "for_medians.Sample_ID.unique()"
   ]
  },
  {
   "cell_type": "code",
   "execution_count": 328,
   "metadata": {},
   "outputs": [
    {
     "data": {
      "text/html": [
       "<div>\n",
       "<style scoped>\n",
       "    .dataframe tbody tr th:only-of-type {\n",
       "        vertical-align: middle;\n",
       "    }\n",
       "\n",
       "    .dataframe tbody tr th {\n",
       "        vertical-align: top;\n",
       "    }\n",
       "\n",
       "    .dataframe thead th {\n",
       "        text-align: right;\n",
       "    }\n",
       "</style>\n",
       "<table border=\"1\" class=\"dataframe\">\n",
       "  <thead>\n",
       "    <tr style=\"text-align: right;\">\n",
       "      <th></th>\n",
       "      <th>Sample_ID</th>\n",
       "    </tr>\n",
       "  </thead>\n",
       "  <tbody>\n",
       "    <tr>\n",
       "      <th>GZ10.3_Cell_3</th>\n",
       "      <td>GZ10.3</td>\n",
       "    </tr>\n",
       "    <tr>\n",
       "      <th>GZ10.3_Cell_5</th>\n",
       "      <td>GZ10.3</td>\n",
       "    </tr>\n",
       "    <tr>\n",
       "      <th>GZ10.3_Cell_6</th>\n",
       "      <td>GZ10.3</td>\n",
       "    </tr>\n",
       "    <tr>\n",
       "      <th>GZ10.3_Cell_8</th>\n",
       "      <td>GZ10.3</td>\n",
       "    </tr>\n",
       "    <tr>\n",
       "      <th>GZ10.3_Cell_9</th>\n",
       "      <td>GZ10.3</td>\n",
       "    </tr>\n",
       "  </tbody>\n",
       "</table>\n",
       "</div>"
      ],
      "text/plain": [
       "              Sample_ID\n",
       "GZ10.3_Cell_3    GZ10.3\n",
       "GZ10.3_Cell_5    GZ10.3\n",
       "GZ10.3_Cell_6    GZ10.3\n",
       "GZ10.3_Cell_8    GZ10.3\n",
       "GZ10.3_Cell_9    GZ10.3"
      ]
     },
     "execution_count": 328,
     "metadata": {},
     "output_type": "execute_result"
    }
   ],
   "source": [
    "for_medians.loc[~for_medians['Sample_ID'].isin(['Patient_2', 'Patient_1']),['Sample_ID']].head()"
   ]
  },
  {
   "cell_type": "code",
   "execution_count": 329,
   "metadata": {},
   "outputs": [],
   "source": [
    "# Drop rows as necessary \n",
    "\n",
    "# Drop everything that isn't 'Patient_1'\n",
    "drop_indices = for_medians.loc[for_medians['Sample_ID'] != 'Patient_1',:].index\n",
    "\n",
    "# Or maybe we want to drop everything that isn't 'Patient_1' or 'Patient_2'\n",
    "drop_indices = for_medians.loc[~for_medians['Sample_ID'].isin(['Patient_2', 'Patient_1']),:].index\n",
    "\n",
    "# The portion through \"drop(drop_indices)\" gives us a dataframe with the rows we don't want removed\n",
    "for_medians = for_medians.drop(drop_indices)"
   ]
  },
  {
   "cell_type": "markdown",
   "metadata": {},
   "source": [
    "Remember `for_medians` is just our regular df with the 'Sample_ID' label changed to reflect our groupings for the visualization."
   ]
  },
  {
   "cell_type": "code",
   "execution_count": 335,
   "metadata": {},
   "outputs": [
    {
     "data": {
      "text/html": [
       "<div>\n",
       "<style scoped>\n",
       "    .dataframe tbody tr th:only-of-type {\n",
       "        vertical-align: middle;\n",
       "    }\n",
       "\n",
       "    .dataframe tbody tr th {\n",
       "        vertical-align: top;\n",
       "    }\n",
       "\n",
       "    .dataframe thead th {\n",
       "        text-align: right;\n",
       "    }\n",
       "</style>\n",
       "<table border=\"1\" class=\"dataframe\">\n",
       "  <thead>\n",
       "    <tr style=\"text-align: right;\">\n",
       "      <th></th>\n",
       "      <th>53BP1_Cell_Intensity_Average</th>\n",
       "      <th>AXL_Cell_Intensity_Average</th>\n",
       "      <th>CCNA2_Cell_Intensity_Average</th>\n",
       "      <th>CCND1_Cell_Intensity_Average</th>\n",
       "      <th>CD45_Cell_Intensity_Average</th>\n",
       "      <th>CD4_Cell_Intensity_Average</th>\n",
       "      <th>CD68_Cell_Intensity_Average</th>\n",
       "      <th>CD8_Cell_Intensity_Average</th>\n",
       "      <th>Cell_Size</th>\n",
       "      <th>EGFR_Cell_Intensity_Average</th>\n",
       "      <th>...</th>\n",
       "      <th>p75_Cell_Intensity_Average</th>\n",
       "      <th>pATM_Cell_Intensity_Average</th>\n",
       "      <th>pATR_Cell_Intensity_Average</th>\n",
       "      <th>pCHK2_Cell_Intensity_Average</th>\n",
       "      <th>pEGFR_Cell_Intensity_Average</th>\n",
       "      <th>pGSK3b_Cell_Intensity_Average</th>\n",
       "      <th>pH2AX_Cell_Intensity_Average</th>\n",
       "      <th>pHH3_Cell_Intensity_Average</th>\n",
       "      <th>pS6_Cell_Intensity_Average</th>\n",
       "      <th>cluster</th>\n",
       "    </tr>\n",
       "  </thead>\n",
       "  <tbody>\n",
       "    <tr>\n",
       "      <th>GZ10.1_Cell_0</th>\n",
       "      <td>-0.313459</td>\n",
       "      <td>-1.490272</td>\n",
       "      <td>-1.908790</td>\n",
       "      <td>-0.030991</td>\n",
       "      <td>-0.941220</td>\n",
       "      <td>-1.310224</td>\n",
       "      <td>-2.356702</td>\n",
       "      <td>-0.599582</td>\n",
       "      <td>269</td>\n",
       "      <td>-2.376797</td>\n",
       "      <td>...</td>\n",
       "      <td>-0.600528</td>\n",
       "      <td>-1.295570</td>\n",
       "      <td>-0.157697</td>\n",
       "      <td>-0.202299</td>\n",
       "      <td>-0.470776</td>\n",
       "      <td>-0.516484</td>\n",
       "      <td>3.799354</td>\n",
       "      <td>1.446353</td>\n",
       "      <td>-1.842134</td>\n",
       "      <td>3</td>\n",
       "    </tr>\n",
       "    <tr>\n",
       "      <th>GZ10.1_Cell_1</th>\n",
       "      <td>-0.224284</td>\n",
       "      <td>-0.934921</td>\n",
       "      <td>-1.949701</td>\n",
       "      <td>0.532423</td>\n",
       "      <td>-0.368662</td>\n",
       "      <td>-1.107055</td>\n",
       "      <td>-1.929954</td>\n",
       "      <td>-0.309925</td>\n",
       "      <td>275</td>\n",
       "      <td>-1.636028</td>\n",
       "      <td>...</td>\n",
       "      <td>-0.661293</td>\n",
       "      <td>-0.768085</td>\n",
       "      <td>-0.074061</td>\n",
       "      <td>-0.007423</td>\n",
       "      <td>-0.154490</td>\n",
       "      <td>-0.408859</td>\n",
       "      <td>3.373923</td>\n",
       "      <td>1.650604</td>\n",
       "      <td>-1.296788</td>\n",
       "      <td>3</td>\n",
       "    </tr>\n",
       "    <tr>\n",
       "      <th>GZ10.1_Cell_2</th>\n",
       "      <td>-0.076372</td>\n",
       "      <td>-0.123388</td>\n",
       "      <td>-1.386587</td>\n",
       "      <td>0.602092</td>\n",
       "      <td>0.728197</td>\n",
       "      <td>-0.402504</td>\n",
       "      <td>-0.833136</td>\n",
       "      <td>-0.100044</td>\n",
       "      <td>350</td>\n",
       "      <td>-0.464833</td>\n",
       "      <td>...</td>\n",
       "      <td>0.067070</td>\n",
       "      <td>0.277743</td>\n",
       "      <td>0.210888</td>\n",
       "      <td>0.545117</td>\n",
       "      <td>0.638038</td>\n",
       "      <td>0.148099</td>\n",
       "      <td>0.581417</td>\n",
       "      <td>1.938810</td>\n",
       "      <td>-0.968799</td>\n",
       "      <td>3</td>\n",
       "    </tr>\n",
       "    <tr>\n",
       "      <th>GZ10.1_Cell_3</th>\n",
       "      <td>0.144388</td>\n",
       "      <td>0.357853</td>\n",
       "      <td>-1.470081</td>\n",
       "      <td>-0.153387</td>\n",
       "      <td>-0.132831</td>\n",
       "      <td>-0.629220</td>\n",
       "      <td>-1.362529</td>\n",
       "      <td>-0.441941</td>\n",
       "      <td>401</td>\n",
       "      <td>0.645337</td>\n",
       "      <td>...</td>\n",
       "      <td>-0.432479</td>\n",
       "      <td>-0.602506</td>\n",
       "      <td>-0.022230</td>\n",
       "      <td>0.034898</td>\n",
       "      <td>0.175696</td>\n",
       "      <td>-0.227726</td>\n",
       "      <td>-0.833045</td>\n",
       "      <td>1.461031</td>\n",
       "      <td>-1.060958</td>\n",
       "      <td>3</td>\n",
       "    </tr>\n",
       "    <tr>\n",
       "      <th>GZ10.1_Cell_5</th>\n",
       "      <td>-0.713853</td>\n",
       "      <td>-1.829997</td>\n",
       "      <td>-1.918342</td>\n",
       "      <td>-0.572318</td>\n",
       "      <td>-1.598074</td>\n",
       "      <td>-1.176421</td>\n",
       "      <td>-2.926279</td>\n",
       "      <td>-0.406564</td>\n",
       "      <td>297</td>\n",
       "      <td>-2.996690</td>\n",
       "      <td>...</td>\n",
       "      <td>-0.494123</td>\n",
       "      <td>-1.620609</td>\n",
       "      <td>0.368587</td>\n",
       "      <td>-0.325021</td>\n",
       "      <td>-0.827885</td>\n",
       "      <td>-0.598653</td>\n",
       "      <td>4.252290</td>\n",
       "      <td>2.725074</td>\n",
       "      <td>-1.934794</td>\n",
       "      <td>3</td>\n",
       "    </tr>\n",
       "  </tbody>\n",
       "</table>\n",
       "<p>5 rows × 38 columns</p>\n",
       "</div>"
      ],
      "text/plain": [
       "               53BP1_Cell_Intensity_Average  AXL_Cell_Intensity_Average  \\\n",
       "GZ10.1_Cell_0                     -0.313459                   -1.490272   \n",
       "GZ10.1_Cell_1                     -0.224284                   -0.934921   \n",
       "GZ10.1_Cell_2                     -0.076372                   -0.123388   \n",
       "GZ10.1_Cell_3                      0.144388                    0.357853   \n",
       "GZ10.1_Cell_5                     -0.713853                   -1.829997   \n",
       "\n",
       "               CCNA2_Cell_Intensity_Average  CCND1_Cell_Intensity_Average  \\\n",
       "GZ10.1_Cell_0                     -1.908790                     -0.030991   \n",
       "GZ10.1_Cell_1                     -1.949701                      0.532423   \n",
       "GZ10.1_Cell_2                     -1.386587                      0.602092   \n",
       "GZ10.1_Cell_3                     -1.470081                     -0.153387   \n",
       "GZ10.1_Cell_5                     -1.918342                     -0.572318   \n",
       "\n",
       "               CD45_Cell_Intensity_Average  CD4_Cell_Intensity_Average  \\\n",
       "GZ10.1_Cell_0                    -0.941220                   -1.310224   \n",
       "GZ10.1_Cell_1                    -0.368662                   -1.107055   \n",
       "GZ10.1_Cell_2                     0.728197                   -0.402504   \n",
       "GZ10.1_Cell_3                    -0.132831                   -0.629220   \n",
       "GZ10.1_Cell_5                    -1.598074                   -1.176421   \n",
       "\n",
       "               CD68_Cell_Intensity_Average  CD8_Cell_Intensity_Average  \\\n",
       "GZ10.1_Cell_0                    -2.356702                   -0.599582   \n",
       "GZ10.1_Cell_1                    -1.929954                   -0.309925   \n",
       "GZ10.1_Cell_2                    -0.833136                   -0.100044   \n",
       "GZ10.1_Cell_3                    -1.362529                   -0.441941   \n",
       "GZ10.1_Cell_5                    -2.926279                   -0.406564   \n",
       "\n",
       "               Cell_Size  EGFR_Cell_Intensity_Average  ...  \\\n",
       "GZ10.1_Cell_0        269                    -2.376797  ...   \n",
       "GZ10.1_Cell_1        275                    -1.636028  ...   \n",
       "GZ10.1_Cell_2        350                    -0.464833  ...   \n",
       "GZ10.1_Cell_3        401                     0.645337  ...   \n",
       "GZ10.1_Cell_5        297                    -2.996690  ...   \n",
       "\n",
       "               p75_Cell_Intensity_Average  pATM_Cell_Intensity_Average  \\\n",
       "GZ10.1_Cell_0                   -0.600528                    -1.295570   \n",
       "GZ10.1_Cell_1                   -0.661293                    -0.768085   \n",
       "GZ10.1_Cell_2                    0.067070                     0.277743   \n",
       "GZ10.1_Cell_3                   -0.432479                    -0.602506   \n",
       "GZ10.1_Cell_5                   -0.494123                    -1.620609   \n",
       "\n",
       "               pATR_Cell_Intensity_Average  pCHK2_Cell_Intensity_Average  \\\n",
       "GZ10.1_Cell_0                    -0.157697                     -0.202299   \n",
       "GZ10.1_Cell_1                    -0.074061                     -0.007423   \n",
       "GZ10.1_Cell_2                     0.210888                      0.545117   \n",
       "GZ10.1_Cell_3                    -0.022230                      0.034898   \n",
       "GZ10.1_Cell_5                     0.368587                     -0.325021   \n",
       "\n",
       "               pEGFR_Cell_Intensity_Average  pGSK3b_Cell_Intensity_Average  \\\n",
       "GZ10.1_Cell_0                     -0.470776                      -0.516484   \n",
       "GZ10.1_Cell_1                     -0.154490                      -0.408859   \n",
       "GZ10.1_Cell_2                      0.638038                       0.148099   \n",
       "GZ10.1_Cell_3                      0.175696                      -0.227726   \n",
       "GZ10.1_Cell_5                     -0.827885                      -0.598653   \n",
       "\n",
       "               pH2AX_Cell_Intensity_Average  pHH3_Cell_Intensity_Average  \\\n",
       "GZ10.1_Cell_0                      3.799354                     1.446353   \n",
       "GZ10.1_Cell_1                      3.373923                     1.650604   \n",
       "GZ10.1_Cell_2                      0.581417                     1.938810   \n",
       "GZ10.1_Cell_3                     -0.833045                     1.461031   \n",
       "GZ10.1_Cell_5                      4.252290                     2.725074   \n",
       "\n",
       "               pS6_Cell_Intensity_Average  cluster  \n",
       "GZ10.1_Cell_0                   -1.842134        3  \n",
       "GZ10.1_Cell_1                   -1.296788        3  \n",
       "GZ10.1_Cell_2                   -0.968799        3  \n",
       "GZ10.1_Cell_3                   -1.060958        3  \n",
       "GZ10.1_Cell_5                   -1.934794        3  \n",
       "\n",
       "[5 rows x 38 columns]"
      ]
     },
     "execution_count": 335,
     "metadata": {},
     "output_type": "execute_result"
    }
   ],
   "source": [
    "for_medians.head()"
   ]
  },
  {
   "cell_type": "markdown",
   "metadata": {},
   "source": [
    "Now let's incorporate our cutoff. We want to avoid plotting any cluster that makes up less than *x*% of that subset of data. Now that we have counts across all samples we want to group together, we can calculate the proprotion of each cluster contribution to that grouping."
   ]
  },
  {
   "cell_type": "code",
   "execution_count": 289,
   "metadata": {},
   "outputs": [
    {
     "data": {
      "text/html": [
       "<div>\n",
       "<style scoped>\n",
       "    .dataframe tbody tr th:only-of-type {\n",
       "        vertical-align: middle;\n",
       "    }\n",
       "\n",
       "    .dataframe tbody tr th {\n",
       "        vertical-align: top;\n",
       "    }\n",
       "\n",
       "    .dataframe thead th {\n",
       "        text-align: right;\n",
       "    }\n",
       "</style>\n",
       "<table border=\"1\" class=\"dataframe\">\n",
       "  <thead>\n",
       "    <tr style=\"text-align: right;\">\n",
       "      <th>cluster</th>\n",
       "      <th>1</th>\n",
       "      <th>2</th>\n",
       "      <th>3</th>\n",
       "      <th>4</th>\n",
       "      <th>5</th>\n",
       "    </tr>\n",
       "    <tr>\n",
       "      <th>Sample_ID</th>\n",
       "      <th></th>\n",
       "      <th></th>\n",
       "      <th></th>\n",
       "      <th></th>\n",
       "      <th></th>\n",
       "    </tr>\n",
       "  </thead>\n",
       "  <tbody>\n",
       "    <tr>\n",
       "      <th>GZ10.3</th>\n",
       "      <td>11.3</td>\n",
       "      <td>3.2</td>\n",
       "      <td>84.0</td>\n",
       "      <td>1.3</td>\n",
       "      <td>0.2</td>\n",
       "    </tr>\n",
       "    <tr>\n",
       "      <th>GZ6</th>\n",
       "      <td>0.5</td>\n",
       "      <td>97.6</td>\n",
       "      <td>0.7</td>\n",
       "      <td>1.2</td>\n",
       "      <td>0.0</td>\n",
       "    </tr>\n",
       "    <tr>\n",
       "      <th>Patient_1</th>\n",
       "      <td>6.4</td>\n",
       "      <td>0.5</td>\n",
       "      <td>90.8</td>\n",
       "      <td>2.0</td>\n",
       "      <td>0.3</td>\n",
       "    </tr>\n",
       "    <tr>\n",
       "      <th>Patient_2</th>\n",
       "      <td>57.6</td>\n",
       "      <td>0.1</td>\n",
       "      <td>0.7</td>\n",
       "      <td>35.8</td>\n",
       "      <td>5.7</td>\n",
       "    </tr>\n",
       "  </tbody>\n",
       "</table>\n",
       "</div>"
      ],
      "text/plain": [
       "cluster       1     2     3     4    5\n",
       "Sample_ID                             \n",
       "GZ10.3     11.3   3.2  84.0   1.3  0.2\n",
       "GZ6         0.5  97.6   0.7   1.2  0.0\n",
       "Patient_1   6.4   0.5  90.8   2.0  0.3\n",
       "Patient_2  57.6   0.1   0.7  35.8  5.7"
      ]
     },
     "execution_count": 289,
     "metadata": {},
     "output_type": "execute_result"
    }
   ],
   "source": [
    "# Create a dataframe of the proportions.\n",
    "# Note that the *100 part of the command means that\n",
    "# we are dealing percentages, not proportions, so\n",
    "# that's a bit of a misnomer\n",
    "\n",
    "props_subset = \\\n",
    "        counts_subset.apply(\n",
    "            lambda row: round(row/row.sum()*100,1), axis =1)\n",
    "\n",
    "props_subset"
   ]
  },
  {
   "cell_type": "code",
   "execution_count": 291,
   "metadata": {},
   "outputs": [
    {
     "data": {
      "text/html": [
       "<div>\n",
       "<style scoped>\n",
       "    .dataframe tbody tr th:only-of-type {\n",
       "        vertical-align: middle;\n",
       "    }\n",
       "\n",
       "    .dataframe tbody tr th {\n",
       "        vertical-align: top;\n",
       "    }\n",
       "\n",
       "    .dataframe thead th {\n",
       "        text-align: right;\n",
       "    }\n",
       "</style>\n",
       "<table border=\"1\" class=\"dataframe\">\n",
       "  <thead>\n",
       "    <tr style=\"text-align: right;\">\n",
       "      <th>cluster</th>\n",
       "      <th>1</th>\n",
       "      <th>2</th>\n",
       "      <th>3</th>\n",
       "      <th>4</th>\n",
       "      <th>5</th>\n",
       "    </tr>\n",
       "    <tr>\n",
       "      <th>Sample_ID</th>\n",
       "      <th></th>\n",
       "      <th></th>\n",
       "      <th></th>\n",
       "      <th></th>\n",
       "      <th></th>\n",
       "    </tr>\n",
       "  </thead>\n",
       "  <tbody>\n",
       "    <tr>\n",
       "      <th>GZ10.3</th>\n",
       "      <td>True</td>\n",
       "      <td>False</td>\n",
       "      <td>True</td>\n",
       "      <td>False</td>\n",
       "      <td>False</td>\n",
       "    </tr>\n",
       "    <tr>\n",
       "      <th>GZ6</th>\n",
       "      <td>False</td>\n",
       "      <td>True</td>\n",
       "      <td>False</td>\n",
       "      <td>False</td>\n",
       "      <td>False</td>\n",
       "    </tr>\n",
       "    <tr>\n",
       "      <th>Patient_1</th>\n",
       "      <td>True</td>\n",
       "      <td>False</td>\n",
       "      <td>True</td>\n",
       "      <td>False</td>\n",
       "      <td>False</td>\n",
       "    </tr>\n",
       "    <tr>\n",
       "      <th>Patient_2</th>\n",
       "      <td>True</td>\n",
       "      <td>False</td>\n",
       "      <td>False</td>\n",
       "      <td>True</td>\n",
       "      <td>True</td>\n",
       "    </tr>\n",
       "  </tbody>\n",
       "</table>\n",
       "</div>"
      ],
      "text/plain": [
       "cluster        1      2      3      4      5\n",
       "Sample_ID                                   \n",
       "GZ10.3      True  False   True  False  False\n",
       "GZ6        False   True  False  False  False\n",
       "Patient_1   True  False   True  False  False\n",
       "Patient_2   True  False  False   True   True"
      ]
     },
     "execution_count": 291,
     "metadata": {},
     "output_type": "execute_result"
    }
   ],
   "source": [
    "# cutoff should be a percentage, not a proportion\n",
    "cutoff = 5\n",
    "\n",
    "# We will create a dataframe of boolean T/F\n",
    "# values, signifying whether the value of a\n",
    "# given grouping (row) and cluster (columns)\n",
    "# meets the inclusion criteria\n",
    "props_subset_bool = props_subset.apply(\n",
    "    lambda row: row >= cutoff, axis = 1)\n",
    "\n",
    "props_subset_bool"
   ]
  },
  {
   "cell_type": "markdown",
   "metadata": {},
   "source": [
    "Let's go ahead and create our `medians` dataframe now. This will be a dataframe where each row represents the medians values for markers for each sample-cluster combination."
   ]
  },
  {
   "cell_type": "code",
   "execution_count": 358,
   "metadata": {},
   "outputs": [
    {
     "data": {
      "text/plain": [
       "array(['Cell_Size', 'Nuc_X', 'Nuc_X_Inv', 'Nuc_Y', 'Nuc_Y_Inv',\n",
       "       'Nucleus_Size', 'ROI_index'], dtype=object)"
      ]
     },
     "execution_count": 358,
     "metadata": {},
     "output_type": "execute_result"
    }
   ],
   "source": [
    "medians.columns[medians.columns.isin(not_intensities)].values"
   ]
  },
  {
   "cell_type": "code",
   "execution_count": 359,
   "metadata": {},
   "outputs": [],
   "source": [
    "# first group by our features of interest\n",
    "medians = for_medians.copy().groupby(['Sample_ID','cluster']).median()\n",
    "\n",
    "# then drop all columns that are not markers\n",
    "medians = medians.drop(columns = medians.columns[medians.columns.isin(not_intensities)].values)\n"
   ]
  },
  {
   "cell_type": "code",
   "execution_count": 360,
   "metadata": {},
   "outputs": [
    {
     "data": {
      "text/html": [
       "<div>\n",
       "<style scoped>\n",
       "    .dataframe tbody tr th:only-of-type {\n",
       "        vertical-align: middle;\n",
       "    }\n",
       "\n",
       "    .dataframe tbody tr th {\n",
       "        vertical-align: top;\n",
       "    }\n",
       "\n",
       "    .dataframe thead th {\n",
       "        text-align: right;\n",
       "    }\n",
       "</style>\n",
       "<table border=\"1\" class=\"dataframe\">\n",
       "  <thead>\n",
       "    <tr style=\"text-align: right;\">\n",
       "      <th></th>\n",
       "      <th></th>\n",
       "      <th>53BP1_Cell_Intensity_Average</th>\n",
       "      <th>AXL_Cell_Intensity_Average</th>\n",
       "      <th>CCNA2_Cell_Intensity_Average</th>\n",
       "      <th>CCND1_Cell_Intensity_Average</th>\n",
       "      <th>CD45_Cell_Intensity_Average</th>\n",
       "      <th>CD4_Cell_Intensity_Average</th>\n",
       "      <th>CD68_Cell_Intensity_Average</th>\n",
       "      <th>CD8_Cell_Intensity_Average</th>\n",
       "      <th>EGFR_Cell_Intensity_Average</th>\n",
       "      <th>Ecad_Cell_Intensity_Average</th>\n",
       "      <th>...</th>\n",
       "      <th>p4EBP1_Cell_Intensity_Average</th>\n",
       "      <th>p75_Cell_Intensity_Average</th>\n",
       "      <th>pATM_Cell_Intensity_Average</th>\n",
       "      <th>pATR_Cell_Intensity_Average</th>\n",
       "      <th>pCHK2_Cell_Intensity_Average</th>\n",
       "      <th>pEGFR_Cell_Intensity_Average</th>\n",
       "      <th>pGSK3b_Cell_Intensity_Average</th>\n",
       "      <th>pH2AX_Cell_Intensity_Average</th>\n",
       "      <th>pHH3_Cell_Intensity_Average</th>\n",
       "      <th>pS6_Cell_Intensity_Average</th>\n",
       "    </tr>\n",
       "    <tr>\n",
       "      <th>Sample_ID</th>\n",
       "      <th>cluster</th>\n",
       "      <th></th>\n",
       "      <th></th>\n",
       "      <th></th>\n",
       "      <th></th>\n",
       "      <th></th>\n",
       "      <th></th>\n",
       "      <th></th>\n",
       "      <th></th>\n",
       "      <th></th>\n",
       "      <th></th>\n",
       "      <th></th>\n",
       "      <th></th>\n",
       "      <th></th>\n",
       "      <th></th>\n",
       "      <th></th>\n",
       "      <th></th>\n",
       "      <th></th>\n",
       "      <th></th>\n",
       "      <th></th>\n",
       "      <th></th>\n",
       "      <th></th>\n",
       "    </tr>\n",
       "  </thead>\n",
       "  <tbody>\n",
       "    <tr>\n",
       "      <th rowspan=\"5\" valign=\"top\">Patient_1</th>\n",
       "      <th>1</th>\n",
       "      <td>-0.031962</td>\n",
       "      <td>-0.060462</td>\n",
       "      <td>-0.862143</td>\n",
       "      <td>0.929612</td>\n",
       "      <td>0.610899</td>\n",
       "      <td>-0.115217</td>\n",
       "      <td>-0.120079</td>\n",
       "      <td>-0.168531</td>\n",
       "      <td>-0.313190</td>\n",
       "      <td>-0.740761</td>\n",
       "      <td>...</td>\n",
       "      <td>0.718832</td>\n",
       "      <td>0.979890</td>\n",
       "      <td>0.368281</td>\n",
       "      <td>-1.017380</td>\n",
       "      <td>0.411211</td>\n",
       "      <td>0.896252</td>\n",
       "      <td>0.426266</td>\n",
       "      <td>0.188878</td>\n",
       "      <td>1.004684</td>\n",
       "      <td>-0.539767</td>\n",
       "    </tr>\n",
       "    <tr>\n",
       "      <th>2</th>\n",
       "      <td>-0.243953</td>\n",
       "      <td>-0.005985</td>\n",
       "      <td>-0.815442</td>\n",
       "      <td>0.554049</td>\n",
       "      <td>0.287237</td>\n",
       "      <td>-0.200906</td>\n",
       "      <td>-0.050600</td>\n",
       "      <td>0.160717</td>\n",
       "      <td>-0.346085</td>\n",
       "      <td>-0.685195</td>\n",
       "      <td>...</td>\n",
       "      <td>0.203331</td>\n",
       "      <td>0.497410</td>\n",
       "      <td>0.303771</td>\n",
       "      <td>-0.264099</td>\n",
       "      <td>0.074603</td>\n",
       "      <td>0.926947</td>\n",
       "      <td>-0.114465</td>\n",
       "      <td>0.225544</td>\n",
       "      <td>1.225202</td>\n",
       "      <td>-0.464156</td>\n",
       "    </tr>\n",
       "    <tr>\n",
       "      <th>3</th>\n",
       "      <td>-0.468448</td>\n",
       "      <td>-1.051417</td>\n",
       "      <td>-1.774718</td>\n",
       "      <td>0.585847</td>\n",
       "      <td>0.318270</td>\n",
       "      <td>-0.464545</td>\n",
       "      <td>-1.182732</td>\n",
       "      <td>0.201957</td>\n",
       "      <td>-1.351294</td>\n",
       "      <td>-1.213925</td>\n",
       "      <td>...</td>\n",
       "      <td>-0.521216</td>\n",
       "      <td>0.449299</td>\n",
       "      <td>-0.688386</td>\n",
       "      <td>-0.608086</td>\n",
       "      <td>-0.565202</td>\n",
       "      <td>0.374847</td>\n",
       "      <td>-0.681843</td>\n",
       "      <td>-0.827789</td>\n",
       "      <td>1.198639</td>\n",
       "      <td>-1.205414</td>\n",
       "    </tr>\n",
       "    <tr>\n",
       "      <th>4</th>\n",
       "      <td>-0.308485</td>\n",
       "      <td>-0.016867</td>\n",
       "      <td>-1.223605</td>\n",
       "      <td>1.078379</td>\n",
       "      <td>-0.051843</td>\n",
       "      <td>-0.148371</td>\n",
       "      <td>-0.685036</td>\n",
       "      <td>-0.308844</td>\n",
       "      <td>-0.462385</td>\n",
       "      <td>-1.055158</td>\n",
       "      <td>...</td>\n",
       "      <td>-0.277508</td>\n",
       "      <td>1.906685</td>\n",
       "      <td>-0.172934</td>\n",
       "      <td>-1.026430</td>\n",
       "      <td>0.009511</td>\n",
       "      <td>0.482026</td>\n",
       "      <td>-0.125187</td>\n",
       "      <td>-0.165960</td>\n",
       "      <td>0.596825</td>\n",
       "      <td>-0.335677</td>\n",
       "    </tr>\n",
       "    <tr>\n",
       "      <th>5</th>\n",
       "      <td>-0.397636</td>\n",
       "      <td>-0.509891</td>\n",
       "      <td>-1.703144</td>\n",
       "      <td>0.079274</td>\n",
       "      <td>1.273371</td>\n",
       "      <td>1.561943</td>\n",
       "      <td>-0.164632</td>\n",
       "      <td>0.350445</td>\n",
       "      <td>-1.119041</td>\n",
       "      <td>-1.234955</td>\n",
       "      <td>...</td>\n",
       "      <td>0.454990</td>\n",
       "      <td>0.654630</td>\n",
       "      <td>-0.703473</td>\n",
       "      <td>-1.292551</td>\n",
       "      <td>-0.129217</td>\n",
       "      <td>1.321875</td>\n",
       "      <td>-0.829639</td>\n",
       "      <td>-0.646054</td>\n",
       "      <td>0.682100</td>\n",
       "      <td>-0.164306</td>\n",
       "    </tr>\n",
       "  </tbody>\n",
       "</table>\n",
       "<p>5 rows × 28 columns</p>\n",
       "</div>"
      ],
      "text/plain": [
       "                   53BP1_Cell_Intensity_Average  AXL_Cell_Intensity_Average  \\\n",
       "Sample_ID cluster                                                             \n",
       "Patient_1 1                           -0.031962                   -0.060462   \n",
       "          2                           -0.243953                   -0.005985   \n",
       "          3                           -0.468448                   -1.051417   \n",
       "          4                           -0.308485                   -0.016867   \n",
       "          5                           -0.397636                   -0.509891   \n",
       "\n",
       "                   CCNA2_Cell_Intensity_Average  CCND1_Cell_Intensity_Average  \\\n",
       "Sample_ID cluster                                                               \n",
       "Patient_1 1                           -0.862143                      0.929612   \n",
       "          2                           -0.815442                      0.554049   \n",
       "          3                           -1.774718                      0.585847   \n",
       "          4                           -1.223605                      1.078379   \n",
       "          5                           -1.703144                      0.079274   \n",
       "\n",
       "                   CD45_Cell_Intensity_Average  CD4_Cell_Intensity_Average  \\\n",
       "Sample_ID cluster                                                            \n",
       "Patient_1 1                           0.610899                   -0.115217   \n",
       "          2                           0.287237                   -0.200906   \n",
       "          3                           0.318270                   -0.464545   \n",
       "          4                          -0.051843                   -0.148371   \n",
       "          5                           1.273371                    1.561943   \n",
       "\n",
       "                   CD68_Cell_Intensity_Average  CD8_Cell_Intensity_Average  \\\n",
       "Sample_ID cluster                                                            \n",
       "Patient_1 1                          -0.120079                   -0.168531   \n",
       "          2                          -0.050600                    0.160717   \n",
       "          3                          -1.182732                    0.201957   \n",
       "          4                          -0.685036                   -0.308844   \n",
       "          5                          -0.164632                    0.350445   \n",
       "\n",
       "                   EGFR_Cell_Intensity_Average  Ecad_Cell_Intensity_Average  \\\n",
       "Sample_ID cluster                                                             \n",
       "Patient_1 1                          -0.313190                    -0.740761   \n",
       "          2                          -0.346085                    -0.685195   \n",
       "          3                          -1.351294                    -1.213925   \n",
       "          4                          -0.462385                    -1.055158   \n",
       "          5                          -1.119041                    -1.234955   \n",
       "\n",
       "                   ...  p4EBP1_Cell_Intensity_Average  \\\n",
       "Sample_ID cluster  ...                                  \n",
       "Patient_1 1        ...                       0.718832   \n",
       "          2        ...                       0.203331   \n",
       "          3        ...                      -0.521216   \n",
       "          4        ...                      -0.277508   \n",
       "          5        ...                       0.454990   \n",
       "\n",
       "                   p75_Cell_Intensity_Average  pATM_Cell_Intensity_Average  \\\n",
       "Sample_ID cluster                                                            \n",
       "Patient_1 1                          0.979890                     0.368281   \n",
       "          2                          0.497410                     0.303771   \n",
       "          3                          0.449299                    -0.688386   \n",
       "          4                          1.906685                    -0.172934   \n",
       "          5                          0.654630                    -0.703473   \n",
       "\n",
       "                   pATR_Cell_Intensity_Average  pCHK2_Cell_Intensity_Average  \\\n",
       "Sample_ID cluster                                                              \n",
       "Patient_1 1                          -1.017380                      0.411211   \n",
       "          2                          -0.264099                      0.074603   \n",
       "          3                          -0.608086                     -0.565202   \n",
       "          4                          -1.026430                      0.009511   \n",
       "          5                          -1.292551                     -0.129217   \n",
       "\n",
       "                   pEGFR_Cell_Intensity_Average  \\\n",
       "Sample_ID cluster                                 \n",
       "Patient_1 1                            0.896252   \n",
       "          2                            0.926947   \n",
       "          3                            0.374847   \n",
       "          4                            0.482026   \n",
       "          5                            1.321875   \n",
       "\n",
       "                   pGSK3b_Cell_Intensity_Average  \\\n",
       "Sample_ID cluster                                  \n",
       "Patient_1 1                             0.426266   \n",
       "          2                            -0.114465   \n",
       "          3                            -0.681843   \n",
       "          4                            -0.125187   \n",
       "          5                            -0.829639   \n",
       "\n",
       "                   pH2AX_Cell_Intensity_Average  pHH3_Cell_Intensity_Average  \\\n",
       "Sample_ID cluster                                                              \n",
       "Patient_1 1                            0.188878                     1.004684   \n",
       "          2                            0.225544                     1.225202   \n",
       "          3                           -0.827789                     1.198639   \n",
       "          4                           -0.165960                     0.596825   \n",
       "          5                           -0.646054                     0.682100   \n",
       "\n",
       "                   pS6_Cell_Intensity_Average  \n",
       "Sample_ID cluster                              \n",
       "Patient_1 1                         -0.539767  \n",
       "          2                         -0.464156  \n",
       "          3                         -1.205414  \n",
       "          4                         -0.335677  \n",
       "          5                         -0.164306  \n",
       "\n",
       "[5 rows x 28 columns]"
      ]
     },
     "execution_count": 360,
     "metadata": {},
     "output_type": "execute_result"
    }
   ],
   "source": [
    "# Visualize medians\n",
    "medians.head()"
   ]
  },
  {
   "cell_type": "markdown",
   "metadata": {},
   "source": [
    "What we have here is a multiindex dataframe. We have two layers of row indexing, `Sample_ID` and `cluster`."
   ]
  },
  {
   "cell_type": "markdown",
   "metadata": {},
   "source": [
    "Using `medians` and `props_subset_bool`, drop all indices in `medians` where the sample-cluster combination does not meet our proportion threshold cutoff"
   ]
  },
  {
   "cell_type": "code",
   "execution_count": 396,
   "metadata": {},
   "outputs": [
    {
     "name": "stdout",
     "output_type": "stream",
     "text": [
      "('Patient_1', 1)\n",
      "('Patient_1', 2)\n",
      "('Patient_1', 3)\n",
      "('Patient_1', 4)\n",
      "('Patient_1', 5)\n",
      "Dropping the following patient/cluster data from plotting due to proportion threshold failure: [('Patient_1', 2), ('Patient_1', 4), ('Patient_1', 5)]\n"
     ]
    }
   ],
   "source": [
    "drop_indices = []\n",
    "# iterate through first five rows in medians\n",
    "for i in range(5):\n",
    "    print(medians.iloc[i,:].name)\n",
    "    # extract the sample and cluster IDs from that row\n",
    "    sample = medians.iloc[i,:].name[0]\n",
    "    cluster = medians.iloc[i,:].name[1]\n",
    "    # using those sample and cluster IDs, look inside props_subset_bool\n",
    "    # look at the value specified by the correct sample and cluster col/row\n",
    "    # that T/F value therein indicates whether this cluster should be used\n",
    "    # with this sample\n",
    "    use = props_subset_bool.loc[props_subset_bool.index == sample, props_subset_bool.columns == cluster].values[0][0]\n",
    "    if not use:\n",
    "        drop_indices.append(medians.iloc[i,:].name)\n",
    "\n",
    "print(\"Dropping the following patient/cluster data from plotting due to proportion threshold failure: \" + str([i for i in drop_indices]))\n",
    "medians = medians.drop(drop_indices)"
   ]
  },
  {
   "cell_type": "code",
   "execution_count": 404,
   "metadata": {},
   "outputs": [],
   "source": [
    "# Save output to a dataframe\n",
    "\n",
    "filename = \"medians_patient_1_patient_2.csv\"\n",
    "filename = os.path.join(output_data_dir, filename)\n",
    "medians.to_csv(filename, index = True)"
   ]
  },
  {
   "cell_type": "markdown",
   "metadata": {},
   "source": [
    "### Median value heatmap"
   ]
  },
  {
   "cell_type": "code",
   "execution_count": 409,
   "metadata": {},
   "outputs": [
    {
     "data": {
      "text/html": [
       "<div>\n",
       "<style scoped>\n",
       "    .dataframe tbody tr th:only-of-type {\n",
       "        vertical-align: middle;\n",
       "    }\n",
       "\n",
       "    .dataframe tbody tr th {\n",
       "        vertical-align: top;\n",
       "    }\n",
       "\n",
       "    .dataframe thead th {\n",
       "        text-align: right;\n",
       "    }\n",
       "</style>\n",
       "<table border=\"1\" class=\"dataframe\">\n",
       "  <thead>\n",
       "    <tr style=\"text-align: right;\">\n",
       "      <th></th>\n",
       "      <th></th>\n",
       "      <th>53BP1</th>\n",
       "      <th>AXL</th>\n",
       "      <th>CCNA2</th>\n",
       "      <th>CCND1</th>\n",
       "      <th>CD45</th>\n",
       "      <th>CD4</th>\n",
       "      <th>CD68</th>\n",
       "      <th>CD8</th>\n",
       "      <th>EGFR</th>\n",
       "      <th>Ecad</th>\n",
       "      <th>...</th>\n",
       "      <th>p4EBP1</th>\n",
       "      <th>p75</th>\n",
       "      <th>pATM</th>\n",
       "      <th>pATR</th>\n",
       "      <th>pCHK2</th>\n",
       "      <th>pEGFR</th>\n",
       "      <th>pGSK3b</th>\n",
       "      <th>pH2AX</th>\n",
       "      <th>pHH3</th>\n",
       "      <th>pS6</th>\n",
       "    </tr>\n",
       "    <tr>\n",
       "      <th>Sample_ID</th>\n",
       "      <th>cluster</th>\n",
       "      <th></th>\n",
       "      <th></th>\n",
       "      <th></th>\n",
       "      <th></th>\n",
       "      <th></th>\n",
       "      <th></th>\n",
       "      <th></th>\n",
       "      <th></th>\n",
       "      <th></th>\n",
       "      <th></th>\n",
       "      <th></th>\n",
       "      <th></th>\n",
       "      <th></th>\n",
       "      <th></th>\n",
       "      <th></th>\n",
       "      <th></th>\n",
       "      <th></th>\n",
       "      <th></th>\n",
       "      <th></th>\n",
       "      <th></th>\n",
       "      <th></th>\n",
       "    </tr>\n",
       "  </thead>\n",
       "  <tbody>\n",
       "    <tr>\n",
       "      <th rowspan=\"2\" valign=\"top\">Patient_1</th>\n",
       "      <th>1</th>\n",
       "      <td>-0.031962</td>\n",
       "      <td>-0.060462</td>\n",
       "      <td>-0.862143</td>\n",
       "      <td>0.929612</td>\n",
       "      <td>0.610899</td>\n",
       "      <td>-0.115217</td>\n",
       "      <td>-0.120079</td>\n",
       "      <td>-0.168531</td>\n",
       "      <td>-0.313190</td>\n",
       "      <td>-0.740761</td>\n",
       "      <td>...</td>\n",
       "      <td>0.718832</td>\n",
       "      <td>0.979890</td>\n",
       "      <td>0.368281</td>\n",
       "      <td>-1.017380</td>\n",
       "      <td>0.411211</td>\n",
       "      <td>0.896252</td>\n",
       "      <td>0.426266</td>\n",
       "      <td>0.188878</td>\n",
       "      <td>1.004684</td>\n",
       "      <td>-0.539767</td>\n",
       "    </tr>\n",
       "    <tr>\n",
       "      <th>3</th>\n",
       "      <td>-0.468448</td>\n",
       "      <td>-1.051417</td>\n",
       "      <td>-1.774718</td>\n",
       "      <td>0.585847</td>\n",
       "      <td>0.318270</td>\n",
       "      <td>-0.464545</td>\n",
       "      <td>-1.182732</td>\n",
       "      <td>0.201957</td>\n",
       "      <td>-1.351294</td>\n",
       "      <td>-1.213925</td>\n",
       "      <td>...</td>\n",
       "      <td>-0.521216</td>\n",
       "      <td>0.449299</td>\n",
       "      <td>-0.688386</td>\n",
       "      <td>-0.608086</td>\n",
       "      <td>-0.565202</td>\n",
       "      <td>0.374847</td>\n",
       "      <td>-0.681843</td>\n",
       "      <td>-0.827789</td>\n",
       "      <td>1.198639</td>\n",
       "      <td>-1.205414</td>\n",
       "    </tr>\n",
       "    <tr>\n",
       "      <th rowspan=\"5\" valign=\"top\">Patient_2</th>\n",
       "      <th>1</th>\n",
       "      <td>0.515818</td>\n",
       "      <td>0.188222</td>\n",
       "      <td>0.278210</td>\n",
       "      <td>0.665072</td>\n",
       "      <td>0.517189</td>\n",
       "      <td>0.784241</td>\n",
       "      <td>0.203215</td>\n",
       "      <td>-1.420497</td>\n",
       "      <td>0.080673</td>\n",
       "      <td>0.015209</td>\n",
       "      <td>...</td>\n",
       "      <td>0.180550</td>\n",
       "      <td>0.339601</td>\n",
       "      <td>0.799942</td>\n",
       "      <td>-0.220747</td>\n",
       "      <td>1.023409</td>\n",
       "      <td>-0.154092</td>\n",
       "      <td>0.606857</td>\n",
       "      <td>0.406286</td>\n",
       "      <td>-0.269666</td>\n",
       "      <td>0.150546</td>\n",
       "    </tr>\n",
       "    <tr>\n",
       "      <th>2</th>\n",
       "      <td>0.042837</td>\n",
       "      <td>-0.057661</td>\n",
       "      <td>0.581929</td>\n",
       "      <td>-0.265149</td>\n",
       "      <td>-0.314218</td>\n",
       "      <td>0.415998</td>\n",
       "      <td>0.769017</td>\n",
       "      <td>1.126706</td>\n",
       "      <td>0.129104</td>\n",
       "      <td>0.033677</td>\n",
       "      <td>...</td>\n",
       "      <td>-0.554251</td>\n",
       "      <td>0.059909</td>\n",
       "      <td>-0.301679</td>\n",
       "      <td>0.847557</td>\n",
       "      <td>-0.224109</td>\n",
       "      <td>-0.152974</td>\n",
       "      <td>-0.194242</td>\n",
       "      <td>-0.055251</td>\n",
       "      <td>-0.177807</td>\n",
       "      <td>0.389876</td>\n",
       "    </tr>\n",
       "    <tr>\n",
       "      <th>3</th>\n",
       "      <td>-1.185660</td>\n",
       "      <td>-1.225096</td>\n",
       "      <td>-0.154507</td>\n",
       "      <td>-1.219907</td>\n",
       "      <td>-1.559810</td>\n",
       "      <td>0.069224</td>\n",
       "      <td>-0.263947</td>\n",
       "      <td>1.401032</td>\n",
       "      <td>-0.796425</td>\n",
       "      <td>-0.680265</td>\n",
       "      <td>...</td>\n",
       "      <td>-1.624756</td>\n",
       "      <td>0.081014</td>\n",
       "      <td>-1.521579</td>\n",
       "      <td>-0.456779</td>\n",
       "      <td>-1.753897</td>\n",
       "      <td>-0.974303</td>\n",
       "      <td>-0.561791</td>\n",
       "      <td>-1.152051</td>\n",
       "      <td>2.829554</td>\n",
       "      <td>0.183903</td>\n",
       "    </tr>\n",
       "    <tr>\n",
       "      <th>4</th>\n",
       "      <td>-0.001006</td>\n",
       "      <td>-0.287960</td>\n",
       "      <td>-0.051135</td>\n",
       "      <td>0.395293</td>\n",
       "      <td>-0.584892</td>\n",
       "      <td>0.283525</td>\n",
       "      <td>-0.432062</td>\n",
       "      <td>-0.871922</td>\n",
       "      <td>-0.247486</td>\n",
       "      <td>-0.197519</td>\n",
       "      <td>...</td>\n",
       "      <td>-0.716181</td>\n",
       "      <td>0.418661</td>\n",
       "      <td>-0.186354</td>\n",
       "      <td>-0.516575</td>\n",
       "      <td>0.002503</td>\n",
       "      <td>-0.446782</td>\n",
       "      <td>0.222042</td>\n",
       "      <td>-0.183297</td>\n",
       "      <td>-0.670444</td>\n",
       "      <td>0.426147</td>\n",
       "    </tr>\n",
       "    <tr>\n",
       "      <th>5</th>\n",
       "      <td>-1.213474</td>\n",
       "      <td>-1.052838</td>\n",
       "      <td>-0.165091</td>\n",
       "      <td>-0.907102</td>\n",
       "      <td>1.210486</td>\n",
       "      <td>3.390390</td>\n",
       "      <td>-0.454755</td>\n",
       "      <td>0.447250</td>\n",
       "      <td>-1.628716</td>\n",
       "      <td>-1.000599</td>\n",
       "      <td>...</td>\n",
       "      <td>-0.257471</td>\n",
       "      <td>0.535301</td>\n",
       "      <td>-0.781052</td>\n",
       "      <td>-1.071462</td>\n",
       "      <td>-0.651513</td>\n",
       "      <td>0.226180</td>\n",
       "      <td>-0.607916</td>\n",
       "      <td>-0.991940</td>\n",
       "      <td>-0.903366</td>\n",
       "      <td>0.496771</td>\n",
       "    </tr>\n",
       "  </tbody>\n",
       "</table>\n",
       "<p>7 rows × 28 columns</p>\n",
       "</div>"
      ],
      "text/plain": [
       "                      53BP1       AXL     CCNA2     CCND1      CD45       CD4  \\\n",
       "Sample_ID cluster                                                               \n",
       "Patient_1 1       -0.031962 -0.060462 -0.862143  0.929612  0.610899 -0.115217   \n",
       "          3       -0.468448 -1.051417 -1.774718  0.585847  0.318270 -0.464545   \n",
       "Patient_2 1        0.515818  0.188222  0.278210  0.665072  0.517189  0.784241   \n",
       "          2        0.042837 -0.057661  0.581929 -0.265149 -0.314218  0.415998   \n",
       "          3       -1.185660 -1.225096 -0.154507 -1.219907 -1.559810  0.069224   \n",
       "          4       -0.001006 -0.287960 -0.051135  0.395293 -0.584892  0.283525   \n",
       "          5       -1.213474 -1.052838 -0.165091 -0.907102  1.210486  3.390390   \n",
       "\n",
       "                       CD68       CD8      EGFR      Ecad  ...    p4EBP1  \\\n",
       "Sample_ID cluster                                          ...             \n",
       "Patient_1 1       -0.120079 -0.168531 -0.313190 -0.740761  ...  0.718832   \n",
       "          3       -1.182732  0.201957 -1.351294 -1.213925  ... -0.521216   \n",
       "Patient_2 1        0.203215 -1.420497  0.080673  0.015209  ...  0.180550   \n",
       "          2        0.769017  1.126706  0.129104  0.033677  ... -0.554251   \n",
       "          3       -0.263947  1.401032 -0.796425 -0.680265  ... -1.624756   \n",
       "          4       -0.432062 -0.871922 -0.247486 -0.197519  ... -0.716181   \n",
       "          5       -0.454755  0.447250 -1.628716 -1.000599  ... -0.257471   \n",
       "\n",
       "                        p75      pATM      pATR     pCHK2     pEGFR    pGSK3b  \\\n",
       "Sample_ID cluster                                                               \n",
       "Patient_1 1        0.979890  0.368281 -1.017380  0.411211  0.896252  0.426266   \n",
       "          3        0.449299 -0.688386 -0.608086 -0.565202  0.374847 -0.681843   \n",
       "Patient_2 1        0.339601  0.799942 -0.220747  1.023409 -0.154092  0.606857   \n",
       "          2        0.059909 -0.301679  0.847557 -0.224109 -0.152974 -0.194242   \n",
       "          3        0.081014 -1.521579 -0.456779 -1.753897 -0.974303 -0.561791   \n",
       "          4        0.418661 -0.186354 -0.516575  0.002503 -0.446782  0.222042   \n",
       "          5        0.535301 -0.781052 -1.071462 -0.651513  0.226180 -0.607916   \n",
       "\n",
       "                      pH2AX      pHH3       pS6  \n",
       "Sample_ID cluster                                \n",
       "Patient_1 1        0.188878  1.004684 -0.539767  \n",
       "          3       -0.827789  1.198639 -1.205414  \n",
       "Patient_2 1        0.406286 -0.269666  0.150546  \n",
       "          2       -0.055251 -0.177807  0.389876  \n",
       "          3       -1.152051  2.829554  0.183903  \n",
       "          4       -0.183297 -0.670444  0.426147  \n",
       "          5       -0.991940 -0.903366  0.496771  \n",
       "\n",
       "[7 rows x 28 columns]"
      ]
     },
     "execution_count": 409,
     "metadata": {},
     "output_type": "execute_result"
    }
   ],
   "source": [
    "# rename `medians` columns for plotting\n",
    "medians = medians.rename(columns = full_to_short_names)\n",
    "medians"
   ]
  },
  {
   "cell_type": "markdown",
   "metadata": {},
   "source": [
    "What if we want the columns in a different order? Simply reorder them by asking for a df with the columns in a given order."
   ]
  },
  {
   "cell_type": "code",
   "execution_count": 414,
   "metadata": {},
   "outputs": [
    {
     "data": {
      "text/html": [
       "<div>\n",
       "<style scoped>\n",
       "    .dataframe tbody tr th:only-of-type {\n",
       "        vertical-align: middle;\n",
       "    }\n",
       "\n",
       "    .dataframe tbody tr th {\n",
       "        vertical-align: top;\n",
       "    }\n",
       "\n",
       "    .dataframe thead th {\n",
       "        text-align: right;\n",
       "    }\n",
       "</style>\n",
       "<table border=\"1\" class=\"dataframe\">\n",
       "  <thead>\n",
       "    <tr style=\"text-align: right;\">\n",
       "      <th></th>\n",
       "      <th></th>\n",
       "      <th>AXL</th>\n",
       "      <th>53BP1</th>\n",
       "    </tr>\n",
       "    <tr>\n",
       "      <th>Sample_ID</th>\n",
       "      <th>cluster</th>\n",
       "      <th></th>\n",
       "      <th></th>\n",
       "    </tr>\n",
       "  </thead>\n",
       "  <tbody>\n",
       "    <tr>\n",
       "      <th rowspan=\"2\" valign=\"top\">Patient_1</th>\n",
       "      <th>1</th>\n",
       "      <td>-0.060462</td>\n",
       "      <td>-0.031962</td>\n",
       "    </tr>\n",
       "    <tr>\n",
       "      <th>3</th>\n",
       "      <td>-1.051417</td>\n",
       "      <td>-0.468448</td>\n",
       "    </tr>\n",
       "    <tr>\n",
       "      <th rowspan=\"3\" valign=\"top\">Patient_2</th>\n",
       "      <th>1</th>\n",
       "      <td>0.188222</td>\n",
       "      <td>0.515818</td>\n",
       "    </tr>\n",
       "    <tr>\n",
       "      <th>2</th>\n",
       "      <td>-0.057661</td>\n",
       "      <td>0.042837</td>\n",
       "    </tr>\n",
       "    <tr>\n",
       "      <th>3</th>\n",
       "      <td>-1.225096</td>\n",
       "      <td>-1.185660</td>\n",
       "    </tr>\n",
       "  </tbody>\n",
       "</table>\n",
       "</div>"
      ],
      "text/plain": [
       "                        AXL     53BP1\n",
       "Sample_ID cluster                    \n",
       "Patient_1 1       -0.060462 -0.031962\n",
       "          3       -1.051417 -0.468448\n",
       "Patient_2 1        0.188222  0.515818\n",
       "          2       -0.057661  0.042837\n",
       "          3       -1.225096 -1.185660"
      ]
     },
     "execution_count": 414,
     "metadata": {},
     "output_type": "execute_result"
    }
   ],
   "source": [
    "medians[['AXL','53BP1']].head()"
   ]
  },
  {
   "cell_type": "code",
   "execution_count": 415,
   "metadata": {},
   "outputs": [
    {
     "data": {
      "text/html": [
       "<div>\n",
       "<style scoped>\n",
       "    .dataframe tbody tr th:only-of-type {\n",
       "        vertical-align: middle;\n",
       "    }\n",
       "\n",
       "    .dataframe tbody tr th {\n",
       "        vertical-align: top;\n",
       "    }\n",
       "\n",
       "    .dataframe thead th {\n",
       "        text-align: right;\n",
       "    }\n",
       "</style>\n",
       "<table border=\"1\" class=\"dataframe\">\n",
       "  <thead>\n",
       "    <tr style=\"text-align: right;\">\n",
       "      <th></th>\n",
       "      <th></th>\n",
       "      <th>53BP1</th>\n",
       "      <th>AXL</th>\n",
       "    </tr>\n",
       "    <tr>\n",
       "      <th>Sample_ID</th>\n",
       "      <th>cluster</th>\n",
       "      <th></th>\n",
       "      <th></th>\n",
       "    </tr>\n",
       "  </thead>\n",
       "  <tbody>\n",
       "    <tr>\n",
       "      <th rowspan=\"2\" valign=\"top\">Patient_1</th>\n",
       "      <th>1</th>\n",
       "      <td>-0.031962</td>\n",
       "      <td>-0.060462</td>\n",
       "    </tr>\n",
       "    <tr>\n",
       "      <th>3</th>\n",
       "      <td>-0.468448</td>\n",
       "      <td>-1.051417</td>\n",
       "    </tr>\n",
       "    <tr>\n",
       "      <th rowspan=\"3\" valign=\"top\">Patient_2</th>\n",
       "      <th>1</th>\n",
       "      <td>0.515818</td>\n",
       "      <td>0.188222</td>\n",
       "    </tr>\n",
       "    <tr>\n",
       "      <th>2</th>\n",
       "      <td>0.042837</td>\n",
       "      <td>-0.057661</td>\n",
       "    </tr>\n",
       "    <tr>\n",
       "      <th>3</th>\n",
       "      <td>-1.185660</td>\n",
       "      <td>-1.225096</td>\n",
       "    </tr>\n",
       "  </tbody>\n",
       "</table>\n",
       "</div>"
      ],
      "text/plain": [
       "                      53BP1       AXL\n",
       "Sample_ID cluster                    \n",
       "Patient_1 1       -0.031962 -0.060462\n",
       "          3       -0.468448 -1.051417\n",
       "Patient_2 1        0.515818  0.188222\n",
       "          2        0.042837 -0.057661\n",
       "          3       -1.185660 -1.225096"
      ]
     },
     "execution_count": 415,
     "metadata": {},
     "output_type": "execute_result"
    }
   ],
   "source": [
    "medians[['53BP1','AXL']].head()"
   ]
  },
  {
   "cell_type": "markdown",
   "metadata": {},
   "source": [
    "#### Do the plotting!"
   ]
  },
  {
   "cell_type": "code",
   "execution_count": 417,
   "metadata": {},
   "outputs": [
    {
     "data": {
      "image/png": "[encoded data removed]",
      "text/plain": [
       "<Figure size 432x288 with 2 Axes>"
      ]
     },
     "metadata": {},
     "output_type": "display_data"
    }
   ],
   "source": [
    "vmin = -2.5\n",
    "vmax = 5\n",
    "\n",
    "sb.set()\n",
    "\n",
    "x_axis_labels = medians.columns.values.tolist()\n",
    "y_axis_labels = [medians.iloc[i,:].name[0] + \" - Cluster \" + str(medians.iloc[i,:].name[1]) for i in range(data.shape[0])]\n",
    "\n",
    "ax = sb.heatmap(data.loc[:,~data.columns.isin(not_intensities)], vmin=vmin, vmax=vmax, \n",
    "                 annot=data.loc[:,~data.columns.isin(not_intensities)], \n",
    "                annot_kws={\"size\": 4},fmt='.2f',\n",
    "                linewidths = 0.33, linecolor = 'black',\n",
    "                 xticklabels=x_axis_labels, yticklabels=y_axis_labels,\n",
    "                 cbar_kws = {'label':'Median value'},\n",
    "                 cmap = 'coolwarm'\n",
    "                )\n",
    "plt.yticks(rotation=0, size = 8)\n",
    "ax.xaxis.tick_top() # x axis on top\n",
    "ax.xaxis.set_label_position('top')\n",
    "ax.tick_params(length=0)\n",
    "plt.xticks(rotation=45, size = 8)\n",
    "plt.setp(ax.xaxis.get_majorticklabels(), ha='left')\n",
    "\n",
    "\n",
    "ax.set_title(label = \"Median values\", fontsize = 20)\n",
    "plt.tight_layout()\n",
    "\n",
    "filename = \"median_values.png\"\n",
    "filename = os.path.join(output_images_dir, filename)\n",
    "plt.savefig(filename,dpi=300)"
   ]
  },
  {
   "cell_type": "markdown",
   "metadata": {},
   "source": [
    "### Drop any other rows or columns we want to before saving data"
   ]
  },
  {
   "cell_type": "code",
   "execution_count": null,
   "metadata": {},
   "outputs": [],
   "source": [
    "# Let's take a look\n",
    "df.columns.values"
   ]
  },
  {
   "cell_type": "markdown",
   "metadata": {},
   "source": [
    "For the sake of example, I will operate on a copy of df, called df_copy"
   ]
  },
  {
   "cell_type": "code",
   "execution_count": null,
   "metadata": {},
   "outputs": [],
   "source": [
    "# You MUST do df.copy()\n",
    "# 'df_copy = df' would essentially \n",
    "# give you two different names for the\n",
    "# SAME dataframe, so operating on one\n",
    "# would also operate on the other\n",
    "df_copy = df.copy()"
   ]
  },
  {
   "cell_type": "markdown",
   "metadata": {},
   "source": [
    "#### Operate on entire rows or columns"
   ]
  },
  {
   "cell_type": "code",
   "execution_count": null,
   "metadata": {},
   "outputs": [],
   "source": [
    "# Drop columns\n",
    "my_cols = []\n",
    "df_copy = df_copy.drop(columns = my_cols)"
   ]
  },
  {
   "cell_type": "code",
   "execution_count": null,
   "metadata": {},
   "outputs": [],
   "source": [
    "# Keep only specific columns (explained below)\n",
    "my_cols = []\n",
    "my_cols = df.columns.values\n",
    "df_copy = df_copy.loc[:,my_cols]"
   ]
  },
  {
   "cell_type": "markdown",
   "metadata": {},
   "source": [
    "#### Operate on rows and columns using filtering criteria"
   ]
  },
  {
   "cell_type": "code",
   "execution_count": null,
   "metadata": {},
   "outputs": [],
   "source": [
    "# Keep only certain rows based off of criteria\n",
    "\n",
    "# use df.loc[] to filter\n",
    "# df.loc[rows,columns]\n",
    "# df.loc[:,certain_cols] --> keep all rows ':', only certain cols\n",
    "# df.loc[certain_rows,:] --> keep only certain row, all cols ':'\n",
    "\n",
    "# Say we only want certain values for Sample_ID\n",
    "print(df_copy.Sample_ID.unique())\n",
    "keep = ['TMA1.1','TMA1.2','TMA1.3','TMA2.1','TMA2.2','TMA2.3']\n",
    "df_copy = df_copy.loc[df_copy['Sample_ID'].isin(keep),:]\n",
    "print(df_copy.Sample_ID.unique())"
   ]
  },
  {
   "cell_type": "code",
   "execution_count": null,
   "metadata": {},
   "outputs": [],
   "source": [
    "# Filter on multiple criteria\n",
    "# '&' or 'and'\n",
    "# '|' or 'or'\n",
    "# you MUST have parentheses around each logic expression!\n",
    "df_copy = df_copy.loc[\n",
    "    (df_copy['Sample_ID'].isin(['TMA1.1','TMA1.2','TMA1.3'])) \\\n",
    "    ## backslash above used to break line for readability, but tell Python to act like it's all one line\n",
    "        | (df_copy['Sample_ID'].isin(['TMA2.1','TMA2.2','TMA2.3'])),:]\n",
    "print(df_copy.Sample_ID.unique())"
   ]
  },
  {
   "cell_type": "code",
   "execution_count": null,
   "metadata": {},
   "outputs": [],
   "source": [
    "# Remove rows based off of certain criteria\n",
    "# note the negating tilde '~'!\n",
    "\n",
    "df_copy = df_copy.loc[\n",
    "    (~df_copy['Sample_ID'].isin(['TMA1.1','TMA1.2','TMA1.3'])) \\\n",
    "    ## backslash above used to break line for readability, but tell Python to act like it's all one line\n",
    "        & (~df_copy['Sample_ID'].isin(['TMA2.1','TMA2.2','TMA2.3'])),:]\n",
    "print(df_copy.Sample_ID.unique())"
   ]
  },
  {
   "cell_type": "markdown",
   "metadata": {},
   "source": [
    "### Save the data by Sample_ID"
   ]
  },
  {
   "cell_type": "code",
   "execution_count": 75,
   "metadata": {},
   "outputs": [],
   "source": [
    "# Check for existence of output file first\n",
    "for sample in ls_samples:\n",
    "    filename = sample + \"_\" + step_suffix + \".csv\"\n",
    "    filename = os.path.join(output_data_dir,  filename)\n",
    "    if os.path.exists(filename):\n",
    "        print(\"File by name \"+filename+\" already exists.\")"
   ]
  },
  {
   "cell_type": "code",
   "execution_count": 76,
   "metadata": {},
   "outputs": [],
   "source": [
    "# Save output files\n",
    "for sample in ls_samples:\n",
    "    df_save = df.loc[df['Sample_ID'] == sample,:]\n",
    "    filename = sample + \"_\" + step_suffix + \".csv\"\n",
    "    filename = os.path.join(output_data_dir, filename)\n",
    "    df_save.to_csv(filename, index = True)\n"
   ]
  },
  {
   "cell_type": "code",
   "execution_count": null,
   "metadata": {},
   "outputs": [],
   "source": []
  }
 ],
 "metadata": {
  "kernelspec": {
   "display_name": "Python 3",
   "language": "python",
   "name": "python3"
  },
  "language_info": {
   "codemirror_mode": {
    "name": "ipython",
    "version": 3
   },
   "file_extension": ".py",
   "mimetype": "text/x-python",
   "name": "python",
   "nbconvert_exporter": "python",
   "pygments_lexer": "ipython3",
   "version": "3.7.3"
  }
 },
 "nbformat": 4,
 "nbformat_minor": 4
}
