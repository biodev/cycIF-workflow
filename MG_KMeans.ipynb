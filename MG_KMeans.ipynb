{
 "cells": [
  {
   "cell_type": "markdown",
   "metadata": {},
   "source": [
    "## KMeans Notebook\n",
    "\n",
    "By: Megan Grout (groutm@ohsu.edu)\n",
    "\n",
    "Adapted from code written by Dr. Marilyne Labrie and Nick Kendsersky\n",
    "\n",
    "\n",
    "Last updated: 20191213"
   ]
  },
  {
   "cell_type": "code",
   "execution_count": 1,
   "metadata": {},
   "outputs": [
    {
     "data": {
      "text/html": [
       "        <script type=\"text/javascript\">\n",
       "        window.PlotlyConfig = {MathJaxConfig: 'local'};\n",
       "        if (window.MathJax) {MathJax.Hub.Config({SVG: {font: \"STIX-Web\"}});}\n",
       "        if (typeof require !== 'undefined') {\n",
       "        require.undef(\"plotly\");\n",
       "        requirejs.config({\n",
       "            paths: {\n",
       "                'plotly': ['https://cdn.plot.ly/plotly-latest.min']\n",
       "            }\n",
       "        });\n",
       "        require(['plotly'], function(Plotly) {\n",
       "            window._Plotly = Plotly;\n",
       "        });\n",
       "        }\n",
       "        </script>\n",
       "        "
      ]
     },
     "metadata": {},
     "output_type": "display_data"
    }
   ],
   "source": [
    "import os\n",
    "import random\n",
    "import re\n",
    "import pandas as pd\n",
    "import numpy as np\n",
    "import seaborn as sb\n",
    "import matplotlib.pyplot as plt\n",
    "import matplotlib.colors as mplc\n",
    "import subprocess\n",
    "\n",
    "\n",
    "from scipy import signal\n",
    "\n",
    "import plotly.figure_factory as ff\n",
    "import plotly\n",
    "import plotly.graph_objs as go\n",
    "from plotly.offline import download_plotlyjs, init_notebook_mode, plot, iplot \n",
    "import plotly.express as px\n",
    "init_notebook_mode(connected = True)"
   ]
  },
  {
   "cell_type": "code",
   "execution_count": 2,
   "metadata": {},
   "outputs": [],
   "source": [
    "from cycif_modules import *"
   ]
  },
  {
   "cell_type": "markdown",
   "metadata": {},
   "source": [
    "## Functions"
   ]
  },
  {
   "cell_type": "code",
   "execution_count": 3,
   "metadata": {},
   "outputs": [],
   "source": [
    "# This may change for each experiment, so I have not sequestered\n",
    "# this code in the my_modules.py file\n",
    "\n",
    "# This function takes in a dataframe, changes the names\n",
    "# of the column in various ways, and returns the dataframe.\n",
    "# For best accuracy and generalizability, the code uses\n",
    "# regular expressions (regex) to find strings for replacement.\n",
    "def apply_header_changes(df):\n",
    "    # remove lowercase x at beginning of name\n",
    "    df.columns = df.columns.str.replace(\"^x\",\"\")\n",
    "    # remove space at beginning of name\n",
    "    df.columns = df.columns.str.replace(\"^ \",\"\")\n",
    "    # replace space with underscore\n",
    "    df.columns = df.columns.str.replace(\" \",\"_\")\n",
    "    # fix typos\n",
    "    df.columns = df.columns.str.replace(\"CKD1\",\"CDK1\")\n",
    "    df.columns = df.columns.str.replace(\"GAG3\",\"GATA3\")\n",
    "    return df"
   ]
  },
  {
   "cell_type": "markdown",
   "metadata": {},
   "source": [
    "## Begin Workflow"
   ]
  },
  {
   "cell_type": "markdown",
   "metadata": {},
   "source": [
    "### Get directories"
   ]
  },
  {
   "cell_type": "code",
   "execution_count": 4,
   "metadata": {},
   "outputs": [],
   "source": [
    "#set directory\n",
    "## needs to be user iput\n",
    "\n",
    "# Base directory for project\n",
    "base_dir = '/Users/groutm/Desktop/weewin'\n",
    "base_dir = '/Users/groutm/Desktop/reproducibility'\n",
    "base_dir = 'Z:\\Marilyne\\Axioscan\\Gao_Zhang\\Segmentation'\n",
    "base_dir = '/Users/groutm/Desktop/gz_new'\n",
    "\n",
    "\n",
    "\n",
    "project_name = 'ww'\n",
    "project_name = 'repro'\n",
    "project_name = 'gz_new'\n",
    "\n",
    "step_suffix = 'kmeans'\n",
    "previous_step_suffix_long = \"_zscore\"\n",
    "\n",
    "# Initial input data directory\n",
    "#input_data_dir = r'/Users/groutm/Desktop/TMAdata'\n",
    "#input_data_dir = r'/Users/groutm/Desktop/ww_data'\n",
    "input_data_dir = os.path.join(base_dir, project_name + previous_step_suffix_long)\n",
    "\n",
    "\n",
    "# log2/z-score directory\n",
    "#output_data_dir = r'/Users/groutm/Desktop/TMAoutputdata'\n",
    "#output_data_dir = r'/Users/groutm/Desktop/ww_outputdata'\n",
    "output_data_dir = os.path.join(base_dir, project_name + \"_\" + step_suffix)\n",
    "\n",
    "# log2/z-score images subdirectory\n",
    "#output_images_dir = r'/Users/groutm/Desktop/TMAimages'\n",
    "#output_images_dir = r'/Users/groutm/Desktop/wwimages'\n",
    "output_images_dir = os.path.join(output_data_dir,\"images\")\n",
    "\n",
    "# Metadata directories\n",
    "metadata_dir = os.path.join(base_dir, project_name + \"_metadata\")\n",
    "metadata_images_dir = os.path.join(metadata_dir,\"images\")\n",
    "\n",
    "for d in [base_dir, input_data_dir, output_data_dir, output_images_dir, \n",
    "          metadata_dir, metadata_images_dir]:\n",
    "    if not os.path.exists(d):\n",
    "        os.makedirs(d)\n",
    "\n",
    "os.chdir(input_data_dir)\n",
    "\n"
   ]
  },
  {
   "cell_type": "code",
   "execution_count": 5,
   "metadata": {},
   "outputs": [],
   "source": [
    "## Comment for final workflow\n",
    "\n",
    "ls_samples = ['TMA','ww1', 'ww10', 'ww11', 'ww12', 'ww13', 'ww15', \n",
    "              'ww16', 'ww17', 'ww19', 'ww2', 'ww20', 'ww21', \n",
    "              'ww22', 'ww23', 'ww3', 'ww4', 'ww5', 'ww6', 'ww7', \n",
    "              'ww8', 'ww9']#,'bad_header_file']\n",
    "\n",
    "ls_samples = ['TMA1.1', 'TMA1.2', 'TMA1.3', 'TMA2.1', 'TMA2.2', 'TMA2.3']\n",
    "\n",
    "ls_samples = ['GZ10.1', 'GZ10.2', 'GZ10.3', 'GZ7.1', 'GZ6', 'GZ7.2']\n",
    "\n",
    "ls_samples = ['A_GZ2', 'B_GZ1', 'C_GZ5', 'D_GZ4', 'E_GZ3','F_GZ6','G_GZ7', \n",
    "              'H_GZ9',\n",
    "              'I_GZ10']"
   ]
  },
  {
   "cell_type": "markdown",
   "metadata": {},
   "source": [
    "## Import all metadata we need from the QC/EDA chapter"
   ]
  },
  {
   "cell_type": "markdown",
   "metadata": {},
   "source": [
    "### metadata"
   ]
  },
  {
   "cell_type": "code",
   "execution_count": 6,
   "metadata": {},
   "outputs": [],
   "source": [
    "filename = \"marker_intensity_metadata.csv\"\n",
    "filename = os.path.join(metadata_dir, filename)\n",
    "\n",
    "# Check file exists\n",
    "if not os.path.exists(filename):\n",
    "    print(\"WARNING: Could not find desired file: \"+filename)"
   ]
  },
  {
   "cell_type": "code",
   "execution_count": 7,
   "metadata": {},
   "outputs": [
    {
     "name": "stdout",
     "output_type": "stream",
     "text": [
      "WARNING: 'Marker metadata file' has the following unexpected item(s): \n",
      "['Exp']\n"
     ]
    }
   ],
   "source": [
    "# Open, read in information\n",
    "metadata = pd.read_csv(filename)\n",
    "\n",
    "# Verify size\n",
    "##verify_line_no(filename, metadata.shape[0] + 1)\n",
    "\n",
    "\n",
    "# Verify headers\n",
    "exp_cols = ['Round','Target','Channel','target_lower','full_column','marker','location']\n",
    "compare_headers(exp_cols, metadata.columns.values, \"Marker metadata file\")"
   ]
  },
  {
   "cell_type": "code",
   "execution_count": 8,
   "metadata": {},
   "outputs": [
    {
     "data": {
      "text/html": [
       "<div>\n",
       "<style scoped>\n",
       "    .dataframe tbody tr th:only-of-type {\n",
       "        vertical-align: middle;\n",
       "    }\n",
       "\n",
       "    .dataframe tbody tr th {\n",
       "        vertical-align: top;\n",
       "    }\n",
       "\n",
       "    .dataframe thead th {\n",
       "        text-align: right;\n",
       "    }\n",
       "</style>\n",
       "<table border=\"1\" class=\"dataframe\">\n",
       "  <thead>\n",
       "    <tr style=\"text-align: right;\">\n",
       "      <th></th>\n",
       "      <th>Round</th>\n",
       "      <th>Target</th>\n",
       "      <th>Exp</th>\n",
       "      <th>Channel</th>\n",
       "      <th>target_lower</th>\n",
       "      <th>full_column</th>\n",
       "      <th>marker</th>\n",
       "      <th>location</th>\n",
       "    </tr>\n",
       "  </thead>\n",
       "  <tbody>\n",
       "    <tr>\n",
       "      <th>0</th>\n",
       "      <td>R0</td>\n",
       "      <td>AF488</td>\n",
       "      <td>300</td>\n",
       "      <td>c2</td>\n",
       "      <td>af488</td>\n",
       "      <td>AF488_Cell_Intensity_Average</td>\n",
       "      <td>AF488</td>\n",
       "      <td>cell</td>\n",
       "    </tr>\n",
       "    <tr>\n",
       "      <th>1</th>\n",
       "      <td>R0</td>\n",
       "      <td>AF555</td>\n",
       "      <td>1500</td>\n",
       "      <td>c3</td>\n",
       "      <td>af555</td>\n",
       "      <td>AF555_Cell_Intensity_Average</td>\n",
       "      <td>AF555</td>\n",
       "      <td>cell</td>\n",
       "    </tr>\n",
       "    <tr>\n",
       "      <th>2</th>\n",
       "      <td>R0</td>\n",
       "      <td>AF647</td>\n",
       "      <td>1500</td>\n",
       "      <td>c4</td>\n",
       "      <td>af647</td>\n",
       "      <td>AF647_Cell_Intensity_Average</td>\n",
       "      <td>AF647</td>\n",
       "      <td>cell</td>\n",
       "    </tr>\n",
       "    <tr>\n",
       "      <th>3</th>\n",
       "      <td>R0</td>\n",
       "      <td>AF750</td>\n",
       "      <td>1500</td>\n",
       "      <td>c5</td>\n",
       "      <td>af750</td>\n",
       "      <td>AF750_Cell_Intensity_Average</td>\n",
       "      <td>AF750</td>\n",
       "      <td>cell</td>\n",
       "    </tr>\n",
       "    <tr>\n",
       "      <th>4</th>\n",
       "      <td>R1</td>\n",
       "      <td>H3K27me3</td>\n",
       "      <td>200</td>\n",
       "      <td>c2</td>\n",
       "      <td>h3k27me3</td>\n",
       "      <td>H3K27me3_Cell_Intensity_Average</td>\n",
       "      <td>H3K27me3</td>\n",
       "      <td>cell</td>\n",
       "    </tr>\n",
       "  </tbody>\n",
       "</table>\n",
       "</div>"
      ],
      "text/plain": [
       "  Round    Target   Exp Channel target_lower                      full_column  \\\n",
       "0    R0     AF488   300      c2        af488     AF488_Cell_Intensity_Average   \n",
       "1    R0     AF555  1500      c3        af555     AF555_Cell_Intensity_Average   \n",
       "2    R0     AF647  1500      c4        af647     AF647_Cell_Intensity_Average   \n",
       "3    R0     AF750  1500      c5        af750     AF750_Cell_Intensity_Average   \n",
       "4    R1  H3K27me3   200      c2     h3k27me3  H3K27me3_Cell_Intensity_Average   \n",
       "\n",
       "     marker location  \n",
       "0     AF488     cell  \n",
       "1     AF555     cell  \n",
       "2     AF647     cell  \n",
       "3     AF750     cell  \n",
       "4  H3K27me3     cell  "
      ]
     },
     "execution_count": 8,
     "metadata": {},
     "output_type": "execute_result"
    }
   ],
   "source": [
    "# Show some of dataframe - FYI\n",
    "metadata.head()"
   ]
  },
  {
   "cell_type": "markdown",
   "metadata": {},
   "source": [
    "### not_intensities"
   ]
  },
  {
   "cell_type": "code",
   "execution_count": 9,
   "metadata": {},
   "outputs": [],
   "source": [
    "filename = \"not_intensities.csv\"\n",
    "filename = os.path.join(metadata_dir, filename)\n",
    "\n",
    "# Check file exists\n",
    "if not os.path.exists(filename):\n",
    "    print(\"WARNING: Could not find desired file: \"+filename)"
   ]
  },
  {
   "cell_type": "code",
   "execution_count": 10,
   "metadata": {},
   "outputs": [
    {
     "name": "stdout",
     "output_type": "stream",
     "text": [
      "Verifying data read from file is the correct length...\n",
      "\n",
      "not_intensities = \n",
      "['Nuc_X', 'Nuc_X_Inv', 'Nuc_Y', 'Nuc_Y_Inv', 'Nucleus_Roundness', 'Nucleus_Size', 'Cell_Size', 'ROI_index', 'Sample_ID', 'replicate_ID', 'Cell_ID', 'cell_type', 'cluster', 'ID']\n"
     ]
    }
   ],
   "source": [
    "# Open, read in information\n",
    "not_intensities = []\n",
    "with open(filename, 'r') as fh:\n",
    "    not_intensities = fh.read().strip().split(\"\\n\")\n",
    "    # take str, strip whitespace, split on new line character\n",
    "\n",
    "# Verify size\n",
    "print(\"Verifying data read from file is the correct length...\\n\")\n",
    "#verify_line_no(filename, len(not_intensities))\n",
    "\n",
    "# Print to console\n",
    "print(\"not_intensities = \")\n",
    "print(not_intensities)"
   ]
  },
  {
   "cell_type": "markdown",
   "metadata": {},
   "source": [
    "### full_to_short_column names"
   ]
  },
  {
   "cell_type": "code",
   "execution_count": 11,
   "metadata": {},
   "outputs": [],
   "source": [
    "filename = \"full_to_short_column_names.csv\"\n",
    "filename = os.path.join(metadata_dir, filename)\n",
    "\n",
    "# Check file exists\n",
    "if not os.path.exists(filename):\n",
    "    print(\"WARNING: Could not find desired file: \" + filename)"
   ]
  },
  {
   "cell_type": "code",
   "execution_count": 12,
   "metadata": {},
   "outputs": [
    {
     "name": "stdout",
     "output_type": "stream",
     "text": [
      "Verifying data read from file is the correct length...\n",
      "\n",
      "full_to_short_names =\n",
      "{'53BP1_Cell_Intensity_Average': '53BP1', 'AF488_Cell_Intensity_Average': 'AF488', 'AF555_Cell_Intensity_Average': 'AF555', 'AF647_Cell_Intensity_Average': 'AF647', 'AF750_Cell_Intensity_Average': 'AF750', 'AXL_Cell_Intensity_Average': 'AXL', 'CCNA2_Cell_Intensity_Average': 'CCNA2', 'CCND1_Cell_Intensity_Average': 'CCND1', 'CD45_Cell_Intensity_Average': 'CD45', 'CD4_Cell_Intensity_Average': 'CD4', 'CD68_Cell_Intensity_Average': 'CD68', 'CD8_Cell_Intensity_Average': 'CD8', 'EGFR_Cell_Intensity_Average': 'EGFR', 'Ecad_Cell_Intensity_Average': 'Ecad', 'FOXP3_Cell_Intensity_Average': 'FOXP3', 'H3K27me3_Cell_Intensity_Average': 'H3K27me3', 'KI67_Cell_Intensity_Average': 'KI67', 'MITF_Cell_Intensity_Average': 'MITF', 'PCNA_Cell_Intensity_Average': 'PCNA', 'PDGFR_Cell_Intensity_Average': 'PDGFR', 'S100_Cell_Intensity_Average': 'S100', 'Vimentin_Cell_Intensity_Average': 'Vimentin', 'p4EBP1_Cell_Intensity_Average': 'p4EBP1', 'p75_Cell_Intensity_Average': 'p75', 'pATM_Cell_Intensity_Average': 'pATM', 'pATR_Cell_Intensity_Average': 'pATR', 'pCHK2_Cell_Intensity_Average': 'pCHK2', 'pEGFR_Cell_Intensity_Average': 'pEGFR', 'pGSK3b_Cell_Intensity_Average': 'pGSK3b', 'pH2AX_Cell_Intensity_Average': 'pH2AX', 'pHH3_Cell_Intensity_Average': 'pHH3', 'pS6_Cell_Intensity_Average': 'pS6'}\n"
     ]
    }
   ],
   "source": [
    "# Open, read in information\n",
    "df = pd.read_csv(filename, header = 0)\n",
    "\n",
    "# Verify size\n",
    "print(\"Verifying data read from file is the correct length...\\n\")\n",
    "#verify_line_no(filename, df.shape[0] + 1)\n",
    "\n",
    "# Turn into dictionary\n",
    "full_to_short_names = df.set_index('full_name').T.to_dict('records')[0]\n",
    "\n",
    "# Print information\n",
    "print('full_to_short_names =')\n",
    "print(full_to_short_names)"
   ]
  },
  {
   "cell_type": "markdown",
   "metadata": {},
   "source": [
    "### short_to_full_column_names"
   ]
  },
  {
   "cell_type": "code",
   "execution_count": 13,
   "metadata": {},
   "outputs": [],
   "source": [
    "filename = \"short_to_full_column_names.csv\"\n",
    "filename = os.path.join(metadata_dir, filename)\n",
    "\n",
    "# Check file exists\n",
    "if not os.path.exists(filename):\n",
    "    print(\"WARNING: Could not find desired file: \" + filename)"
   ]
  },
  {
   "cell_type": "code",
   "execution_count": 14,
   "metadata": {},
   "outputs": [
    {
     "name": "stdout",
     "output_type": "stream",
     "text": [
      "Verifying data read from file is the correct length...\n",
      "\n",
      "short_to_full_names =\n",
      "{'53BP1': '53BP1_Cell_Intensity_Average', 'AF488': 'AF488_Cell_Intensity_Average', 'AF555': 'AF555_Cell_Intensity_Average', 'AF647': 'AF647_Cell_Intensity_Average', 'AF750': 'AF750_Cell_Intensity_Average', 'AXL': 'AXL_Cell_Intensity_Average', 'CCNA2': 'CCNA2_Cell_Intensity_Average', 'CCND1': 'CCND1_Cell_Intensity_Average', 'CD45': 'CD45_Cell_Intensity_Average', 'CD4': 'CD4_Cell_Intensity_Average', 'CD68': 'CD68_Cell_Intensity_Average', 'CD8': 'CD8_Cell_Intensity_Average', 'EGFR': 'EGFR_Cell_Intensity_Average', 'Ecad': 'Ecad_Cell_Intensity_Average', 'FOXP3': 'FOXP3_Cell_Intensity_Average', 'H3K27me3': 'H3K27me3_Cell_Intensity_Average', 'KI67': 'KI67_Cell_Intensity_Average', 'MITF': 'MITF_Cell_Intensity_Average', 'PCNA': 'PCNA_Cell_Intensity_Average', 'PDGFR': 'PDGFR_Cell_Intensity_Average', 'S100': 'S100_Cell_Intensity_Average', 'Vimentin': 'Vimentin_Cell_Intensity_Average', 'p4EBP1': 'p4EBP1_Cell_Intensity_Average', 'p75': 'p75_Cell_Intensity_Average', 'pATM': 'pATM_Cell_Intensity_Average', 'pATR': 'pATR_Cell_Intensity_Average', 'pCHK2': 'pCHK2_Cell_Intensity_Average', 'pEGFR': 'pEGFR_Cell_Intensity_Average', 'pGSK3b': 'pGSK3b_Cell_Intensity_Average', 'pH2AX': 'pH2AX_Cell_Intensity_Average', 'pHH3': 'pHH3_Cell_Intensity_Average', 'pS6': 'pS6_Cell_Intensity_Average'}\n"
     ]
    }
   ],
   "source": [
    "# Open, read in information\n",
    "df = pd.read_csv(filename, header = 0)\n",
    "\n",
    "# Verify size\n",
    "print(\"Verifying data read from file is the correct length...\\n\")\n",
    "#verify_line_no(filename, df.shape[0] + 1)\n",
    "\n",
    "# Turn into dictionary\n",
    "short_to_full_names = df.set_index('short_name').T.to_dict('records')[0]\n",
    "\n",
    "# Print information\n",
    "print('short_to_full_names =')\n",
    "print(short_to_full_names)"
   ]
  },
  {
   "cell_type": "markdown",
   "metadata": {},
   "source": [
    "### Color information"
   ]
  },
  {
   "cell_type": "markdown",
   "metadata": {},
   "source": [
    "#### Samples"
   ]
  },
  {
   "cell_type": "code",
   "execution_count": 15,
   "metadata": {},
   "outputs": [],
   "source": [
    "filename = \"sample_color_data.csv\"\n",
    "filename = os.path.join(metadata_dir, filename)\n",
    "\n",
    "# Check file exists\n",
    "if not os.path.exists(filename):\n",
    "    print(\"WARNING: Could not find desired file: \" + filename)"
   ]
  },
  {
   "cell_type": "code",
   "execution_count": 16,
   "metadata": {},
   "outputs": [
    {
     "name": "stdout",
     "output_type": "stream",
     "text": [
      "Verifying data read from file is the correct length...\n",
      "\n",
      "sample_color_dict =\n",
      "{'A_GZ2': (0.9677975592919913, 0.44127456009157356, 0.5358103155058701), 'B_GZ1': (0.8616090647292522, 0.536495730113334, 0.19548899031476086), 'C_GZ5': (0.6804189127793346, 0.6151497514677574, 0.19405452111445337), 'D_GZ4': (0.46810256823426105, 0.6699492535792404, 0.1928958739904499), 'E_GZ3': (0.20125317221201128, 0.6907920815379025, 0.47966761189275336), 'F_GZ6': (0.21044753832183283, 0.6773105080456748, 0.6433941168468681), 'G_GZ7': (0.2197995660828324, 0.6625157876850336, 0.7732093159317209), 'H_GZ9': (0.433280341176423, 0.6065273407962815, 0.9585467098271748), 'I_GZ10': (0.8004936186423958, 0.47703363533737203, 0.9579547196007522), 'TMA': (0.5019607843137255, 0.5019607843137255, 0.5019607843137255)}\n"
     ]
    }
   ],
   "source": [
    "# Open, read in information\n",
    "df = pd.read_csv(filename, header = 0)\n",
    "df = df.drop(columns = ['hex'])\n",
    "\n",
    "# our tuple of float values for rgb, (r, g, b) was read in \n",
    "# as a string '(r, g, b)'. We need to extract the r-, g-, and b-\n",
    "# substrings and convert them back into floats\n",
    "df['rgb'] = df.apply(lambda row: rgb_tuple_from_str(row['rgb']), axis = 1)\n",
    "\n",
    "# Verify size\n",
    "print(\"Verifying data read from file is the correct length...\\n\")\n",
    "#verify_line_no(filename, df.shape[0] + 1)\n",
    "\n",
    "# Turn into dictionary\n",
    "sample_color_dict = df.set_index('Sample_ID').T.to_dict('rgb')[0]\n",
    "\n",
    "# Print information\n",
    "print('sample_color_dict =')\n",
    "print(sample_color_dict)\n"
   ]
  },
  {
   "cell_type": "markdown",
   "metadata": {},
   "source": [
    "#### Channels"
   ]
  },
  {
   "cell_type": "code",
   "execution_count": 17,
   "metadata": {},
   "outputs": [],
   "source": [
    "filename = \"channel_color_data.csv\"\n",
    "filename = os.path.join(metadata_dir, filename)\n",
    "\n",
    "# Check file exists\n",
    "if not os.path.exists(filename):\n",
    "    print(\"WARNING: Could not find desired file: \"+filename)"
   ]
  },
  {
   "cell_type": "code",
   "execution_count": 18,
   "metadata": {},
   "outputs": [
    {
     "name": "stdout",
     "output_type": "stream",
     "text": [
      "Verifying data read from file is the correct length...\n",
      "\n",
      "channel_color_dict =\n",
      "{'c3': (1.0, 0.6470588235294118, 0.0), 'c4': (1.0, 0.0, 0.0), 'c5': (0.25098039215686274, 0.8784313725490196, 0.8156862745098039), 'c2': (0.0, 0.5019607843137255, 0.0)}\n"
     ]
    }
   ],
   "source": [
    "# Open, read in information\n",
    "df = pd.read_csv(filename, header = 0)\n",
    "df = df.drop(columns = ['hex'])\n",
    "\n",
    "# our tuple of float values for rgb, (r, g, b) was read in \n",
    "# as a string '(r, g, b)'. We need to extract the r-, g-, and b-\n",
    "# substrings and convert them back into floats\n",
    "df['rgb'] = df.apply(lambda row: rgb_tuple_from_str(row['rgb']), axis = 1)\n",
    "\n",
    "# Verify size\n",
    "print(\"Verifying data read from file is the correct length...\\n\")\n",
    "#verify_line_no(filename, df.shape[0] + 1)\n",
    "\n",
    "# Turn into dictionary\n",
    "channel_color_dict = df.set_index('Channel').T.to_dict('rgb')[0]\n",
    "\n",
    "# Print information\n",
    "print('channel_color_dict =')\n",
    "print(channel_color_dict)\n"
   ]
  },
  {
   "cell_type": "markdown",
   "metadata": {},
   "source": [
    "#### Round"
   ]
  },
  {
   "cell_type": "code",
   "execution_count": 19,
   "metadata": {},
   "outputs": [],
   "source": [
    "filename = \"round_color_data.csv\"\n",
    "filename = os.path.join(metadata_dir, filename)\n",
    "\n",
    "# Check file exists\n",
    "if not os.path.exists(filename):\n",
    "    print(\"WARNING: Could not find desired file: \"+filename)"
   ]
  },
  {
   "cell_type": "code",
   "execution_count": 20,
   "metadata": {},
   "outputs": [
    {
     "name": "stdout",
     "output_type": "stream",
     "text": [
      "Verifying data read from file is the correct length...\n",
      "\n",
      "round_color_dict =\n",
      "{'R0': (0.28685356234627135, 0.13009829239513535, 0.23110332132624437), 'R1': (0.3736023974468758, 0.214424058315835, 0.3978381676792029), 'R2': (0.4159341362257507, 0.3236230119238674, 0.5522993139842536), 'R3': (0.4347275623260717, 0.45841778084048856, 0.6693193307565182), 'R4': (0.45985383722977585, 0.5938507827180669, 0.7299938636762819), 'R5': (0.5193510814616777, 0.7186903518953451, 0.7537488291211205), 'R6': (0.6251959781814483, 0.8211474484187268, 0.77115296242133), 'R7': (0.7684256891219349, 0.8992667116749021, 0.8171383269422353)}\n"
     ]
    }
   ],
   "source": [
    "# Open, read in information\n",
    "df = pd.read_csv(filename, header = 0)\n",
    "df = df.drop(columns = ['hex'])\n",
    "\n",
    "# our tuple of float values for rgb, (r, g, b) was read in \n",
    "# as a string '(r, g, b)'. We need to extract the r-, g-, and b-\n",
    "# substrings and convert them back into floats\n",
    "df['rgb'] = df.apply(lambda row: rgb_tuple_from_str(row['rgb']), axis = 1)\n",
    "\n",
    "# Verify size\n",
    "print(\"Verifying data read from file is the correct length...\\n\")\n",
    "#verify_line_no(filename, df.shape[0] + 1)\n",
    "\n",
    "# Turn into dictionary\n",
    "round_color_dict = df.set_index('Round').T.to_dict('rgb')[0]\n",
    "\n",
    "# Print information\n",
    "print('round_color_dict =')\n",
    "print(round_color_dict)"
   ]
  },
  {
   "cell_type": "markdown",
   "metadata": {},
   "source": [
    "#### Cell Type"
   ]
  },
  {
   "cell_type": "code",
   "execution_count": 21,
   "metadata": {},
   "outputs": [],
   "source": [
    "filename = \"celltype_color_data.csv\"\n",
    "filename = os.path.join(metadata_dir, filename)\n",
    "\n",
    "# Check file exists\n",
    "if not os.path.exists(filename):\n",
    "    print(\"WARNING: Could not find desired file: \"+filename)"
   ]
  },
  {
   "cell_type": "code",
   "execution_count": 22,
   "metadata": {},
   "outputs": [
    {
     "name": "stdout",
     "output_type": "stream",
     "text": [
      "Verifying data read from file is the correct length...\n",
      "\n",
      "celltype_color_dict =\n",
      "{'STROMA': (0.86, 0.3712, 0.33999999999999997), 'CANCER': (0.33999999999999997, 0.86, 0.3712), 'IMMUNE': (0.3712, 0.33999999999999997, 0.86)}\n"
     ]
    }
   ],
   "source": [
    "# Open, read in information\n",
    "df = pd.read_csv(filename, header = 0)\n",
    "df = df.drop(columns = ['hex'])\n",
    "\n",
    "# our tuple of float values for rgb, (r, g, b) was read in \n",
    "# as a string '(r, g, b)'. We need to extract the r-, g-, and b-\n",
    "# substrings and convert them back into floats\n",
    "df['rgb'] = df.apply(lambda row: rgb_tuple_from_str(row['rgb']), axis = 1)\n",
    "\n",
    "# Verify size\n",
    "print(\"Verifying data read from file is the correct length...\\n\")\n",
    "#verify_line_no(filename, df.shape[0] + 1)\n",
    "\n",
    "# Turn into dictionary\n",
    "celltype_color_dict = df.set_index('cell_type').T.to_dict('rgb')[0]\n",
    "\n",
    "# Print information\n",
    "print('celltype_color_dict =')\n",
    "print(celltype_color_dict)"
   ]
  },
  {
   "cell_type": "markdown",
   "metadata": {},
   "source": [
    "## Import data"
   ]
  },
  {
   "cell_type": "markdown",
   "metadata": {},
   "source": [
    "Prompt user for any files they would like excluded from analysis."
   ]
  },
  {
   "cell_type": "code",
   "execution_count": 23,
   "metadata": {},
   "outputs": [
    {
     "name": "stdout",
     "output_type": "stream",
     "text": [
      "df index name is currently None\n"
     ]
    }
   ],
   "source": [
    "# Import all data files for this portion of workflow\n",
    "\n",
    "# First gather information on expected headers using first file in ls_samples\n",
    "\n",
    "# Read in the first row of the file correpsonding to the first sample (index = 0)\n",
    "# in ls_samples\n",
    "df = pd.read_csv(ls_samples[0] + \n",
    "                 previous_step_suffix_long + \".csv\", nrows = 1, index_col = 0)\n",
    "\n",
    "# Apply the changes to the headers as specified in above funciton\n",
    "df = apply_header_changes(df)\n",
    "\n",
    "# Set variable to hold default header values\n",
    "expected_headers = df.columns.values\n",
    "\n",
    "print(\"df index name is currently\",df.index.name)"
   ]
  },
  {
   "cell_type": "code",
   "execution_count": 24,
   "metadata": {},
   "outputs": [
    {
     "data": {
      "text/html": [
       "<div>\n",
       "<style scoped>\n",
       "    .dataframe tbody tr th:only-of-type {\n",
       "        vertical-align: middle;\n",
       "    }\n",
       "\n",
       "    .dataframe tbody tr th {\n",
       "        vertical-align: top;\n",
       "    }\n",
       "\n",
       "    .dataframe thead th {\n",
       "        text-align: right;\n",
       "    }\n",
       "</style>\n",
       "<table border=\"1\" class=\"dataframe\">\n",
       "  <thead>\n",
       "    <tr style=\"text-align: right;\">\n",
       "      <th></th>\n",
       "      <th>53BP1_Cell_Intensity_Average</th>\n",
       "      <th>AXL_Cell_Intensity_Average</th>\n",
       "      <th>CCNA2_Cell_Intensity_Average</th>\n",
       "      <th>CCND1_Cell_Intensity_Average</th>\n",
       "      <th>CD45_Cell_Intensity_Average</th>\n",
       "      <th>CD4_Cell_Intensity_Average</th>\n",
       "      <th>CD68_Cell_Intensity_Average</th>\n",
       "      <th>CD8_Cell_Intensity_Average</th>\n",
       "      <th>Cell_Size</th>\n",
       "      <th>EGFR_Cell_Intensity_Average</th>\n",
       "      <th>...</th>\n",
       "      <th>p4EBP1_Cell_Intensity_Average</th>\n",
       "      <th>p75_Cell_Intensity_Average</th>\n",
       "      <th>pATM_Cell_Intensity_Average</th>\n",
       "      <th>pATR_Cell_Intensity_Average</th>\n",
       "      <th>pCHK2_Cell_Intensity_Average</th>\n",
       "      <th>pEGFR_Cell_Intensity_Average</th>\n",
       "      <th>pGSK3b_Cell_Intensity_Average</th>\n",
       "      <th>pH2AX_Cell_Intensity_Average</th>\n",
       "      <th>pHH3_Cell_Intensity_Average</th>\n",
       "      <th>pS6_Cell_Intensity_Average</th>\n",
       "    </tr>\n",
       "  </thead>\n",
       "  <tbody>\n",
       "    <tr>\n",
       "      <th>A_GZ2_Cell_0</th>\n",
       "      <td>-0.682094</td>\n",
       "      <td>-1.638605</td>\n",
       "      <td>-2.213975</td>\n",
       "      <td>-1.388343</td>\n",
       "      <td>-1.810311</td>\n",
       "      <td>-1.011022</td>\n",
       "      <td>-1.683999</td>\n",
       "      <td>-0.025108</td>\n",
       "      <td>329</td>\n",
       "      <td>-2.157665</td>\n",
       "      <td>...</td>\n",
       "      <td>-1.929355</td>\n",
       "      <td>0.398482</td>\n",
       "      <td>-2.128896</td>\n",
       "      <td>-0.035847</td>\n",
       "      <td>-1.2362</td>\n",
       "      <td>-1.695086</td>\n",
       "      <td>-1.76626</td>\n",
       "      <td>-1.656667</td>\n",
       "      <td>1.721911</td>\n",
       "      <td>0.708195</td>\n",
       "    </tr>\n",
       "  </tbody>\n",
       "</table>\n",
       "<p>1 rows × 38 columns</p>\n",
       "</div>"
      ],
      "text/plain": [
       "              53BP1_Cell_Intensity_Average  AXL_Cell_Intensity_Average  \\\n",
       "A_GZ2_Cell_0                     -0.682094                   -1.638605   \n",
       "\n",
       "              CCNA2_Cell_Intensity_Average  CCND1_Cell_Intensity_Average  \\\n",
       "A_GZ2_Cell_0                     -2.213975                     -1.388343   \n",
       "\n",
       "              CD45_Cell_Intensity_Average  CD4_Cell_Intensity_Average  \\\n",
       "A_GZ2_Cell_0                    -1.810311                   -1.011022   \n",
       "\n",
       "              CD68_Cell_Intensity_Average  CD8_Cell_Intensity_Average  \\\n",
       "A_GZ2_Cell_0                    -1.683999                   -0.025108   \n",
       "\n",
       "              Cell_Size  EGFR_Cell_Intensity_Average  ...  \\\n",
       "A_GZ2_Cell_0        329                    -2.157665  ...   \n",
       "\n",
       "              p4EBP1_Cell_Intensity_Average  p75_Cell_Intensity_Average  \\\n",
       "A_GZ2_Cell_0                      -1.929355                    0.398482   \n",
       "\n",
       "              pATM_Cell_Intensity_Average  pATR_Cell_Intensity_Average  \\\n",
       "A_GZ2_Cell_0                    -2.128896                    -0.035847   \n",
       "\n",
       "              pCHK2_Cell_Intensity_Average  pEGFR_Cell_Intensity_Average  \\\n",
       "A_GZ2_Cell_0                       -1.2362                     -1.695086   \n",
       "\n",
       "              pGSK3b_Cell_Intensity_Average  pH2AX_Cell_Intensity_Average  \\\n",
       "A_GZ2_Cell_0                       -1.76626                     -1.656667   \n",
       "\n",
       "              pHH3_Cell_Intensity_Average  pS6_Cell_Intensity_Average  \n",
       "A_GZ2_Cell_0                     1.721911                    0.708195  \n",
       "\n",
       "[1 rows x 38 columns]"
      ]
     },
     "execution_count": 24,
     "metadata": {},
     "output_type": "execute_result"
    }
   ],
   "source": [
    "df.head()"
   ]
  },
  {
   "cell_type": "code",
   "execution_count": 25,
   "metadata": {},
   "outputs": [
    {
     "name": "stdout",
     "output_type": "stream",
     "text": [
      "Used A_GZ2_zscore.csv to determine the expected, corrected headers for all files.\n",
      "There headers are: \n",
      "53BP1_Cell_Intensity_Average, AXL_Cell_Intensity_Average, CCNA2_Cell_Intensity_Average, CCND1_Cell_Intensity_Average, CD45_Cell_Intensity_Average, CD4_Cell_Intensity_Average, CD68_Cell_Intensity_Average, CD8_Cell_Intensity_Average, Cell_Size, EGFR_Cell_Intensity_Average, Ecad_Cell_Intensity_Average, FOXP3_Cell_Intensity_Average, H3K27me3_Cell_Intensity_Average, KI67_Cell_Intensity_Average, MITF_Cell_Intensity_Average, Nuc_X, Nuc_X_Inv, Nuc_Y, Nuc_Y_Inv, Nucleus_Roundness, Nucleus_Size, PCNA_Cell_Intensity_Average, PDGFR_Cell_Intensity_Average, ROI_index, S100_Cell_Intensity_Average, Sample_ID, Vimentin_Cell_Intensity_Average, cell_type, p4EBP1_Cell_Intensity_Average, p75_Cell_Intensity_Average, pATM_Cell_Intensity_Average, pATR_Cell_Intensity_Average, pCHK2_Cell_Intensity_Average, pEGFR_Cell_Intensity_Average, pGSK3b_Cell_Intensity_Average, pH2AX_Cell_Intensity_Average, pHH3_Cell_Intensity_Average, pS6_Cell_Intensity_Average.\n"
     ]
    }
   ],
   "source": [
    "print(\"Used \" + ls_samples[0] + previous_step_suffix_long +\n",
    "      \".csv to determine the expected, corrected headers for all files.\")\n",
    "print(\"There headers are: \\n\" + \", \".join([h for h in expected_headers]) + \".\")"
   ]
  },
  {
   "cell_type": "code",
   "execution_count": 26,
   "metadata": {},
   "outputs": [
    {
     "name": "stdout",
     "output_type": "stream",
     "text": [
      "Reading in data for A_GZ2\n",
      "Reading in data for B_GZ1\n",
      "Reading in data for C_GZ5\n",
      "Reading in data for D_GZ4\n",
      "Reading in data for E_GZ3\n",
      "Reading in data for F_GZ6\n",
      "Reading in data for G_GZ7\n",
      "File H_GZ9_zscore.csv does not exist. Removing from analysis...\n"
     ]
    }
   ],
   "source": [
    "# Import all dfs\n",
    "\n",
    "dfs = {}\n",
    "for sample in ls_samples:\n",
    "    # Open file\n",
    "    \n",
    "    if not os.path.exists(sample+previous_step_suffix_long+\".csv\"):\n",
    "        print(\"File \" + sample+previous_step_suffix_long+\".csv\" +\n",
    "             \" does not exist. Removing from analysis...\")\n",
    "        ls_samples.remove(sample)\n",
    "        continue\n",
    "    \n",
    "    print(\"Reading in data for \"+ sample)\n",
    "    df = pd.read_csv(sample + previous_step_suffix_long + \".csv\", \n",
    "                     index_col = 0) #,  nrows = 500)\n",
    "    \n",
    "    # Check for empty df\n",
    "    # if so, don't continue trying to process df\n",
    "    if df.shape[0] == 0:\n",
    "        print('Zero content lines detected in ' + sample + ' file.'\n",
    "              'Removing from analysis...')\n",
    "        ls_samples.remove(sample)\n",
    "        continue\n",
    "    \n",
    "\n",
    "    \n",
    "    # Verify that the loaded df are the right length\n",
    "    try:\n",
    "        verify_line_no(sample + previous_step_suffix_long + \".csv\", \n",
    "                       df.shape[0] + 1)\n",
    "    except:\n",
    "        pass\n",
    "    # adding 1 because we expect the header was detected \n",
    "    # during file import and not counted towards length of df\n",
    "    \n",
    "     # Manipulations necessary for concatenation\n",
    "    df = apply_header_changes(df)\n",
    "    df = df[[x for x in sorted(df.columns.values)]]\n",
    "    \n",
    "    # Compare headers of new df against what is expected\n",
    "    compare_headers(expected_headers, df.columns.values, sample)\n",
    "    df['Sample_ID'] = sample\n",
    "\n",
    "    # For cases where we have samples called TMA1.1, TMA1.2, TMA1.3, etc.\n",
    "    # Using regular expressions (regex) to extract the characters in the\n",
    "    # sample name from TMA to the following digits, stopping at the period\n",
    "    #if 'ROI_index' in df.columns.values:\n",
    "    #    df['ROI_slide'] = re.findall(r'(TMA\\d+)',sample)[0]    \n",
    "    \n",
    "    # Add to df of dfs \n",
    "    dfs[sample] = df\n",
    "    \n",
    "\n",
    "\n",
    "\n",
    "#Merge dfs into one df\n",
    "df = pd.concat(dfs.values(), ignore_index=False , sort = False)\n",
    "del dfs\n"
   ]
  },
  {
   "cell_type": "markdown",
   "metadata": {},
   "source": [
    "Let's take a look at a few features to make sure our dataframe is as expected"
   ]
  },
  {
   "cell_type": "code",
   "execution_count": 27,
   "metadata": {},
   "outputs": [
    {
     "data": {
      "text/plain": [
       "(601056, 38)"
      ]
     },
     "execution_count": 27,
     "metadata": {},
     "output_type": "execute_result"
    }
   ],
   "source": [
    "df.shape"
   ]
  },
  {
   "cell_type": "code",
   "execution_count": 28,
   "metadata": {},
   "outputs": [
    {
     "data": {
      "text/plain": [
       "Index(['A_GZ2_Cell_0', 'A_GZ2_Cell_2', 'A_GZ2_Cell_6', 'A_GZ2_Cell_7',\n",
       "       'A_GZ2_Cell_8', 'A_GZ2_Cell_9', 'A_GZ2_Cell_10', 'A_GZ2_Cell_11',\n",
       "       'A_GZ2_Cell_12', 'A_GZ2_Cell_15',\n",
       "       ...\n",
       "       'G_GZ7_Cell_498511', 'G_GZ7_Cell_498513', 'G_GZ7_Cell_498514',\n",
       "       'G_GZ7_Cell_498516', 'G_GZ7_Cell_498517', 'G_GZ7_Cell_498518',\n",
       "       'G_GZ7_Cell_498521', 'G_GZ7_Cell_498523', 'G_GZ7_Cell_498524',\n",
       "       'G_GZ7_Cell_498525'],\n",
       "      dtype='object', length=601056)"
      ]
     },
     "execution_count": 28,
     "metadata": {},
     "output_type": "execute_result"
    }
   ],
   "source": [
    "df.index "
   ]
  },
  {
   "cell_type": "code",
   "execution_count": 29,
   "metadata": {},
   "outputs": [],
   "source": [
    "#check for NaN entries (should not be any unless columns do not align)\n",
    "# if there are any null values, then print names of columns containing\n",
    "# null values\n",
    "if df.isnull().any().any():\n",
    "    print(df.columns[df.isnull().any()])\n",
    "\n",
    "#in 'if' statement, false means no NaN entries True means NaN entries "
   ]
  },
  {
   "cell_type": "code",
   "execution_count": 30,
   "metadata": {},
   "outputs": [
    {
     "name": "stdout",
     "output_type": "stream",
     "text": [
      "WARNING: File 'big df Sample_ID column' lacks the following expected item(s): \n",
      "['I_GZ10']\n"
     ]
    }
   ],
   "source": [
    "# Check that all expected files were imported into final dataframe\n",
    "\n",
    "if sorted(df.Sample_ID.unique()) == sorted(ls_samples):\n",
    "    print(\"All expected filenames present in big df Sample_ID column.\")\n",
    "else:\n",
    "    compare_headers(ls_samples, df.Sample_ID.unique(), \"big df Sample_ID column\")"
   ]
  },
  {
   "cell_type": "markdown",
   "metadata": {},
   "source": [
    "# K-Means Clustering"
   ]
  },
  {
   "cell_type": "markdown",
   "metadata": {},
   "source": [
    "First, we will determine the best number of clusters, K, to use in our KMeans clustering. We may decide to operate on a random subset of our data (with Sample_ID proportions the same), in order to save time. Then, once the best K is determined using the elbox method, we will perform KMeans clustering, using that K, on the entire dataset."
   ]
  },
  {
   "cell_type": "markdown",
   "metadata": {},
   "source": [
    "## Elbow method"
   ]
  },
  {
   "cell_type": "raw",
   "metadata": {},
   "source": [
    "Elbow/knee method references:\n",
    "\n",
    "https://github.com/arvkevi/kneed\n",
    "https://raghavan.usc.edu//papers/kneedle-simplex11.pdf\n",
    "https://github.com/arvkevi/kneed/blob/master/notebooks/decreasing_function_walkthrough.ipynb"
   ]
  },
  {
   "cell_type": "markdown",
   "metadata": {},
   "source": [
    "### Find elbow and plot all at once"
   ]
  },
  {
   "cell_type": "markdown",
   "metadata": {},
   "source": [
    "https://www.scikit-yb.org/en/latest/api/cluster/elbow.html#elbow-method"
   ]
  },
  {
   "cell_type": "raw",
   "metadata": {},
   "source": [
    "from sklearn.datasets import make_blobs\n",
    "from sklearn.cluster import KMeans \n",
    "\n",
    "from yellowbrick.cluster import KElbowVisualizer\n",
    "\n",
    "# Generate synthetic dataset with 8 random clusters\n",
    "\n",
    "# Instantiate the clustering model and visualizer\n",
    "model = KMeans()\n",
    "visualizer = KElbowVisualizer(model, k=(1,20), timings = False,\n",
    "                             metric = 'distortion')\n",
    "\n",
    "visualizer.fit(df.loc[:,~df.columns.isin(not_intensities)])        # Fit the data to the visualizer\n",
    "visualizer.show()        # Finalize and render the figure"
   ]
  },
  {
   "cell_type": "markdown",
   "metadata": {},
   "source": [
    "But this doesn't allow us to modify/stylize the plot the way we want, and doesn't lend itself well to a dashboard. We also cannot determine the metric used to calculated `cdist()` to caluclate distorition (Euclidean, sqeuclidean, etc.), just that the metric for the visualization *overall* is distortion. It looks like the value for every *K* is the `_intertia` object from our `KMeans()` model..."
   ]
  },
  {
   "cell_type": "markdown",
   "metadata": {},
   "source": [
    "### Calculate distortions for each K"
   ]
  },
  {
   "cell_type": "markdown",
   "metadata": {},
   "source": [
    "https://www.geeksforgeeks.org/elbow-method-for-optimal-value-of-k-in-kmeans/"
   ]
  },
  {
   "cell_type": "code",
   "execution_count": 31,
   "metadata": {},
   "outputs": [],
   "source": [
    "from scipy.spatial.distance import cdist\n",
    "from sklearn import metrics\n",
    "from sklearn.cluster import KMeans "
   ]
  },
  {
   "cell_type": "markdown",
   "metadata": {},
   "source": [
    "FYI: on a size (190214, 28) df, 1-20 Ks took 19 minutes on the MacBook I have on loan from the dept. But let's say we want just a subset of data, like that used in previous chapters for heatmaps. What we can do is pick 10k cells using the same method as before."
   ]
  },
  {
   "cell_type": "code",
   "execution_count": 32,
   "metadata": {},
   "outputs": [],
   "source": [
    "subset_row_count = 10000"
   ]
  },
  {
   "cell_type": "code",
   "execution_count": 33,
   "metadata": {},
   "outputs": [
    {
     "name": "stdout",
     "output_type": "stream",
     "text": [
      "here\n"
     ]
    }
   ],
   "source": [
    "subset_df = create_subset(df, 'Sample_ID', subset_row_count, 'original')"
   ]
  },
  {
   "cell_type": "markdown",
   "metadata": {},
   "source": [
    "How many lines for each sample ID are in our subset df?"
   ]
  },
  {
   "cell_type": "code",
   "execution_count": 34,
   "metadata": {},
   "outputs": [
    {
     "data": {
      "text/plain": [
       "A_GZ2    1100\n",
       "B_GZ1      24\n",
       "C_GZ5       3\n",
       "D_GZ4     784\n",
       "E_GZ3      92\n",
       "F_GZ6     914\n",
       "G_GZ7    7082\n",
       "Name: Sample_ID, dtype: int64"
      ]
     },
     "execution_count": 34,
     "metadata": {},
     "output_type": "execute_result"
    }
   ],
   "source": [
    "subset_df['Sample_ID'].value_counts().sort_index()"
   ]
  },
  {
   "cell_type": "markdown",
   "metadata": {},
   "source": [
    "How do the proportions of cells in the original and subset dfs compare?"
   ]
  },
  {
   "cell_type": "code",
   "execution_count": 35,
   "metadata": {},
   "outputs": [
    {
     "data": {
      "text/plain": [
       "A_GZ2    0.110035\n",
       "B_GZ1    0.002401\n",
       "C_GZ5    0.000308\n",
       "D_GZ4    0.078420\n",
       "E_GZ3    0.009154\n",
       "F_GZ6    0.091442\n",
       "G_GZ7    0.708240\n",
       "Name: Sample_ID, dtype: float64"
      ]
     },
     "execution_count": 35,
     "metadata": {},
     "output_type": "execute_result"
    }
   ],
   "source": [
    "df['Sample_ID'].value_counts().sort_index()/df.shape[0]"
   ]
  },
  {
   "cell_type": "code",
   "execution_count": 36,
   "metadata": {},
   "outputs": [
    {
     "name": "stdout",
     "output_type": "stream",
     "text": [
      "Running KMeans with 1 clusters...\n",
      "Running KMeans with 2 clusters...\n",
      "Running KMeans with 3 clusters...\n",
      "Running KMeans with 4 clusters...\n",
      "Running KMeans with 5 clusters...\n",
      "Running KMeans with 6 clusters...\n",
      "Running KMeans with 7 clusters...\n",
      "Running KMeans with 8 clusters...\n",
      "Running KMeans with 9 clusters...\n",
      "Running KMeans with 10 clusters...\n",
      "Running KMeans with 11 clusters...\n",
      "Running KMeans with 12 clusters...\n",
      "Running KMeans with 13 clusters...\n",
      "Running KMeans with 14 clusters...\n",
      "Running KMeans with 15 clusters...\n",
      "Running KMeans with 16 clusters...\n",
      "Running KMeans with 17 clusters...\n",
      "Running KMeans with 18 clusters...\n",
      "Running KMeans with 19 clusters...\n",
      "Running KMeans with 20 clusters...\n"
     ]
    }
   ],
   "source": [
    "distortions = [] \n",
    "inertias = [] \n",
    "mapping1 = {} \n",
    "mapping2 = {} \n",
    "\n",
    "# How many different Ks do we want to try?\n",
    "# range(1,21) is 1-20 Ks\n",
    "\n",
    "\n",
    "K = range(1,21) \n",
    "#X = df.loc[:,~df.columns.isin(not_intensities)]\n",
    "X = subset_df.loc[:,~subset_df.columns.isin(not_intensities)]\n",
    "    \n",
    "for k in K: \n",
    "    print(\"Running KMeans with \" + str(k) + \" clusters...\")\n",
    "    #Building and fitting the model \n",
    "    kmeanModel = KMeans(n_clusters=k).fit(X) \n",
    "    kmeanModel.fit(X)     \n",
    "      \n",
    "    distortions.append(sum(np.min(cdist(X, kmeanModel.cluster_centers_, \n",
    "                      metric = 'euclidean'),axis=1)) / X.shape[0]) \n",
    "    inertias.append(kmeanModel.inertia_) \n",
    "  \n",
    "    mapping1[k] = sum(np.min(cdist(X, kmeanModel.cluster_centers_, \n",
    "                 'euclidean'),axis=1)) / X.shape[0] \n",
    "    mapping2[k] = kmeanModel.inertia_ "
   ]
  },
  {
   "cell_type": "markdown",
   "metadata": {},
   "source": [
    "### Plot distortions for each K"
   ]
  },
  {
   "cell_type": "code",
   "execution_count": 37,
   "metadata": {},
   "outputs": [],
   "source": [
    "fig = go.Figure()\n",
    "title = 'K-Means cluster count determination'\n",
    "\n",
    "fig.add_trace(go.Scatter(x=list(K), y=distortions,\n",
    "                    mode='lines+markers',\n",
    "                    name='lines',\n",
    "                        marker=dict(\n",
    "            color='LightSkyBlue',\n",
    "            size=15,\n",
    "            line=dict(\n",
    "                color='MediumPurple',\n",
    "                width=2\n",
    "            ))))\n",
    "    \n",
    "    \n",
    "fig.update_layout(title = title, plot_bgcolor = 'white')\n",
    "\n",
    "\n",
    "fig.update_xaxes(title_text = 'Number of clusters', linecolor = 'black')\n",
    "fig.update_yaxes(title_text = 'Distortion', linecolor = 'black', \n",
    "                 range = [0, max(distortions)+0.1*max(distortions)])\n",
    "#plot(fig)\n",
    "\n",
    "filename = title.replace(\" \",\"_\") + \".png\"\n",
    "filename = os.path.join(output_images_dir, filename)\n",
    "fig.write_image(filename)"
   ]
  },
  {
   "cell_type": "markdown",
   "metadata": {},
   "source": [
    "### Find elbow in above"
   ]
  },
  {
   "cell_type": "markdown",
   "metadata": {},
   "source": [
    "https://github.com/arvkevi/kneed/blob/master/notebooks/decreasing_function_walkthrough.ipynb"
   ]
  },
  {
   "cell_type": "code",
   "execution_count": 38,
   "metadata": {},
   "outputs": [],
   "source": [
    "from kneed import KneeLocator"
   ]
  },
  {
   "cell_type": "code",
   "execution_count": 39,
   "metadata": {},
   "outputs": [],
   "source": [
    "kn = KneeLocator(list(K), distortions, S=1.0, curve='convex', direction='decreasing')"
   ]
  },
  {
   "cell_type": "code",
   "execution_count": 40,
   "metadata": {},
   "outputs": [
    {
     "data": {
      "text/plain": [
       "6"
      ]
     },
     "execution_count": 40,
     "metadata": {},
     "output_type": "execute_result"
    }
   ],
   "source": [
    "kn.knee"
   ]
  },
  {
   "cell_type": "code",
   "execution_count": 41,
   "metadata": {},
   "outputs": [],
   "source": [
    "fig = go.Figure()\n",
    "title = 'K-Means cluster count determination with elbow'\n",
    "\n",
    "fig.add_trace(go.Scatter(x=list(K), y=distortions, mode='lines+markers',\n",
    "                        marker=dict(\n",
    "                            color='LightSkyBlue', size=15,\n",
    "                            line=dict(\n",
    "                                color='MediumPurple',width=2\n",
    "                        ))))\n",
    "    \n",
    "fig.add_shape(\n",
    "    # Line Vertical\n",
    "    go.layout.Shape(\n",
    "        type=\"line\",\n",
    "        xref = \"x\",\n",
    "        yref = \"y\",\n",
    "        x0=kn.knee,\n",
    "        y0=0,\n",
    "        x1=kn.knee,\n",
    "        y1= max(distortions)+0.1*max(distortions),\n",
    "        line=dict(\n",
    "            color=\"black\", width=2, dash = 'dot'\n",
    "        ),\n",
    "))   \n",
    "    \n",
    "fig.update_layout(title = title, plot_bgcolor = 'white')\n",
    "\n",
    "\n",
    "fig.update_xaxes(title_text = 'Number of clusters', linecolor = 'black')\n",
    "fig.update_yaxes(title_text = 'Distortion', linecolor = 'black',\n",
    "                 range = [0, max(distortions)+0.1*max(distortions)])\n",
    "#plot(fig)\n",
    "fig.write_image(output_images_dir + \"/\" + title.replace(\" \",\"_\") + \".png\")\n"
   ]
  },
  {
   "cell_type": "markdown",
   "metadata": {},
   "source": [
    "### Perform KMean clustering"
   ]
  },
  {
   "cell_type": "code",
   "execution_count": 42,
   "metadata": {},
   "outputs": [
    {
     "data": {
      "text/plain": [
       "6"
      ]
     },
     "execution_count": 42,
     "metadata": {},
     "output_type": "execute_result"
    }
   ],
   "source": [
    "n_clusters = kn.knee\n",
    "#n_clusters = \n",
    "n_clusters"
   ]
  },
  {
   "cell_type": "code",
   "execution_count": 43,
   "metadata": {},
   "outputs": [
    {
     "data": {
      "text/plain": [
       "array([1, 1, 1, ..., 2, 4, 2], dtype=int32)"
      ]
     },
     "execution_count": 43,
     "metadata": {},
     "output_type": "execute_result"
    }
   ],
   "source": [
    "#KMeans Clustering on mean intensities\n",
    "\n",
    "from sklearn.cluster import KMeans\n",
    "cluster = KMeans(n_clusters = n_clusters, random_state = 20) #number of clusters can be set here \n",
    "\n",
    "# We are performing KMeans clustering on df using K (5) clusters\n",
    "cluster.fit_predict(df.loc[:,~df.columns.isin(not_intensities)])"
   ]
  },
  {
   "cell_type": "code",
   "execution_count": 44,
   "metadata": {},
   "outputs": [],
   "source": [
    "#create a new column with cluster number \n",
    "# We don't want our cluster labels to start with '0'\n",
    "df['cluster'] = cluster.labels_ + 1"
   ]
  },
  {
   "cell_type": "markdown",
   "metadata": {},
   "source": [
    "Save the full dataset with the clustering column."
   ]
  },
  {
   "cell_type": "code",
   "execution_count": 45,
   "metadata": {},
   "outputs": [],
   "source": [
    "df.to_csv(\"Kmeans_full_df.csv\")"
   ]
  },
  {
   "cell_type": "markdown",
   "metadata": {},
   "source": [
    "## Visualizations"
   ]
  },
  {
   "cell_type": "markdown",
   "metadata": {},
   "source": [
    "#### Create color dictionary for clusters"
   ]
  },
  {
   "cell_type": "markdown",
   "metadata": {},
   "source": [
    "In theory, we to choose colors that are categorical, since Cluster is actually a non-ordered category. However, since we could conceivably be working with > 10-11 clusters, we do not want a color palette that will just cycle back through the same limited colors, so we are going to take this continuous color palette and get the number of unique colors we need."
   ]
  },
  {
   "cell_type": "code",
   "execution_count": 46,
   "metadata": {},
   "outputs": [
    {
     "name": "stdout",
     "output_type": "stream",
     "text": [
      "[1, 2, 3, 4, 5, 6]\n"
     ]
    },
    {
     "data": {
      "image/png": "[encoded data removed]",
      "text/plain": [
       "<Figure size 432x72 with 1 Axes>"
      ]
     },
     "metadata": {
      "needs_background": "light"
     },
     "output_type": "display_data"
    }
   ],
   "source": [
    "# Get those unique colors\n",
    "cluster_color_values = sb.color_palette(\"hls\",n_colors = len(df.cluster.unique()))#'HLS'\n",
    "\n",
    "print(sorted(df.cluster.unique()))\n",
    "# Display those unique colors\n",
    "sb.palplot(sb.color_palette(cluster_color_values))\n"
   ]
  },
  {
   "cell_type": "markdown",
   "metadata": {},
   "source": [
    "Store in a dictionary"
   ]
  },
  {
   "cell_type": "code",
   "execution_count": 47,
   "metadata": {},
   "outputs": [
    {
     "data": {
      "text/plain": [
       "{1: (0.86, 0.3712, 0.33999999999999997),\n",
       " 2: (0.8287999999999999, 0.86, 0.33999999999999997),\n",
       " 3: (0.33999999999999997, 0.86, 0.3712),\n",
       " 4: (0.33999999999999997, 0.8287999999999999, 0.86),\n",
       " 5: (0.3712, 0.33999999999999997, 0.86),\n",
       " 6: (0.86, 0.33999999999999997, 0.8287999999999999)}"
      ]
     },
     "execution_count": 47,
     "metadata": {},
     "output_type": "execute_result"
    }
   ],
   "source": [
    "cluster_color_dict = dict(zip(sorted(df.cluster.unique()), cluster_color_values))\n",
    "cluster_color_dict"
   ]
  },
  {
   "cell_type": "code",
   "execution_count": 48,
   "metadata": {},
   "outputs": [
    {
     "data": {
      "image/png": "[encoded data removed]",
      "text/plain": [
       "<Figure size 360x72 with 1 Axes>"
      ]
     },
     "metadata": {
      "needs_background": "light"
     },
     "output_type": "display_data"
    }
   ],
   "source": [
    "## Here is an example of how you might specify the values yourself,\n",
    "# derived from the QC/EDA chapter. Note that in this case, our keys\n",
    "# are not strings (e.g., '1'), but are actually ints (integers, e.g., 1).\n",
    "\n",
    "#cluster_color_dict['1'] = mplc.to_rgb('xkcd:dark sky blue')\n",
    "#cluster_color_dict['2'] = mplc.to_rgb('xkcd:reddish orange')\n",
    "#cluster_color_dict['3'] = mplc.to_rgb('xkcd:jungle green')\n",
    "\n",
    "\n",
    "sb.palplot(sb.color_palette(\n",
    "    [cluster_color_dict[1],\n",
    "     cluster_color_dict[2],\n",
    "     cluster_color_dict[3],\n",
    "    cluster_color_dict[4],\n",
    "    cluster_color_dict[5]]))\n"
   ]
  },
  {
   "cell_type": "markdown",
   "metadata": {},
   "source": [
    "#### Save color information (mapping and legend) to metadata directory"
   ]
  },
  {
   "cell_type": "code",
   "execution_count": 49,
   "metadata": {},
   "outputs": [],
   "source": [
    "# Create dataframe\n",
    "cluster_color_df = color_dict_to_df(cluster_color_dict, \"cluster\")\n",
    "cluster_color_df.head()\n",
    "\n",
    "# Save to file in metadatadirectory\n",
    "filename = \"cluster_color_data.csv\"\n",
    "filename = os.path.join(metadata_dir, filename)\n",
    "cluster_color_df.to_csv(filename, index = False)"
   ]
  },
  {
   "cell_type": "code",
   "execution_count": 50,
   "metadata": {},
   "outputs": [
    {
     "data": {
      "image/png": "[encoded data removed]",
      "text/plain": [
       "<Figure size 72x72 with 1 Axes>"
      ]
     },
     "metadata": {
      "needs_background": "light"
     },
     "output_type": "display_data"
    }
   ],
   "source": [
    "# Legend of cluster info only\n",
    "\n",
    "g  = plt.figure(figsize = (1,1)).add_subplot(111)\n",
    "g.axis('off')\n",
    "handles = []\n",
    "for item in sorted(cluster_color_dict.keys()):\n",
    "        h = g.bar(0,0, color = cluster_color_dict[item],\n",
    "                  label = item, linewidth =0)\n",
    "        handles.append(h)\n",
    "first_legend = plt.legend(handles=handles, loc='upper right', title = 'Cluster'),\n",
    "\n",
    "\n",
    "filename = \"Clustertype_legend.png\"\n",
    "filename = os.path.join(metadata_images_dir, filename)\n",
    "plt.savefig(filename, bbox_inches = 'tight')"
   ]
  },
  {
   "cell_type": "markdown",
   "metadata": {},
   "source": [
    "### Heatmap"
   ]
  },
  {
   "cell_type": "markdown",
   "metadata": {},
   "source": [
    "Here, I assume we have clustering data for the full df loaded in for this chapter, not just a subset of ~10k cells, regardless of how many rows of our df were used to determine the best K. If we *are* working with a subsetted df at this point, then the below method to get a subset appropriate for the heatmap will still work fine."
   ]
  },
  {
   "cell_type": "markdown",
   "metadata": {},
   "source": [
    "We will only be plotting ~10k cells in the interest of time/computing resources. We want these 10k lines in our original df to be sampled randomly, without replacement, with the caveat that the proportions of all samples in the data remains the same in this subset. If the size of the dataframe is > 10k rows, then we will proceed with the entire dataset."
   ]
  },
  {
   "cell_type": "code",
   "execution_count": 51,
   "metadata": {},
   "outputs": [],
   "source": [
    "subset_row_count = 10000"
   ]
  },
  {
   "cell_type": "code",
   "execution_count": 52,
   "metadata": {},
   "outputs": [],
   "source": [
    "subset_df = create_subset(df, 'Sample_ID', subset_row_count, 'equal')"
   ]
  },
  {
   "cell_type": "markdown",
   "metadata": {},
   "source": [
    "How many lines for each sample ID are in our subset df?"
   ]
  },
  {
   "cell_type": "code",
   "execution_count": 53,
   "metadata": {},
   "outputs": [
    {
     "data": {
      "text/plain": [
       "A_GZ2    1429\n",
       "B_GZ1    1429\n",
       "C_GZ5     185\n",
       "D_GZ4    1429\n",
       "E_GZ3    1429\n",
       "F_GZ6    1429\n",
       "G_GZ7    1429\n",
       "Name: Sample_ID, dtype: int64"
      ]
     },
     "execution_count": 53,
     "metadata": {},
     "output_type": "execute_result"
    }
   ],
   "source": [
    "subset_df['Sample_ID'].value_counts().sort_index()"
   ]
  },
  {
   "cell_type": "markdown",
   "metadata": {},
   "source": [
    "How do the proportions of cells in the original and subset dfs compare?"
   ]
  },
  {
   "cell_type": "code",
   "execution_count": 54,
   "metadata": {},
   "outputs": [
    {
     "data": {
      "text/plain": [
       "A_GZ2    0.110035\n",
       "B_GZ1    0.002401\n",
       "C_GZ5    0.000308\n",
       "D_GZ4    0.078420\n",
       "E_GZ3    0.009154\n",
       "F_GZ6    0.091442\n",
       "G_GZ7    0.708240\n",
       "Name: Sample_ID, dtype: float64"
      ]
     },
     "execution_count": 54,
     "metadata": {},
     "output_type": "execute_result"
    }
   ],
   "source": [
    "df['Sample_ID'].value_counts().sort_index()/df.shape[0]"
   ]
  },
  {
   "cell_type": "markdown",
   "metadata": {},
   "source": [
    "Unlike other heatmaps in the workflow, this one will not use row clustering. We want to arrange the rows first by cluster number and then by Sample_ID."
   ]
  },
  {
   "cell_type": "code",
   "execution_count": 55,
   "metadata": {},
   "outputs": [],
   "source": [
    "subset_df = subset_df.sort_values(by = ['cluster','Sample_ID'])"
   ]
  },
  {
   "cell_type": "markdown",
   "metadata": {},
   "source": [
    "Get data structures to map colors to columns and rows..."
   ]
  },
  {
   "cell_type": "code",
   "execution_count": 56,
   "metadata": {},
   "outputs": [
    {
     "data": {
      "text/plain": [
       "B_GZ1_Cell_313      (0.8616090647292522, 0.536495730113334, 0.1954...\n",
       "B_GZ1_Cell_1089     (0.8616090647292522, 0.536495730113334, 0.1954...\n",
       "E_GZ3_Cell_15385    (0.20125317221201128, 0.6907920815379025, 0.47...\n",
       "E_GZ3_Cell_14825    (0.20125317221201128, 0.6907920815379025, 0.47...\n",
       "Name: Sample_ID, dtype: object"
      ]
     },
     "execution_count": 56,
     "metadata": {},
     "output_type": "execute_result"
    }
   ],
   "source": [
    "sample_row_colors = subset_df.Sample_ID.map(sample_color_dict)\n",
    "\n",
    "sample_row_colors[1:5]"
   ]
  },
  {
   "cell_type": "code",
   "execution_count": 57,
   "metadata": {},
   "outputs": [
    {
     "data": {
      "text/plain": [
       "B_GZ1_Cell_313      (0.86, 0.3712, 0.33999999999999997)\n",
       "B_GZ1_Cell_1089     (0.33999999999999997, 0.86, 0.3712)\n",
       "E_GZ3_Cell_15385    (0.33999999999999997, 0.86, 0.3712)\n",
       "E_GZ3_Cell_14825    (0.86, 0.3712, 0.33999999999999997)\n",
       "Name: cell_type, dtype: object"
      ]
     },
     "execution_count": 57,
     "metadata": {},
     "output_type": "execute_result"
    }
   ],
   "source": [
    "row_celltype_colors = subset_df.cell_type.map(celltype_color_dict)\n",
    "\n",
    "row_celltype_colors[1:5]"
   ]
  },
  {
   "cell_type": "code",
   "execution_count": 58,
   "metadata": {},
   "outputs": [
    {
     "data": {
      "text/plain": [
       "B_GZ1_Cell_313      (0.86, 0.3712, 0.33999999999999997)\n",
       "B_GZ1_Cell_1089     (0.86, 0.3712, 0.33999999999999997)\n",
       "E_GZ3_Cell_15385    (0.86, 0.3712, 0.33999999999999997)\n",
       "E_GZ3_Cell_14825    (0.86, 0.3712, 0.33999999999999997)\n",
       "Name: cluster, dtype: object"
      ]
     },
     "execution_count": 58,
     "metadata": {},
     "output_type": "execute_result"
    }
   ],
   "source": [
    "row_cluster_colors = subset_df.cluster.map(cluster_color_dict)\n",
    "\n",
    "row_cluster_colors[1:5]"
   ]
  },
  {
   "cell_type": "code",
   "execution_count": 59,
   "metadata": {},
   "outputs": [
    {
     "data": {
      "text/plain": [
       "0    53BP1_Cell_Intensity_Average\n",
       "1      AXL_Cell_Intensity_Average\n",
       "2    CCNA2_Cell_Intensity_Average\n",
       "3    CCND1_Cell_Intensity_Average\n",
       "4     CD45_Cell_Intensity_Average\n",
       "dtype: object"
      ]
     },
     "execution_count": 59,
     "metadata": {},
     "output_type": "execute_result"
    }
   ],
   "source": [
    "pd.Series(\n",
    "    subset_df.loc[:,~subset_df.columns.isin(not_intensities)].columns.values).head()"
   ]
  },
  {
   "cell_type": "code",
   "execution_count": 60,
   "metadata": {},
   "outputs": [
    {
     "data": {
      "text/plain": [
       "53BP1_Cell_Intensity_Average    (0.25098039215686274, 0.8784313725490196, 0.81...\n",
       "AXL_Cell_Intensity_Average                         (1.0, 0.6470588235294118, 0.0)\n",
       "CCNA2_Cell_Intensity_Average                       (1.0, 0.6470588235294118, 0.0)\n",
       "CCND1_Cell_Intensity_Average                                      (1.0, 0.0, 0.0)\n",
       "CD45_Cell_Intensity_Average     (0.25098039215686274, 0.8784313725490196, 0.81...\n",
       "Name: Channel, dtype: object"
      ]
     },
     "execution_count": 60,
     "metadata": {},
     "output_type": "execute_result"
    }
   ],
   "source": [
    "column_channel_colors = pd.merge(pd.DataFrame(pd.Series(\n",
    "    subset_df.loc[:,~subset_df.columns.isin(not_intensities)].columns.values)), \n",
    "                  metadata, how = 'left',\n",
    "         left_on = 0, right_on = 'full_column')[[0,'Channel']]['Channel'].map(channel_color_dict)\n",
    "\n",
    "\n",
    "column_channel_colors.index = subset_df.loc[:,~subset_df.columns.isin(not_intensities)].columns.values\n",
    "\n",
    "column_channel_colors.head()"
   ]
  },
  {
   "cell_type": "code",
   "execution_count": 61,
   "metadata": {},
   "outputs": [
    {
     "data": {
      "text/plain": [
       "53BP1_Cell_Intensity_Average    (0.3736023974468758, 0.214424058315835, 0.3978...\n",
       "AXL_Cell_Intensity_Average      (0.4347275623260717, 0.45841778084048856, 0.66...\n",
       "CCNA2_Cell_Intensity_Average    (0.3736023974468758, 0.214424058315835, 0.3978...\n",
       "CCND1_Cell_Intensity_Average    (0.4347275623260717, 0.45841778084048856, 0.66...\n",
       "CD45_Cell_Intensity_Average     (0.6251959781814483, 0.8211474484187268, 0.771...\n",
       "Name: Round, dtype: object"
      ]
     },
     "execution_count": 61,
     "metadata": {},
     "output_type": "execute_result"
    }
   ],
   "source": [
    "column_round_colors = pd.merge(pd.DataFrame(pd.Series(\n",
    "    subset_df.loc[:,~subset_df.columns.isin(not_intensities)].columns.values)), \n",
    "                  metadata, how = 'left',\n",
    "         left_on = 0, right_on = 'full_column')[[0,'Round']]['Round'].map(round_color_dict)\n",
    "\n",
    "\n",
    "column_round_colors.index = subset_df.loc[:,~subset_df.columns.isin(not_intensities)].columns.values\n",
    "\n",
    "column_round_colors.head()"
   ]
  },
  {
   "cell_type": "code",
   "execution_count": 62,
   "metadata": {},
   "outputs": [],
   "source": [
    "# Create data structure to hold everything we need for row/column annotations\n",
    "# annotations is a dictionary\n",
    "## IMPORTANT - if you use 'annotations', it MUST have both 'rows' and 'cols'\n",
    "## objects inside. These can be empty lists, but they must be there!\n",
    "anns = {}\n",
    "\n",
    "# create a data structure to hold everything we need for only row annotations\n",
    "# row_annotations is a list, where each item therein is a dictioary corresponding\n",
    "# to all of the data pertaining to that particular annotation\n",
    "# Adding each item (e.g., Sample, then Cluster), one at a time to ensure ordering\n",
    "# is as anticipated on figure\n",
    "row_annotations = []\n",
    "row_annotations.append({'label':'Sample','type':'row','mapping':sample_row_colors,'dict':sample_color_dict,\n",
    "                        'location':'center left','bbox_to_anchor':(0, 0.5)})\n",
    "row_annotations.append({'label':'Cell type','type':'row','mapping':row_celltype_colors,\n",
    "                        'dict':celltype_color_dict,\n",
    "                        'location':'lower left','bbox_to_anchor':(0, 0.65)})\n",
    "row_annotations.append({'label':'Cluster','type':'row','mapping':row_cluster_colors,\n",
    "                        'dict':cluster_color_dict,\n",
    "                        'location':'lower left','bbox_to_anchor':(0, 0.20)})\n",
    "# Add all row information into the annotations dictionary\n",
    "anns['rows'] = row_annotations\n",
    "\n",
    "\n",
    "# Now we repeat the process for column annotations\n",
    "col_annotations = []\n",
    "col_annotations.append({'label':'Round','type':'column','mapping':column_round_colors,'dict':round_color_dict,\n",
    "                       'location':'upper right','bbox_to_anchor':(1,0.50)})\n",
    "\n",
    "col_annotations.append({'label':'Column','type':'column','mapping':column_channel_colors,'dict':channel_color_dict,\n",
    "                       'location':'upper right','bbox_to_anchor':(1,0.75)})\n",
    "anns['cols'] = col_annotations"
   ]
  },
  {
   "cell_type": "markdown",
   "metadata": {},
   "source": [
    "#### Actually plot the heatmap"
   ]
  },
  {
   "cell_type": "raw",
   "metadata": {},
   "source": [
    "heatmap_function(data = subset_df.loc[:,~subset_df.columns.isin(not_intensities)],\n",
    "    title = \"KMeans heatmap\",\n",
    "               # define method, metric, and color map\n",
    "          method = 'ward', metric = 'correlation',cmap = 'coolwarm',\n",
    "               # colorbar (legend coloring of main plot) \n",
    "               cbar_kws = {'label':'Correlation'},\n",
    "               # xticklabels - want to have the nicknames instead of full names\n",
    "                xticklabels = [name for name in\n",
    "                 #xticklabels = [full_to_short_names[name] for name in \n",
    "                     subset_df.loc[:,\n",
    "                                 ~subset_df.columns.isin(not_intensities)].columns.values],\n",
    "                 save_loc = output_images_dir,\n",
    "                 row_cluster = False, col_cluster = True,\n",
    "                    annotations = anns\n",
    "          )"
   ]
  },
  {
   "cell_type": "markdown",
   "metadata": {},
   "source": [
    "### XY Maps"
   ]
  },
  {
   "cell_type": "raw",
   "metadata": {},
   "source": [
    "# Plot one XY map for each sample, where each cluster is a different color\n",
    "\n",
    "# iterate through all samples\n",
    "for sample in ls_samples:\n",
    "    location_colors = df.loc[df['Sample_ID'] == sample,['Nuc_X_Inv','Nuc_Y_Inv','cluster']]\n",
    "\n",
    "    fig = go.Figure()\n",
    "    \n",
    "    title = sample\n",
    "    \n",
    "    # Iterate through all unique cluster values assocaited with this sample\n",
    "    # Not every cluster may be present in every sample\n",
    "    for cluster in sorted(df.loc[df['Sample_ID'] == sample,'cluster'].unique()):\n",
    "        fig.add_scatter(\n",
    "            mode = 'markers',\n",
    "            marker=dict(\n",
    "                size=5, opacity=0.4, # size is dot size, higher opacity = less opaque\n",
    "                color='rgb' + str(cluster_color_dict[cluster])#,\n",
    "                #line = dict(width = 2, color = 'gray') # line around each marker\n",
    "            ),\n",
    "        x = location_colors.loc[location_colors['cluster']==cluster,'Nuc_X_Inv'],\n",
    "        y = location_colors.loc[location_colors['cluster']==cluster,'Nuc_Y_Inv'],\n",
    "        name = \"Cluster \" + str(cluster))\n",
    "\n",
    "\n",
    "    fig.update_layout(title = title, plot_bgcolor = 'white', showlegend = True,\n",
    "                     legend= {'itemsizing': 'constant'}) # make the legend dots a bit bigger\n",
    "    fig.update_xaxes(title_text = 'Nuc_X_Inv', linecolor = 'black')\n",
    "    fig.update_yaxes(title_text = 'Nuc_Y_Inv', linecolor = 'black')\n",
    "\n",
    "\n",
    "    #plot(fig)\n",
    "    filename = sample + \" KMeans XY Map with \" + str(n_clusters) + \" clusters.png\"\n",
    "    filename = filename.replace(\" \", \"_\")\n",
    "    filename = os.path.join(output_images_dir, filename)\n",
    "    fig.write_image(filename)\n",
    "\n"
   ]
  },
  {
   "cell_type": "markdown",
   "metadata": {},
   "source": [
    "### Bar plots"
   ]
  },
  {
   "cell_type": "markdown",
   "metadata": {},
   "source": [
    "#### Bar plot - counts of cells in each cluster"
   ]
  },
  {
   "cell_type": "code",
   "execution_count": 63,
   "metadata": {},
   "outputs": [
    {
     "data": {
      "text/html": [
       "<div>\n",
       "<style scoped>\n",
       "    .dataframe tbody tr th:only-of-type {\n",
       "        vertical-align: middle;\n",
       "    }\n",
       "\n",
       "    .dataframe tbody tr th {\n",
       "        vertical-align: top;\n",
       "    }\n",
       "\n",
       "    .dataframe thead th {\n",
       "        text-align: right;\n",
       "    }\n",
       "</style>\n",
       "<table border=\"1\" class=\"dataframe\">\n",
       "  <thead>\n",
       "    <tr style=\"text-align: right;\">\n",
       "      <th></th>\n",
       "      <th>clusternum</th>\n",
       "      <th>clustername</th>\n",
       "      <th>clustername_full</th>\n",
       "      <th>count</th>\n",
       "    </tr>\n",
       "  </thead>\n",
       "  <tbody>\n",
       "    <tr>\n",
       "      <th>0</th>\n",
       "      <td>1</td>\n",
       "      <td>Cl 1</td>\n",
       "      <td>Cluster 1</td>\n",
       "      <td>42647</td>\n",
       "    </tr>\n",
       "    <tr>\n",
       "      <th>1</th>\n",
       "      <td>2</td>\n",
       "      <td>Cl 2</td>\n",
       "      <td>Cluster 2</td>\n",
       "      <td>72611</td>\n",
       "    </tr>\n",
       "    <tr>\n",
       "      <th>2</th>\n",
       "      <td>3</td>\n",
       "      <td>Cl 3</td>\n",
       "      <td>Cluster 3</td>\n",
       "      <td>257656</td>\n",
       "    </tr>\n",
       "    <tr>\n",
       "      <th>3</th>\n",
       "      <td>4</td>\n",
       "      <td>Cl 4</td>\n",
       "      <td>Cluster 4</td>\n",
       "      <td>124267</td>\n",
       "    </tr>\n",
       "    <tr>\n",
       "      <th>4</th>\n",
       "      <td>5</td>\n",
       "      <td>Cl 5</td>\n",
       "      <td>Cluster 5</td>\n",
       "      <td>48609</td>\n",
       "    </tr>\n",
       "  </tbody>\n",
       "</table>\n",
       "</div>"
      ],
      "text/plain": [
       "  clusternum clustername clustername_full   count\n",
       "0          1        Cl 1        Cluster 1   42647\n",
       "1          2        Cl 2        Cluster 2   72611\n",
       "2          3        Cl 3        Cluster 3  257656\n",
       "3          4        Cl 4        Cluster 4  124267\n",
       "4          5        Cl 5        Cluster 5   48609"
      ]
     },
     "execution_count": 63,
     "metadata": {},
     "output_type": "execute_result"
    }
   ],
   "source": [
    "cluster_counts = pd.DataFrame(columns = ['clusternum','clustername','clustername_full','count'])\n",
    "\n",
    "df.loc[df['cluster'] == 1,:].shape[0]\n",
    "\n",
    "for c in range(1,n_clusters+1):\n",
    "    cluster_counts = cluster_counts.append(pd.DataFrame(\n",
    "        {'clusternum':[c],\n",
    "         'clustername':['Cl ' + str(c)],\n",
    "         'clustername_full':['Cluster ' + str(c)],\n",
    "         'count':[df.loc[df['cluster'] == c,:].shape[0]]}))\n",
    "    \n",
    "    \n",
    "cluster_counts.index = range(cluster_counts.shape[0])\n",
    "\n",
    "cluster_counts.head()"
   ]
  },
  {
   "cell_type": "raw",
   "metadata": {},
   "source": [
    "# By Cluster only\n",
    "\n",
    "fig = go.Figure()\n",
    "title = 'KMeans cluster cell counts'\n",
    "\n",
    "for c in sorted(df.cluster.unique()):\n",
    "    fig.add_trace(go.Bar(\n",
    "        x=cluster_counts.loc[cluster_counts['clusternum']==c,'clustername'], \n",
    "        y = cluster_counts.loc[cluster_counts['clusternum']==c,'count'],\n",
    "        text = cluster_counts.loc[cluster_counts['clusternum']==c,'count'], textposition= 'outside',\n",
    "        marker=dict(\n",
    "            color='rgb' + str(cluster_color_dict[c])),\n",
    "            showlegend = False\n",
    "        \n",
    "    ))\n",
    "fig.update_layout(title = title, plot_bgcolor = 'white')\n",
    "fig.update_xaxes(linecolor = 'black')\n",
    "fig.update_yaxes(title_text = \"Cells\", linecolor = 'black')\n",
    "#plot(fig)\n",
    "\n",
    "filename = title.replace(\" \",\"_\") + \".png\"\n",
    "filename = os.path.join(output_images_dir, filename)\n",
    "fig.write_image(filename)\n"
   ]
  },
  {
   "cell_type": "markdown",
   "metadata": {},
   "source": [
    "#### Bar plot - Proportional and count breakdowns of tissue type within each cluster"
   ]
  },
  {
   "cell_type": "code",
   "execution_count": 64,
   "metadata": {},
   "outputs": [
    {
     "data": {
      "text/html": [
       "<div>\n",
       "<style scoped>\n",
       "    .dataframe tbody tr th:only-of-type {\n",
       "        vertical-align: middle;\n",
       "    }\n",
       "\n",
       "    .dataframe tbody tr th {\n",
       "        vertical-align: top;\n",
       "    }\n",
       "\n",
       "    .dataframe thead th {\n",
       "        text-align: right;\n",
       "    }\n",
       "</style>\n",
       "<table border=\"1\" class=\"dataframe\">\n",
       "  <thead>\n",
       "    <tr style=\"text-align: right;\">\n",
       "      <th></th>\n",
       "      <th>clusternum</th>\n",
       "      <th>clustername</th>\n",
       "      <th>clustername_full</th>\n",
       "      <th>count</th>\n",
       "    </tr>\n",
       "  </thead>\n",
       "  <tbody>\n",
       "    <tr>\n",
       "      <th>0</th>\n",
       "      <td>1</td>\n",
       "      <td>Cl 1</td>\n",
       "      <td>Cluster 1</td>\n",
       "      <td>42647</td>\n",
       "    </tr>\n",
       "    <tr>\n",
       "      <th>1</th>\n",
       "      <td>2</td>\n",
       "      <td>Cl 2</td>\n",
       "      <td>Cluster 2</td>\n",
       "      <td>72611</td>\n",
       "    </tr>\n",
       "    <tr>\n",
       "      <th>2</th>\n",
       "      <td>3</td>\n",
       "      <td>Cl 3</td>\n",
       "      <td>Cluster 3</td>\n",
       "      <td>257656</td>\n",
       "    </tr>\n",
       "    <tr>\n",
       "      <th>3</th>\n",
       "      <td>4</td>\n",
       "      <td>Cl 4</td>\n",
       "      <td>Cluster 4</td>\n",
       "      <td>124267</td>\n",
       "    </tr>\n",
       "    <tr>\n",
       "      <th>4</th>\n",
       "      <td>5</td>\n",
       "      <td>Cl 5</td>\n",
       "      <td>Cluster 5</td>\n",
       "      <td>48609</td>\n",
       "    </tr>\n",
       "    <tr>\n",
       "      <th>5</th>\n",
       "      <td>6</td>\n",
       "      <td>Cl 6</td>\n",
       "      <td>Cluster 6</td>\n",
       "      <td>55266</td>\n",
       "    </tr>\n",
       "  </tbody>\n",
       "</table>\n",
       "</div>"
      ],
      "text/plain": [
       "  clusternum clustername clustername_full   count\n",
       "0          1        Cl 1        Cluster 1   42647\n",
       "1          2        Cl 2        Cluster 2   72611\n",
       "2          3        Cl 3        Cluster 3  257656\n",
       "3          4        Cl 4        Cluster 4  124267\n",
       "4          5        Cl 5        Cluster 5   48609\n",
       "5          6        Cl 6        Cluster 6   55266"
      ]
     },
     "execution_count": 64,
     "metadata": {},
     "output_type": "execute_result"
    }
   ],
   "source": [
    "cluster_counts"
   ]
  },
  {
   "cell_type": "code",
   "execution_count": 65,
   "metadata": {},
   "outputs": [],
   "source": [
    "cluster_counts['stroma'] = cluster_counts.apply(lambda row: \n",
    "    df.loc[(df['cluster'] == row['clusternum']) &\n",
    "             (df['cell_type'] == 'STROMA'),:].shape[0] , axis = 1)\n",
    "\n",
    "cluster_counts['immune'] = cluster_counts.apply(lambda row: \n",
    "    df.loc[(df['cluster'] == row['clusternum']) &\n",
    "             (df['cell_type'] == 'IMMUNE'),:].shape[0] , axis = 1)\n",
    "\n",
    "cluster_counts['cancer'] = cluster_counts.apply(lambda row: \n",
    "    df.loc[(df['cluster'] == row['clusternum']) &\n",
    "             (df['cell_type'] == 'CANCER'),:].shape[0] , axis = 1)\n",
    "\n",
    "cluster_counts['stroma_perc'] = cluster_counts.apply(\n",
    "    lambda row: round(row['stroma']/row['count']*100,1) , axis = 1)\n",
    "\n",
    "cluster_counts['immune_perc'] = cluster_counts.apply(\n",
    "    lambda row: round(row['immune']/row['count']*100,1) , axis = 1)\n",
    "\n",
    "cluster_counts['cancer_perc'] = cluster_counts.apply(\n",
    "    lambda row: round(row['cancer']/row['count']*100,1) , axis = 1)"
   ]
  },
  {
   "cell_type": "code",
   "execution_count": 66,
   "metadata": {},
   "outputs": [
    {
     "data": {
      "text/html": [
       "<div>\n",
       "<style scoped>\n",
       "    .dataframe tbody tr th:only-of-type {\n",
       "        vertical-align: middle;\n",
       "    }\n",
       "\n",
       "    .dataframe tbody tr th {\n",
       "        vertical-align: top;\n",
       "    }\n",
       "\n",
       "    .dataframe thead th {\n",
       "        text-align: right;\n",
       "    }\n",
       "</style>\n",
       "<table border=\"1\" class=\"dataframe\">\n",
       "  <thead>\n",
       "    <tr style=\"text-align: right;\">\n",
       "      <th></th>\n",
       "      <th>clusternum</th>\n",
       "      <th>clustername</th>\n",
       "      <th>clustername_full</th>\n",
       "      <th>count</th>\n",
       "      <th>stroma</th>\n",
       "      <th>immune</th>\n",
       "      <th>cancer</th>\n",
       "      <th>stroma_perc</th>\n",
       "      <th>immune_perc</th>\n",
       "      <th>cancer_perc</th>\n",
       "    </tr>\n",
       "  </thead>\n",
       "  <tbody>\n",
       "    <tr>\n",
       "      <th>0</th>\n",
       "      <td>1</td>\n",
       "      <td>Cl 1</td>\n",
       "      <td>Cluster 1</td>\n",
       "      <td>42647</td>\n",
       "      <td>21188</td>\n",
       "      <td>8475</td>\n",
       "      <td>12984</td>\n",
       "      <td>49.7</td>\n",
       "      <td>19.9</td>\n",
       "      <td>30.4</td>\n",
       "    </tr>\n",
       "    <tr>\n",
       "      <th>1</th>\n",
       "      <td>2</td>\n",
       "      <td>Cl 2</td>\n",
       "      <td>Cluster 2</td>\n",
       "      <td>72611</td>\n",
       "      <td>36350</td>\n",
       "      <td>14435</td>\n",
       "      <td>21826</td>\n",
       "      <td>50.1</td>\n",
       "      <td>19.9</td>\n",
       "      <td>30.1</td>\n",
       "    </tr>\n",
       "    <tr>\n",
       "      <th>2</th>\n",
       "      <td>3</td>\n",
       "      <td>Cl 3</td>\n",
       "      <td>Cluster 3</td>\n",
       "      <td>257656</td>\n",
       "      <td>128864</td>\n",
       "      <td>51647</td>\n",
       "      <td>77145</td>\n",
       "      <td>50.0</td>\n",
       "      <td>20.0</td>\n",
       "      <td>29.9</td>\n",
       "    </tr>\n",
       "    <tr>\n",
       "      <th>3</th>\n",
       "      <td>4</td>\n",
       "      <td>Cl 4</td>\n",
       "      <td>Cluster 4</td>\n",
       "      <td>124267</td>\n",
       "      <td>62453</td>\n",
       "      <td>24702</td>\n",
       "      <td>37112</td>\n",
       "      <td>50.3</td>\n",
       "      <td>19.9</td>\n",
       "      <td>29.9</td>\n",
       "    </tr>\n",
       "    <tr>\n",
       "      <th>4</th>\n",
       "      <td>5</td>\n",
       "      <td>Cl 5</td>\n",
       "      <td>Cluster 5</td>\n",
       "      <td>48609</td>\n",
       "      <td>24337</td>\n",
       "      <td>9721</td>\n",
       "      <td>14551</td>\n",
       "      <td>50.1</td>\n",
       "      <td>20.0</td>\n",
       "      <td>29.9</td>\n",
       "    </tr>\n",
       "    <tr>\n",
       "      <th>5</th>\n",
       "      <td>6</td>\n",
       "      <td>Cl 6</td>\n",
       "      <td>Cluster 6</td>\n",
       "      <td>55266</td>\n",
       "      <td>27713</td>\n",
       "      <td>11058</td>\n",
       "      <td>16495</td>\n",
       "      <td>50.1</td>\n",
       "      <td>20.0</td>\n",
       "      <td>29.8</td>\n",
       "    </tr>\n",
       "  </tbody>\n",
       "</table>\n",
       "</div>"
      ],
      "text/plain": [
       "  clusternum clustername clustername_full   count  stroma  immune  cancer  \\\n",
       "0          1        Cl 1        Cluster 1   42647   21188    8475   12984   \n",
       "1          2        Cl 2        Cluster 2   72611   36350   14435   21826   \n",
       "2          3        Cl 3        Cluster 3  257656  128864   51647   77145   \n",
       "3          4        Cl 4        Cluster 4  124267   62453   24702   37112   \n",
       "4          5        Cl 5        Cluster 5   48609   24337    9721   14551   \n",
       "5          6        Cl 6        Cluster 6   55266   27713   11058   16495   \n",
       "\n",
       "   stroma_perc  immune_perc  cancer_perc  \n",
       "0         49.7         19.9         30.4  \n",
       "1         50.1         19.9         30.1  \n",
       "2         50.0         20.0         29.9  \n",
       "3         50.3         19.9         29.9  \n",
       "4         50.1         20.0         29.9  \n",
       "5         50.1         20.0         29.8  "
      ]
     },
     "execution_count": 66,
     "metadata": {},
     "output_type": "execute_result"
    }
   ],
   "source": [
    "cluster_counts"
   ]
  },
  {
   "cell_type": "raw",
   "metadata": {},
   "source": [
    "# Cell type within cluster - count\n",
    "\n",
    "\n",
    "fig = go.Figure()\n",
    "title = 'KMeans cell types count within clusters'\n",
    "\n",
    "fig = go.Figure(data=[\n",
    "    go.Bar(name='Stroma', x=cluster_counts['clustername'], y=cluster_counts['stroma'], \n",
    "           text = cluster_counts['stroma'], textposition='auto',\n",
    "           marker_color = 'rgb' + str(celltype_color_dict['STROMA'])),\n",
    "    \n",
    "    go.Bar(name='Immune', x=cluster_counts['clustername'], y=cluster_counts['immune'], \n",
    "           text = cluster_counts['immune'], textposition='auto',\n",
    "           marker_color = 'rgb' + str(celltype_color_dict['IMMUNE'])),\n",
    "    \n",
    "    go.Bar(name='Cancer',x=cluster_counts['clustername'], y=cluster_counts['cancer'], \n",
    "           text = cluster_counts['cancer'], textposition='auto', \n",
    "           marker_color = 'rgb' + str(celltype_color_dict['CANCER']))\n",
    "])\n",
    "    \n",
    "fig.update_layout(title = title, plot_bgcolor = 'white',barmode ='stack')\n",
    "fig.update_xaxes(linecolor = 'black')\n",
    "fig.update_yaxes(title = \"Cell count\", linecolor = 'black')\n",
    "#plot(fig)\n",
    "\n",
    "filename = title.replace(\" \",\"_\") + \".png\"\n",
    "filename = os.path.join(output_images_dir, filename)\n",
    "fig.write_image(filename)"
   ]
  },
  {
   "cell_type": "raw",
   "metadata": {},
   "source": [
    "# Cell type within cluster - proportional\n",
    "\n",
    "fig = go.Figure()\n",
    "title = 'KMeans cell types proportions within clusters'\n",
    "\n",
    "fig = go.Figure(data=[\n",
    "    go.Bar(name='Stroma', x=cluster_counts['clustername'], y=cluster_counts['stroma_perc'], \n",
    "           text = cluster_counts['stroma_perc'], textposition='auto',\n",
    "           marker_color = 'rgb' + str(celltype_color_dict['STROMA'])),\n",
    "    \n",
    "    go.Bar(name='Immune', x=cluster_counts['clustername'], y=cluster_counts['immune_perc'], \n",
    "           text = cluster_counts['immune_perc'], textposition='auto',\n",
    "           marker_color = 'rgb' + str(celltype_color_dict['IMMUNE'])),\n",
    "    \n",
    "    go.Bar(name='Cancer',x=cluster_counts['clustername'], y=cluster_counts['cancer_perc'], \n",
    "           text = cluster_counts['cancer_perc'], textposition='auto', \n",
    "           marker_color = 'rgb' + str(celltype_color_dict['CANCER']))\n",
    "])\n",
    "    \n",
    "fig.update_layout(title = title, plot_bgcolor = 'white',barmode ='stack')\n",
    "fig.update_xaxes(linecolor = 'black')\n",
    "fig.update_yaxes(title = \"Cell proportion of total\", linecolor = 'black')\n",
    "#plot(fig)\n",
    "\n",
    "filename  = title.replace(\" \",\"_\") + \".png\"\n",
    "filename = os.path.join(output_images_dir, filename)\n",
    "fig.write_image(filename)\n"
   ]
  },
  {
   "cell_type": "markdown",
   "metadata": {},
   "source": [
    "### Distributions"
   ]
  },
  {
   "cell_type": "markdown",
   "metadata": {},
   "source": [
    "\n",
    "Boxplots distributions\n",
    "On Kmeans clusters – one plot per marker, each box is a cluster, all samples in there\n"
   ]
  },
  {
   "cell_type": "code",
   "execution_count": 67,
   "metadata": {},
   "outputs": [],
   "source": [
    "# By sample ID and cell type\n",
    "def make_cluster_boxplot(my_marker, df):\n",
    "    fig = go.Figure()\n",
    "    title = 'KMeans ' + my_marker + ' Distributions by cluster'\n",
    "\n",
    "    clusters = sorted(df.cluster.unique())\n",
    "    data = []\n",
    "    for c in clusters:\n",
    "        data.append(go.Box(name=\"Cl \"+str(c),\n",
    "                           y = df.loc[df['cluster']==c,my_marker],\n",
    "                          marker = dict(color = 'rgb'+str(cluster_color_dict[c]))))\n",
    "\n",
    "    fig = go.Figure(data=data)\n",
    "    fig.update_layout(title = title, plot_bgcolor = 'white',barmode ='stack', showlegend = False)\n",
    "    fig.update_xaxes(linecolor = 'black')\n",
    "    fig.update_yaxes(title_text = 'Z-Scored Intensity', linecolor = 'black')\n",
    "    #plot(fig)\n",
    "    \n",
    "    filename = title.replace(\" \",\"_\") + \".png\"\n",
    "    filename = os.path.join(output_images_dir, filename)\n",
    "    fig.write_image(filename)\n",
    "    return None\n"
   ]
  },
  {
   "cell_type": "raw",
   "metadata": {},
   "source": [
    "df = df.rename(columns = full_to_short_names)\n",
    "\n",
    "for m in [m for m in df.columns.values if m not in not_intensities]:\n",
    "    pass\n",
    "    make_cluster_boxplot(m, df)\n",
    "\n",
    "df = df.rename(columns = short_to_full_names)"
   ]
  },
  {
   "cell_type": "markdown",
   "metadata": {},
   "source": [
    "### Calculate the percentage/proportion of each cluster for each sample"
   ]
  },
  {
   "cell_type": "markdown",
   "metadata": {},
   "source": [
    "This information will be used in a few subsequent visualizations, as well as saved for future reference. One important thing to note about these dataframes is that Sample_ID is the name of the index, and the values of the index are our sample names. This is how the dfs are generated, and I've chosen to keep them that way because it will make it a bit easier for the median value heatmap later on. Note that the bar plot will gather its x-axis data from the index of a dataframe. Both the index (Sample_ID) and columns (cluster) are going to be named, which might make the dfs look a little unusual when printed to the screen."
   ]
  },
  {
   "cell_type": "markdown",
   "metadata": {},
   "source": [
    "First, we create a dataframe of the counts for each sample/cluster combination."
   ]
  },
  {
   "cell_type": "code",
   "execution_count": 68,
   "metadata": {},
   "outputs": [],
   "source": [
    "# Group by Sample_ID, then get the value counts for each cluster,\n",
    "# then massage into a dataframe\n",
    "cluster_sample_counts = df.groupby('Sample_ID')['cluster'].value_counts().unstack().fillna(0)\n",
    "\n",
    "## Keeping some commented out code in case we want to make 'Sample_ID' a column in its own right\n",
    "#cluster_sample_counts['Sample_ID'] = cluster_sample_counts.index\n",
    "\n",
    "## Change from floats to ints\n",
    "#cluster_sample_counts.loc[:,cluster_sample_counts.columns != 'Sample_ID'] = \\\n",
    "#    cluster_sample_counts.loc[:,cluster_sample_counts.columns != 'Sample_ID'].astype(int)\n",
    "cluster_sample_counts = cluster_sample_counts.astype(int)"
   ]
  },
  {
   "cell_type": "code",
   "execution_count": 69,
   "metadata": {},
   "outputs": [
    {
     "data": {
      "text/html": [
       "<div>\n",
       "<style scoped>\n",
       "    .dataframe tbody tr th:only-of-type {\n",
       "        vertical-align: middle;\n",
       "    }\n",
       "\n",
       "    .dataframe tbody tr th {\n",
       "        vertical-align: top;\n",
       "    }\n",
       "\n",
       "    .dataframe thead th {\n",
       "        text-align: right;\n",
       "    }\n",
       "</style>\n",
       "<table border=\"1\" class=\"dataframe\">\n",
       "  <thead>\n",
       "    <tr style=\"text-align: right;\">\n",
       "      <th>cluster</th>\n",
       "      <th>1</th>\n",
       "      <th>2</th>\n",
       "      <th>3</th>\n",
       "      <th>4</th>\n",
       "      <th>5</th>\n",
       "      <th>6</th>\n",
       "    </tr>\n",
       "    <tr>\n",
       "      <th>Sample_ID</th>\n",
       "      <th></th>\n",
       "      <th></th>\n",
       "      <th></th>\n",
       "      <th></th>\n",
       "      <th></th>\n",
       "      <th></th>\n",
       "    </tr>\n",
       "  </thead>\n",
       "  <tbody>\n",
       "    <tr>\n",
       "      <th>A_GZ2</th>\n",
       "      <td>54</td>\n",
       "      <td>65366</td>\n",
       "      <td>129</td>\n",
       "      <td>130</td>\n",
       "      <td>123</td>\n",
       "      <td>335</td>\n",
       "    </tr>\n",
       "    <tr>\n",
       "      <th>B_GZ1</th>\n",
       "      <td>2</td>\n",
       "      <td>539</td>\n",
       "      <td>18</td>\n",
       "      <td>21</td>\n",
       "      <td>423</td>\n",
       "      <td>440</td>\n",
       "    </tr>\n",
       "    <tr>\n",
       "      <th>C_GZ5</th>\n",
       "      <td>0</td>\n",
       "      <td>67</td>\n",
       "      <td>0</td>\n",
       "      <td>0</td>\n",
       "      <td>108</td>\n",
       "      <td>10</td>\n",
       "    </tr>\n",
       "    <tr>\n",
       "      <th>D_GZ4</th>\n",
       "      <td>2</td>\n",
       "      <td>265</td>\n",
       "      <td>90</td>\n",
       "      <td>128</td>\n",
       "      <td>46594</td>\n",
       "      <td>56</td>\n",
       "    </tr>\n",
       "    <tr>\n",
       "      <th>E_GZ3</th>\n",
       "      <td>39</td>\n",
       "      <td>3202</td>\n",
       "      <td>95</td>\n",
       "      <td>452</td>\n",
       "      <td>1234</td>\n",
       "      <td>480</td>\n",
       "    </tr>\n",
       "  </tbody>\n",
       "</table>\n",
       "</div>"
      ],
      "text/plain": [
       "cluster     1      2    3    4      5    6\n",
       "Sample_ID                                 \n",
       "A_GZ2      54  65366  129  130    123  335\n",
       "B_GZ1       2    539   18   21    423  440\n",
       "C_GZ5       0     67    0    0    108   10\n",
       "D_GZ4       2    265   90  128  46594   56\n",
       "E_GZ3      39   3202   95  452   1234  480"
      ]
     },
     "execution_count": 69,
     "metadata": {},
     "output_type": "execute_result"
    }
   ],
   "source": [
    "cluster_sample_counts.head()\n",
    "\n",
    "# Note 'Sample_ID' is name of index, 'cluster' is name of columns."
   ]
  },
  {
   "cell_type": "markdown",
   "metadata": {},
   "source": [
    "We are also interested in the proportion values."
   ]
  },
  {
   "cell_type": "code",
   "execution_count": 70,
   "metadata": {},
   "outputs": [],
   "source": [
    "## Proportions\n",
    "cluster_sample_props = cluster_sample_counts.copy()\n",
    "\n",
    "# Keeping some commented out code in case we've chosen\n",
    "# to make 'Sample_ID' a column in its own right\n",
    "\"\"\"cluster_sample_props.loc[:,\n",
    "    cluster_sample_props.columns != 'Sample_ID'] = \\\n",
    "        cluster_sample_props.loc[:,cluster_sample_props.columns != 'Sample_ID'].apply(\n",
    "            lambda row: round(row/row.sum()*100,1), axis =1)\"\"\"\n",
    "cluster_sample_props = \\\n",
    "        cluster_sample_props.apply(\n",
    "            lambda row: round(row/row.sum()*100,1), axis =1)"
   ]
  },
  {
   "cell_type": "code",
   "execution_count": 71,
   "metadata": {},
   "outputs": [
    {
     "data": {
      "text/html": [
       "<div>\n",
       "<style scoped>\n",
       "    .dataframe tbody tr th:only-of-type {\n",
       "        vertical-align: middle;\n",
       "    }\n",
       "\n",
       "    .dataframe tbody tr th {\n",
       "        vertical-align: top;\n",
       "    }\n",
       "\n",
       "    .dataframe thead th {\n",
       "        text-align: right;\n",
       "    }\n",
       "</style>\n",
       "<table border=\"1\" class=\"dataframe\">\n",
       "  <thead>\n",
       "    <tr style=\"text-align: right;\">\n",
       "      <th>cluster</th>\n",
       "      <th>1</th>\n",
       "      <th>2</th>\n",
       "      <th>3</th>\n",
       "      <th>4</th>\n",
       "      <th>5</th>\n",
       "      <th>6</th>\n",
       "    </tr>\n",
       "    <tr>\n",
       "      <th>Sample_ID</th>\n",
       "      <th></th>\n",
       "      <th></th>\n",
       "      <th></th>\n",
       "      <th></th>\n",
       "      <th></th>\n",
       "      <th></th>\n",
       "    </tr>\n",
       "  </thead>\n",
       "  <tbody>\n",
       "    <tr>\n",
       "      <th>A_GZ2</th>\n",
       "      <td>0.1</td>\n",
       "      <td>98.8</td>\n",
       "      <td>0.2</td>\n",
       "      <td>0.2</td>\n",
       "      <td>0.2</td>\n",
       "      <td>0.5</td>\n",
       "    </tr>\n",
       "    <tr>\n",
       "      <th>B_GZ1</th>\n",
       "      <td>0.1</td>\n",
       "      <td>37.4</td>\n",
       "      <td>1.2</td>\n",
       "      <td>1.5</td>\n",
       "      <td>29.3</td>\n",
       "      <td>30.5</td>\n",
       "    </tr>\n",
       "    <tr>\n",
       "      <th>C_GZ5</th>\n",
       "      <td>0.0</td>\n",
       "      <td>36.2</td>\n",
       "      <td>0.0</td>\n",
       "      <td>0.0</td>\n",
       "      <td>58.4</td>\n",
       "      <td>5.4</td>\n",
       "    </tr>\n",
       "    <tr>\n",
       "      <th>D_GZ4</th>\n",
       "      <td>0.0</td>\n",
       "      <td>0.6</td>\n",
       "      <td>0.2</td>\n",
       "      <td>0.3</td>\n",
       "      <td>98.9</td>\n",
       "      <td>0.1</td>\n",
       "    </tr>\n",
       "    <tr>\n",
       "      <th>E_GZ3</th>\n",
       "      <td>0.7</td>\n",
       "      <td>58.2</td>\n",
       "      <td>1.7</td>\n",
       "      <td>8.2</td>\n",
       "      <td>22.4</td>\n",
       "      <td>8.7</td>\n",
       "    </tr>\n",
       "    <tr>\n",
       "      <th>F_GZ6</th>\n",
       "      <td>0.0</td>\n",
       "      <td>0.5</td>\n",
       "      <td>0.6</td>\n",
       "      <td>1.7</td>\n",
       "      <td>0.0</td>\n",
       "      <td>97.2</td>\n",
       "    </tr>\n",
       "    <tr>\n",
       "      <th>G_GZ7</th>\n",
       "      <td>10.0</td>\n",
       "      <td>0.7</td>\n",
       "      <td>60.4</td>\n",
       "      <td>28.8</td>\n",
       "      <td>0.0</td>\n",
       "      <td>0.1</td>\n",
       "    </tr>\n",
       "  </tbody>\n",
       "</table>\n",
       "</div>"
      ],
      "text/plain": [
       "cluster       1     2     3     4     5     6\n",
       "Sample_ID                                    \n",
       "A_GZ2       0.1  98.8   0.2   0.2   0.2   0.5\n",
       "B_GZ1       0.1  37.4   1.2   1.5  29.3  30.5\n",
       "C_GZ5       0.0  36.2   0.0   0.0  58.4   5.4\n",
       "D_GZ4       0.0   0.6   0.2   0.3  98.9   0.1\n",
       "E_GZ3       0.7  58.2   1.7   8.2  22.4   8.7\n",
       "F_GZ6       0.0   0.5   0.6   1.7   0.0  97.2\n",
       "G_GZ7      10.0   0.7  60.4  28.8   0.0   0.1"
      ]
     },
     "execution_count": 71,
     "metadata": {},
     "output_type": "execute_result"
    }
   ],
   "source": [
    "cluster_sample_props\n",
    "\n",
    "# Note 'Sample_ID' is name of index, 'cluster' is name of columns."
   ]
  },
  {
   "cell_type": "markdown",
   "metadata": {},
   "source": [
    "Save files of these two dataframes."
   ]
  },
  {
   "cell_type": "code",
   "execution_count": 72,
   "metadata": {},
   "outputs": [],
   "source": [
    "## Counts\n",
    "filename = \"sample_cluster_counts.csv\"\n",
    "filename = os.path.join(output_data_dir, filename)\n",
    "cluster_sample_counts.to_csv(filename, index = True, \n",
    "                             # We want the header of the output file to have the format 'cluster_#' instead of '#'\n",
    "                             ## Keeping some commented out code in case we have decided to make 'Sample_ID' a column in its own right\n",
    "                             # We also do not want to alter the name of the 'Sample_ID' column\n",
    "                             #header = [\"cluster_\" + str(c) for c in cluster_sample_counts.columns if c != 'Sample_ID'] +\\\n",
    "                             #        ['Sample_ID'])\n",
    "                            header = [\"cluster_\" + str(c) for c in cluster_sample_counts.columns])\n",
    "# Proportions\n",
    "filename = \"sample_cluster_counts_perc.csv\"\n",
    "filename = os.path.join(output_data_dir, filename)\n",
    "cluster_sample_props.to_csv(filename, index = True,\n",
    "                            # We want the header of the output file to have the format 'cluster_#' instead of '#'\n",
    "                            ## Keeping some commented out code in case we have decided to make 'Sample_ID' a column in its own right\n",
    "                             # We also do not want to alter the name of the 'Sample_ID' column\n",
    "                             #header = [\"cluster_\" + str(c) for c in cluster_sample_counts.columns if c != 'Sample_ID'] +\\\n",
    "                             #        ['Sample_ID'])\n",
    "                            header = [\"cluster_\" + str(c) for c in cluster_sample_counts.columns])"
   ]
  },
  {
   "cell_type": "markdown",
   "metadata": {},
   "source": [
    "### Bar plot - Proportional breakdown of clusters within sample"
   ]
  },
  {
   "cell_type": "raw",
   "metadata": {},
   "source": [
    "# By sample ID and cell type\n",
    "\n",
    "fig = go.Figure()\n",
    "title = 'Proportional breakdown of clusters within sample'\n",
    "\n",
    "clusters = list(range(1,n_clusters+1))\n",
    "data = []\n",
    "for c in clusters:\n",
    "    data.append(go.Bar(name=\"Cl \"+str(c),\n",
    "                       x=cluster_sample_counts.index, # if 'Sample_ID' were a column, we would have said cluster_sample_counts['Sample_ID']\n",
    "                       y=cluster_sample_counts[c],\n",
    "                       marker = dict(\n",
    "                           color='rgb' + str(cluster_color_dict[c]))))\n",
    "\n",
    "fig = go.Figure(data=data)\n",
    "    \n",
    "fig.update_layout(title = title, plot_bgcolor = 'white',barmode ='stack')\n",
    "fig.update_xaxes(linecolor = 'black')\n",
    "fig.update_yaxes(title_text = \"Cluster proportion\", linecolor = 'black')\n",
    "#plot(fig)\n",
    "\n",
    "filename = title.replace(\" \",\"_\") + \".png\"\n",
    "filename = os.path.join(output_images_dir, filename)\n",
    "fig.write_image(filename)\n"
   ]
  },
  {
   "cell_type": "markdown",
   "metadata": {},
   "source": [
    "### Prepare for median value heatmap"
   ]
  },
  {
   "cell_type": "markdown",
   "metadata": {},
   "source": [
    "For this, we will want to combine rows in `cluster_sample_counts` at will, using whichever criteria we chose. The added rows will be replaced with one sum row. Then, we will determine the proportions and only plot the samples/data we are interested in."
   ]
  },
  {
   "cell_type": "markdown",
   "metadata": {},
   "source": [
    "First, let's create a copy of the `cluster_sample_counts` to work with. We want to maintain the original, so that we can create as many different combinations of rows as we want without extra work to revert back to the original."
   ]
  },
  {
   "cell_type": "code",
   "execution_count": 73,
   "metadata": {},
   "outputs": [
    {
     "data": {
      "text/html": [
       "<div>\n",
       "<style scoped>\n",
       "    .dataframe tbody tr th:only-of-type {\n",
       "        vertical-align: middle;\n",
       "    }\n",
       "\n",
       "    .dataframe tbody tr th {\n",
       "        vertical-align: top;\n",
       "    }\n",
       "\n",
       "    .dataframe thead th {\n",
       "        text-align: right;\n",
       "    }\n",
       "</style>\n",
       "<table border=\"1\" class=\"dataframe\">\n",
       "  <thead>\n",
       "    <tr style=\"text-align: right;\">\n",
       "      <th>cluster</th>\n",
       "      <th>1</th>\n",
       "      <th>2</th>\n",
       "      <th>3</th>\n",
       "      <th>4</th>\n",
       "      <th>5</th>\n",
       "      <th>6</th>\n",
       "    </tr>\n",
       "    <tr>\n",
       "      <th>comb_id</th>\n",
       "      <th></th>\n",
       "      <th></th>\n",
       "      <th></th>\n",
       "      <th></th>\n",
       "      <th></th>\n",
       "      <th></th>\n",
       "    </tr>\n",
       "  </thead>\n",
       "  <tbody>\n",
       "    <tr>\n",
       "      <th>A_GZ2</th>\n",
       "      <td>54</td>\n",
       "      <td>65366</td>\n",
       "      <td>129</td>\n",
       "      <td>130</td>\n",
       "      <td>123</td>\n",
       "      <td>335</td>\n",
       "    </tr>\n",
       "    <tr>\n",
       "      <th>B_GZ1</th>\n",
       "      <td>2</td>\n",
       "      <td>539</td>\n",
       "      <td>18</td>\n",
       "      <td>21</td>\n",
       "      <td>423</td>\n",
       "      <td>440</td>\n",
       "    </tr>\n",
       "    <tr>\n",
       "      <th>C_GZ5</th>\n",
       "      <td>0</td>\n",
       "      <td>67</td>\n",
       "      <td>0</td>\n",
       "      <td>0</td>\n",
       "      <td>108</td>\n",
       "      <td>10</td>\n",
       "    </tr>\n",
       "    <tr>\n",
       "      <th>D_GZ4</th>\n",
       "      <td>2</td>\n",
       "      <td>265</td>\n",
       "      <td>90</td>\n",
       "      <td>128</td>\n",
       "      <td>46594</td>\n",
       "      <td>56</td>\n",
       "    </tr>\n",
       "    <tr>\n",
       "      <th>E_GZ3</th>\n",
       "      <td>39</td>\n",
       "      <td>3202</td>\n",
       "      <td>95</td>\n",
       "      <td>452</td>\n",
       "      <td>1234</td>\n",
       "      <td>480</td>\n",
       "    </tr>\n",
       "  </tbody>\n",
       "</table>\n",
       "</div>"
      ],
      "text/plain": [
       "cluster   1      2    3    4      5    6\n",
       "comb_id                                 \n",
       "A_GZ2    54  65366  129  130    123  335\n",
       "B_GZ1     2    539   18   21    423  440\n",
       "C_GZ5     0     67    0    0    108   10\n",
       "D_GZ4     2    265   90  128  46594   56\n",
       "E_GZ3    39   3202   95  452   1234  480"
      ]
     },
     "execution_count": 73,
     "metadata": {},
     "output_type": "execute_result"
    }
   ],
   "source": [
    "counts_subset = cluster_sample_counts.copy()\n",
    "\n",
    "# We also want to rename 'Sample_ID' to 'Combination_ID'\n",
    "counts_subset.index = counts_subset.index.rename('comb_id')\n",
    "\n",
    "counts_subset.head()\n",
    "\n"
   ]
  },
  {
   "cell_type": "code",
   "execution_count": 74,
   "metadata": {},
   "outputs": [],
   "source": [
    "def row_combiner(df, drop_rows, new_name):\n",
    "    # Check that drop_rows are in the index\n",
    "    if len(set(drop_rows).intersection(set(df.index))) == 0:\n",
    "        print(\"1+ item(s) specified for dropping not found in dataframe's index.\")\n",
    "        print(\"Returning unaltered dataframe.\")\n",
    "        return df\n",
    "    \n",
    "    # First create a dataframe consisiting of the chosen summed rows\n",
    "    # Note that we are feeding a list of index identifiers into\n",
    "    # the .index.isin() portion\n",
    "    new_row = pd.DataFrame( # make a df out of the following...\n",
    "    counts_subset.loc[ # only the rows where given df has rows meeting criteria\n",
    "                    # criteria are that index identifiers are in the given list\n",
    "        df.index.isin(drop_rows),\n",
    "        # all columns are wanted, hence the \":\"\n",
    "        # We are also summming along the first (0th index) axis, along the rows\n",
    "        :].sum(axis = 0)\n",
    "            ).T # transpose to get a row instead of a column\n",
    "\n",
    "    # In order to replace the summed rows with our new row,\n",
    "    # we will need to assign our new row an index identifier\n",
    "    # This should be the identifier you want to see on the median\n",
    "    # value heatmap.\n",
    "    new_row.index = [new_name]\n",
    "\n",
    "    # We will also rename the axis to 'Sample_ID', as before,\n",
    "    # or else the counts_subset will lose its axis name when\n",
    "    # the new row is added\n",
    "    new_row = new_row.rename_axis(df.index.name, axis = 'index')\n",
    "\n",
    "    # What does this new dataframe look like?\n",
    "    # Remember 'cluster' is just the name of the columns\n",
    "    \n",
    "    df = df.append(new_row)\n",
    "    df = df.drop(drop_rows)\n",
    "\n",
    "    return df"
   ]
  },
  {
   "cell_type": "code",
   "execution_count": 75,
   "metadata": {},
   "outputs": [
    {
     "data": {
      "text/html": [
       "<div>\n",
       "<style scoped>\n",
       "    .dataframe tbody tr th:only-of-type {\n",
       "        vertical-align: middle;\n",
       "    }\n",
       "\n",
       "    .dataframe tbody tr th {\n",
       "        vertical-align: top;\n",
       "    }\n",
       "\n",
       "    .dataframe thead th {\n",
       "        text-align: right;\n",
       "    }\n",
       "</style>\n",
       "<table border=\"1\" class=\"dataframe\">\n",
       "  <thead>\n",
       "    <tr style=\"text-align: right;\">\n",
       "      <th>cluster</th>\n",
       "      <th>1</th>\n",
       "      <th>2</th>\n",
       "      <th>3</th>\n",
       "      <th>4</th>\n",
       "      <th>5</th>\n",
       "      <th>6</th>\n",
       "    </tr>\n",
       "    <tr>\n",
       "      <th>comb_id</th>\n",
       "      <th></th>\n",
       "      <th></th>\n",
       "      <th></th>\n",
       "      <th></th>\n",
       "      <th></th>\n",
       "      <th></th>\n",
       "    </tr>\n",
       "  </thead>\n",
       "  <tbody>\n",
       "    <tr>\n",
       "      <th>D_GZ4</th>\n",
       "      <td>2</td>\n",
       "      <td>265</td>\n",
       "      <td>90</td>\n",
       "      <td>128</td>\n",
       "      <td>46594</td>\n",
       "      <td>56</td>\n",
       "    </tr>\n",
       "    <tr>\n",
       "      <th>E_GZ3</th>\n",
       "      <td>39</td>\n",
       "      <td>3202</td>\n",
       "      <td>95</td>\n",
       "      <td>452</td>\n",
       "      <td>1234</td>\n",
       "      <td>480</td>\n",
       "    </tr>\n",
       "    <tr>\n",
       "      <th>F_GZ6</th>\n",
       "      <td>1</td>\n",
       "      <td>274</td>\n",
       "      <td>328</td>\n",
       "      <td>914</td>\n",
       "      <td>0</td>\n",
       "      <td>53445</td>\n",
       "    </tr>\n",
       "    <tr>\n",
       "      <th>G_GZ7</th>\n",
       "      <td>42549</td>\n",
       "      <td>2898</td>\n",
       "      <td>256996</td>\n",
       "      <td>122622</td>\n",
       "      <td>127</td>\n",
       "      <td>500</td>\n",
       "    </tr>\n",
       "    <tr>\n",
       "      <th>Patient_X</th>\n",
       "      <td>56</td>\n",
       "      <td>65972</td>\n",
       "      <td>147</td>\n",
       "      <td>151</td>\n",
       "      <td>654</td>\n",
       "      <td>785</td>\n",
       "    </tr>\n",
       "  </tbody>\n",
       "</table>\n",
       "</div>"
      ],
      "text/plain": [
       "cluster        1      2       3       4      5      6\n",
       "comb_id                                              \n",
       "D_GZ4          2    265      90     128  46594     56\n",
       "E_GZ3         39   3202      95     452   1234    480\n",
       "F_GZ6          1    274     328     914      0  53445\n",
       "G_GZ7      42549   2898  256996  122622    127    500\n",
       "Patient_X     56  65972     147     151    654    785"
      ]
     },
     "execution_count": 75,
     "metadata": {},
     "output_type": "execute_result"
    }
   ],
   "source": [
    "# drop_rows = the rows we are going to be replaced with the one combined row\n",
    "\n",
    "#counts_subset = \\\n",
    "#    row_combiner(df = counts_subset, drop_rows = ['GZ10.1','GZ10.2'], new_name = 'Patient_1')\n",
    "\n",
    "counts_subset = \\\n",
    "    row_combiner(df = counts_subset, drop_rows = ['A_GZ2','B_GZ1','C_GZ5'], new_name = 'Patient_X')\n",
    "\n",
    "counts_subset"
   ]
  },
  {
   "cell_type": "markdown",
   "metadata": {},
   "source": [
    "You can repeat the above process as many times as you would like to add on as many rows as you would like. There are a few other manipulations to consider."
   ]
  },
  {
   "cell_type": "markdown",
   "metadata": {},
   "source": [
    "What if we want to drop some additional rows, wihtout replacing them with a sum? The `drop()` function is fed a list of index identifiers to drop from the dataframe."
   ]
  },
  {
   "cell_type": "code",
   "execution_count": 76,
   "metadata": {},
   "outputs": [
    {
     "data": {
      "text/html": [
       "<div>\n",
       "<style scoped>\n",
       "    .dataframe tbody tr th:only-of-type {\n",
       "        vertical-align: middle;\n",
       "    }\n",
       "\n",
       "    .dataframe tbody tr th {\n",
       "        vertical-align: top;\n",
       "    }\n",
       "\n",
       "    .dataframe thead th {\n",
       "        text-align: right;\n",
       "    }\n",
       "</style>\n",
       "<table border=\"1\" class=\"dataframe\">\n",
       "  <thead>\n",
       "    <tr style=\"text-align: right;\">\n",
       "      <th>cluster</th>\n",
       "      <th>1</th>\n",
       "      <th>2</th>\n",
       "      <th>3</th>\n",
       "      <th>4</th>\n",
       "      <th>5</th>\n",
       "      <th>6</th>\n",
       "    </tr>\n",
       "    <tr>\n",
       "      <th>comb_id</th>\n",
       "      <th></th>\n",
       "      <th></th>\n",
       "      <th></th>\n",
       "      <th></th>\n",
       "      <th></th>\n",
       "      <th></th>\n",
       "    </tr>\n",
       "  </thead>\n",
       "  <tbody>\n",
       "    <tr>\n",
       "      <th>Patient_X</th>\n",
       "      <td>56</td>\n",
       "      <td>65972</td>\n",
       "      <td>147</td>\n",
       "      <td>151</td>\n",
       "      <td>654</td>\n",
       "      <td>785</td>\n",
       "    </tr>\n",
       "  </tbody>\n",
       "</table>\n",
       "</div>"
      ],
      "text/plain": [
       "cluster     1      2    3    4    5    6\n",
       "comb_id                                 \n",
       "Patient_X  56  65972  147  151  654  785"
      ]
     },
     "execution_count": 76,
     "metadata": {},
     "output_type": "execute_result"
    }
   ],
   "source": [
    "#counts_subset.drop(['GZ6'])\n",
    "\n",
    "counts_subset = counts_subset.drop(['D_GZ4','E_GZ3','F_GZ6','G_GZ7'])\n",
    "counts_subset"
   ]
  },
  {
   "cell_type": "markdown",
   "metadata": {},
   "source": [
    "What if we want to rename the index name? I will not write over `cluster_sample_counts`, but here is what you would do."
   ]
  },
  {
   "cell_type": "code",
   "execution_count": 77,
   "metadata": {},
   "outputs": [
    {
     "data": {
      "text/html": [
       "<div>\n",
       "<style scoped>\n",
       "    .dataframe tbody tr th:only-of-type {\n",
       "        vertical-align: middle;\n",
       "    }\n",
       "\n",
       "    .dataframe tbody tr th {\n",
       "        vertical-align: top;\n",
       "    }\n",
       "\n",
       "    .dataframe thead th {\n",
       "        text-align: right;\n",
       "    }\n",
       "</style>\n",
       "<table border=\"1\" class=\"dataframe\">\n",
       "  <thead>\n",
       "    <tr style=\"text-align: right;\">\n",
       "      <th>cluster</th>\n",
       "      <th>1</th>\n",
       "      <th>2</th>\n",
       "      <th>3</th>\n",
       "      <th>4</th>\n",
       "      <th>5</th>\n",
       "      <th>6</th>\n",
       "    </tr>\n",
       "    <tr>\n",
       "      <th>new_index_name</th>\n",
       "      <th></th>\n",
       "      <th></th>\n",
       "      <th></th>\n",
       "      <th></th>\n",
       "      <th></th>\n",
       "      <th></th>\n",
       "    </tr>\n",
       "  </thead>\n",
       "  <tbody>\n",
       "    <tr>\n",
       "      <th>Patient_X</th>\n",
       "      <td>56</td>\n",
       "      <td>65972</td>\n",
       "      <td>147</td>\n",
       "      <td>151</td>\n",
       "      <td>654</td>\n",
       "      <td>785</td>\n",
       "    </tr>\n",
       "  </tbody>\n",
       "</table>\n",
       "</div>"
      ],
      "text/plain": [
       "cluster          1      2    3    4    5    6\n",
       "new_index_name                               \n",
       "Patient_X       56  65972  147  151  654  785"
      ]
     },
     "execution_count": 77,
     "metadata": {},
     "output_type": "execute_result"
    }
   ],
   "source": [
    "counts_subset.rename_axis('new_index_name',axis = 'index')"
   ]
  },
  {
   "cell_type": "markdown",
   "metadata": {},
   "source": [
    "What if we made a typo, and Patient_1 should be Patient_10? Again, I am not overwriting `counts_subset` unless I set it equal to this new expression."
   ]
  },
  {
   "cell_type": "code",
   "execution_count": 78,
   "metadata": {},
   "outputs": [
    {
     "data": {
      "text/html": [
       "<div>\n",
       "<style scoped>\n",
       "    .dataframe tbody tr th:only-of-type {\n",
       "        vertical-align: middle;\n",
       "    }\n",
       "\n",
       "    .dataframe tbody tr th {\n",
       "        vertical-align: top;\n",
       "    }\n",
       "\n",
       "    .dataframe thead th {\n",
       "        text-align: right;\n",
       "    }\n",
       "</style>\n",
       "<table border=\"1\" class=\"dataframe\">\n",
       "  <thead>\n",
       "    <tr style=\"text-align: right;\">\n",
       "      <th>cluster</th>\n",
       "      <th>1</th>\n",
       "      <th>2</th>\n",
       "      <th>3</th>\n",
       "      <th>4</th>\n",
       "      <th>5</th>\n",
       "      <th>6</th>\n",
       "    </tr>\n",
       "    <tr>\n",
       "      <th>comb_id</th>\n",
       "      <th></th>\n",
       "      <th></th>\n",
       "      <th></th>\n",
       "      <th></th>\n",
       "      <th></th>\n",
       "      <th></th>\n",
       "    </tr>\n",
       "  </thead>\n",
       "  <tbody>\n",
       "    <tr>\n",
       "      <th>Patient_X</th>\n",
       "      <td>56</td>\n",
       "      <td>65972</td>\n",
       "      <td>147</td>\n",
       "      <td>151</td>\n",
       "      <td>654</td>\n",
       "      <td>785</td>\n",
       "    </tr>\n",
       "  </tbody>\n",
       "</table>\n",
       "</div>"
      ],
      "text/plain": [
       "cluster     1      2    3    4    5    6\n",
       "comb_id                                 \n",
       "Patient_X  56  65972  147  151  654  785"
      ]
     },
     "execution_count": 78,
     "metadata": {},
     "output_type": "execute_result"
    }
   ],
   "source": [
    "counts_subset.rename(index={'Patient_1':'Patient_10'})"
   ]
  },
  {
   "cell_type": "markdown",
   "metadata": {},
   "source": [
    "What if we want to include one or more of our dropped previously dropped rows? We can append those from the intact `counts_subset`. Here is what the resulting dataframe would look like."
   ]
  },
  {
   "cell_type": "code",
   "execution_count": 79,
   "metadata": {},
   "outputs": [],
   "source": [
    "#counts_subset.append(cluster_sample_counts.loc[['GZ10.1'],:])"
   ]
  },
  {
   "cell_type": "markdown",
   "metadata": {},
   "source": [
    "We also want to create a copy of our original dataframe to use for finding the medians. As before, we will be exchanging original sample labels with other labels. Unlike before, we will not be combining rows until the very end. Row renaming will occur more simply."
   ]
  },
  {
   "cell_type": "code",
   "execution_count": 80,
   "metadata": {},
   "outputs": [],
   "source": [
    "# Create a copy of the original df\n",
    "\n",
    "for_medians = df.copy()"
   ]
  },
  {
   "cell_type": "code",
   "execution_count": 81,
   "metadata": {},
   "outputs": [
    {
     "data": {
      "text/plain": [
       "array(['Patient_X', 'D_GZ4', 'E_GZ3', 'F_GZ6', 'G_GZ7'], dtype=object)"
      ]
     },
     "execution_count": 81,
     "metadata": {},
     "output_type": "execute_result"
    }
   ],
   "source": [
    "# Rename rows as necessary\n",
    "\n",
    "#for_medians.loc[for_medians['Sample_ID'].isin(['GZ10.1','GZ10.2']),['Sample_ID']] = \\\n",
    "#    'Patient_1' \n",
    "\n",
    "\n",
    "for_medians.loc[for_medians['Sample_ID'].isin(['A_GZ2','B_GZ1','C_GZ5']),['Sample_ID']] = \\\n",
    "    'Patient_X' \n",
    "\n",
    "for_medians.Sample_ID.unique()"
   ]
  },
  {
   "cell_type": "code",
   "execution_count": 82,
   "metadata": {},
   "outputs": [
    {
     "data": {
      "text/html": [
       "<div>\n",
       "<style scoped>\n",
       "    .dataframe tbody tr th:only-of-type {\n",
       "        vertical-align: middle;\n",
       "    }\n",
       "\n",
       "    .dataframe tbody tr th {\n",
       "        vertical-align: top;\n",
       "    }\n",
       "\n",
       "    .dataframe thead th {\n",
       "        text-align: right;\n",
       "    }\n",
       "</style>\n",
       "<table border=\"1\" class=\"dataframe\">\n",
       "  <thead>\n",
       "    <tr style=\"text-align: right;\">\n",
       "      <th></th>\n",
       "      <th>Sample_ID</th>\n",
       "    </tr>\n",
       "  </thead>\n",
       "  <tbody>\n",
       "    <tr>\n",
       "      <th>D_GZ4_Cell_25</th>\n",
       "      <td>D_GZ4</td>\n",
       "    </tr>\n",
       "    <tr>\n",
       "      <th>D_GZ4_Cell_49</th>\n",
       "      <td>D_GZ4</td>\n",
       "    </tr>\n",
       "    <tr>\n",
       "      <th>D_GZ4_Cell_51</th>\n",
       "      <td>D_GZ4</td>\n",
       "    </tr>\n",
       "    <tr>\n",
       "      <th>D_GZ4_Cell_55</th>\n",
       "      <td>D_GZ4</td>\n",
       "    </tr>\n",
       "    <tr>\n",
       "      <th>D_GZ4_Cell_56</th>\n",
       "      <td>D_GZ4</td>\n",
       "    </tr>\n",
       "  </tbody>\n",
       "</table>\n",
       "</div>"
      ],
      "text/plain": [
       "              Sample_ID\n",
       "D_GZ4_Cell_25     D_GZ4\n",
       "D_GZ4_Cell_49     D_GZ4\n",
       "D_GZ4_Cell_51     D_GZ4\n",
       "D_GZ4_Cell_55     D_GZ4\n",
       "D_GZ4_Cell_56     D_GZ4"
      ]
     },
     "execution_count": 82,
     "metadata": {},
     "output_type": "execute_result"
    }
   ],
   "source": [
    "# Lets take a look at some rows that WERE NOT just renamed\n",
    "\n",
    "for_medians.loc[~for_medians['Sample_ID'].isin(['Patient_X']),['Sample_ID']].head()"
   ]
  },
  {
   "cell_type": "code",
   "execution_count": 83,
   "metadata": {},
   "outputs": [],
   "source": [
    "## We ALSO need to drop rows from the `for_medians` df as necessary, so that it matches our `counts_subset` item\n",
    "# Drop rows as necessary \n",
    "\n",
    "# Drop everything that isn't 'Patient_1'\n",
    "drop_indices = for_medians.loc[for_medians['Sample_ID'] != 'Patient_X',:].index\n",
    "\n",
    "# Or maybe we want to drop everything that isn't 'Patient_1' or 'Patient_2'\n",
    "#drop_indices = for_medians.loc[~for_medians['Sample_ID'].isin(['Patient_2', 'Patient_1']),:].index\n",
    "\n",
    "# The portion through \"drop(drop_indices)\" gives us a dataframe with the rows we don't want removed\n",
    "for_medians = for_medians.drop(drop_indices)"
   ]
  },
  {
   "cell_type": "markdown",
   "metadata": {},
   "source": [
    "Remember `for_medians` is just our regular df with the 'Sample_ID' label changed to reflect our groupings for the visualization.\n",
    "\n",
    "#### *In order to proceed, both `counts_subset` and `for_medians` should have the same, and only the same, identifiers for sample id (data column)/comb id (index)*"
   ]
  },
  {
   "cell_type": "code",
   "execution_count": 84,
   "metadata": {},
   "outputs": [
    {
     "data": {
      "text/plain": [
       "True"
      ]
     },
     "execution_count": 84,
     "metadata": {},
     "output_type": "execute_result"
    }
   ],
   "source": [
    "sorted(for_medians.Sample_ID.unique()) == sorted(counts_subset.index.unique())"
   ]
  },
  {
   "cell_type": "markdown",
   "metadata": {},
   "source": [
    "Now let's incorporate our cutoff. We want to avoid plotting any cluster that makes up less than *x*% of that subset of data. Now that we have counts across all samples we want to group together, we can calculate the proprotion of each cluster contribution to that grouping."
   ]
  },
  {
   "cell_type": "code",
   "execution_count": 85,
   "metadata": {},
   "outputs": [
    {
     "data": {
      "text/html": [
       "<div>\n",
       "<style scoped>\n",
       "    .dataframe tbody tr th:only-of-type {\n",
       "        vertical-align: middle;\n",
       "    }\n",
       "\n",
       "    .dataframe tbody tr th {\n",
       "        vertical-align: top;\n",
       "    }\n",
       "\n",
       "    .dataframe thead th {\n",
       "        text-align: right;\n",
       "    }\n",
       "</style>\n",
       "<table border=\"1\" class=\"dataframe\">\n",
       "  <thead>\n",
       "    <tr style=\"text-align: right;\">\n",
       "      <th>cluster</th>\n",
       "      <th>1</th>\n",
       "      <th>2</th>\n",
       "      <th>3</th>\n",
       "      <th>4</th>\n",
       "      <th>5</th>\n",
       "      <th>6</th>\n",
       "    </tr>\n",
       "    <tr>\n",
       "      <th>comb_id</th>\n",
       "      <th></th>\n",
       "      <th></th>\n",
       "      <th></th>\n",
       "      <th></th>\n",
       "      <th></th>\n",
       "      <th></th>\n",
       "    </tr>\n",
       "  </thead>\n",
       "  <tbody>\n",
       "    <tr>\n",
       "      <th>Patient_X</th>\n",
       "      <td>0.1</td>\n",
       "      <td>97.4</td>\n",
       "      <td>0.2</td>\n",
       "      <td>0.2</td>\n",
       "      <td>1.0</td>\n",
       "      <td>1.2</td>\n",
       "    </tr>\n",
       "  </tbody>\n",
       "</table>\n",
       "</div>"
      ],
      "text/plain": [
       "cluster      1     2    3    4    5    6\n",
       "comb_id                                 \n",
       "Patient_X  0.1  97.4  0.2  0.2  1.0  1.2"
      ]
     },
     "execution_count": 85,
     "metadata": {},
     "output_type": "execute_result"
    }
   ],
   "source": [
    "# Create a dataframe of the proportions.\n",
    "# Note that the *100 part of the command means that\n",
    "# we are dealing percentages, not proportions, so\n",
    "# that's a bit of a misnomer\n",
    "\n",
    "props_subset = \\\n",
    "        counts_subset.apply(\n",
    "            lambda row: round(row/row.sum()*100,1), axis =1)\n",
    "\n",
    "props_subset"
   ]
  },
  {
   "cell_type": "code",
   "execution_count": 86,
   "metadata": {},
   "outputs": [
    {
     "data": {
      "text/html": [
       "<div>\n",
       "<style scoped>\n",
       "    .dataframe tbody tr th:only-of-type {\n",
       "        vertical-align: middle;\n",
       "    }\n",
       "\n",
       "    .dataframe tbody tr th {\n",
       "        vertical-align: top;\n",
       "    }\n",
       "\n",
       "    .dataframe thead th {\n",
       "        text-align: right;\n",
       "    }\n",
       "</style>\n",
       "<table border=\"1\" class=\"dataframe\">\n",
       "  <thead>\n",
       "    <tr style=\"text-align: right;\">\n",
       "      <th>cluster</th>\n",
       "      <th>1</th>\n",
       "      <th>2</th>\n",
       "      <th>3</th>\n",
       "      <th>4</th>\n",
       "      <th>5</th>\n",
       "      <th>6</th>\n",
       "    </tr>\n",
       "    <tr>\n",
       "      <th>comb_id</th>\n",
       "      <th></th>\n",
       "      <th></th>\n",
       "      <th></th>\n",
       "      <th></th>\n",
       "      <th></th>\n",
       "      <th></th>\n",
       "    </tr>\n",
       "  </thead>\n",
       "  <tbody>\n",
       "    <tr>\n",
       "      <th>Patient_X</th>\n",
       "      <td>False</td>\n",
       "      <td>True</td>\n",
       "      <td>False</td>\n",
       "      <td>False</td>\n",
       "      <td>False</td>\n",
       "      <td>False</td>\n",
       "    </tr>\n",
       "  </tbody>\n",
       "</table>\n",
       "</div>"
      ],
      "text/plain": [
       "cluster        1     2      3      4      5      6\n",
       "comb_id                                           \n",
       "Patient_X  False  True  False  False  False  False"
      ]
     },
     "execution_count": 86,
     "metadata": {},
     "output_type": "execute_result"
    }
   ],
   "source": [
    "# cutoff should be a percentage, not a proportion\n",
    "cutoff = 5\n",
    "\n",
    "# We will create a dataframe of boolean T/F\n",
    "# values, signifying whether the value of a\n",
    "# given grouping (row) and cluster (columns)\n",
    "# meets the inclusion criteria\n",
    "props_subset_bool = props_subset.apply(\n",
    "    lambda row: row >= cutoff, axis = 1)\n",
    "\n",
    "props_subset_bool"
   ]
  },
  {
   "cell_type": "markdown",
   "metadata": {},
   "source": [
    "Let's go ahead and create our `medians` dataframe now. This will be a dataframe where each row represents the medians values for markers for each sample-cluster combination."
   ]
  },
  {
   "cell_type": "code",
   "execution_count": 87,
   "metadata": {},
   "outputs": [],
   "source": [
    "#medians.columns[medians.columns.isin(not_intensities)].values"
   ]
  },
  {
   "cell_type": "code",
   "execution_count": 88,
   "metadata": {},
   "outputs": [],
   "source": [
    "# first group by our features of interest\n",
    "medians = for_medians.copy().groupby(['Sample_ID','cluster']).median()\n",
    "\n",
    "# then drop all columns that are not markers\n",
    "medians = medians.drop(columns = medians.columns[medians.columns.isin(not_intensities)].values)\n"
   ]
  },
  {
   "cell_type": "code",
   "execution_count": 94,
   "metadata": {},
   "outputs": [
    {
     "data": {
      "text/html": [
       "<div>\n",
       "<style scoped>\n",
       "    .dataframe tbody tr th:only-of-type {\n",
       "        vertical-align: middle;\n",
       "    }\n",
       "\n",
       "    .dataframe tbody tr th {\n",
       "        vertical-align: top;\n",
       "    }\n",
       "\n",
       "    .dataframe thead th {\n",
       "        text-align: right;\n",
       "    }\n",
       "</style>\n",
       "<table border=\"1\" class=\"dataframe\">\n",
       "  <thead>\n",
       "    <tr style=\"text-align: right;\">\n",
       "      <th></th>\n",
       "      <th></th>\n",
       "      <th>53BP1_Cell_Intensity_Average</th>\n",
       "      <th>AXL_Cell_Intensity_Average</th>\n",
       "      <th>CCNA2_Cell_Intensity_Average</th>\n",
       "      <th>CCND1_Cell_Intensity_Average</th>\n",
       "      <th>CD45_Cell_Intensity_Average</th>\n",
       "      <th>CD4_Cell_Intensity_Average</th>\n",
       "      <th>CD68_Cell_Intensity_Average</th>\n",
       "      <th>CD8_Cell_Intensity_Average</th>\n",
       "      <th>EGFR_Cell_Intensity_Average</th>\n",
       "      <th>Ecad_Cell_Intensity_Average</th>\n",
       "      <th>...</th>\n",
       "      <th>p4EBP1_Cell_Intensity_Average</th>\n",
       "      <th>p75_Cell_Intensity_Average</th>\n",
       "      <th>pATM_Cell_Intensity_Average</th>\n",
       "      <th>pATR_Cell_Intensity_Average</th>\n",
       "      <th>pCHK2_Cell_Intensity_Average</th>\n",
       "      <th>pEGFR_Cell_Intensity_Average</th>\n",
       "      <th>pGSK3b_Cell_Intensity_Average</th>\n",
       "      <th>pH2AX_Cell_Intensity_Average</th>\n",
       "      <th>pHH3_Cell_Intensity_Average</th>\n",
       "      <th>pS6_Cell_Intensity_Average</th>\n",
       "    </tr>\n",
       "    <tr>\n",
       "      <th>Sample_ID</th>\n",
       "      <th>cluster</th>\n",
       "      <th></th>\n",
       "      <th></th>\n",
       "      <th></th>\n",
       "      <th></th>\n",
       "      <th></th>\n",
       "      <th></th>\n",
       "      <th></th>\n",
       "      <th></th>\n",
       "      <th></th>\n",
       "      <th></th>\n",
       "      <th></th>\n",
       "      <th></th>\n",
       "      <th></th>\n",
       "      <th></th>\n",
       "      <th></th>\n",
       "      <th></th>\n",
       "      <th></th>\n",
       "      <th></th>\n",
       "      <th></th>\n",
       "      <th></th>\n",
       "      <th></th>\n",
       "    </tr>\n",
       "  </thead>\n",
       "  <tbody>\n",
       "    <tr>\n",
       "      <th rowspan=\"2\" valign=\"top\">Patient_X</th>\n",
       "      <th>2</th>\n",
       "      <td>-1.646069</td>\n",
       "      <td>-0.822911</td>\n",
       "      <td>-0.744906</td>\n",
       "      <td>-0.834544</td>\n",
       "      <td>-1.121061</td>\n",
       "      <td>0.371339</td>\n",
       "      <td>1.321008</td>\n",
       "      <td>1.031279</td>\n",
       "      <td>-0.618300</td>\n",
       "      <td>-0.526389</td>\n",
       "      <td>...</td>\n",
       "      <td>-2.594315</td>\n",
       "      <td>-0.864898</td>\n",
       "      <td>-2.368430</td>\n",
       "      <td>0.901953</td>\n",
       "      <td>-1.513378</td>\n",
       "      <td>-1.135604</td>\n",
       "      <td>-2.230812</td>\n",
       "      <td>-0.685467</td>\n",
       "      <td>2.317057</td>\n",
       "      <td>-0.272414</td>\n",
       "    </tr>\n",
       "    <tr>\n",
       "      <th>6</th>\n",
       "      <td>-1.327193</td>\n",
       "      <td>1.010746</td>\n",
       "      <td>0.862809</td>\n",
       "      <td>0.177902</td>\n",
       "      <td>0.173526</td>\n",
       "      <td>-0.401314</td>\n",
       "      <td>1.011063</td>\n",
       "      <td>0.732661</td>\n",
       "      <td>0.701009</td>\n",
       "      <td>-0.139252</td>\n",
       "      <td>...</td>\n",
       "      <td>-1.058375</td>\n",
       "      <td>-0.023669</td>\n",
       "      <td>-0.904196</td>\n",
       "      <td>0.155862</td>\n",
       "      <td>-0.408111</td>\n",
       "      <td>-0.306042</td>\n",
       "      <td>-0.970627</td>\n",
       "      <td>0.943537</td>\n",
       "      <td>0.875011</td>\n",
       "      <td>0.284932</td>\n",
       "    </tr>\n",
       "  </tbody>\n",
       "</table>\n",
       "<p>2 rows × 28 columns</p>\n",
       "</div>"
      ],
      "text/plain": [
       "                   53BP1_Cell_Intensity_Average  AXL_Cell_Intensity_Average  \\\n",
       "Sample_ID cluster                                                             \n",
       "Patient_X 2                           -1.646069                   -0.822911   \n",
       "          6                           -1.327193                    1.010746   \n",
       "\n",
       "                   CCNA2_Cell_Intensity_Average  CCND1_Cell_Intensity_Average  \\\n",
       "Sample_ID cluster                                                               \n",
       "Patient_X 2                           -0.744906                     -0.834544   \n",
       "          6                            0.862809                      0.177902   \n",
       "\n",
       "                   CD45_Cell_Intensity_Average  CD4_Cell_Intensity_Average  \\\n",
       "Sample_ID cluster                                                            \n",
       "Patient_X 2                          -1.121061                    0.371339   \n",
       "          6                           0.173526                   -0.401314   \n",
       "\n",
       "                   CD68_Cell_Intensity_Average  CD8_Cell_Intensity_Average  \\\n",
       "Sample_ID cluster                                                            \n",
       "Patient_X 2                           1.321008                    1.031279   \n",
       "          6                           1.011063                    0.732661   \n",
       "\n",
       "                   EGFR_Cell_Intensity_Average  Ecad_Cell_Intensity_Average  \\\n",
       "Sample_ID cluster                                                             \n",
       "Patient_X 2                          -0.618300                    -0.526389   \n",
       "          6                           0.701009                    -0.139252   \n",
       "\n",
       "                   ...  p4EBP1_Cell_Intensity_Average  \\\n",
       "Sample_ID cluster  ...                                  \n",
       "Patient_X 2        ...                      -2.594315   \n",
       "          6        ...                      -1.058375   \n",
       "\n",
       "                   p75_Cell_Intensity_Average  pATM_Cell_Intensity_Average  \\\n",
       "Sample_ID cluster                                                            \n",
       "Patient_X 2                         -0.864898                    -2.368430   \n",
       "          6                         -0.023669                    -0.904196   \n",
       "\n",
       "                   pATR_Cell_Intensity_Average  pCHK2_Cell_Intensity_Average  \\\n",
       "Sample_ID cluster                                                              \n",
       "Patient_X 2                           0.901953                     -1.513378   \n",
       "          6                           0.155862                     -0.408111   \n",
       "\n",
       "                   pEGFR_Cell_Intensity_Average  \\\n",
       "Sample_ID cluster                                 \n",
       "Patient_X 2                           -1.135604   \n",
       "          6                           -0.306042   \n",
       "\n",
       "                   pGSK3b_Cell_Intensity_Average  \\\n",
       "Sample_ID cluster                                  \n",
       "Patient_X 2                            -2.230812   \n",
       "          6                            -0.970627   \n",
       "\n",
       "                   pH2AX_Cell_Intensity_Average  pHH3_Cell_Intensity_Average  \\\n",
       "Sample_ID cluster                                                              \n",
       "Patient_X 2                           -0.685467                     2.317057   \n",
       "          6                            0.943537                     0.875011   \n",
       "\n",
       "                   pS6_Cell_Intensity_Average  \n",
       "Sample_ID cluster                              \n",
       "Patient_X 2                         -0.272414  \n",
       "          6                          0.284932  \n",
       "\n",
       "[2 rows x 28 columns]"
      ]
     },
     "execution_count": 94,
     "metadata": {},
     "output_type": "execute_result"
    }
   ],
   "source": [
    "# Visualize medians\n",
    "medians.head()"
   ]
  },
  {
   "cell_type": "markdown",
   "metadata": {},
   "source": [
    "What we have here is a multiindex dataframe. We have two layers of row indexing, `Sample_ID` and `cluster`."
   ]
  },
  {
   "cell_type": "markdown",
   "metadata": {},
   "source": [
    "Using `medians` and `props_subset_bool`, drop all indices in `medians` where the sample-cluster combination does not meet our proportion threshold cutoff"
   ]
  },
  {
   "cell_type": "code",
   "execution_count": 99,
   "metadata": {},
   "outputs": [
    {
     "data": {
      "text/html": [
       "<div>\n",
       "<style scoped>\n",
       "    .dataframe tbody tr th:only-of-type {\n",
       "        vertical-align: middle;\n",
       "    }\n",
       "\n",
       "    .dataframe tbody tr th {\n",
       "        vertical-align: top;\n",
       "    }\n",
       "\n",
       "    .dataframe thead th {\n",
       "        text-align: right;\n",
       "    }\n",
       "</style>\n",
       "<table border=\"1\" class=\"dataframe\">\n",
       "  <thead>\n",
       "    <tr style=\"text-align: right;\">\n",
       "      <th></th>\n",
       "      <th></th>\n",
       "      <th>53BP1_Cell_Intensity_Average</th>\n",
       "      <th>AXL_Cell_Intensity_Average</th>\n",
       "      <th>CCNA2_Cell_Intensity_Average</th>\n",
       "      <th>CCND1_Cell_Intensity_Average</th>\n",
       "      <th>CD45_Cell_Intensity_Average</th>\n",
       "      <th>CD4_Cell_Intensity_Average</th>\n",
       "      <th>CD68_Cell_Intensity_Average</th>\n",
       "      <th>CD8_Cell_Intensity_Average</th>\n",
       "      <th>EGFR_Cell_Intensity_Average</th>\n",
       "      <th>Ecad_Cell_Intensity_Average</th>\n",
       "      <th>...</th>\n",
       "      <th>p4EBP1_Cell_Intensity_Average</th>\n",
       "      <th>p75_Cell_Intensity_Average</th>\n",
       "      <th>pATM_Cell_Intensity_Average</th>\n",
       "      <th>pATR_Cell_Intensity_Average</th>\n",
       "      <th>pCHK2_Cell_Intensity_Average</th>\n",
       "      <th>pEGFR_Cell_Intensity_Average</th>\n",
       "      <th>pGSK3b_Cell_Intensity_Average</th>\n",
       "      <th>pH2AX_Cell_Intensity_Average</th>\n",
       "      <th>pHH3_Cell_Intensity_Average</th>\n",
       "      <th>pS6_Cell_Intensity_Average</th>\n",
       "    </tr>\n",
       "    <tr>\n",
       "      <th>Sample_ID</th>\n",
       "      <th>cluster</th>\n",
       "      <th></th>\n",
       "      <th></th>\n",
       "      <th></th>\n",
       "      <th></th>\n",
       "      <th></th>\n",
       "      <th></th>\n",
       "      <th></th>\n",
       "      <th></th>\n",
       "      <th></th>\n",
       "      <th></th>\n",
       "      <th></th>\n",
       "      <th></th>\n",
       "      <th></th>\n",
       "      <th></th>\n",
       "      <th></th>\n",
       "      <th></th>\n",
       "      <th></th>\n",
       "      <th></th>\n",
       "      <th></th>\n",
       "      <th></th>\n",
       "      <th></th>\n",
       "    </tr>\n",
       "  </thead>\n",
       "  <tbody>\n",
       "    <tr>\n",
       "      <th rowspan=\"2\" valign=\"top\">Patient_X</th>\n",
       "      <th>2</th>\n",
       "      <td>-1.646069</td>\n",
       "      <td>-0.822911</td>\n",
       "      <td>-0.744906</td>\n",
       "      <td>-0.834544</td>\n",
       "      <td>-1.121061</td>\n",
       "      <td>0.371339</td>\n",
       "      <td>1.321008</td>\n",
       "      <td>1.031279</td>\n",
       "      <td>-0.618300</td>\n",
       "      <td>-0.526389</td>\n",
       "      <td>...</td>\n",
       "      <td>-2.594315</td>\n",
       "      <td>-0.864898</td>\n",
       "      <td>-2.368430</td>\n",
       "      <td>0.901953</td>\n",
       "      <td>-1.513378</td>\n",
       "      <td>-1.135604</td>\n",
       "      <td>-2.230812</td>\n",
       "      <td>-0.685467</td>\n",
       "      <td>2.317057</td>\n",
       "      <td>-0.272414</td>\n",
       "    </tr>\n",
       "    <tr>\n",
       "      <th>6</th>\n",
       "      <td>-1.327193</td>\n",
       "      <td>1.010746</td>\n",
       "      <td>0.862809</td>\n",
       "      <td>0.177902</td>\n",
       "      <td>0.173526</td>\n",
       "      <td>-0.401314</td>\n",
       "      <td>1.011063</td>\n",
       "      <td>0.732661</td>\n",
       "      <td>0.701009</td>\n",
       "      <td>-0.139252</td>\n",
       "      <td>...</td>\n",
       "      <td>-1.058375</td>\n",
       "      <td>-0.023669</td>\n",
       "      <td>-0.904196</td>\n",
       "      <td>0.155862</td>\n",
       "      <td>-0.408111</td>\n",
       "      <td>-0.306042</td>\n",
       "      <td>-0.970627</td>\n",
       "      <td>0.943537</td>\n",
       "      <td>0.875011</td>\n",
       "      <td>0.284932</td>\n",
       "    </tr>\n",
       "  </tbody>\n",
       "</table>\n",
       "<p>2 rows × 28 columns</p>\n",
       "</div>"
      ],
      "text/plain": [
       "                   53BP1_Cell_Intensity_Average  AXL_Cell_Intensity_Average  \\\n",
       "Sample_ID cluster                                                             \n",
       "Patient_X 2                           -1.646069                   -0.822911   \n",
       "          6                           -1.327193                    1.010746   \n",
       "\n",
       "                   CCNA2_Cell_Intensity_Average  CCND1_Cell_Intensity_Average  \\\n",
       "Sample_ID cluster                                                               \n",
       "Patient_X 2                           -0.744906                     -0.834544   \n",
       "          6                            0.862809                      0.177902   \n",
       "\n",
       "                   CD45_Cell_Intensity_Average  CD4_Cell_Intensity_Average  \\\n",
       "Sample_ID cluster                                                            \n",
       "Patient_X 2                          -1.121061                    0.371339   \n",
       "          6                           0.173526                   -0.401314   \n",
       "\n",
       "                   CD68_Cell_Intensity_Average  CD8_Cell_Intensity_Average  \\\n",
       "Sample_ID cluster                                                            \n",
       "Patient_X 2                           1.321008                    1.031279   \n",
       "          6                           1.011063                    0.732661   \n",
       "\n",
       "                   EGFR_Cell_Intensity_Average  Ecad_Cell_Intensity_Average  \\\n",
       "Sample_ID cluster                                                             \n",
       "Patient_X 2                          -0.618300                    -0.526389   \n",
       "          6                           0.701009                    -0.139252   \n",
       "\n",
       "                   ...  p4EBP1_Cell_Intensity_Average  \\\n",
       "Sample_ID cluster  ...                                  \n",
       "Patient_X 2        ...                      -2.594315   \n",
       "          6        ...                      -1.058375   \n",
       "\n",
       "                   p75_Cell_Intensity_Average  pATM_Cell_Intensity_Average  \\\n",
       "Sample_ID cluster                                                            \n",
       "Patient_X 2                         -0.864898                    -2.368430   \n",
       "          6                         -0.023669                    -0.904196   \n",
       "\n",
       "                   pATR_Cell_Intensity_Average  pCHK2_Cell_Intensity_Average  \\\n",
       "Sample_ID cluster                                                              \n",
       "Patient_X 2                           0.901953                     -1.513378   \n",
       "          6                           0.155862                     -0.408111   \n",
       "\n",
       "                   pEGFR_Cell_Intensity_Average  \\\n",
       "Sample_ID cluster                                 \n",
       "Patient_X 2                           -1.135604   \n",
       "          6                           -0.306042   \n",
       "\n",
       "                   pGSK3b_Cell_Intensity_Average  \\\n",
       "Sample_ID cluster                                  \n",
       "Patient_X 2                            -2.230812   \n",
       "          6                            -0.970627   \n",
       "\n",
       "                   pH2AX_Cell_Intensity_Average  pHH3_Cell_Intensity_Average  \\\n",
       "Sample_ID cluster                                                              \n",
       "Patient_X 2                           -0.685467                     2.317057   \n",
       "          6                            0.943537                     0.875011   \n",
       "\n",
       "                   pS6_Cell_Intensity_Average  \n",
       "Sample_ID cluster                              \n",
       "Patient_X 2                         -0.272414  \n",
       "          6                          0.284932  \n",
       "\n",
       "[2 rows x 28 columns]"
      ]
     },
     "execution_count": 99,
     "metadata": {},
     "output_type": "execute_result"
    }
   ],
   "source": [
    "medians"
   ]
  },
  {
   "cell_type": "code",
   "execution_count": 102,
   "metadata": {},
   "outputs": [
    {
     "name": "stdout",
     "output_type": "stream",
     "text": [
      "Dropping the following patient/cluster data from plotting due to proportion threshold failure: []\n"
     ]
    }
   ],
   "source": [
    "drop_indices = []\n",
    "# iterate through first five rows in medians\n",
    "# this should be # of clusters instead!!\n",
    "for i in range(medians.shape[0]):\n",
    "#for i in range(5):\n",
    "    # extract the sample and cluster IDs from that row\n",
    "    sample = medians.iloc[i,:].name[0]\n",
    "    cluster = medians.iloc[i,:].name[1]\n",
    "    # using those sample and cluster IDs, look inside props_subset_bool\n",
    "    # look at the value specified by the correct sample and cluster col/row\n",
    "    # that T/F value therein indicates whether this cluster should be used\n",
    "    # with this sample\n",
    "    use = props_subset_bool.loc[props_subset_bool.index == sample, props_subset_bool.columns == cluster].values[0][0]\n",
    "    if not use:\n",
    "        drop_indices.append(medians.iloc[i,:].name)\n",
    "\n",
    "print(\"Dropping the following patient/cluster data from plotting due to proportion threshold failure: \" + str([i for i in drop_indices]))\n",
    "medians = medians.drop(drop_indices)"
   ]
  },
  {
   "cell_type": "code",
   "execution_count": 103,
   "metadata": {},
   "outputs": [],
   "source": [
    "# Save output to a dataframe\n",
    "\n",
    "filename = \"medians_patient_1_patient_2.csv\"\n",
    "filename = os.path.join(output_data_dir, filename)\n",
    "medians.to_csv(filename, index = True)"
   ]
  },
  {
   "cell_type": "markdown",
   "metadata": {},
   "source": [
    "### Median value heatmap"
   ]
  },
  {
   "cell_type": "code",
   "execution_count": 104,
   "metadata": {},
   "outputs": [
    {
     "data": {
      "text/html": [
       "<div>\n",
       "<style scoped>\n",
       "    .dataframe tbody tr th:only-of-type {\n",
       "        vertical-align: middle;\n",
       "    }\n",
       "\n",
       "    .dataframe tbody tr th {\n",
       "        vertical-align: top;\n",
       "    }\n",
       "\n",
       "    .dataframe thead th {\n",
       "        text-align: right;\n",
       "    }\n",
       "</style>\n",
       "<table border=\"1\" class=\"dataframe\">\n",
       "  <thead>\n",
       "    <tr style=\"text-align: right;\">\n",
       "      <th></th>\n",
       "      <th></th>\n",
       "      <th>53BP1</th>\n",
       "      <th>AXL</th>\n",
       "      <th>CCNA2</th>\n",
       "      <th>CCND1</th>\n",
       "      <th>CD45</th>\n",
       "      <th>CD4</th>\n",
       "      <th>CD68</th>\n",
       "      <th>CD8</th>\n",
       "      <th>EGFR</th>\n",
       "      <th>Ecad</th>\n",
       "      <th>...</th>\n",
       "      <th>p4EBP1</th>\n",
       "      <th>p75</th>\n",
       "      <th>pATM</th>\n",
       "      <th>pATR</th>\n",
       "      <th>pCHK2</th>\n",
       "      <th>pEGFR</th>\n",
       "      <th>pGSK3b</th>\n",
       "      <th>pH2AX</th>\n",
       "      <th>pHH3</th>\n",
       "      <th>pS6</th>\n",
       "    </tr>\n",
       "    <tr>\n",
       "      <th>Sample_ID</th>\n",
       "      <th>cluster</th>\n",
       "      <th></th>\n",
       "      <th></th>\n",
       "      <th></th>\n",
       "      <th></th>\n",
       "      <th></th>\n",
       "      <th></th>\n",
       "      <th></th>\n",
       "      <th></th>\n",
       "      <th></th>\n",
       "      <th></th>\n",
       "      <th></th>\n",
       "      <th></th>\n",
       "      <th></th>\n",
       "      <th></th>\n",
       "      <th></th>\n",
       "      <th></th>\n",
       "      <th></th>\n",
       "      <th></th>\n",
       "      <th></th>\n",
       "      <th></th>\n",
       "      <th></th>\n",
       "    </tr>\n",
       "  </thead>\n",
       "  <tbody>\n",
       "    <tr>\n",
       "      <th>Patient_X</th>\n",
       "      <th>2</th>\n",
       "      <td>-1.646069</td>\n",
       "      <td>-0.822911</td>\n",
       "      <td>-0.744906</td>\n",
       "      <td>-0.834544</td>\n",
       "      <td>-1.121061</td>\n",
       "      <td>0.371339</td>\n",
       "      <td>1.321008</td>\n",
       "      <td>1.031279</td>\n",
       "      <td>-0.6183</td>\n",
       "      <td>-0.526389</td>\n",
       "      <td>...</td>\n",
       "      <td>-2.594315</td>\n",
       "      <td>-0.864898</td>\n",
       "      <td>-2.36843</td>\n",
       "      <td>0.901953</td>\n",
       "      <td>-1.513378</td>\n",
       "      <td>-1.135604</td>\n",
       "      <td>-2.230812</td>\n",
       "      <td>-0.685467</td>\n",
       "      <td>2.317057</td>\n",
       "      <td>-0.272414</td>\n",
       "    </tr>\n",
       "  </tbody>\n",
       "</table>\n",
       "<p>1 rows × 28 columns</p>\n",
       "</div>"
      ],
      "text/plain": [
       "                      53BP1       AXL     CCNA2     CCND1      CD45       CD4  \\\n",
       "Sample_ID cluster                                                               \n",
       "Patient_X 2       -1.646069 -0.822911 -0.744906 -0.834544 -1.121061  0.371339   \n",
       "\n",
       "                       CD68       CD8    EGFR      Ecad  ...    p4EBP1  \\\n",
       "Sample_ID cluster                                        ...             \n",
       "Patient_X 2        1.321008  1.031279 -0.6183 -0.526389  ... -2.594315   \n",
       "\n",
       "                        p75     pATM      pATR     pCHK2     pEGFR    pGSK3b  \\\n",
       "Sample_ID cluster                                                              \n",
       "Patient_X 2       -0.864898 -2.36843  0.901953 -1.513378 -1.135604 -2.230812   \n",
       "\n",
       "                      pH2AX      pHH3       pS6  \n",
       "Sample_ID cluster                                \n",
       "Patient_X 2       -0.685467  2.317057 -0.272414  \n",
       "\n",
       "[1 rows x 28 columns]"
      ]
     },
     "execution_count": 104,
     "metadata": {},
     "output_type": "execute_result"
    }
   ],
   "source": [
    "# rename `medians` columns for plotting\n",
    "medians = medians.rename(columns = full_to_short_names)\n",
    "medians"
   ]
  },
  {
   "cell_type": "markdown",
   "metadata": {},
   "source": [
    "What if we want the columns in a different order? Simply reorder them by asking for a df with the columns in a given order."
   ]
  },
  {
   "cell_type": "code",
   "execution_count": 105,
   "metadata": {},
   "outputs": [
    {
     "data": {
      "text/html": [
       "<div>\n",
       "<style scoped>\n",
       "    .dataframe tbody tr th:only-of-type {\n",
       "        vertical-align: middle;\n",
       "    }\n",
       "\n",
       "    .dataframe tbody tr th {\n",
       "        vertical-align: top;\n",
       "    }\n",
       "\n",
       "    .dataframe thead th {\n",
       "        text-align: right;\n",
       "    }\n",
       "</style>\n",
       "<table border=\"1\" class=\"dataframe\">\n",
       "  <thead>\n",
       "    <tr style=\"text-align: right;\">\n",
       "      <th></th>\n",
       "      <th></th>\n",
       "      <th>AXL</th>\n",
       "      <th>53BP1</th>\n",
       "    </tr>\n",
       "    <tr>\n",
       "      <th>Sample_ID</th>\n",
       "      <th>cluster</th>\n",
       "      <th></th>\n",
       "      <th></th>\n",
       "    </tr>\n",
       "  </thead>\n",
       "  <tbody>\n",
       "    <tr>\n",
       "      <th>Patient_X</th>\n",
       "      <th>2</th>\n",
       "      <td>-0.822911</td>\n",
       "      <td>-1.646069</td>\n",
       "    </tr>\n",
       "  </tbody>\n",
       "</table>\n",
       "</div>"
      ],
      "text/plain": [
       "                        AXL     53BP1\n",
       "Sample_ID cluster                    \n",
       "Patient_X 2       -0.822911 -1.646069"
      ]
     },
     "execution_count": 105,
     "metadata": {},
     "output_type": "execute_result"
    }
   ],
   "source": [
    "medians[['AXL','53BP1']].head()"
   ]
  },
  {
   "cell_type": "code",
   "execution_count": 106,
   "metadata": {},
   "outputs": [
    {
     "data": {
      "text/html": [
       "<div>\n",
       "<style scoped>\n",
       "    .dataframe tbody tr th:only-of-type {\n",
       "        vertical-align: middle;\n",
       "    }\n",
       "\n",
       "    .dataframe tbody tr th {\n",
       "        vertical-align: top;\n",
       "    }\n",
       "\n",
       "    .dataframe thead th {\n",
       "        text-align: right;\n",
       "    }\n",
       "</style>\n",
       "<table border=\"1\" class=\"dataframe\">\n",
       "  <thead>\n",
       "    <tr style=\"text-align: right;\">\n",
       "      <th></th>\n",
       "      <th></th>\n",
       "      <th>53BP1</th>\n",
       "      <th>AXL</th>\n",
       "    </tr>\n",
       "    <tr>\n",
       "      <th>Sample_ID</th>\n",
       "      <th>cluster</th>\n",
       "      <th></th>\n",
       "      <th></th>\n",
       "    </tr>\n",
       "  </thead>\n",
       "  <tbody>\n",
       "    <tr>\n",
       "      <th>Patient_X</th>\n",
       "      <th>2</th>\n",
       "      <td>-1.646069</td>\n",
       "      <td>-0.822911</td>\n",
       "    </tr>\n",
       "  </tbody>\n",
       "</table>\n",
       "</div>"
      ],
      "text/plain": [
       "                      53BP1       AXL\n",
       "Sample_ID cluster                    \n",
       "Patient_X 2       -1.646069 -0.822911"
      ]
     },
     "execution_count": 106,
     "metadata": {},
     "output_type": "execute_result"
    }
   ],
   "source": [
    "medians[['53BP1','AXL']].head()"
   ]
  },
  {
   "cell_type": "markdown",
   "metadata": {},
   "source": [
    "#### Do the plotting!"
   ]
  },
  {
   "cell_type": "code",
   "execution_count": 109,
   "metadata": {},
   "outputs": [
    {
     "data": {
      "image/png": "[encoded data removed]",
      "text/plain": [
       "<Figure size 432x288 with 2 Axes>"
      ]
     },
     "metadata": {},
     "output_type": "display_data"
    }
   ],
   "source": [
    "vmin = -2.5\n",
    "vmax = 5\n",
    "\n",
    "sb.set()\n",
    "\n",
    "x_axis_labels = medians.columns.values.tolist()\n",
    "y_axis_labels = [medians.iloc[i,:].name[0] + \" - Cluster \" + \n",
    "                 str(medians.iloc[i,:].name[1]) for i in range(medians.shape[0])]\n",
    "\n",
    "ax = sb.heatmap(medians.loc[:,~medians.columns.isin(not_intensities)], vmin=vmin, vmax=vmax, \n",
    "                 annot=medians.loc[:,~medians.columns.isin(not_intensities)], \n",
    "                annot_kws={\"size\": 4},fmt='.2f',\n",
    "                linewidths = 0.33, linecolor = 'black',\n",
    "                 xticklabels=x_axis_labels, yticklabels=y_axis_labels,\n",
    "                 cbar_kws = {'label':'Median value'},\n",
    "                 cmap = 'coolwarm'\n",
    "                )\n",
    "plt.yticks(rotation=0, size = 8)\n",
    "ax.xaxis.tick_top() # x axis on top\n",
    "ax.xaxis.set_label_position('top')\n",
    "ax.tick_params(length=0)\n",
    "plt.xticks(rotation=45, size = 8)\n",
    "plt.setp(ax.xaxis.get_majorticklabels(), ha='left')\n",
    "\n",
    "\n",
    "ax.set_title(label = \"Median values\", fontsize = 20)\n",
    "plt.tight_layout()\n",
    "\n",
    "filename = \"median_values.png\"\n",
    "filename = os.path.join(output_images_dir, filename)\n",
    "plt.savefig(filename,dpi=300)"
   ]
  },
  {
   "cell_type": "markdown",
   "metadata": {},
   "source": [
    "### Drop any other rows or columns we want to before saving data"
   ]
  },
  {
   "cell_type": "code",
   "execution_count": null,
   "metadata": {},
   "outputs": [],
   "source": [
    "# Let's take a look\n",
    "df.columns.values"
   ]
  },
  {
   "cell_type": "markdown",
   "metadata": {},
   "source": [
    "For the sake of example, I will operate on a copy of df, called df_copy"
   ]
  },
  {
   "cell_type": "code",
   "execution_count": null,
   "metadata": {},
   "outputs": [],
   "source": [
    "# You MUST do df.copy()\n",
    "# 'df_copy = df' would essentially \n",
    "# give you two different names for the\n",
    "# SAME dataframe, so operating on one\n",
    "# would also operate on the other\n",
    "df_copy = df.copy()"
   ]
  },
  {
   "cell_type": "markdown",
   "metadata": {},
   "source": [
    "#### Operate on entire rows or columns"
   ]
  },
  {
   "cell_type": "code",
   "execution_count": null,
   "metadata": {},
   "outputs": [],
   "source": [
    "# Drop columns\n",
    "my_cols = []\n",
    "df_copy = df_copy.drop(columns = my_cols)"
   ]
  },
  {
   "cell_type": "code",
   "execution_count": null,
   "metadata": {},
   "outputs": [],
   "source": [
    "# Keep only specific columns (explained below)\n",
    "my_cols = []\n",
    "my_cols = df.columns.values\n",
    "df_copy = df_copy.loc[:,my_cols]"
   ]
  },
  {
   "cell_type": "markdown",
   "metadata": {},
   "source": [
    "#### Operate on rows and columns using filtering criteria"
   ]
  },
  {
   "cell_type": "code",
   "execution_count": null,
   "metadata": {},
   "outputs": [],
   "source": [
    "# Keep only certain rows based off of criteria\n",
    "\n",
    "# use df.loc[] to filter\n",
    "# df.loc[rows,columns]\n",
    "# df.loc[:,certain_cols] --> keep all rows ':', only certain cols\n",
    "# df.loc[certain_rows,:] --> keep only certain row, all cols ':'\n",
    "\n",
    "# Say we only want certain values for Sample_ID\n",
    "print(df_copy.Sample_ID.unique())\n",
    "keep = ['TMA1.1','TMA1.2','TMA1.3','TMA2.1','TMA2.2','TMA2.3']\n",
    "df_copy = df_copy.loc[df_copy['Sample_ID'].isin(keep),:]\n",
    "print(df_copy.Sample_ID.unique())"
   ]
  },
  {
   "cell_type": "code",
   "execution_count": null,
   "metadata": {},
   "outputs": [],
   "source": [
    "# Filter on multiple criteria\n",
    "# '&' or 'and'\n",
    "# '|' or 'or'\n",
    "# you MUST have parentheses around each logic expression!\n",
    "df_copy = df_copy.loc[\n",
    "    (df_copy['Sample_ID'].isin(['TMA1.1','TMA1.2','TMA1.3'])) \\\n",
    "    ## backslash above used to break line for readability, but tell Python to act like it's all one line\n",
    "        | (df_copy['Sample_ID'].isin(['TMA2.1','TMA2.2','TMA2.3'])),:]\n",
    "print(df_copy.Sample_ID.unique())"
   ]
  },
  {
   "cell_type": "code",
   "execution_count": null,
   "metadata": {},
   "outputs": [],
   "source": [
    "# Remove rows based off of certain criteria\n",
    "# note the negating tilde '~'!\n",
    "\n",
    "df_copy = df_copy.loc[\n",
    "    (~df_copy['Sample_ID'].isin(['TMA1.1','TMA1.2','TMA1.3'])) \\\n",
    "    ## backslash above used to break line for readability, but tell Python to act like it's all one line\n",
    "        & (~df_copy['Sample_ID'].isin(['TMA2.1','TMA2.2','TMA2.3'])),:]\n",
    "print(df_copy.Sample_ID.unique())"
   ]
  },
  {
   "cell_type": "markdown",
   "metadata": {},
   "source": [
    "### Save the data by Sample_ID"
   ]
  },
  {
   "cell_type": "code",
   "execution_count": null,
   "metadata": {},
   "outputs": [],
   "source": [
    "# Check for existence of output file first\n",
    "for sample in ls_samples:\n",
    "    filename = sample + \"_\" + step_suffix + \".csv\"\n",
    "    filename = os.path.join(output_data_dir,  filename)\n",
    "    if os.path.exists(filename):\n",
    "        print(\"File by name \"+filename+\" already exists.\")"
   ]
  },
  {
   "cell_type": "code",
   "execution_count": null,
   "metadata": {},
   "outputs": [],
   "source": [
    "# Save output files\n",
    "for sample in ls_samples:\n",
    "    df_save = df.loc[df['Sample_ID'] == sample,:]\n",
    "    filename = sample + \"_\" + step_suffix + \".csv\"\n",
    "    filename = os.path.join(output_data_dir, filename)\n",
    "    df_save.to_csv(filename, index = True)\n"
   ]
  },
  {
   "cell_type": "code",
   "execution_count": null,
   "metadata": {},
   "outputs": [],
   "source": []
  }
 ],
 "metadata": {
  "kernelspec": {
   "display_name": "Python 3",
   "language": "python",
   "name": "python3"
  },
  "language_info": {
   "codemirror_mode": {
    "name": "ipython",
    "version": 3
   },
   "file_extension": ".py",
   "mimetype": "text/x-python",
   "name": "python",
   "nbconvert_exporter": "python",
   "pygments_lexer": "ipython3",
   "version": "3.7.3"
  }
 },
 "nbformat": 4,
 "nbformat_minor": 4
}
