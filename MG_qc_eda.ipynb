{
 "cells": [
  {
   "cell_type": "markdown",
   "metadata": {},
   "source": [
    "## QC/EDA Notebook\n",
    "\n",
    "12/04/2019"
   ]
  },
  {
   "cell_type": "code",
   "execution_count": 1,
   "metadata": {},
   "outputs": [
    {
     "data": {
      "text/html": [
       "        <script type=\"text/javascript\">\n",
       "        window.PlotlyConfig = {MathJaxConfig: 'local'};\n",
       "        if (window.MathJax) {MathJax.Hub.Config({SVG: {font: \"STIX-Web\"}});}\n",
       "        if (typeof require !== 'undefined') {\n",
       "        require.undef(\"plotly\");\n",
       "        requirejs.config({\n",
       "            paths: {\n",
       "                'plotly': ['https://cdn.plot.ly/plotly-latest.min']\n",
       "            }\n",
       "        });\n",
       "        require(['plotly'], function(Plotly) {\n",
       "            window._Plotly = Plotly;\n",
       "        });\n",
       "        }\n",
       "        </script>\n",
       "        "
      ]
     },
     "metadata": {},
     "output_type": "display_data"
    }
   ],
   "source": [
    "import os\n",
    "import random\n",
    "import re\n",
    "import pandas as pd\n",
    "import numpy as np\n",
    "import seaborn as sb\n",
    "import matplotlib.pyplot as plt\n",
    "import matplotlib.colors as mplc\n",
    "import subprocess\n",
    "\n",
    "\n",
    "from scipy import signal\n",
    "\n",
    "import plotly.figure_factory as ff\n",
    "import plotly\n",
    "import plotly.graph_objs as go\n",
    "from plotly.offline import download_plotlyjs, init_notebook_mode, plot, iplot \n",
    "import plotly.express as px\n",
    "init_notebook_mode(connected = True)"
   ]
  },
  {
   "cell_type": "code",
   "execution_count": 2,
   "metadata": {},
   "outputs": [],
   "source": [
    "from cycif_modules import *"
   ]
  },
  {
   "cell_type": "markdown",
   "metadata": {},
   "source": [
    "## Functions"
   ]
  },
  {
   "cell_type": "code",
   "execution_count": 3,
   "metadata": {},
   "outputs": [],
   "source": [
    "# This may change for each experiment, so I have not sequestered\n",
    "# this code in the my_modules.py file\n",
    "\n",
    "# This function takes in a dataframe, changes the names\n",
    "# of the column in various ways, and returns the dataframe.\n",
    "# For best accuracy and generalizability, the code uses\n",
    "# regular expressions (regex) to find strings for replacement.\n",
    "def apply_header_changes(df):\n",
    "    # remove lowercase x at beginning of name\n",
    "    df.columns = df.columns.str.replace(\"^x\",\"\")\n",
    "    # remove space at beginning of name\n",
    "    df.columns = df.columns.str.replace(\"^ \",\"\")\n",
    "    # replace space with underscore\n",
    "    df.columns = df.columns.str.replace(\" \",\"_\")\n",
    "    # fix typos\n",
    "    df.columns = df.columns.str.replace(\"CKD1\",\"CDK1\")\n",
    "    df.columns = df.columns.str.replace(\"GAG3\",\"GATA3\")\n",
    "    return df"
   ]
  },
  {
   "cell_type": "markdown",
   "metadata": {},
   "source": [
    "## Begin Workflow"
   ]
  },
  {
   "cell_type": "code",
   "execution_count": 4,
   "metadata": {},
   "outputs": [],
   "source": [
    "not_intensities = ['Nuc_X', 'Nuc_X_Inv', 'Nuc_Y', 'Nuc_Y_Inv', 'Nucleus_Roundness',\n",
    "       'Nucleus_Size','Cell_Size', 'ROI_index', 'Sample_ID', 'replicate_ID',\n",
    "                  'Cell_ID','cell_type', 'cluster','ID']"
   ]
  },
  {
   "cell_type": "markdown",
   "metadata": {},
   "source": [
    "Get directories - needs to be user-derived"
   ]
  },
  {
   "cell_type": "code",
   "execution_count": 5,
   "metadata": {},
   "outputs": [],
   "source": [
    "## Comment for final workflow\n",
    "\n",
    "ls_samples = ['TMA','ww1', 'ww10', 'ww11', 'ww12', 'ww13', 'ww15', \n",
    "              'ww16', 'ww17', 'ww19', 'ww2', 'ww20', 'ww21', \n",
    "              'ww22', 'ww23', 'ww3', 'ww4', 'ww5', 'ww6', 'ww7', \n",
    "              'ww8', 'ww9']#,'bad_header_file']\n",
    "\n",
    "ls_samples = ['TMA1.1', 'TMA1.2', 'TMA1.3', 'TMA2.1', 'TMA2.2', 'TMA2.3']\n",
    "\n",
    "ls_samples = ['GZ7.2', 'TMA', 'GZ10.3', 'GZ7.1', 'GZ10.2', 'GZ10.1', 'GZ6']"
   ]
  },
  {
   "cell_type": "code",
   "execution_count": 12,
   "metadata": {},
   "outputs": [],
   "source": [
    "#set directory\n",
    "## needs to be user iput\n",
    "\n",
    "# Base directory for project\n",
    "base_dir = '/Users/groutm/Desktop/weewin'\n",
    "base_dir = '/Users/groutm/Desktop/reproducibility'\n",
    "\n",
    "base_dir = 'Z:\\Marilyne\\Axioscan\\Gao_Zhang\\Segmentation'\n",
    "base_dir = '/Users/groutm/Desktop/gz'\n",
    "\n",
    "project_name = 'ww'\n",
    "project_name = 'repro'\n",
    "project_name = 'gz'\n",
    "step_suffix = 'qc_eda'\n",
    "previous_step_suffix_long = \"\"\n",
    "\n",
    "\n",
    "# Initial input data directory\n",
    "#input_data_dir = r'/Users/groutm/Desktop/TMAdata'\n",
    "#input_data_dir = r'/Users/groutm/Desktop/ww_data'\n",
    "input_data_dir = os.path.join(base_dir, project_name + \"_data\")\n",
    "input_data_dir = base_dir\n",
    "\n",
    "# QC/EDA directory\n",
    "#output_data_dir = r'/Users/groutm/Desktop/TMAoutputdata'\n",
    "#output_data_dir = r'/Users/groutm/Desktop/ww_outputdata'\n",
    "output_data_dir = os.path.join(base_dir, project_name + \"_\" + step_suffix)\n",
    "\n",
    "# QC/EDA images subdirectory\n",
    "#output_images_dir = r'/Users/groutm/Desktop/TMAimages'\n",
    "#output_images_dir = r'/Users/groutm/Desktop/wwimages'\n",
    "output_images_dir = os.path.join(output_data_dir,\"images\")\n",
    "\n",
    "# Metadata directories\n",
    "metadata_dir = os.path.join(base_dir, project_name + \"_metadata\")\n",
    "metadata_images_dir = os.path.join(metadata_dir,\"images\")\n",
    "\n",
    "for d in [base_dir, input_data_dir, output_data_dir, output_images_dir, \n",
    "          metadata_dir, metadata_images_dir]:\n",
    "    if not os.path.exists(d):\n",
    "        os.makedirs(d)\n",
    "\n",
    "os.chdir(input_data_dir)\n",
    "\n"
   ]
  },
  {
   "cell_type": "markdown",
   "metadata": {},
   "source": [
    "Prompt user for any samples to remove from analysis"
   ]
  },
  {
   "cell_type": "raw",
   "metadata": {},
   "source": [
    "## Note to self - make sure downstream steps all work without all samples included... ##\n",
    "\n",
    "#create an output file name for scaled data\n",
    "## needs to be user input\n",
    "#output_data_filename = 'ww_output.csv'\n",
    "\n",
    "\n",
    "ls_samples = [sample for sample in os.listdir() if sample.endswith(\".csv\")]\n",
    "\n",
    "print(\"The following CSV files were detected:\")\n",
    "print([sample for sample in ls_samples])"
   ]
  },
  {
   "cell_type": "markdown",
   "metadata": {},
   "source": [
    "Prompt user for any files they would like excluded from analysis."
   ]
  },
  {
   "cell_type": "markdown",
   "metadata": {},
   "source": [
    "## Uncomment for final workflow\n",
    "\n",
    "response = input(\"If there are any files you wish to exclude from analysis, \\\n",
    "                please enter them now in a comma-separated list \\\n",
    "                (e.g., 'sample001.csv, sample001.csv').\\\n",
    "                 Press ENTER to continue.\").strip()\n",
    "if response == \"\":\n",
    "    print(\"\\nNo files excluded.\")\n",
    "    \n",
    "else:\n",
    "    print(\"\\nExcluding files: \" + \", \".join([f for f in response.split(\",\")]) \n",
    "         + \".\")\n",
    "    \n",
    "ls_samples = [f.replace(\".csv\",\"\") for f in ls_samples if f not in response.split(\",\")]\n",
    "\n",
    "print(\"\\n Final file list for analysis: \" + \", \".join([f for f in ls_samples]))\n"
   ]
  },
  {
   "cell_type": "markdown",
   "metadata": {},
   "source": [
    "## Need to have QC checks here..."
   ]
  },
  {
   "cell_type": "code",
   "execution_count": 13,
   "metadata": {},
   "outputs": [
    {
     "data": {
      "text/plain": [
       "'/Users/groutm/Desktop/gz'"
      ]
     },
     "execution_count": 13,
     "metadata": {},
     "output_type": "execute_result"
    }
   ],
   "source": [
    "os.getcwd()"
   ]
  },
  {
   "cell_type": "code",
   "execution_count": 14,
   "metadata": {},
   "outputs": [],
   "source": [
    "# Import all data files for this portion of workflow\n",
    "\n",
    "# First gather information on expected headers using first file in ls_samples\n",
    "\n",
    "\n",
    "\n",
    "# Read in the first row of the file correpsonding to the first sample (index = 0)\n",
    "# in ls_samples\n",
    "df = pd.read_csv(ls_samples[0] + \n",
    "                 previous_step_suffix_long + \".csv\", index_col = 0, nrows = 1)\n",
    "\n",
    "# Verify that the ID column in input file became the index\n",
    "if df.index.name != \"ID\":\n",
    "    print(\"Expected the first column in input file (index_col = 0) \"\n",
    "         \"to be 'ID'. This column will be used to set the index names\"\n",
    "         \"(cell number for each sample). It appears that the column '\"\n",
    "         + df.index.name + \"' was actually the imported as the index \"\n",
    "         \"column.\")\n",
    "\n",
    "# Apply the changes to the headers as specified in above funciton\n",
    "df = apply_header_changes(df)\n",
    "\n",
    "# Set variable to hold default header values\n",
    "expected_headers = df.columns.values"
   ]
  },
  {
   "cell_type": "code",
   "execution_count": 15,
   "metadata": {},
   "outputs": [
    {
     "data": {
      "text/plain": [
       "'ID'"
      ]
     },
     "execution_count": 15,
     "metadata": {},
     "output_type": "execute_result"
    }
   ],
   "source": [
    "df.index.name"
   ]
  },
  {
   "cell_type": "code",
   "execution_count": 16,
   "metadata": {},
   "outputs": [
    {
     "name": "stdout",
     "output_type": "stream",
     "text": [
      "Used GZ7.2.csv to determine the expected, corrected headers for all files.\n",
      "There headers are: \n",
      "Cell_Size, Nuc_X, Nuc_Y, Nucleus_Size, Nuc_Y_Inv, Nuc_X_Inv, ROI_index, DAPI_R7_Cell_Intensity_Average, DAPI_R7_Cytoplasm_Intensity_Average, DAPI_R7_Nucleus_Intensity_Average, AF488_Cell_Intensity_Average, AF488_Cytoplasm_Intensity_Average, AF488_Nucleus_Intensity_Average, AF555_Cell_Intensity_Average, AF555_Cytoplasm_Intensity_Average, AF555_Nucleus_Intensity_Average, AF647_Cell_Intensity_Average, AF647_Cytoplasm_Intensity_Average, AF647_Nucleus_Intensity_Average, AF750_Cell_Intensity_Average, AF750_Cytoplasm_Intensity_Average, AF750_Nucleus_Intensity_Average, DAPI_R1_Cell_Intensity_Average, DAPI_R1_Cytoplasm_Intensity_Average, DAPI_R1_Nucleus_Intensity_Average, H3K27me3_Cell_Intensity_Average, H3K27me3_Cytoplasm_Intensity_Average, H3K27me3_Nucleus_Intensity_Average, CCNA2_Cell_Intensity_Average, CCNA2_Cytoplasm_Intensity_Average, CCNA2_Nucleus_Intensity_Average, S100_Cell_Intensity_Average, S100_Cytoplasm_Intensity_Average, S100_Nucleus_Intensity_Average, 53BP1_Cell_Intensity_Average, 53BP1_Cytoplasm_Intensity_Average, 53BP1_Nucleus_Intensity_Average, DAPI_R2_Cell_Intensity_Average, DAPI_R2_Cytoplasm_Intensity_Average, DAPI_R2_Nucleus_Intensity_Average, PCNA_Cell_Intensity_Average, PCNA_Cytoplasm_Intensity_Average, PCNA_Nucleus_Intensity_Average, pS6_Cell_Intensity_Average, pS6_Cytoplasm_Intensity_Average, pS6_Nucleus_Intensity_Average, CD4_Cell_Intensity_Average, CD4_Cytoplasm_Intensity_Average, CD4_Nucleus_Intensity_Average, pATM_Cell_Intensity_Average, pATM_Cytoplasm_Intensity_Average, pATM_Nucleus_Intensity_Average, DAPI_R3_Cell_Intensity_Average, DAPI_R3_Cytoplasm_Intensity_Average, DAPI_R3_Nucleus_Intensity_Average, pATR_Cell_Intensity_Average, pATR_Cytoplasm_Intensity_Average, pATR_Nucleus_Intensity_Average, AXL_Cell_Intensity_Average, AXL_Cytoplasm_Intensity_Average, AXL_Nucleus_Intensity_Average, CCND1_Cell_Intensity_Average, CCND1_Cytoplasm_Intensity_Average, CCND1_Nucleus_Intensity_Average, pCHK2_Cell_Intensity_Average, pCHK2_Cytoplasm_Intensity_Average, pCHK2_Nucleus_Intensity_Average, DAPI_R4_Cell_Intensity_Average, DAPI_R4_Cytoplasm_Intensity_Average, DAPI_R4_Nucleus_Intensity_Average, MITF_Cell_Intensity_Average, MITF_Cytoplasm_Intensity_Average, MITF_Nucleus_Intensity_Average, EGFR_Cell_Intensity_Average, EGFR_Cytoplasm_Intensity_Average, EGFR_Nucleus_Intensity_Average, pH2AX_Cell_Intensity_Average, pH2AX_Cytoplasm_Intensity_Average, pH2AX_Nucleus_Intensity_Average, p4EBP1_Cell_Intensity_Average, p4EBP1_Cytoplasm_Intensity_Average, p4EBP1_Nucleus_Intensity_Average, DAPI_R5_Cell_Intensity_Average, DAPI_R5_Cytoplasm_Intensity_Average, DAPI_R5_Nucleus_Intensity_Average, pHH3_Cell_Intensity_Average, pHH3_Cytoplasm_Intensity_Average, pHH3_Nucleus_Intensity_Average, PDGFR_Cell_Intensity_Average, PDGFR_Cytoplasm_Intensity_Average, PDGFR_Nucleus_Intensity_Average, KI67_Cell_Intensity_Average, KI67_Cytoplasm_Intensity_Average, KI67_Nucleus_Intensity_Average, pGSK3b_Cell_Intensity_Average, pGSK3b_Cytoplasm_Intensity_Average, pGSK3b_Nucleus_Intensity_Average, DAPI_R6_Cell_Intensity_Average, DAPI_R6_Cytoplasm_Intensity_Average, DAPI_R6_Nucleus_Intensity_Average, CD8_Cell_Intensity_Average, CD8_Cytoplasm_Intensity_Average, CD8_Nucleus_Intensity_Average, CD68_Cell_Intensity_Average, CD68_Cytoplasm_Intensity_Average, CD68_Nucleus_Intensity_Average, pEGFR_Cell_Intensity_Average, pEGFR_Cytoplasm_Intensity_Average, pEGFR_Nucleus_Intensity_Average, CD45_Cell_Intensity_Average, CD45_Cytoplasm_Intensity_Average, CD45_Nucleus_Intensity_Average, Vimentin_Cell_Intensity_Average, Vimentin_Cytoplasm_Intensity_Average, Vimentin_Nucleus_Intensity_Average, Ecad_Cell_Intensity_Average, Ecad_Cytoplasm_Intensity_Average, Ecad_Nucleus_Intensity_Average, p75_Cell_Intensity_Average, p75_Cytoplasm_Intensity_Average, p75_Nucleus_Intensity_Average, FOXP3_Cell_Intensity_Average, FOXP3_Cytoplasm_Intensity_Average, FOXP3_Nucleus_Intensity_Average.\n"
     ]
    }
   ],
   "source": [
    "print(\"Used \" + ls_samples[0] + \".csv to determine the expected, corrected headers for all files.\")\n",
    "print(\"There headers are: \\n\" + \", \".join([h for h in expected_headers]) + \".\")"
   ]
  },
  {
   "cell_type": "code",
   "execution_count": 17,
   "metadata": {},
   "outputs": [
    {
     "data": {
      "text/plain": [
       "'/Users/groutm/Desktop/gz'"
      ]
     },
     "execution_count": 17,
     "metadata": {},
     "output_type": "execute_result"
    }
   ],
   "source": [
    "os.getcwd()"
   ]
  },
  {
   "cell_type": "code",
   "execution_count": 18,
   "metadata": {},
   "outputs": [
    {
     "name": "stdout",
     "output_type": "stream",
     "text": [
      "GZ7.2.csv\n",
      "TMA.csv\n",
      "GZ10.3.csv\n",
      "GZ7.1.csv\n",
      "GZ10.2.csv\n",
      "GZ10.1.csv\n",
      "WARNING: File 'GZ10.1' lacks the following expected item(s): \n",
      "['ROI_index']\n",
      "GZ6.csv\n"
     ]
    }
   ],
   "source": [
    "# Import all dfs\n",
    "\n",
    "## TO-DO: include check that imported df is the expected size and shape...\n",
    "\n",
    "dfs = {}\n",
    "for sample in ls_samples:\n",
    "    # Open file\n",
    "    ################################\n",
    "    # only reading first 500 lines #\n",
    "    ################################\n",
    "    df = pd.read_csv('{}.csv'.format(sample), index_col = 0)#,\n",
    "                    #nrows = 500)\n",
    "    \n",
    "    # Check for empty df\n",
    "    # if so, don't continue trying to process df\n",
    "    if df.shape[0] == 0:\n",
    "        print('Zero content lines detected in ' + sample + ' file.'\n",
    "              'Removing from analysis...')\n",
    "        ls_samples.remove(sample)\n",
    "        continue\n",
    "    \n",
    "    # Instead of reading only the top 500 row in the file,\n",
    "    # let's read in all rows and then only use a random\n",
    "    # sampling (w/o replacement) of 500\n",
    "    \n",
    "    \"\"\"if df.shape[0] > 1000:\n",
    "        random_rows = np.random.choice(\n",
    "            a = df.shape[0], size=1000, replace=False, p=None)\n",
    "        df = df.iloc[random_rows,:]\"\"\"\n",
    "    \n",
    "    # Verify that the loaded df are the right length\n",
    "    print(sample + \".csv\")\n",
    "    verify_line_no(sample + \".csv\", df.shape[0] + 1) ##NOT WORKING\n",
    "    # adding 1 because we expect the header was detected \n",
    "    # during file import and not counted towards length of df\n",
    "    \n",
    "     # Manipulations necessary for concatenation\n",
    "    df = apply_header_changes(df)\n",
    "    df = df[[x for x in sorted(df.columns.values)]]\n",
    "    \n",
    "    # delete nucleus roundness\n",
    "    if 'Nucleus_Roundness' in df.columns.values:\n",
    "        df = df.drop(columns = ['Nucleus_Roundness'])\n",
    "    \n",
    "    # Compare headers of new df against what is expected\n",
    "    compare_headers(expected_headers, df.columns.values, sample)\n",
    "    df['Sample_ID'] = sample\n",
    "    \n",
    "    \n",
    "    \n",
    "    # For cases where we have samples called TMA1.1, TMA1.2, TMA1.3, etc.\n",
    "    # Using regular expressions (regex) to extract the characters in the\n",
    "    # sample name from TMA to the following digits, stopping at the period\n",
    "    #if 'ROI_index' in df.columns.values:\n",
    "     #   df['ROI_slide'] = re.findall(r'(TMA\\d+)',sample)[0]\n",
    "        \n",
    "    # Add to df of dfs \n",
    "    dfs[sample] = df\n",
    "    \n",
    "\n",
    "\n",
    "\n",
    "#Merge dfs into one df\n",
    "df = pd.concat(dfs.values(), ignore_index=False , sort = False)\n",
    "del dfs\n",
    "\n",
    "# set index to Sample_ID + cell number\n",
    "df = df.copy().reset_index(drop=True)\n",
    "index = []\n",
    "for sample in ls_samples:\n",
    "    df_chunk = df.loc[df['Sample_ID'] == sample,:].copy()\n",
    "    old_index = df_chunk.index\n",
    "    df_chunk = df_chunk.reset_index(drop=True)\n",
    "    df_chunk = df_chunk.set_index(f'{sample}_Cell_' + df_chunk.index.astype(str))\n",
    "    index = index + df_chunk.index.values.tolist()\n",
    "\n",
    "df.index =  index\n",
    "df = df.loc[:,~df.columns.isin(['level_0','index'])]"
   ]
  },
  {
   "cell_type": "markdown",
   "metadata": {},
   "source": [
    "Let's take a look at a few features to make sure our dataframe is as expected"
   ]
  },
  {
   "cell_type": "code",
   "execution_count": 19,
   "metadata": {},
   "outputs": [
    {
     "data": {
      "text/plain": [
       "Index(['GZ7.2_Cell_0', 'GZ7.2_Cell_1', 'GZ7.2_Cell_2', 'GZ7.2_Cell_3',\n",
       "       'GZ7.2_Cell_4', 'GZ7.2_Cell_5', 'GZ7.2_Cell_6', 'GZ7.2_Cell_7',\n",
       "       'GZ7.2_Cell_8', 'GZ7.2_Cell_9',\n",
       "       ...\n",
       "       'GZ6_Cell_61399', 'GZ6_Cell_61400', 'GZ6_Cell_61401', 'GZ6_Cell_61402',\n",
       "       'GZ6_Cell_61403', 'GZ6_Cell_61404', 'GZ6_Cell_61405', 'GZ6_Cell_61406',\n",
       "       'GZ6_Cell_61407', 'GZ6_Cell_61408'],\n",
       "      dtype='object', length=397158)"
      ]
     },
     "execution_count": 19,
     "metadata": {},
     "output_type": "execute_result"
    }
   ],
   "source": [
    "df.index"
   ]
  },
  {
   "cell_type": "code",
   "execution_count": 20,
   "metadata": {},
   "outputs": [
    {
     "data": {
      "text/plain": [
       "(397158, 125)"
      ]
     },
     "execution_count": 20,
     "metadata": {},
     "output_type": "execute_result"
    }
   ],
   "source": [
    "df.shape"
   ]
  },
  {
   "cell_type": "code",
   "execution_count": 21,
   "metadata": {},
   "outputs": [
    {
     "name": "stdout",
     "output_type": "stream",
     "text": [
      "Index(['ROI_index'], dtype='object')\n"
     ]
    }
   ],
   "source": [
    "#check for NaN entries (should not be any unless columns do not align)\n",
    "# if there are any null values, then print names of columns containing\n",
    "# null values\n",
    "if df.isnull().any().any():\n",
    "    print(df.columns[df.isnull().any()])\n",
    "\n",
    "#in 'if' statement, false means no NaN entries True means NaN entries "
   ]
  },
  {
   "cell_type": "code",
   "execution_count": 22,
   "metadata": {},
   "outputs": [],
   "source": [
    "## Remove in final workflow\n",
    "\n",
    "if 'bad_header_file' in ls_samples:\n",
    "    ls_samples.remove(\"bad_header_file\")\n",
    "if 'bad_header_file' in df.Sample_ID.unique():\n",
    "    df = df.loc[df['Sample_ID'] != 'bad_header_file',:]"
   ]
  },
  {
   "cell_type": "code",
   "execution_count": 23,
   "metadata": {},
   "outputs": [
    {
     "name": "stdout",
     "output_type": "stream",
     "text": [
      "All expected filenames present in big df Sample_ID column.\n"
     ]
    }
   ],
   "source": [
    "# Check that all expected files were imported into final dataframe\n",
    "\n",
    "if sorted(df.Sample_ID.unique()) == sorted(ls_samples):\n",
    "    print(\"All expected filenames present in big df Sample_ID column.\")\n",
    "else:\n",
    "    compare_headers(['no samples'], df.Sample_ID.unique(), \"big df Sample_ID column\")"
   ]
  },
  {
   "cell_type": "markdown",
   "metadata": {},
   "source": [
    "List of header values that are not intensities. Can include items that aren't in a given header."
   ]
  },
  {
   "cell_type": "markdown",
   "metadata": {},
   "source": [
    "Need to save `non_intensities` list for future reference."
   ]
  },
  {
   "cell_type": "code",
   "execution_count": 25,
   "metadata": {},
   "outputs": [
    {
     "name": "stdout",
     "output_type": "stream",
     "text": [
      "'not_intensities.csv' already exists.\n",
      "Reconciling file and Jupyter notebook lists.\n"
     ]
    }
   ],
   "source": [
    "fn = os.path.join(metadata_dir,\"not_intensities.csv\")\n",
    "\n",
    "# If this file already exists, add only not_intensities items not already present in file\n",
    "if os.path.exists(fn):\n",
    "    print(\"'not_intensities.csv' already exists.\")\n",
    "    print(\"Reconciling file and Jupyter notebook lists.\")\n",
    "    fh = open(fn, \"r\")\n",
    "    file_ni = fh.read().splitlines()\n",
    "    # Set difference to identify items not already in file\n",
    "    to_add = set(not_intensities) - set(file_ni)\n",
    "    # We want not_intensities to the a complete list\n",
    "    not_intensities = list(set(file_ni) | set(not_intensities))\n",
    "    fh.close()\n",
    "    fh = open(fn, \"a\")\n",
    "    for item in to_add:\n",
    "        fh.write(item +\"\\n\")\n",
    "    fh.close()\n",
    "    \n",
    "# The file does not yet exist\n",
    "else:\n",
    "    print(\"Could not find \" + fn + \". Creating now.\")\n",
    "    fh = open(fn, \"w\")\n",
    "    for item in not_intensities:\n",
    "        fh.write(item + \"\\n\")\n",
    "    fh.close()\n",
    "    \n",
    "    \n",
    "    \n",
    "#to_add = set(not_intensities) - set(file_ni)\n",
    "#print(to_add)\n",
    "#for ni in to_add:\n",
    "#    fh.write(ni + \"\\n\")\n",
    "#fh.close()"
   ]
  },
  {
   "cell_type": "markdown",
   "metadata": {},
   "source": [
    "For reproducibility data - drop any intensity marker column that is not a mean intensity"
   ]
  },
  {
   "cell_type": "code",
   "execution_count": 26,
   "metadata": {},
   "outputs": [],
   "source": [
    "# columns we want to keep:\n",
    "# not_intensities, and any intensity column that contains 'Intensity_Average'\n",
    "\n",
    "# to get the latter, we use list comprehension first get a list\n",
    "# of all df columns not in 'not_intensities', aka, those that ARE\n",
    "# intensities, 'x for x in df....'\n",
    "# then we only include them if they contain 'Intensity_Average',\n",
    "# \"...if 'Intensity_Average' in x\"\n",
    "\n",
    "## Explain how to add more, beyond Cell_Intensity_Average, etc.\n",
    "\n",
    "to_keep = not_intensities \\\n",
    "    + [x for x in df.columns.values[~df.columns.isin(not_intensities)] if 'Cell_Intensity_Average' in x]\n",
    "\n",
    "# However, our to_keep list contains items that might not be in our df headers!\n",
    "# These items are from our not_intensities list. So let's ask for only those items\n",
    "# from to_keep that are actually found in our df\n",
    "df = df[[x for x in to_keep if x in df.columns.values]]\n",
    "\n",
    "# Drop specific markers\n",
    "#df = df.drop(columns = [])"
   ]
  },
  {
   "cell_type": "code",
   "execution_count": 27,
   "metadata": {},
   "outputs": [
    {
     "data": {
      "text/plain": [
       "array(['Nuc_Y', 'Nuc_Y_Inv', 'ROI_index', 'Cell_Size', 'Nuc_X_Inv',\n",
       "       'Nuc_X', 'Sample_ID', 'Nucleus_Size',\n",
       "       '53BP1_Cell_Intensity_Average', 'AF488_Cell_Intensity_Average',\n",
       "       'AF555_Cell_Intensity_Average'], dtype=object)"
      ]
     },
     "execution_count": 27,
     "metadata": {},
     "output_type": "execute_result"
    }
   ],
   "source": [
    "# let's look at the first few items\n",
    "df.columns.values[:11]"
   ]
  },
  {
   "cell_type": "code",
   "execution_count": 28,
   "metadata": {},
   "outputs": [],
   "source": [
    "#df.ROI_slide.unique()"
   ]
  },
  {
   "cell_type": "markdown",
   "metadata": {},
   "source": [
    "### Distribution of nucleus sizes"
   ]
  },
  {
   "cell_type": "markdown",
   "metadata": {},
   "source": [
    "Will be cell sizes in final workflow?"
   ]
  },
  {
   "cell_type": "code",
   "execution_count": 75,
   "metadata": {},
   "outputs": [],
   "source": [
    "# Through 500\n",
    "make_distr_plot_per_sample(\n",
    "    title = \"Initial dataframe nucleus sizes - 500 cutoff\",\n",
    "    location = output_images_dir, dfs = [df], \n",
    "    df_names = [\"Initial dataframe\"], colors = [\"blue\"], \n",
    "    x_label = \"Nucleus Size\", \n",
    "    legend = False, xlims = [0,500], markers = ['Nucleus_Size'])\n"
   ]
  },
  {
   "cell_type": "code",
   "execution_count": 76,
   "metadata": {},
   "outputs": [],
   "source": [
    "# Through 100\n",
    "make_distr_plot_per_sample(title = \"Initial dataframe nucleus sizes to 100\",\n",
    "                           location = output_images_dir, dfs = [df], \n",
    "                           df_names = [\"Initial dataframe\"], colors = [\"blue\"], \n",
    "                           x_label = \"Nucleus Size\", \n",
    "                           legend = False, xlims = [0,100], markers = ['Nucleus_Size'])\n"
   ]
  },
  {
   "cell_type": "code",
   "execution_count": 77,
   "metadata": {},
   "outputs": [
    {
     "data": {
      "text/plain": [
       "(105553,)"
      ]
     },
     "execution_count": 77,
     "metadata": {},
     "output_type": "execute_result"
    }
   ],
   "source": [
    "m = signal.find_peaks(df[\"Nucleus_Size\"], prominence = 10, threshold = 20)\n",
    "m[0].shape"
   ]
  },
  {
   "cell_type": "code",
   "execution_count": null,
   "metadata": {},
   "outputs": [],
   "source": []
  },
  {
   "cell_type": "markdown",
   "metadata": {},
   "source": [
    "Get quantiles (5th, 50th, 95th)"
   ]
  },
  {
   "cell_type": "code",
   "execution_count": 78,
   "metadata": {},
   "outputs": [],
   "source": [
    "qs = [0.05,0.50,0.95] # list of nucleus size percentiles to extract \n",
    "nuc_sizes = pd.DataFrame(df[\"Nucleus_Size\"].quantile(q=qs))\n",
    "nuc_sizes['quantiles'] = nuc_sizes.index\n",
    "nuc_sizes = nuc_sizes.reset_index().drop(columns = ['index'])\n",
    "\n",
    "nuc_sizes\n",
    "## Save these data to file\n",
    "filename = \"nuc_quantile_sizes.csv\"\n",
    "filename = os.path.join(output_data_dir,filename)\n",
    "nuc_sizes.to_csv(filename, index = False)"
   ]
  },
  {
   "cell_type": "code",
   "execution_count": 79,
   "metadata": {},
   "outputs": [
    {
     "data": {
      "text/plain": [
       "array(['Nuc_Y', 'Nuc_Y_Inv', 'ROI_index', 'Cell_Size', 'Nuc_X_Inv',\n",
       "       'Nuc_X', 'Sample_ID', 'Nucleus_Size',\n",
       "       '53BP1_Cell_Intensity_Average', 'AF488_Cell_Intensity_Average',\n",
       "       'AF555_Cell_Intensity_Average', 'AF647_Cell_Intensity_Average',\n",
       "       'AF750_Cell_Intensity_Average', 'AXL_Cell_Intensity_Average',\n",
       "       'CCNA2_Cell_Intensity_Average', 'CCND1_Cell_Intensity_Average',\n",
       "       'CD45_Cell_Intensity_Average', 'CD4_Cell_Intensity_Average',\n",
       "       'CD68_Cell_Intensity_Average', 'CD8_Cell_Intensity_Average',\n",
       "       'EGFR_Cell_Intensity_Average', 'Ecad_Cell_Intensity_Average',\n",
       "       'FOXP3_Cell_Intensity_Average', 'H3K27me3_Cell_Intensity_Average',\n",
       "       'KI67_Cell_Intensity_Average', 'MITF_Cell_Intensity_Average',\n",
       "       'PCNA_Cell_Intensity_Average', 'PDGFR_Cell_Intensity_Average',\n",
       "       'S100_Cell_Intensity_Average', 'Vimentin_Cell_Intensity_Average',\n",
       "       'p4EBP1_Cell_Intensity_Average', 'p75_Cell_Intensity_Average',\n",
       "       'pATM_Cell_Intensity_Average', 'pATR_Cell_Intensity_Average',\n",
       "       'pCHK2_Cell_Intensity_Average', 'pEGFR_Cell_Intensity_Average',\n",
       "       'pGSK3b_Cell_Intensity_Average', 'pH2AX_Cell_Intensity_Average',\n",
       "       'pHH3_Cell_Intensity_Average', 'pS6_Cell_Intensity_Average'],\n",
       "      dtype=object)"
      ]
     },
     "execution_count": 79,
     "metadata": {},
     "output_type": "execute_result"
    }
   ],
   "source": [
    "df.columns.values"
   ]
  },
  {
   "cell_type": "markdown",
   "metadata": {},
   "source": [
    "Scatter plot – to be most informative, ideally this would be cell size vs nucleus size, where color = nucleus roundness. Not all data used to develop workflow had all necessary features, so the actual data plotted below may not be terribly useful.\n"
   ]
  },
  {
   "cell_type": "code",
   "execution_count": 80,
   "metadata": {},
   "outputs": [],
   "source": [
    "title = \"Nucleus size by nucleus size for initial dataframe\"\n",
    "x_label = \"Nucleus Size\"\n",
    "y_label = \"Nucleus Size\" # cell size - weewin data only has Nuc size!\n",
    "y_label = \"Cell Size\"\n",
    "\n",
    "fig = px.scatter(df, x=\"Nucleus_Size\", y=\"Cell_Size\",\n",
    "                 color='Nucleus_Size')\n",
    "                 \n",
    "fig.update_layout(title_text=title, font=dict(size=18), \n",
    "        plot_bgcolor = 'white', showlegend = True )\n",
    "# Adjust opacity\n",
    "fig.update_traces(opacity=0.6)\n",
    "# Adjust x-axis parameters\n",
    "fig.update_xaxes(title_text = x_label, showline=True, linewidth=2, linecolor='black', \n",
    "        tickfont=dict(size=18))\n",
    "    # Adjust y-axis parameters\n",
    "fig.update_yaxes(title_text = y_label, showline=True, linewidth=2, linecolor='black',\n",
    "        tickfont=dict(size=18))\n",
    "    \n",
    "#plot(fig)\n",
    "filename = os.path.join(output_images_dir, title.replace(\" \",\"_\") + \".png\")\n",
    "fig.write_image(filename)"
   ]
  },
  {
   "cell_type": "markdown",
   "metadata": {},
   "source": [
    "Move forward with only the columns of interest"
   ]
  },
  {
   "cell_type": "code",
   "execution_count": 81,
   "metadata": {},
   "outputs": [
    {
     "name": "stdout",
     "output_type": "stream",
     "text": [
      "Columns are now...\n",
      "['Nuc_Y', 'Nuc_Y_Inv', 'ROI_index', 'Cell_Size', 'Nuc_X_Inv', 'Nuc_X', 'Sample_ID', 'Nucleus_Size', '53BP1_Cell_Intensity_Average', 'AF488_Cell_Intensity_Average', 'AF555_Cell_Intensity_Average', 'AF647_Cell_Intensity_Average', 'AF750_Cell_Intensity_Average', 'AXL_Cell_Intensity_Average', 'CCNA2_Cell_Intensity_Average', 'CCND1_Cell_Intensity_Average', 'CD45_Cell_Intensity_Average', 'CD4_Cell_Intensity_Average', 'CD68_Cell_Intensity_Average', 'CD8_Cell_Intensity_Average', 'EGFR_Cell_Intensity_Average', 'Ecad_Cell_Intensity_Average', 'FOXP3_Cell_Intensity_Average', 'H3K27me3_Cell_Intensity_Average', 'KI67_Cell_Intensity_Average', 'MITF_Cell_Intensity_Average', 'PCNA_Cell_Intensity_Average', 'PDGFR_Cell_Intensity_Average', 'S100_Cell_Intensity_Average', 'Vimentin_Cell_Intensity_Average', 'p4EBP1_Cell_Intensity_Average', 'p75_Cell_Intensity_Average', 'pATM_Cell_Intensity_Average', 'pATR_Cell_Intensity_Average', 'pCHK2_Cell_Intensity_Average', 'pEGFR_Cell_Intensity_Average', 'pGSK3b_Cell_Intensity_Average', 'pH2AX_Cell_Intensity_Average', 'pHH3_Cell_Intensity_Average', 'pS6_Cell_Intensity_Average']\n"
     ]
    }
   ],
   "source": [
    "# Remove columns containing \"DAPI\"\n",
    "df = df[[x for x in df.columns.values if 'DAPI' not in x]]\n",
    "\n",
    "print(\"Columns are now...\")\n",
    "print([c for c in df.columns.values])"
   ]
  },
  {
   "cell_type": "markdown",
   "metadata": {},
   "source": [
    "#### Create lists of full names and shortened names to use in plotting"
   ]
  },
  {
   "cell_type": "code",
   "execution_count": 82,
   "metadata": {},
   "outputs": [],
   "source": [
    "full_to_short_names, short_to_full_names =  \\\n",
    "    shorten_feature_names(df.columns.values[~df.columns.isin(not_intensities)])"
   ]
  },
  {
   "cell_type": "markdown",
   "metadata": {},
   "source": [
    "Save this data to a metadata file"
   ]
  },
  {
   "cell_type": "code",
   "execution_count": 83,
   "metadata": {},
   "outputs": [],
   "source": [
    "filename = os.path.join(metadata_dir, \"full_to_short_column_names.csv\")\n",
    "fh = open(filename, \"w\")\n",
    "fh.write(\"full_name,short_name\\n\")\n",
    "for k,v in full_to_short_names.items():\n",
    "    fh.write(k + \",\" + v + \"\\n\")\n",
    "    \n",
    "fh.close()"
   ]
  },
  {
   "cell_type": "code",
   "execution_count": 84,
   "metadata": {},
   "outputs": [],
   "source": [
    "filename = os.path.join(metadata_dir, \"short_to_full_column_names.csv\")\n",
    "fh = open(filename, \"w\")\n",
    "fh.write(\"short_name,full_name\\n\")\n",
    "for k,v in short_to_full_names.items():\n",
    "    fh.write(k + \",\" + v + \"\\n\")\n",
    "    \n",
    "fh.close()"
   ]
  },
  {
   "cell_type": "code",
   "execution_count": 85,
   "metadata": {},
   "outputs": [],
   "source": [
    "## Print contents to screen if the user wants\n",
    "\n",
    "#for key, value in full_to_short_names.items():\n",
    "#    print(key + \": \" + value)"
   ]
  },
  {
   "cell_type": "markdown",
   "metadata": {},
   "source": [
    "### Import exposure time metadata"
   ]
  },
  {
   "cell_type": "markdown",
   "metadata": {},
   "source": [
    "Here, we want to end up with a data structure that incorporates metadata on each intensity marker column used in our big dataframe in an easy-to-use format. This is going to include the full name of the intensity marker columns in the big data frame, the corresponding round and channel, the target protein (e.g., CD45), and the segmentation localization information (cell, cytoplasm, nucleus)..."
   ]
  },
  {
   "cell_type": "markdown",
   "metadata": {},
   "source": [
    "We can use this data structure to assign unique colors to all channels and rounds, for example, for use in later visualizations."
   ]
  },
  {
   "cell_type": "code",
   "execution_count": 86,
   "metadata": {},
   "outputs": [],
   "source": [
    "filename = \"Exposure_Time.csv\"\n",
    "#filename = \"Exposure_Time_full.csv\"\n",
    "filename = os.path.join(metadata_dir, filename)\n",
    "\n",
    "\n",
    "exp_df = pd.read_csv(filename)"
   ]
  },
  {
   "cell_type": "code",
   "execution_count": 87,
   "metadata": {},
   "outputs": [
    {
     "name": "stdout",
     "output_type": "stream",
     "text": [
      "Assessing length of imported df.\n",
      "Assessing whether column headers are as expected.\n",
      "No null values detected.\n"
     ]
    }
   ],
   "source": [
    "# Verify file imported correctly\n",
    "\n",
    "# File length\n",
    "print(\"Assessing length of imported df.\")\n",
    "##verify_line_no(filename, exp_df.shape[0] + 1) ##this is not working\n",
    "\n",
    "\n",
    "# Headers\n",
    "print(\"Assessing whether column headers are as expected.\")\n",
    "expected_headers =['Round','Target','Exp','Channel']\n",
    "compare_headers(expected_headers, exp_df.columns.values, \"Imported metadata file\")\n",
    "\n",
    "# Missingness\n",
    "if exp_df.isnull().any().any():\n",
    "    print(\"\\nexp_df has null value(s) in row(s):\")\n",
    "    print(exp_df[exp_df.isna().any(axis=1)])\n",
    "else:\n",
    "    print(\"No null values detected.\")"
   ]
  },
  {
   "cell_type": "code",
   "execution_count": 88,
   "metadata": {},
   "outputs": [],
   "source": [
    "if len(exp_df['Target']) > len(exp_df['Target'].unique()):\n",
    "    print(\"One or more non-unique Target values in exp_df. Currently not supported.\")"
   ]
  },
  {
   "cell_type": "code",
   "execution_count": 89,
   "metadata": {},
   "outputs": [],
   "source": [
    "## This came from the Replication dataset, where we had some markers swapped between rounds\n",
    "\n",
    "\n",
    "## need to assess this - we would expect thi\n",
    "exp_df = exp_df.drop_duplicates(subset = 'Target').reindex()\n",
    "    # can't have different rounds metadata for colors later\n",
    "    \n"
   ]
  },
  {
   "cell_type": "code",
   "execution_count": 90,
   "metadata": {},
   "outputs": [
    {
     "data": {
      "text/html": [
       "<div>\n",
       "<style scoped>\n",
       "    .dataframe tbody tr th:only-of-type {\n",
       "        vertical-align: middle;\n",
       "    }\n",
       "\n",
       "    .dataframe tbody tr th {\n",
       "        vertical-align: top;\n",
       "    }\n",
       "\n",
       "    .dataframe thead th {\n",
       "        text-align: right;\n",
       "    }\n",
       "</style>\n",
       "<table border=\"1\" class=\"dataframe\">\n",
       "  <thead>\n",
       "    <tr style=\"text-align: right;\">\n",
       "      <th></th>\n",
       "      <th>Round</th>\n",
       "      <th>Target</th>\n",
       "      <th>Exp</th>\n",
       "      <th>Channel</th>\n",
       "    </tr>\n",
       "  </thead>\n",
       "  <tbody>\n",
       "    <tr>\n",
       "      <th>7</th>\n",
       "      <td>R1</td>\n",
       "      <td>53BP1</td>\n",
       "      <td>1200</td>\n",
       "      <td>c5</td>\n",
       "    </tr>\n",
       "    <tr>\n",
       "      <th>0</th>\n",
       "      <td>R0</td>\n",
       "      <td>AF488</td>\n",
       "      <td>300</td>\n",
       "      <td>c2</td>\n",
       "    </tr>\n",
       "    <tr>\n",
       "      <th>1</th>\n",
       "      <td>R0</td>\n",
       "      <td>AF555</td>\n",
       "      <td>1500</td>\n",
       "      <td>c3</td>\n",
       "    </tr>\n",
       "    <tr>\n",
       "      <th>2</th>\n",
       "      <td>R0</td>\n",
       "      <td>AF647</td>\n",
       "      <td>1500</td>\n",
       "      <td>c4</td>\n",
       "    </tr>\n",
       "    <tr>\n",
       "      <th>3</th>\n",
       "      <td>R0</td>\n",
       "      <td>AF750</td>\n",
       "      <td>1500</td>\n",
       "      <td>c5</td>\n",
       "    </tr>\n",
       "  </tbody>\n",
       "</table>\n",
       "</div>"
      ],
      "text/plain": [
       "  Round Target   Exp Channel\n",
       "7    R1  53BP1  1200      c5\n",
       "0    R0  AF488   300      c2\n",
       "1    R0  AF555  1500      c3\n",
       "2    R0  AF647  1500      c4\n",
       "3    R0  AF750  1500      c5"
      ]
     },
     "execution_count": 90,
     "metadata": {},
     "output_type": "execute_result"
    }
   ],
   "source": [
    "exp_df.sort_values(by = ['Target']).head()"
   ]
  },
  {
   "cell_type": "code",
   "execution_count": 91,
   "metadata": {},
   "outputs": [
    {
     "data": {
      "text/html": [
       "<div>\n",
       "<style scoped>\n",
       "    .dataframe tbody tr th:only-of-type {\n",
       "        vertical-align: middle;\n",
       "    }\n",
       "\n",
       "    .dataframe tbody tr th {\n",
       "        vertical-align: top;\n",
       "    }\n",
       "\n",
       "    .dataframe thead th {\n",
       "        text-align: right;\n",
       "    }\n",
       "</style>\n",
       "<table border=\"1\" class=\"dataframe\">\n",
       "  <thead>\n",
       "    <tr style=\"text-align: right;\">\n",
       "      <th></th>\n",
       "      <th>Round</th>\n",
       "      <th>Target</th>\n",
       "      <th>Exp</th>\n",
       "      <th>Channel</th>\n",
       "      <th>target_lower</th>\n",
       "    </tr>\n",
       "  </thead>\n",
       "  <tbody>\n",
       "    <tr>\n",
       "      <th>0</th>\n",
       "      <td>R0</td>\n",
       "      <td>AF488</td>\n",
       "      <td>300</td>\n",
       "      <td>c2</td>\n",
       "      <td>af488</td>\n",
       "    </tr>\n",
       "    <tr>\n",
       "      <th>1</th>\n",
       "      <td>R0</td>\n",
       "      <td>AF555</td>\n",
       "      <td>1500</td>\n",
       "      <td>c3</td>\n",
       "      <td>af555</td>\n",
       "    </tr>\n",
       "    <tr>\n",
       "      <th>2</th>\n",
       "      <td>R0</td>\n",
       "      <td>AF647</td>\n",
       "      <td>1500</td>\n",
       "      <td>c4</td>\n",
       "      <td>af647</td>\n",
       "    </tr>\n",
       "    <tr>\n",
       "      <th>3</th>\n",
       "      <td>R0</td>\n",
       "      <td>AF750</td>\n",
       "      <td>1500</td>\n",
       "      <td>c5</td>\n",
       "      <td>af750</td>\n",
       "    </tr>\n",
       "    <tr>\n",
       "      <th>4</th>\n",
       "      <td>R1</td>\n",
       "      <td>H3K27me3</td>\n",
       "      <td>200</td>\n",
       "      <td>c2</td>\n",
       "      <td>h3k27me3</td>\n",
       "    </tr>\n",
       "  </tbody>\n",
       "</table>\n",
       "</div>"
      ],
      "text/plain": [
       "  Round    Target   Exp Channel target_lower\n",
       "0    R0     AF488   300      c2        af488\n",
       "1    R0     AF555  1500      c3        af555\n",
       "2    R0     AF647  1500      c4        af647\n",
       "3    R0     AF750  1500      c5        af750\n",
       "4    R1  H3K27me3   200      c2     h3k27me3"
      ]
     },
     "execution_count": 91,
     "metadata": {},
     "output_type": "execute_result"
    }
   ],
   "source": [
    "# Create lowercase version of target\n",
    "exp_df['target_lower'] = exp_df['Target'].str.lower()\n",
    "exp_df.head()"
   ]
  },
  {
   "cell_type": "markdown",
   "metadata": {},
   "source": [
    "Create dataframe that contains marker intensity columns in our df that aren't in `not_intensities`"
   ]
  },
  {
   "cell_type": "code",
   "execution_count": 92,
   "metadata": {},
   "outputs": [],
   "source": [
    "intensities = pd.DataFrame({'full_column':df.columns.values[~df.columns.isin(not_intensities)]})"
   ]
  },
  {
   "cell_type": "code",
   "execution_count": 93,
   "metadata": {},
   "outputs": [
    {
     "data": {
      "text/html": [
       "<div>\n",
       "<style scoped>\n",
       "    .dataframe tbody tr th:only-of-type {\n",
       "        vertical-align: middle;\n",
       "    }\n",
       "\n",
       "    .dataframe tbody tr th {\n",
       "        vertical-align: top;\n",
       "    }\n",
       "\n",
       "    .dataframe thead th {\n",
       "        text-align: right;\n",
       "    }\n",
       "</style>\n",
       "<table border=\"1\" class=\"dataframe\">\n",
       "  <thead>\n",
       "    <tr style=\"text-align: right;\">\n",
       "      <th></th>\n",
       "      <th>full_column</th>\n",
       "    </tr>\n",
       "  </thead>\n",
       "  <tbody>\n",
       "    <tr>\n",
       "      <th>0</th>\n",
       "      <td>53BP1_Cell_Intensity_Average</td>\n",
       "    </tr>\n",
       "    <tr>\n",
       "      <th>1</th>\n",
       "      <td>AF488_Cell_Intensity_Average</td>\n",
       "    </tr>\n",
       "    <tr>\n",
       "      <th>2</th>\n",
       "      <td>AF555_Cell_Intensity_Average</td>\n",
       "    </tr>\n",
       "    <tr>\n",
       "      <th>3</th>\n",
       "      <td>AF647_Cell_Intensity_Average</td>\n",
       "    </tr>\n",
       "    <tr>\n",
       "      <th>4</th>\n",
       "      <td>AF750_Cell_Intensity_Average</td>\n",
       "    </tr>\n",
       "  </tbody>\n",
       "</table>\n",
       "</div>"
      ],
      "text/plain": [
       "                    full_column\n",
       "0  53BP1_Cell_Intensity_Average\n",
       "1  AF488_Cell_Intensity_Average\n",
       "2  AF555_Cell_Intensity_Average\n",
       "3  AF647_Cell_Intensity_Average\n",
       "4  AF750_Cell_Intensity_Average"
      ]
     },
     "execution_count": 93,
     "metadata": {},
     "output_type": "execute_result"
    }
   ],
   "source": [
    "intensities.head()"
   ]
  },
  {
   "cell_type": "markdown",
   "metadata": {},
   "source": [
    "Extract the marker information from the `full_column`, which corresponds to full column in big dataframe."
   ]
  },
  {
   "cell_type": "code",
   "execution_count": 94,
   "metadata": {},
   "outputs": [],
   "source": [
    "# Use regular expressions (regex) to isolate the part of the field that\n",
    "# begins (^) with an alphanumeric value (W), and ends with an underscore (_)\n",
    "# '$' is end of line\n",
    "intensities['marker'] = intensities['full_column'].str.extract(r'([^\\W_]+)')\n",
    "# convert to lowercase\n",
    "intensities['marker_lower'] = intensities['marker'].str.lower()"
   ]
  },
  {
   "cell_type": "code",
   "execution_count": 95,
   "metadata": {},
   "outputs": [],
   "source": [
    "# Subset the intensities df to exclude any column pertaining to DAPI\n",
    "intensities = intensities.loc[intensities['marker_lower'] != 'dapi']"
   ]
  },
  {
   "cell_type": "markdown",
   "metadata": {},
   "source": [
    "Now merge the `intensities` and `exp_df` together to create `metadata`"
   ]
  },
  {
   "cell_type": "code",
   "execution_count": 96,
   "metadata": {},
   "outputs": [],
   "source": [
    "metadata = pd.merge(exp_df, intensities, how = 'left',\n",
    "                   left_on = 'target_lower',right_on = 'marker_lower')\n",
    "metadata = metadata.drop(columns = ['marker_lower'])\n",
    "\n",
    "# Target is the capitalization from the Exposure_Time.csv\n",
    "# target_lower is Target in all caps\n",
    "# marker is the extracted first component of the full column in segmentation data, with corresponding capitalization"
   ]
  },
  {
   "cell_type": "markdown",
   "metadata": {},
   "source": [
    "Add a column to signify marker target location."
   ]
  },
  {
   "cell_type": "code",
   "execution_count": 97,
   "metadata": {},
   "outputs": [],
   "source": [
    "# Use a lambda to determine segmented location of intensity marker column and update metadata accordingly\n",
    "def add_metadata_location(row):\n",
    "    fc = row['full_column'].lower()\n",
    "    if 'cytoplasm' in fc and 'cell' not in fc and 'nucleus' not in fc:\n",
    "        return 'cytoplasm'\n",
    "    elif 'cell' in fc and 'cytoplasm' not in fc and 'nucleus' not in fc:\n",
    "        return 'cell'\n",
    "    elif 'nucleus' in fc and 'cell' not in fc and 'cytoplasm' not in fc:\n",
    "        return 'nulceus'\n",
    "    else:\n",
    "        return 'unknown'\n",
    "\n",
    "\n",
    "metadata['location'] = metadata.apply(\n",
    "    lambda row: add_metadata_location(row), axis = 1)"
   ]
  },
  {
   "cell_type": "markdown",
   "metadata": {},
   "source": [
    "A peek at our `metadata` dataframe:"
   ]
  },
  {
   "cell_type": "code",
   "execution_count": 98,
   "metadata": {},
   "outputs": [
    {
     "data": {
      "text/html": [
       "<div>\n",
       "<style scoped>\n",
       "    .dataframe tbody tr th:only-of-type {\n",
       "        vertical-align: middle;\n",
       "    }\n",
       "\n",
       "    .dataframe tbody tr th {\n",
       "        vertical-align: top;\n",
       "    }\n",
       "\n",
       "    .dataframe thead th {\n",
       "        text-align: right;\n",
       "    }\n",
       "</style>\n",
       "<table border=\"1\" class=\"dataframe\">\n",
       "  <thead>\n",
       "    <tr style=\"text-align: right;\">\n",
       "      <th></th>\n",
       "      <th>Round</th>\n",
       "      <th>Target</th>\n",
       "      <th>Exp</th>\n",
       "      <th>Channel</th>\n",
       "      <th>target_lower</th>\n",
       "      <th>full_column</th>\n",
       "      <th>marker</th>\n",
       "      <th>location</th>\n",
       "    </tr>\n",
       "  </thead>\n",
       "  <tbody>\n",
       "    <tr>\n",
       "      <th>0</th>\n",
       "      <td>R0</td>\n",
       "      <td>AF488</td>\n",
       "      <td>300</td>\n",
       "      <td>c2</td>\n",
       "      <td>af488</td>\n",
       "      <td>AF488_Cell_Intensity_Average</td>\n",
       "      <td>AF488</td>\n",
       "      <td>cell</td>\n",
       "    </tr>\n",
       "    <tr>\n",
       "      <th>1</th>\n",
       "      <td>R0</td>\n",
       "      <td>AF555</td>\n",
       "      <td>1500</td>\n",
       "      <td>c3</td>\n",
       "      <td>af555</td>\n",
       "      <td>AF555_Cell_Intensity_Average</td>\n",
       "      <td>AF555</td>\n",
       "      <td>cell</td>\n",
       "    </tr>\n",
       "    <tr>\n",
       "      <th>2</th>\n",
       "      <td>R0</td>\n",
       "      <td>AF647</td>\n",
       "      <td>1500</td>\n",
       "      <td>c4</td>\n",
       "      <td>af647</td>\n",
       "      <td>AF647_Cell_Intensity_Average</td>\n",
       "      <td>AF647</td>\n",
       "      <td>cell</td>\n",
       "    </tr>\n",
       "    <tr>\n",
       "      <th>3</th>\n",
       "      <td>R0</td>\n",
       "      <td>AF750</td>\n",
       "      <td>1500</td>\n",
       "      <td>c5</td>\n",
       "      <td>af750</td>\n",
       "      <td>AF750_Cell_Intensity_Average</td>\n",
       "      <td>AF750</td>\n",
       "      <td>cell</td>\n",
       "    </tr>\n",
       "    <tr>\n",
       "      <th>4</th>\n",
       "      <td>R1</td>\n",
       "      <td>H3K27me3</td>\n",
       "      <td>200</td>\n",
       "      <td>c2</td>\n",
       "      <td>h3k27me3</td>\n",
       "      <td>H3K27me3_Cell_Intensity_Average</td>\n",
       "      <td>H3K27me3</td>\n",
       "      <td>cell</td>\n",
       "    </tr>\n",
       "  </tbody>\n",
       "</table>\n",
       "</div>"
      ],
      "text/plain": [
       "  Round    Target   Exp Channel target_lower                      full_column  \\\n",
       "0    R0     AF488   300      c2        af488     AF488_Cell_Intensity_Average   \n",
       "1    R0     AF555  1500      c3        af555     AF555_Cell_Intensity_Average   \n",
       "2    R0     AF647  1500      c4        af647     AF647_Cell_Intensity_Average   \n",
       "3    R0     AF750  1500      c5        af750     AF750_Cell_Intensity_Average   \n",
       "4    R1  H3K27me3   200      c2     h3k27me3  H3K27me3_Cell_Intensity_Average   \n",
       "\n",
       "     marker location  \n",
       "0     AF488     cell  \n",
       "1     AF555     cell  \n",
       "2     AF647     cell  \n",
       "3     AF750     cell  \n",
       "4  H3K27me3     cell  "
      ]
     },
     "execution_count": 98,
     "metadata": {},
     "output_type": "execute_result"
    }
   ],
   "source": [
    "metadata.head()"
   ]
  },
  {
   "cell_type": "markdown",
   "metadata": {},
   "source": [
    "Save this data structure to the metadata folder."
   ]
  },
  {
   "cell_type": "code",
   "execution_count": 99,
   "metadata": {},
   "outputs": [],
   "source": [
    "# don't want to add color in because that's better off treating color the same for round, channel, and sample\n",
    "filename = \"marker_intensity_metadata.csv\"\n",
    "filename = os.path.join(metadata_dir, filename)\n",
    "\n",
    "metadata.to_csv(filename, index = False)"
   ]
  },
  {
   "cell_type": "markdown",
   "metadata": {},
   "source": [
    "### Import sample metadata if applicable"
   ]
  },
  {
   "cell_type": "markdown",
   "metadata": {},
   "source": [
    "filename = \"ROI_Map.csv\"\n",
    "filename = os.path.join(metadata_dir, filename)\n",
    "\n",
    "sample_metadata = pd.read_csv(filename)"
   ]
  },
  {
   "cell_type": "raw",
   "metadata": {},
   "source": [
    "# Verify file imported correctly\n",
    "\n",
    "# File length\n",
    "print(\"Assessing length of imported df.\")\n",
    "verify_line_no(filename, sample_metadata.shape[0]) \n",
    "\n",
    "\n",
    "# Headers\n",
    "print(\"Assessing whether column headers are as expected.\")\n",
    "expected_headers =['Sample_ID', 'ROI_slide','ROI_index', 'TMA_Core', 'TMA_row',\n",
    "                   'TMA_column', 'tissue_long', 'tissue_short', 'Replicate', 'Type']\n",
    "compare_headers(expected_headers, sample_metadata.columns.values, \"Imported metadata file\")\n",
    "\n",
    "# Missingness\n",
    "if exp_df.isnull().any().any():\n",
    "    print(\"\\nexp_df has null value(s) in row(s):\")\n",
    "    print(sample_metadta[sample_metadata.isna().any(axis=1)])\n",
    "else:\n",
    "    print(\"No null values detected.\")"
   ]
  },
  {
   "cell_type": "markdown",
   "metadata": {},
   "source": [
    "In this case, `sample_metadata` does not need to be merged with any other df and then saved again"
   ]
  },
  {
   "cell_type": "raw",
   "metadata": {},
   "source": [
    "sample_metadata.head()"
   ]
  },
  {
   "cell_type": "code",
   "execution_count": null,
   "metadata": {},
   "outputs": [],
   "source": []
  },
  {
   "cell_type": "code",
   "execution_count": null,
   "metadata": {},
   "outputs": [],
   "source": []
  },
  {
   "cell_type": "markdown",
   "metadata": {},
   "source": [
    "### Establish colors to use throughout workflow"
   ]
  },
  {
   "cell_type": "markdown",
   "metadata": {},
   "source": [
    "#### Channel colors"
   ]
  },
  {
   "cell_type": "markdown",
   "metadata": {},
   "source": [
    "Channel colors - want colors that are categorical, since Channel is a non-ordered category (yes, they are numbered, but arbitrarily). A categorical color palette will have dissimilar colors. However, it we will typically use a prescribed set of channel colors that are consistent throughout experiments: c2 = green, c3 = orange, c4 = red, c5 = turquoise. The more automated channel color generation will be left below for reference."
   ]
  },
  {
   "cell_type": "code",
   "execution_count": 100,
   "metadata": {},
   "outputs": [
    {
     "name": "stdout",
     "output_type": "stream",
     "text": [
      "Unique channels are: ['c2' 'c3' 'c4' 'c5']\n"
     ]
    },
    {
     "data": {
      "image/png": "[encoded data removed]",
      "text/plain": [
       "<Figure size 288x72 with 1 Axes>"
      ]
     },
     "metadata": {
      "needs_background": "light"
     },
     "output_type": "display_data"
    }
   ],
   "source": [
    "# Get those unique colors\n",
    "if len(metadata.Channel.unique()) > 10:\n",
    "    print(\"WARNING: There are more unique channel values than \\\n",
    "    there are colors to choose from. Select different palette, e.g., \\\n",
    "    continuous palette 'husl'.\")\n",
    "channel_color_values = sb.color_palette(\"colorblind\",n_colors = len(metadata.Channel.unique()))#'HLS'\n",
    "# chose 'colorblind' because it is categorical and we're unlikely to have > 10\n",
    "\n",
    "print(\"Unique channels are:\", metadata.Channel.unique())\n",
    "# Display those unique colors\n",
    "sb.palplot(sb.color_palette(channel_color_values))\n"
   ]
  },
  {
   "cell_type": "markdown",
   "metadata": {},
   "source": [
    "Store in a dictionary"
   ]
  },
  {
   "cell_type": "code",
   "execution_count": 101,
   "metadata": {},
   "outputs": [
    {
     "data": {
      "text/plain": [
       "{'c2': (0.00392156862745098, 0.45098039215686275, 0.6980392156862745),\n",
       " 'c3': (0.8705882352941177, 0.5607843137254902, 0.0196078431372549),\n",
       " 'c4': (0.00784313725490196, 0.6196078431372549, 0.45098039215686275),\n",
       " 'c5': (0.8352941176470589, 0.3686274509803922, 0.0)}"
      ]
     },
     "execution_count": 101,
     "metadata": {},
     "output_type": "execute_result"
    }
   ],
   "source": [
    "channel_color_dict = dict(zip(metadata.Channel.unique(), channel_color_values))\n",
    "\n",
    "channel_color_dict"
   ]
  },
  {
   "cell_type": "markdown",
   "metadata": {},
   "source": [
    "Let's choose our channel colors instead. We can use the function `matplotlib.colors.to_rbg(c)`, where `c` is a word color name, to convert to the (r, g, b) tuple needed for the workflow. At the top of the script, we imported `matplotlib.colors` as `mplc`, so we can save time and type out simply `mplc.to_rgb(c)` shorthand when using this function. Note that if you use any of the xkcd color survey colors (https://xkcd.com/color/rgb/), you will need to call these specify these as 'xkcd:colorname'."
   ]
  },
  {
   "cell_type": "markdown",
   "metadata": {},
   "source": [
    "I will demonstrate a couple of different ways of doing changing the colors we generated above, so the user can expand on the examples as necessary. We are holding all of our color information in several instances of a data structure called a dictionary. https://docs.python.org/3/library/stdtypes.html#typesmapping\n",
    "\n",
    "Dictionaries are a way to store an unordered collection of items where each is composed of a key-value mapped pair. In the case of this workflow, each color dictionary has a string identifying the specific thing to be colored, e.g., 'c2', 'TMA', 'cluster1', or 'r5', and the corresponding value is a three-float tuple (r, g, b) that is the color of that thing. With dictionaries, we can remove an key-value pair, add a new key-value pair, or overwrite an existing key-value pair whenever we want. Keys can be many things, but often you will see them as a string. Values can be strings, lists, other dictionaries (as seen below for the heatmaps), etc. Nested dictionaries can be complicated to intuit, but they can be a good way to associate a bunch of information together easily, coding-wise. Keys are not ordered within a dictionary."
   ]
  },
  {
   "cell_type": "code",
   "execution_count": 102,
   "metadata": {},
   "outputs": [
    {
     "name": "stdout",
     "output_type": "stream",
     "text": [
      "Our new color in rbg form is (0.0, 0.5019607843137255, 0.0).\n",
      "Before replacement, c2 in the dictionary is: (0.00392156862745098, 0.45098039215686275, 0.6980392156862745)\n",
      "After replacement, c2 in the dictionary is: (0.0, 0.5019607843137255, 0.0)\n"
     ]
    }
   ],
   "source": [
    "# get a new color for a channel, overwrite/replace the original channel color in the dictionary\n",
    "\n",
    "c2_color = \"green\"\n",
    "c2_color = mplc.to_rgb(\"green\")\n",
    "print(\"Our new color in rbg form is \" + str(c2_color) + \".\")\n",
    "\n",
    "print(\"Before replacement, c2 in the dictionary is: \" + str(channel_color_dict['c2']))\n",
    "\n",
    "# Replace value\n",
    "channel_color_dict['c2'] = c2_color\n",
    "print(\"After replacement, c2 in the dictionary is: \" + str(channel_color_dict['c2']))"
   ]
  },
  {
   "cell_type": "code",
   "execution_count": 103,
   "metadata": {},
   "outputs": [
    {
     "name": "stdout",
     "output_type": "stream",
     "text": [
      "Keys in the channel color dictionary are: dict_keys(['c2', 'c3', 'c4', 'c5'])\n",
      "'c2' is in the dictionary. Removing now.\n",
      "Keys in the channel color dictionary are: dict_keys(['c3', 'c4', 'c5'])\n"
     ]
    }
   ],
   "source": [
    "# Here is how you delete an item from a dictionary\n",
    "\n",
    "print(\"Keys in the channel color dictionary are: \" + str(channel_color_dict.keys()))\n",
    "\n",
    "# If we try to remove an existing key, we will get an error\n",
    "if 'c2' in channel_color_dict.keys():\n",
    "    print(\"'c2' is in the dictionary. Removing now.\")\n",
    "    channel_color_dict.pop('c2')\n",
    "    \n",
    "print(\"Keys in the channel color dictionary are: \" + str(channel_color_dict.keys()))"
   ]
  },
  {
   "cell_type": "code",
   "execution_count": 104,
   "metadata": {},
   "outputs": [
    {
     "name": "stdout",
     "output_type": "stream",
     "text": [
      "Keys in the channel color dictionary are: dict_keys(['c3', 'c4', 'c5'])\n",
      "Adding in 'c2'...\n",
      "Keys in the channel color dictionary are: dict_keys(['c3', 'c4', 'c5', 'c2'])\n"
     ]
    }
   ],
   "source": [
    "## Add in a new item\n",
    "print(\"Keys in the channel color dictionary are: \" + str(channel_color_dict.keys()))\n",
    "print(\"Adding in 'c2'...\")\n",
    "channel_color_dict['c2'] = c2_color\n",
    "print(\"Keys in the channel color dictionary are: \" + str(channel_color_dict.keys()))\n"
   ]
  },
  {
   "cell_type": "code",
   "execution_count": 105,
   "metadata": {},
   "outputs": [],
   "source": [
    "## Let's finish the dictionary now\n",
    "\n",
    "channel_color_dict['c2'] = mplc.to_rgb('green')\n",
    "channel_color_dict['c3'] = mplc.to_rgb('orange')\n",
    "channel_color_dict['c4'] = mplc.to_rgb('red')\n",
    "channel_color_dict['c5'] = mplc.to_rgb('turquoise')"
   ]
  },
  {
   "cell_type": "code",
   "execution_count": 1,
   "metadata": {},
   "outputs": [
    {
     "name": "stdout",
     "output_type": "stream",
     "text": [
      "['c2', 'c3', 'c4', 'c5']\n"
     ]
    },
    {
     "ename": "NameError",
     "evalue": "name 'sb' is not defined",
     "output_type": "error",
     "traceback": [
      "\u001b[0;31m---------------------------------------------------------------------------\u001b[0m",
      "\u001b[0;31mNameError\u001b[0m                                 Traceback (most recent call last)",
      "\u001b[0;32m<ipython-input-1-efcb4a74af00>\u001b[0m in \u001b[0;36m<module>\u001b[0;34m\u001b[0m\n\u001b[1;32m      5\u001b[0m \u001b[0;31m# together. Here we are accessing each (r,g,b) color value in the dictionary using the key.\u001b[0m\u001b[0;34m\u001b[0m\u001b[0;34m\u001b[0m\u001b[0;34m\u001b[0m\u001b[0m\n\u001b[1;32m      6\u001b[0m \u001b[0mprint\u001b[0m\u001b[0;34m(\u001b[0m\u001b[0;34m[\u001b[0m\u001b[0;34m'c2'\u001b[0m\u001b[0;34m,\u001b[0m\u001b[0;34m'c3'\u001b[0m\u001b[0;34m,\u001b[0m\u001b[0;34m'c4'\u001b[0m\u001b[0;34m,\u001b[0m\u001b[0;34m'c5'\u001b[0m\u001b[0;34m]\u001b[0m\u001b[0;34m)\u001b[0m\u001b[0;34m\u001b[0m\u001b[0;34m\u001b[0m\u001b[0m\n\u001b[0;32m----> 7\u001b[0;31m sb.palplot(sb.color_palette(\n\u001b[0m\u001b[1;32m      8\u001b[0m     [channel_color_dict['c2'],channel_color_dict['c3'],channel_color_dict['c4'],channel_color_dict['c5']]))\n",
      "\u001b[0;31mNameError\u001b[0m: name 'sb' is not defined"
     ]
    }
   ],
   "source": [
    "## And display the colors so we can see them\n",
    "\n",
    "# Instead of querying the dictionary to get each of our colors, THEN putting those colors in a list,\n",
    "# THEN feeding that list into the palplot/color_palette code as above, I will condense these steps\n",
    "# together. Here we are accessing each (r,g,b) color value in the dictionary using the key.\n",
    "print(['c2','c3','c4','c5'])\n",
    "sb.palplot(sb.color_palette(\n",
    "    [channel_color_dict['c2'],channel_color_dict['c3'],channel_color_dict['c4'],channel_color_dict['c5']]))\n"
   ]
  },
  {
   "cell_type": "markdown",
   "metadata": {},
   "source": [
    "#### Round colors"
   ]
  },
  {
   "cell_type": "markdown",
   "metadata": {},
   "source": [
    "Round colors - want colors that are sequential, since Round is an ordered category. We can still generate colors that are easy to distinguish. Also, many of the categorical palettes cap at at about 10 or so unique colors, and repeat from there. We do not want any repeats!"
   ]
  },
  {
   "cell_type": "code",
   "execution_count": 107,
   "metadata": {},
   "outputs": [
    {
     "name": "stdout",
     "output_type": "stream",
     "text": [
      "['R0' 'R1' 'R2' 'R3' 'R4' 'R5' 'R6' 'R7']\n"
     ]
    },
    {
     "data": {
      "image/png": "[encoded data removed]",
      "text/plain": [
       "<Figure size 576x72 with 1 Axes>"
      ]
     },
     "metadata": {
      "needs_background": "light"
     },
     "output_type": "display_data"
    }
   ],
   "source": [
    "round_color_values = sb.cubehelix_palette(\n",
    "    len(metadata.Round.unique()), start=1, rot= -0.75, dark=0.19, light=.85, reverse=True)\n",
    "#round_color_values = sb.color_palette(\"cubehelix\",n_colors = len(metadata.Round.unique()))\n",
    "# chose 'cubehelix' because it is sequential, and round is a continuous process\n",
    "# each color value is a tuple of three values: (R, G, B)\n",
    "print(metadata.Round.unique())\n",
    "\n",
    "sb.palplot(sb.color_palette(round_color_values))\n",
    "\n",
    "## TO-DO: write what these parameters mean"
   ]
  },
  {
   "cell_type": "markdown",
   "metadata": {},
   "source": [
    "Store in a dictionary"
   ]
  },
  {
   "cell_type": "code",
   "execution_count": 108,
   "metadata": {},
   "outputs": [],
   "source": [
    "round_color_dict = dict(zip(metadata.Round.unique(), round_color_values))\n",
    "\n",
    "for k,v in round_color_dict.items():\n",
    "    round_color_dict[k] = np.float64(v)"
   ]
  },
  {
   "cell_type": "markdown",
   "metadata": {},
   "source": [
    "#### Sample colors"
   ]
  },
  {
   "cell_type": "markdown",
   "metadata": {},
   "source": [
    "Sample colors - want colors that are neither sequential nor categorical. Categorical would be ideal if we could generate an arbitrary number of colors, but I do not think that we can. Hense, we will choose `n` colors from a continuous palette. First we will generate the right number of colors. Later, we will assign TMA samples to gray."
   ]
  },
  {
   "cell_type": "code",
   "execution_count": 109,
   "metadata": {},
   "outputs": [
    {
     "data": {
      "image/png": "[encoded data removed]",
      "text/plain": [
       "<Figure size 504x72 with 1 Axes>"
      ]
     },
     "metadata": {
      "needs_background": "light"
     },
     "output_type": "display_data"
    }
   ],
   "source": [
    "# Get those unique colors\n",
    "color_values = sb.color_palette(\"husl\",n_colors = len(ls_samples))#'HLS'\n",
    "# each color value is a tuple of three values: (R, G, B)\n",
    "\n",
    "# Display those unique colors\n",
    "sb.palplot(sb.color_palette(color_values))"
   ]
  },
  {
   "cell_type": "code",
   "execution_count": 110,
   "metadata": {},
   "outputs": [],
   "source": [
    "#sb.palplot((.5,.5,.5))"
   ]
  },
  {
   "cell_type": "markdown",
   "metadata": {},
   "source": [
    "Generate enough gray shades for all TMA samples in dataset."
   ]
  },
  {
   "cell_type": "code",
   "execution_count": 111,
   "metadata": {},
   "outputs": [
    {
     "data": {
      "image/png": "[encoded data removed]",
      "text/plain": [
       "<Figure size 72x72 with 1 Axes>"
      ]
     },
     "metadata": {
      "needs_background": "light"
     },
     "output_type": "display_data"
    }
   ],
   "source": [
    "# Get list of all TMA samples\n",
    "# by looking for substring 'TMA' in all unique Sample_ID values\n",
    "TMA_samples = [s for s in df.Sample_ID.unique() if 'TMA' in s]\n",
    "\n",
    "# Now make a list of unique gray shades,\n",
    "# whose length equals the length of the list above\n",
    "TMA_color_values = sb.color_palette(n_colors = len(TMA_samples),palette = \"gray\")\n",
    "\n",
    "# Show the gray color(s) to the user\n",
    "sb.palplot(sb.color_palette(TMA_color_values))"
   ]
  },
  {
   "cell_type": "markdown",
   "metadata": {},
   "source": [
    "#### Store in a dictionary"
   ]
  },
  {
   "cell_type": "code",
   "execution_count": 112,
   "metadata": {},
   "outputs": [],
   "source": [
    "# Now we will create a dictionary to hold this information\n",
    "# Here we are mapping the unique Sample_ID values in df\n",
    "# (note that sorted() ensures they are in alphabetical\n",
    "# order) with the color_values list we derived above.\n",
    "# This list does NOT have our TMA gray(s) in it.\n",
    "# After we associate the two groups of items together\n",
    "# with zip, we turn it into a dictonary: key = Sample_ID,\n",
    "# value = color for that Sample_ID\n",
    "sample_color_dict = dict(zip(\n",
    "    sorted(df.Sample_ID.unique()), color_values\n",
    "            ))\n",
    "\n",
    "# Edit our dictioanry\n",
    "# Replace all TMA samples' colors with gray by\n",
    "# iterating through all keys in sorted order\n",
    "# and replacing the color with a gray one. We are\n",
    "# moving through our list of gray colors using our\n",
    "# index 'i', so that each TMA gets a different gray.\n",
    "i = 0\n",
    "for key in sorted(sample_color_dict.keys()):\n",
    "    if 'TMA' in key:\n",
    "        sample_color_dict[key] = TMA_color_values[i]\n",
    "        i +=1"
   ]
  },
  {
   "cell_type": "code",
   "execution_count": 113,
   "metadata": {},
   "outputs": [
    {
     "data": {
      "text/plain": [
       "{'GZ10.1': (0.9677975592919913, 0.44127456009157356, 0.5358103155058701),\n",
       " 'GZ10.2': (0.775731904186273, 0.5784925270759935, 0.19475566538551872),\n",
       " 'GZ10.3': (0.5105309046900421, 0.6614299289084904, 0.1930849118538962),\n",
       " 'GZ6': (0.20433460114757862, 0.6863857739476534, 0.5407103379425205),\n",
       " 'GZ7.1': (0.21662978923073606, 0.6676586160122123, 0.7318695594345369),\n",
       " 'GZ7.2': (0.5049017849530067, 0.5909119231215284, 0.9584657252128558),\n",
       " 'TMA': (0.5019607843137255, 0.5019607843137255, 0.5019607843137255)}"
      ]
     },
     "execution_count": 113,
     "metadata": {},
     "output_type": "execute_result"
    }
   ],
   "source": [
    "sample_color_dict"
   ]
  },
  {
   "cell_type": "markdown",
   "metadata": {},
   "source": [
    "Look at the (r,g,b) values of the colors above. Any TMA sample should have r ~= g ~= b."
   ]
  },
  {
   "cell_type": "markdown",
   "metadata": {},
   "source": [
    "Display the colors:"
   ]
  },
  {
   "cell_type": "code",
   "execution_count": 114,
   "metadata": {},
   "outputs": [
    {
     "name": "stdout",
     "output_type": "stream",
     "text": [
      "Our samples and corresponding colors are:\n",
      "['GZ10.1', 'GZ10.2', 'GZ10.3', 'GZ6', 'GZ7.1', 'GZ7.2', 'TMA']\n"
     ]
    },
    {
     "data": {
      "image/png": "[encoded data removed]",
      "text/plain": [
       "<Figure size 504x72 with 1 Axes>"
      ]
     },
     "metadata": {
      "needs_background": "light"
     },
     "output_type": "display_data"
    }
   ],
   "source": [
    "print(\"Our samples and corresponding colors are:\")\n",
    "print([key for key in sorted(sample_color_dict.keys())])\n",
    "sb.palplot(sb.color_palette([sample_color_dict[key] for key in sorted(sample_color_dict.keys())]))"
   ]
  },
  {
   "cell_type": "markdown",
   "metadata": {},
   "source": [
    "### Save color information (mapping and legend) to metadata directory"
   ]
  },
  {
   "cell_type": "code",
   "execution_count": 115,
   "metadata": {},
   "outputs": [
    {
     "data": {
      "text/html": [
       "<div>\n",
       "<style scoped>\n",
       "    .dataframe tbody tr th:only-of-type {\n",
       "        vertical-align: middle;\n",
       "    }\n",
       "\n",
       "    .dataframe tbody tr th {\n",
       "        vertical-align: top;\n",
       "    }\n",
       "\n",
       "    .dataframe thead th {\n",
       "        text-align: right;\n",
       "    }\n",
       "</style>\n",
       "<table border=\"1\" class=\"dataframe\">\n",
       "  <thead>\n",
       "    <tr style=\"text-align: right;\">\n",
       "      <th></th>\n",
       "      <th>Round</th>\n",
       "      <th>Target</th>\n",
       "      <th>Exp</th>\n",
       "      <th>Channel</th>\n",
       "      <th>target_lower</th>\n",
       "      <th>full_column</th>\n",
       "      <th>marker</th>\n",
       "      <th>location</th>\n",
       "    </tr>\n",
       "  </thead>\n",
       "  <tbody>\n",
       "    <tr>\n",
       "      <th>0</th>\n",
       "      <td>R0</td>\n",
       "      <td>AF488</td>\n",
       "      <td>300</td>\n",
       "      <td>c2</td>\n",
       "      <td>af488</td>\n",
       "      <td>AF488_Cell_Intensity_Average</td>\n",
       "      <td>AF488</td>\n",
       "      <td>cell</td>\n",
       "    </tr>\n",
       "    <tr>\n",
       "      <th>1</th>\n",
       "      <td>R0</td>\n",
       "      <td>AF555</td>\n",
       "      <td>1500</td>\n",
       "      <td>c3</td>\n",
       "      <td>af555</td>\n",
       "      <td>AF555_Cell_Intensity_Average</td>\n",
       "      <td>AF555</td>\n",
       "      <td>cell</td>\n",
       "    </tr>\n",
       "    <tr>\n",
       "      <th>2</th>\n",
       "      <td>R0</td>\n",
       "      <td>AF647</td>\n",
       "      <td>1500</td>\n",
       "      <td>c4</td>\n",
       "      <td>af647</td>\n",
       "      <td>AF647_Cell_Intensity_Average</td>\n",
       "      <td>AF647</td>\n",
       "      <td>cell</td>\n",
       "    </tr>\n",
       "    <tr>\n",
       "      <th>3</th>\n",
       "      <td>R0</td>\n",
       "      <td>AF750</td>\n",
       "      <td>1500</td>\n",
       "      <td>c5</td>\n",
       "      <td>af750</td>\n",
       "      <td>AF750_Cell_Intensity_Average</td>\n",
       "      <td>AF750</td>\n",
       "      <td>cell</td>\n",
       "    </tr>\n",
       "    <tr>\n",
       "      <th>4</th>\n",
       "      <td>R1</td>\n",
       "      <td>H3K27me3</td>\n",
       "      <td>200</td>\n",
       "      <td>c2</td>\n",
       "      <td>h3k27me3</td>\n",
       "      <td>H3K27me3_Cell_Intensity_Average</td>\n",
       "      <td>H3K27me3</td>\n",
       "      <td>cell</td>\n",
       "    </tr>\n",
       "  </tbody>\n",
       "</table>\n",
       "</div>"
      ],
      "text/plain": [
       "  Round    Target   Exp Channel target_lower                      full_column  \\\n",
       "0    R0     AF488   300      c2        af488     AF488_Cell_Intensity_Average   \n",
       "1    R0     AF555  1500      c3        af555     AF555_Cell_Intensity_Average   \n",
       "2    R0     AF647  1500      c4        af647     AF647_Cell_Intensity_Average   \n",
       "3    R0     AF750  1500      c5        af750     AF750_Cell_Intensity_Average   \n",
       "4    R1  H3K27me3   200      c2     h3k27me3  H3K27me3_Cell_Intensity_Average   \n",
       "\n",
       "     marker location  \n",
       "0     AF488     cell  \n",
       "1     AF555     cell  \n",
       "2     AF647     cell  \n",
       "3     AF750     cell  \n",
       "4  H3K27me3     cell  "
      ]
     },
     "execution_count": 115,
     "metadata": {},
     "output_type": "execute_result"
    }
   ],
   "source": [
    "# let's look at the metadata again...\n",
    "metadata.head()\n"
   ]
  },
  {
   "cell_type": "markdown",
   "metadata": {},
   "source": [
    "Add in the color information in both RGB (range 0-1) and hex values, for use in visualizations"
   ]
  },
  {
   "cell_type": "code",
   "execution_count": 116,
   "metadata": {},
   "outputs": [],
   "source": [
    "metadata['round_color'] = metadata.apply(lambda row: round_color_dict[row['Round']], axis = 1)\n",
    "metadata['channel_color'] = metadata.apply(lambda row: channel_color_dict[row['Channel']], axis = 1)"
   ]
  },
  {
   "cell_type": "markdown",
   "metadata": {},
   "source": [
    "def color_dict_to_df(cd, column_name):\n",
    "    df = pd.DataFrame.from_dict(cd, orient = 'index')\n",
    "    df['rgb'] = df.apply(lambda row: (np.float64(row[0]), np.float(row[1]), np.float64(row[2])), axis = 1)\n",
    "    df = df.drop(columns = [0,1,2])\n",
    "    df['hex'] = df.apply(lambda row: mplc.to_hex(row['rgb']), axis = 1)\n",
    "    df[column_name] = df.index\n",
    "    return df"
   ]
  },
  {
   "cell_type": "markdown",
   "metadata": {},
   "source": [
    "Sample"
   ]
  },
  {
   "cell_type": "code",
   "execution_count": 117,
   "metadata": {},
   "outputs": [],
   "source": [
    "# Create dataframe\n",
    "color_df = color_dict_to_df(sample_color_dict, \"Sample_ID\")\n",
    "color_df.head()\n",
    "\n",
    "# Save to file in metadatadirectory\n",
    "filename = \"sample_color_data.csv\"\n",
    "filename = os.path.join(metadata_dir, filename)\n",
    "color_df.to_csv(filename, index = False)"
   ]
  },
  {
   "cell_type": "code",
   "execution_count": 118,
   "metadata": {},
   "outputs": [
    {
     "data": {
      "image/png": "[encoded data removed]",
      "text/plain": [
       "<Figure size 72x72 with 1 Axes>"
      ]
     },
     "metadata": {
      "needs_background": "light"
     },
     "output_type": "display_data"
    }
   ],
   "source": [
    "# Legend of sample info only\n",
    "\n",
    "g  = plt.figure(figsize = (1,1)).add_subplot(111)\n",
    "g.axis('off')\n",
    "handles = []\n",
    "for item in sample_color_dict.keys():\n",
    "        h = g.bar(0,0, color = sample_color_dict[item],\n",
    "                  label = item, linewidth =0)\n",
    "        handles.append(h)\n",
    "first_legend = plt.legend(handles=handles, loc='upper right', title = 'Sample'),\n",
    "                            # bbox_to_anchor=(10,10), \n",
    "                             #       bbox_transform=plt.gcf().transFigure)\n",
    "\n",
    "filename = \"Sample_legend.png\"\n",
    "filename = os.path.join(metadata_images_dir, filename)\n",
    "plt.savefig(filename, bbox_inches = 'tight')"
   ]
  },
  {
   "cell_type": "markdown",
   "metadata": {},
   "source": [
    "Channel"
   ]
  },
  {
   "cell_type": "code",
   "execution_count": 119,
   "metadata": {},
   "outputs": [],
   "source": [
    "# Create dataframe\n",
    "color_df = color_dict_to_df(channel_color_dict, \"Channel\")\n",
    "color_df.head()\n",
    "\n",
    "# Save to file in metadatadirectory\n",
    "filename = \"channel_color_data.csv\"\n",
    "filename = os.path.join(metadata_dir, filename)\n",
    "color_df.to_csv(filename, index = False)"
   ]
  },
  {
   "cell_type": "code",
   "execution_count": 120,
   "metadata": {},
   "outputs": [
    {
     "data": {
      "image/png": "[encoded data removed]",
      "text/plain": [
       "<Figure size 72x72 with 1 Axes>"
      ]
     },
     "metadata": {
      "needs_background": "light"
     },
     "output_type": "display_data"
    }
   ],
   "source": [
    "# Legend of channel info only\n",
    "\n",
    "g  = plt.figure(figsize = (1,1)).add_subplot(111)\n",
    "g.axis('off')\n",
    "handles = []\n",
    "for item in sorted(channel_color_dict.keys()):\n",
    "        h = g.bar(0,0, color = channel_color_dict[item],\n",
    "                  label = item, linewidth =0)\n",
    "        handles.append(h)\n",
    "first_legend = plt.legend(handles=handles, loc='upper right', title = 'Channel'),\n",
    "                            # bbox_to_anchor=(10,10), \n",
    "                             #       bbox_transform=plt.gcf().transFigure)\n",
    "\n",
    "filename = \"Channel_legend.png\"\n",
    "filename = os.path.join(metadata_images_dir, filename)\n",
    "plt.savefig(filename, bbox_inches = 'tight')"
   ]
  },
  {
   "cell_type": "markdown",
   "metadata": {},
   "source": [
    "Round"
   ]
  },
  {
   "cell_type": "code",
   "execution_count": 121,
   "metadata": {},
   "outputs": [],
   "source": [
    "# Create dataframe\n",
    "color_df = color_dict_to_df(round_color_dict, \"Round\")\n",
    "color_df.head()\n",
    "\n",
    "# Save to file in metadatadirectory\n",
    "filename = \"round_color_data.csv\"\n",
    "filename = os.path.join(metadata_dir, filename)\n",
    "color_df.to_csv(filename, index = False)"
   ]
  },
  {
   "cell_type": "code",
   "execution_count": 122,
   "metadata": {},
   "outputs": [
    {
     "data": {
      "image/png": "[encoded data removed]",
      "text/plain": [
       "<Figure size 72x72 with 1 Axes>"
      ]
     },
     "metadata": {
      "needs_background": "light"
     },
     "output_type": "display_data"
    }
   ],
   "source": [
    "# Legend of round info only\n",
    "\n",
    "round_legend  = plt.figure(figsize = (1,1)).add_subplot(111)\n",
    "round_legend.axis('off')\n",
    "handles = []\n",
    "for item in round_color_dict.keys():\n",
    "        h = round_legend.bar(0,0, color = round_color_dict[item],\n",
    "                  label = item, linewidth =0)\n",
    "        handles.append(h)\n",
    "first_legend = plt.legend(handles=handles, loc='upper right', title = 'Round'),\n",
    "                            # bbox_to_anchor=(10,10), \n",
    "                             #       bbox_transform=plt.gcf().transFigure)\n",
    "\n",
    "filename = \"Round_legend.png\"\n",
    "filename = os.path.join(metadata_images_dir, filename)\n",
    "plt.savefig(filename, bbox_inches = 'tight')"
   ]
  },
  {
   "cell_type": "markdown",
   "metadata": {},
   "source": [
    "## Initial heatmap"
   ]
  },
  {
   "cell_type": "markdown",
   "metadata": {},
   "source": [
    "We will only be plotting ~10k cells in the interest of time/computing resources. We want these 10k lines in our original df to be sampled randomly, without replacement, with the caveat that the proportions of all samples in the data remains the same in this subset. If the size of the dataframe is > 10k rows, then we will proceed with the entire dataset."
   ]
  },
  {
   "cell_type": "code",
   "execution_count": 123,
   "metadata": {},
   "outputs": [],
   "source": [
    "heatmap_row_count = min(10000, df.shape[0])"
   ]
  },
  {
   "cell_type": "code",
   "execution_count": 155,
   "metadata": {},
   "outputs": [
    {
     "data": {
      "text/html": [
       "<div>\n",
       "<style scoped>\n",
       "    .dataframe tbody tr th:only-of-type {\n",
       "        vertical-align: middle;\n",
       "    }\n",
       "\n",
       "    .dataframe tbody tr th {\n",
       "        vertical-align: top;\n",
       "    }\n",
       "\n",
       "    .dataframe thead th {\n",
       "        text-align: right;\n",
       "    }\n",
       "</style>\n",
       "<table border=\"1\" class=\"dataframe\">\n",
       "  <thead>\n",
       "    <tr style=\"text-align: right;\">\n",
       "      <th></th>\n",
       "      <th>current_row_count</th>\n",
       "      <th>prop</th>\n",
       "      <th>desired_row_count</th>\n",
       "    </tr>\n",
       "  </thead>\n",
       "  <tbody>\n",
       "    <tr>\n",
       "      <th>GZ10.1</th>\n",
       "      <td>3976</td>\n",
       "      <td>0.010011</td>\n",
       "      <td>1429</td>\n",
       "    </tr>\n",
       "    <tr>\n",
       "      <th>GZ10.2</th>\n",
       "      <td>3773</td>\n",
       "      <td>0.009500</td>\n",
       "      <td>1429</td>\n",
       "    </tr>\n",
       "    <tr>\n",
       "      <th>GZ10.3</th>\n",
       "      <td>9597</td>\n",
       "      <td>0.024164</td>\n",
       "      <td>1429</td>\n",
       "    </tr>\n",
       "    <tr>\n",
       "      <th>GZ6</th>\n",
       "      <td>61409</td>\n",
       "      <td>0.154621</td>\n",
       "      <td>1429</td>\n",
       "    </tr>\n",
       "    <tr>\n",
       "      <th>GZ7.1</th>\n",
       "      <td>19788</td>\n",
       "      <td>0.049824</td>\n",
       "      <td>1429</td>\n",
       "    </tr>\n",
       "    <tr>\n",
       "      <th>GZ7.2</th>\n",
       "      <td>155181</td>\n",
       "      <td>0.390729</td>\n",
       "      <td>1429</td>\n",
       "    </tr>\n",
       "    <tr>\n",
       "      <th>TMA</th>\n",
       "      <td>143434</td>\n",
       "      <td>0.361151</td>\n",
       "      <td>1429</td>\n",
       "    </tr>\n",
       "  </tbody>\n",
       "</table>\n",
       "</div>"
      ],
      "text/plain": [
       "        current_row_count      prop  desired_row_count\n",
       "GZ10.1               3976  0.010011               1429\n",
       "GZ10.2               3773  0.009500               1429\n",
       "GZ10.3               9597  0.024164               1429\n",
       "GZ6                 61409  0.154621               1429\n",
       "GZ7.1               19788  0.049824               1429\n",
       "GZ7.2              155181  0.390729               1429\n",
       "TMA                143434  0.361151               1429"
      ]
     },
     "execution_count": 155,
     "metadata": {},
     "output_type": "execute_result"
    }
   ],
   "source": [
    "# Create df of each feature type, its proportion in the full df,\n",
    "# and the number of rows we want for a sum of heatmap_row_count rows\n",
    "counts_for_heatmap = create_equal_value_counts(df, 'Sample_ID',heatmap_row_count)\n",
    "counts_for_heatmap"
   ]
  },
  {
   "cell_type": "code",
   "execution_count": 156,
   "metadata": {},
   "outputs": [],
   "source": [
    "# Create new df to hold our heatmap data\n",
    "heatmap_data = pd.DataFrame(columns = df.columns)\n",
    "\n",
    "# populate the df\n",
    "for sample in df.Sample_ID.unique():\n",
    "    a = counts_for_heatmap.loc[counts_for_heatmap.index == sample,'current_row_count'].values[0]\n",
    "    size = counts_for_heatmap.loc[counts_for_heatmap.index == sample,'desired_row_count'].values[0]\n",
    "    random_rows = np.random.choice(a = a, size = size, replace = False)\n",
    "    df_sample = df.loc[df['Sample_ID'] == sample,:]\n",
    "    heatmap_data = heatmap_data.append(df_sample.iloc[random_rows,:])\n",
    "    #random_rows = np.random.choice(heatmap_samples.loc[sample,values])\n",
    "    #heatmap_data = heatmap_data.append()"
   ]
  },
  {
   "cell_type": "code",
   "execution_count": 157,
   "metadata": {},
   "outputs": [
    {
     "data": {
      "text/html": [
       "<div>\n",
       "<style scoped>\n",
       "    .dataframe tbody tr th:only-of-type {\n",
       "        vertical-align: middle;\n",
       "    }\n",
       "\n",
       "    .dataframe tbody tr th {\n",
       "        vertical-align: top;\n",
       "    }\n",
       "\n",
       "    .dataframe thead th {\n",
       "        text-align: right;\n",
       "    }\n",
       "</style>\n",
       "<table border=\"1\" class=\"dataframe\">\n",
       "  <thead>\n",
       "    <tr style=\"text-align: right;\">\n",
       "      <th></th>\n",
       "      <th>current_row_count</th>\n",
       "      <th>prop</th>\n",
       "      <th>desired_row_count</th>\n",
       "    </tr>\n",
       "  </thead>\n",
       "  <tbody>\n",
       "    <tr>\n",
       "      <th>GZ10.1</th>\n",
       "      <td>1429</td>\n",
       "      <td>0.142857</td>\n",
       "      <td>1429</td>\n",
       "    </tr>\n",
       "    <tr>\n",
       "      <th>GZ10.2</th>\n",
       "      <td>1429</td>\n",
       "      <td>0.142857</td>\n",
       "      <td>1429</td>\n",
       "    </tr>\n",
       "    <tr>\n",
       "      <th>GZ10.3</th>\n",
       "      <td>1429</td>\n",
       "      <td>0.142857</td>\n",
       "      <td>1429</td>\n",
       "    </tr>\n",
       "    <tr>\n",
       "      <th>GZ6</th>\n",
       "      <td>1429</td>\n",
       "      <td>0.142857</td>\n",
       "      <td>1429</td>\n",
       "    </tr>\n",
       "    <tr>\n",
       "      <th>GZ7.1</th>\n",
       "      <td>1429</td>\n",
       "      <td>0.142857</td>\n",
       "      <td>1429</td>\n",
       "    </tr>\n",
       "    <tr>\n",
       "      <th>GZ7.2</th>\n",
       "      <td>1429</td>\n",
       "      <td>0.142857</td>\n",
       "      <td>1429</td>\n",
       "    </tr>\n",
       "    <tr>\n",
       "      <th>TMA</th>\n",
       "      <td>1429</td>\n",
       "      <td>0.142857</td>\n",
       "      <td>1429</td>\n",
       "    </tr>\n",
       "  </tbody>\n",
       "</table>\n",
       "</div>"
      ],
      "text/plain": [
       "        current_row_count      prop  desired_row_count\n",
       "GZ10.1               1429  0.142857               1429\n",
       "GZ10.2               1429  0.142857               1429\n",
       "GZ10.3               1429  0.142857               1429\n",
       "GZ6                  1429  0.142857               1429\n",
       "GZ7.1                1429  0.142857               1429\n",
       "GZ7.2                1429  0.142857               1429\n",
       "TMA                  1429  0.142857               1429"
      ]
     },
     "execution_count": 157,
     "metadata": {},
     "output_type": "execute_result"
    }
   ],
   "source": [
    "## We want to make sure our sampling worked as expected.\n",
    "\n",
    "# In our new dataframe, how many rows do we actually have for each sample?\n",
    "# What is the proportion of each sample's rows of the total dataframe?\n",
    "\n",
    "# Compare this with the 'counts_for_heatmap' above\n",
    "# Note there might be slight differences in 'prop' due to rounding\n",
    "\n",
    "\n",
    "create_equal_value_counts(heatmap_data, 'Sample_ID', heatmap_data.shape[0])"
   ]
  },
  {
   "cell_type": "markdown",
   "metadata": {},
   "source": [
    "Get data structures to map colors to columns and rows..."
   ]
  },
  {
   "cell_type": "code",
   "execution_count": 256,
   "metadata": {},
   "outputs": [
    {
     "data": {
      "text/plain": [
       "GZ7.2_Cell_6771      (0.5049017849530067, 0.5909119231215284, 0.958...\n",
       "GZ7.2_Cell_52885     (0.5049017849530067, 0.5909119231215284, 0.958...\n",
       "GZ7.2_Cell_59038     (0.5049017849530067, 0.5909119231215284, 0.958...\n",
       "GZ7.2_Cell_148895    (0.5049017849530067, 0.5909119231215284, 0.958...\n",
       "Name: Sample_ID, dtype: object"
      ]
     },
     "execution_count": 256,
     "metadata": {},
     "output_type": "execute_result"
    }
   ],
   "source": [
    "row_sample_colors = heatmap_data.Sample_ID.map(sample_color_dict)\n",
    "\n",
    "row_sample_colors[1:5]"
   ]
  },
  {
   "cell_type": "code",
   "execution_count": 257,
   "metadata": {},
   "outputs": [
    {
     "data": {
      "text/plain": [
       "53BP1_Cell_Intensity_Average    (0.25098039215686274, 0.8784313725490196, 0.81...\n",
       "AF488_Cell_Intensity_Average                       (0.0, 0.5019607843137255, 0.0)\n",
       "AF555_Cell_Intensity_Average                                      (1.0, 0.0, 0.0)\n",
       "AF647_Cell_Intensity_Average                       (1.0, 0.6470588235294118, 0.0)\n",
       "AF750_Cell_Intensity_Average    (0.25098039215686274, 0.8784313725490196, 0.81...\n",
       "Name: Channel, dtype: object"
      ]
     },
     "execution_count": 257,
     "metadata": {},
     "output_type": "execute_result"
    }
   ],
   "source": [
    "column_channel_colors = pd.merge(pd.DataFrame(pd.Series(\n",
    "    heatmap_data.loc[:,~heatmap_data.columns.isin(not_intensities)].columns.values)), \n",
    "                  metadata, how = 'left',\n",
    "         left_on = 0, right_on = 'full_column')[[0,'Channel']]['Channel'].map(channel_color_dict)\n",
    "\n",
    "\n",
    "column_channel_colors.index = heatmap_data.loc[:,~heatmap_data.columns.isin(not_intensities)].columns.values\n",
    "\n",
    "column_channel_colors.head()"
   ]
  },
  {
   "cell_type": "code",
   "execution_count": 258,
   "metadata": {},
   "outputs": [
    {
     "data": {
      "text/plain": [
       "53BP1_Cell_Intensity_Average    [0.3736023974468758, 0.214424058315835, 0.3978...\n",
       "AF488_Cell_Intensity_Average    [0.28685356234627135, 0.13009829239513535, 0.2...\n",
       "AF555_Cell_Intensity_Average    [0.28685356234627135, 0.13009829239513535, 0.2...\n",
       "AF647_Cell_Intensity_Average    [0.28685356234627135, 0.13009829239513535, 0.2...\n",
       "AF750_Cell_Intensity_Average    [0.28685356234627135, 0.13009829239513535, 0.2...\n",
       "Name: Round, dtype: object"
      ]
     },
     "execution_count": 258,
     "metadata": {},
     "output_type": "execute_result"
    }
   ],
   "source": [
    "column_round_colors = pd.merge(pd.DataFrame(pd.Series(\n",
    "    heatmap_data.loc[:,~heatmap_data.columns.isin(not_intensities)].columns.values)), \n",
    "                  metadata, how = 'left',\n",
    "         left_on = 0, right_on = 'full_column')[[0,'Round']]['Round'].map(round_color_dict)\n",
    "\n",
    "\n",
    "column_round_colors.index = heatmap_data.loc[:,~heatmap_data.columns.isin(not_intensities)].columns.values\n",
    "\n",
    "column_round_colors.head()"
   ]
  },
  {
   "cell_type": "code",
   "execution_count": 259,
   "metadata": {},
   "outputs": [],
   "source": [
    "# Create data structure to hold everything we need for row/column annotations\n",
    "# annotations is a dictionary\n",
    "## IMPORTANT - if you use 'annotations', it MUST have both 'rows' and 'cols'\n",
    "## objects inside. These can be empty lists, but they must be there!\n",
    "annotations = {}\n",
    "\n",
    "# create a data structure to hold everything we need for only row annotations\n",
    "# row_annotations is a list, where each item therein is a dictioary corresponding\n",
    "# to all of the data pertaining to that particular annotation\n",
    "# Adding each item (e.g., Sample, then Cluster), one at a time to ensure ordering\n",
    "# is as anticipated on figure\n",
    "row_annotations = []\n",
    "row_annotations.append({'label':'Sample','type':'row','mapping':row_sample_colors,'dict':sample_color_dict,\n",
    "                        'location':'center left','bbox_to_anchor':(0, 0.5)})\n",
    "# Add all row information into the annotations dictionary\n",
    "annotations['rows'] = row_annotations\n",
    "\n",
    "\n",
    "# Now we repeat the process for column annotations\n",
    "col_annotations = []\n",
    "col_annotations.append({'label':'Round','type':'column','mapping':column_round_colors,'dict':round_color_dict,\n",
    "                       'location':'upper right','bbox_to_anchor':(1,0.50)})\n",
    "\n",
    "col_annotations.append({'label':'Column','type':'column','mapping':column_channel_colors,'dict':channel_color_dict,\n",
    "                       'location':'upper right','bbox_to_anchor':(1,0.75)})\n",
    "annotations['cols'] = col_annotations"
   ]
  },
  {
   "cell_type": "markdown",
   "metadata": {},
   "source": [
    "#### Actually plot the heatmap"
   ]
  },
  {
   "cell_type": "code",
   "execution_count": 260,
   "metadata": {},
   "outputs": [
    {
     "data": {
      "image/png": "[encoded data removed]",
      "text/plain": [
       "<Figure size 2880x2160 with 6 Axes>"
      ]
     },
     "metadata": {},
     "output_type": "display_data"
    }
   ],
   "source": [
    "heatmap_function(data = heatmap_data.loc[:,~heatmap_data.columns.isin(not_intensities)],\n",
    "    title = \"Initial dataframe\",\n",
    "               # define method, metric, and color map\n",
    "          method = 'ward', metric = 'euclidean',cmap = 'coolwarm',\n",
    "               # colorbar (legend coloring of main plot) \n",
    "               cbar_kws = {'label':'Intens.'},\n",
    "               # xticklabels - want to have the nicknames instead of full names\n",
    "    xticklabels = [full_to_short_names[name] for name in \n",
    "                     heatmap_data.loc[:,\n",
    "                                 ~heatmap_data.columns.isin(not_intensities)].columns.values],\n",
    "                 save_loc = output_images_dir,\n",
    "                 row_cluster = True, col_cluster = True,\n",
    "                    annotations = annotations\n",
    "          )"
   ]
  },
  {
   "cell_type": "markdown",
   "metadata": {},
   "source": [
    "### Bar plot of count of all cells in all samples - no filtering yet"
   ]
  },
  {
   "cell_type": "code",
   "execution_count": 262,
   "metadata": {},
   "outputs": [
    {
     "data": {
      "text/html": [
       "<div>\n",
       "<style scoped>\n",
       "    .dataframe tbody tr th:only-of-type {\n",
       "        vertical-align: middle;\n",
       "    }\n",
       "\n",
       "    .dataframe tbody tr th {\n",
       "        vertical-align: top;\n",
       "    }\n",
       "\n",
       "    .dataframe thead th {\n",
       "        text-align: right;\n",
       "    }\n",
       "</style>\n",
       "<table border=\"1\" class=\"dataframe\">\n",
       "  <thead>\n",
       "    <tr style=\"text-align: right;\">\n",
       "      <th></th>\n",
       "      <th>counts</th>\n",
       "      <th>Sample_ID</th>\n",
       "      <th>color</th>\n",
       "    </tr>\n",
       "  </thead>\n",
       "  <tbody>\n",
       "    <tr>\n",
       "      <th>GZ10.1</th>\n",
       "      <td>3976</td>\n",
       "      <td>GZ10.1</td>\n",
       "      <td>(0.9677975592919913, 0.44127456009157356, 0.53...</td>\n",
       "    </tr>\n",
       "    <tr>\n",
       "      <th>GZ10.2</th>\n",
       "      <td>3773</td>\n",
       "      <td>GZ10.2</td>\n",
       "      <td>(0.775731904186273, 0.5784925270759935, 0.1947...</td>\n",
       "    </tr>\n",
       "    <tr>\n",
       "      <th>GZ10.3</th>\n",
       "      <td>9597</td>\n",
       "      <td>GZ10.3</td>\n",
       "      <td>(0.5105309046900421, 0.6614299289084904, 0.193...</td>\n",
       "    </tr>\n",
       "    <tr>\n",
       "      <th>GZ6</th>\n",
       "      <td>61409</td>\n",
       "      <td>GZ6</td>\n",
       "      <td>(0.20433460114757862, 0.6863857739476534, 0.54...</td>\n",
       "    </tr>\n",
       "    <tr>\n",
       "      <th>GZ7.1</th>\n",
       "      <td>19788</td>\n",
       "      <td>GZ7.1</td>\n",
       "      <td>(0.21662978923073606, 0.6676586160122123, 0.73...</td>\n",
       "    </tr>\n",
       "  </tbody>\n",
       "</table>\n",
       "</div>"
      ],
      "text/plain": [
       "        counts Sample_ID                                              color\n",
       "GZ10.1    3976    GZ10.1  (0.9677975592919913, 0.44127456009157356, 0.53...\n",
       "GZ10.2    3773    GZ10.2  (0.775731904186273, 0.5784925270759935, 0.1947...\n",
       "GZ10.3    9597    GZ10.3  (0.5105309046900421, 0.6614299289084904, 0.193...\n",
       "GZ6      61409       GZ6  (0.20433460114757862, 0.6863857739476534, 0.54...\n",
       "GZ7.1    19788     GZ7.1  (0.21662978923073606, 0.6676586160122123, 0.73..."
      ]
     },
     "execution_count": 262,
     "metadata": {},
     "output_type": "execute_result"
    }
   ],
   "source": [
    "# Get counts for each Sample_ID, sorted by Sample_ID\n",
    "counts = pd.DataFrame(df.Sample_ID.value_counts()).sort_index()\n",
    "counts = counts.rename(columns = {'Sample_ID':'counts'})\n",
    "counts['Sample_ID'] = counts.index\n",
    "counts['color'] = counts.apply(lambda row: sample_color_dict[row['Sample_ID']], axis = 1)\n",
    "counts.head()"
   ]
  },
  {
   "cell_type": "code",
   "execution_count": 263,
   "metadata": {},
   "outputs": [
    {
     "data": {
      "text/plain": [
       "['GZ7.2', 'TMA', 'GZ10.3', 'GZ7.1', 'GZ10.2', 'GZ10.1', 'GZ6']"
      ]
     },
     "execution_count": 263,
     "metadata": {},
     "output_type": "execute_result"
    }
   ],
   "source": [
    "ls_samples"
   ]
  },
  {
   "cell_type": "code",
   "execution_count": 265,
   "metadata": {},
   "outputs": [],
   "source": [
    "# By sample ID only\n",
    "\n",
    "fig = go.Figure()\n",
    "title = 'Initial Cell counts by Sample ID'\n",
    "\n",
    "# Changing the ordering of the bars is a easy as iterating through a list\n",
    "# with the samples in a different order! For example, this order below:\n",
    "#for sample in ['TMA', 'GZ7.2', 'GZ10.3', 'GZ7.1', 'GZ10.2', 'GZ10.1', 'GZ6']:\n",
    "for sample in ls_samples:\n",
    "    fig.add_trace(go.Bar(\n",
    "        x=counts.loc[counts['Sample_ID']==sample,'Sample_ID'], \n",
    "        y = counts.loc[counts['Sample_ID']==sample,'counts'],\n",
    "        text = counts.loc[counts['Sample_ID']==sample,'counts'], \n",
    "        textposition='outside',\n",
    "        marker=dict(\n",
    "            color='rgb' + str(sample_color_dict[sample])),\n",
    "            showlegend = False\n",
    "        \n",
    "    ))\n",
    "    \n",
    "    \n",
    "fig.update_layout(title = title, plot_bgcolor = 'white')\n",
    "fig.update_xaxes(title_text = \"Sample ID\", linecolor = 'black')\n",
    "fig.update_yaxes(title_text = \"Cell count\", linecolor = 'black')\n",
    "\n",
    "#plot(fig)\n",
    "filename = os.path.join(output_images_dir, title.replace(\" \",\"_\") + \".png\")\n",
    "fig.write_image(filename)\n"
   ]
  },
  {
   "cell_type": "code",
   "execution_count": 267,
   "metadata": {},
   "outputs": [],
   "source": [
    "## for PCA\n",
    "filename = \"weewin_PCA_test.csv\"\n",
    "filename = \"repro_PCA_test.csv\"\n",
    "filename = \"gz_PCA_test.csv\"\n",
    "#df.to_csv(filename, index = False)\n",
    "#os.getcwd()"
   ]
  },
  {
   "cell_type": "markdown",
   "metadata": {},
   "source": [
    "### Drop any other rows or columns we want to before saving data"
   ]
  },
  {
   "cell_type": "code",
   "execution_count": 268,
   "metadata": {},
   "outputs": [
    {
     "data": {
      "text/plain": [
       "array(['Nuc_X_Inv', 'Nuc_Y', 'ROI_index', 'Nuc_Y_Inv', 'Nuc_X',\n",
       "       'Nucleus_Size', 'Sample_ID', 'Cell_Size',\n",
       "       '53BP1_Cell_Intensity_Average', 'AF488_Cell_Intensity_Average',\n",
       "       'AF555_Cell_Intensity_Average', 'AF647_Cell_Intensity_Average',\n",
       "       'AF750_Cell_Intensity_Average', 'AXL_Cell_Intensity_Average',\n",
       "       'CCNA2_Cell_Intensity_Average', 'CCND1_Cell_Intensity_Average',\n",
       "       'CD45_Cell_Intensity_Average', 'CD4_Cell_Intensity_Average',\n",
       "       'CD68_Cell_Intensity_Average', 'CD8_Cell_Intensity_Average',\n",
       "       'EGFR_Cell_Intensity_Average', 'Ecad_Cell_Intensity_Average',\n",
       "       'FOXP3_Cell_Intensity_Average', 'H3K27me3_Cell_Intensity_Average',\n",
       "       'KI67_Cell_Intensity_Average', 'MITF_Cell_Intensity_Average',\n",
       "       'PCNA_Cell_Intensity_Average', 'PDGFR_Cell_Intensity_Average',\n",
       "       'S100_Cell_Intensity_Average', 'Vimentin_Cell_Intensity_Average',\n",
       "       'p4EBP1_Cell_Intensity_Average', 'p75_Cell_Intensity_Average',\n",
       "       'pATM_Cell_Intensity_Average', 'pATR_Cell_Intensity_Average',\n",
       "       'pCHK2_Cell_Intensity_Average', 'pEGFR_Cell_Intensity_Average',\n",
       "       'pGSK3b_Cell_Intensity_Average', 'pH2AX_Cell_Intensity_Average',\n",
       "       'pHH3_Cell_Intensity_Average', 'pS6_Cell_Intensity_Average'],\n",
       "      dtype=object)"
      ]
     },
     "execution_count": 268,
     "metadata": {},
     "output_type": "execute_result"
    }
   ],
   "source": [
    "# Let's take a look\n",
    "df.columns.values"
   ]
  },
  {
   "cell_type": "markdown",
   "metadata": {},
   "source": [
    "For the sake of example, I will operate on a copy of df, called df_copy"
   ]
  },
  {
   "cell_type": "code",
   "execution_count": 269,
   "metadata": {},
   "outputs": [],
   "source": [
    "# You MUST do df.copy()\n",
    "# 'df_copy = df' would essentially \n",
    "# give you two different names for the\n",
    "# SAME dataframe, so operating on one\n",
    "# would also operate on the other\n",
    "df_copy = df.copy()"
   ]
  },
  {
   "cell_type": "markdown",
   "metadata": {},
   "source": [
    "#### Operate on entire rows or columns"
   ]
  },
  {
   "cell_type": "code",
   "execution_count": 270,
   "metadata": {},
   "outputs": [],
   "source": [
    "# Drop columns\n",
    "my_cols = []\n",
    "df_copy = df_copy.drop(columns = my_cols)"
   ]
  },
  {
   "cell_type": "code",
   "execution_count": null,
   "metadata": {},
   "outputs": [],
   "source": [
    "# Keep only specific columns (explained below)\n",
    "my_cols = []\n",
    "my_cols = df.columns.values\n",
    "df_copy = df_copy.loc[:,my_cols]\n"
   ]
  },
  {
   "cell_type": "markdown",
   "metadata": {},
   "source": [
    "#### Operate on rows and columns using filtering criteria"
   ]
  },
  {
   "cell_type": "code",
   "execution_count": null,
   "metadata": {},
   "outputs": [],
   "source": [
    "# Keep only certain rows based off of criteria\n",
    "\n",
    "# use df.loc[] to filter\n",
    "# df.loc[rows,columns]\n",
    "# df.loc[:,certain_cols] --> keep all rows ':', only certain cols\n",
    "# df.loc[certain_rows,:] --> keep only certain row, all cols ':'\n",
    "\n",
    "# Say we only want certain values for Sample_ID\n",
    "print(df_copy.Sample_ID.unique())\n",
    "keep = ['TMA','GZ6']\n",
    "#keep = ['TMA1.1','TMA1.2','TMA1.3','TMA2.1','TMA2.2','TMA2.3']\n",
    "df_copy = df_copy.loc[df_copy['Sample_ID'].isin(keep),:]\n",
    "print(df_copy.Sample_ID.unique())"
   ]
  },
  {
   "cell_type": "code",
   "execution_count": null,
   "metadata": {},
   "outputs": [],
   "source": [
    "# Filter on multiple criteria\n",
    "# '&' or 'and'\n",
    "# '|' or 'or'\n",
    "# you MUST have parentheses around each logic expression!\n",
    "df_copy = df_copy.loc[\n",
    "    (df_copy['Sample_ID'].isin(['TMA1.1','TMA1.2','TMA1.3'])) \\\n",
    "    ## backslash above used to break line for readability, but tell Python to act like it's all one line\n",
    "        | (df_copy['Sample_ID'].isin(['TMA2.1','TMA2.2','TMA2.3'])) , :]\n",
    "print(df_copy.Sample_ID.unique())"
   ]
  },
  {
   "cell_type": "code",
   "execution_count": null,
   "metadata": {},
   "outputs": [],
   "source": [
    "# Remove rows based off of certain criteria\n",
    "# note the negating tilde '~'!\n",
    "\n",
    "df_copy = df_copy.loc[\n",
    "    (~df_copy['Sample_ID'].isin(['TMA1.1','TMA1.2','TMA1.3'])) \\\n",
    "    ## backslash above used to break line for readability, but tell Python to act like it's all one line\n",
    "        & (~df_copy['Sample_ID'].isin(['TMA2.1','TMA2.2','TMA2.3'])),:]\n",
    "print(df_copy.Sample_ID.unique())\n",
    "\n",
    "## include example for cell types: cancer, stroma, immune"
   ]
  },
  {
   "cell_type": "markdown",
   "metadata": {},
   "source": [
    "### Save the data by Sample_ID"
   ]
  },
  {
   "cell_type": "code",
   "execution_count": 271,
   "metadata": {},
   "outputs": [],
   "source": [
    "# Check for existence of output file first\n",
    "for sample in ls_samples:\n",
    "    filename = os.path.join(output_data_dir,  sample + \"_\" + step_suffix + \".csv\")\n",
    "    if os.path.exists(filename):\n",
    "        print(\"File by name \"+filename+\" already exists.\")"
   ]
  },
  {
   "cell_type": "code",
   "execution_count": 273,
   "metadata": {},
   "outputs": [],
   "source": [
    "# Save output files\n",
    "for sample in ls_samples:\n",
    "    df_save = df.loc[df['Sample_ID'] == sample,:]\n",
    "    filename = os.path.join(output_data_dir,  sample + \"_\" + step_suffix + \".csv\")\n",
    "    df_save.to_csv(filename, index = True)\n"
   ]
  },
  {
   "cell_type": "code",
   "execution_count": null,
   "metadata": {},
   "outputs": [],
   "source": []
  }
 ],
 "metadata": {
  "kernelspec": {
   "display_name": "Python 3",
   "language": "python",
   "name": "python3"
  },
  "language_info": {
   "codemirror_mode": {
    "name": "ipython",
    "version": 3
   },
   "file_extension": ".py",
   "mimetype": "text/x-python",
   "name": "python",
   "nbconvert_exporter": "python",
   "pygments_lexer": "ipython3",
   "version": "3.7.3"
  }
 },
 "nbformat": 4,
 "nbformat_minor": 4
}
