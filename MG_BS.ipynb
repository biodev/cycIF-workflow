{
 "cells": [
  {
   "cell_type": "markdown",
   "metadata": {},
   "source": [
    "# Background subtraction notebook\n",
    "\n",
    "By: Megan Grout (groutm@ohsu.edu)\n",
    "\n",
    "Adapted from code written by Dr. Marilyne Labrie and Nick Kendsersky\n",
    "\n",
    "\n",
    "Last updated: 20191216"
   ]
  },
  {
   "cell_type": "markdown",
   "metadata": {},
   "source": [
    "Import external libraries."
   ]
  },
  {
   "cell_type": "code",
   "execution_count": 1,
   "metadata": {},
   "outputs": [
    {
     "data": {
      "text/html": [
       "        <script type=\"text/javascript\">\n",
       "        window.PlotlyConfig = {MathJaxConfig: 'local'};\n",
       "        if (window.MathJax) {MathJax.Hub.Config({SVG: {font: \"STIX-Web\"}});}\n",
       "        if (typeof require !== 'undefined') {\n",
       "        require.undef(\"plotly\");\n",
       "        requirejs.config({\n",
       "            paths: {\n",
       "                'plotly': ['https://cdn.plot.ly/plotly-latest.min']\n",
       "            }\n",
       "        });\n",
       "        require(['plotly'], function(Plotly) {\n",
       "            window._Plotly = Plotly;\n",
       "        });\n",
       "        }\n",
       "        </script>\n",
       "        "
      ]
     },
     "metadata": {},
     "output_type": "display_data"
    }
   ],
   "source": [
    "import os\n",
    "import random\n",
    "import re\n",
    "import pandas as pd\n",
    "import numpy as np\n",
    "import seaborn as sb\n",
    "import matplotlib.pyplot as plt\n",
    "import matplotlib.colors as mplc\n",
    "import subprocess\n",
    "\n",
    "\n",
    "from scipy import signal\n",
    "\n",
    "import plotly.figure_factory as ff\n",
    "import plotly\n",
    "import plotly.graph_objs as go\n",
    "from plotly.offline import download_plotlyjs, init_notebook_mode, plot, iplot \n",
    "import plotly.express as px\n",
    "init_notebook_mode(connected = True)"
   ]
  },
  {
   "cell_type": "markdown",
   "metadata": {},
   "source": [
    "Import function written for this project."
   ]
  },
  {
   "cell_type": "code",
   "execution_count": 2,
   "metadata": {},
   "outputs": [],
   "source": [
    "from cycif_modules import *"
   ]
  },
  {
   "cell_type": "markdown",
   "metadata": {},
   "source": [
    "Define function to change header names. Not encapsutated in `cycif_modules`, so that user can change on the fly as necessary."
   ]
  },
  {
   "cell_type": "code",
   "execution_count": 3,
   "metadata": {},
   "outputs": [],
   "source": [
    "# This may change for each experiment, so I have not sequestered\n",
    "# this code in the cycif_modules.py file\n",
    "\n",
    "# This function takes in a dataframe, changes the names\n",
    "# of the column in various ways, and returns the dataframe.\n",
    "# For best accuracy and generalizability, the code uses\n",
    "# regular expressions (regex) to find strings for replacement.\n",
    "def apply_header_changes(df):\n",
    "    # remove lowercase x at beginning of name\n",
    "    df.columns = df.columns.str.replace(\"^x\",\"\")\n",
    "    # remove space at beginning of name\n",
    "    df.columns = df.columns.str.replace(\"^ \",\"\")\n",
    "    # replace space with underscore\n",
    "    df.columns = df.columns.str.replace(\" \",\"_\")\n",
    "    # fix typos\n",
    "    df.columns = df.columns.str.replace(\"CKD1\",\"CDK1\")\n",
    "    df.columns = df.columns.str.replace(\"GAG3\",\"GATA3\")\n",
    "    return df"
   ]
  },
  {
   "cell_type": "markdown",
   "metadata": {},
   "source": [
    "## Begin Workflow"
   ]
  },
  {
   "cell_type": "markdown",
   "metadata": {},
   "source": [
    "### Get directories"
   ]
  },
  {
   "cell_type": "code",
   "execution_count": 4,
   "metadata": {},
   "outputs": [],
   "source": [
    "# Base directory for project\n",
    "base_dir = '/Users/groutm/Desktop/weewin'\n",
    "base_dir = '/Users/groutm/Desktop/reproducibility'\n",
    "base_dir = 'Z:\\Marilyne\\Axioscan\\Gao_Zhang\\Segmentation'\n",
    "base_dir = '/Users/groutm/Desktop/gz_new'\n",
    "\n",
    "# Set name for of project\n",
    "# for use in directory creation\n",
    "project_name = 'ww'\n",
    "project_name = 'repro'\n",
    "project_name = 'gz_new'\n",
    "\n",
    "# Set string for current step, and for previous step\n",
    "# for use in file and direcotry naming\n",
    "step_suffix = 'bs'\n",
    "previous_step_suffix_long = \"_qc_eda\"\n",
    "\n",
    "# Initial input data directory\n",
    "#input_data_dir = r'/Users/groutm/Desktop/TMAdata'\n",
    "#input_data_dir = r'/Users/groutm/Desktop/ww_data'\n",
    "input_data_dir = os.path.join(base_dir, project_name + previous_step_suffix_long)\n",
    "\n",
    "\n",
    "# BS directory\n",
    "#output_data_dir = r'/Users/groutm/Desktop/TMAoutputdata'\n",
    "#output_data_dir = r'/Users/groutm/Desktop/ww_outputdata'\n",
    "output_data_dir = os.path.join(base_dir, project_name + \"_\" + step_suffix)\n",
    "\n",
    "# BS images subdirectory\n",
    "#output_images_dir = r'/Users/groutm/Desktop/TMAimages'\n",
    "#output_images_dir = r'/Users/groutm/Desktop/wwimages'\n",
    "output_images_dir = os.path.join(output_data_dir,\"images\")\n",
    "\n",
    "# Metadata directories\n",
    "metadata_dir = os.path.join(base_dir, project_name + \"_metadata\")\n",
    "metadata_images_dir = os.path.join(metadata_dir,\"images\")\n",
    "\n",
    "# Create necessary directories for this step, if they don't already exist\n",
    "for d in [base_dir, input_data_dir, output_data_dir, output_images_dir, \n",
    "          metadata_dir, metadata_images_dir]:\n",
    "    if not os.path.exists(d):\n",
    "        os.makedirs(d)\n",
    "\n",
    "# Change directory to location of input files\n",
    "os.chdir(input_data_dir)\n",
    "\n"
   ]
  },
  {
   "cell_type": "code",
   "execution_count": 5,
   "metadata": {},
   "outputs": [],
   "source": [
    "# Provide list of samples whose files we want to read int\n",
    "# Needs to be a list of strings, which serve as bases for \n",
    "# input file names. Input files will be derived from base\n",
    "# sample names, previous step substring, and filetype \n",
    "# extension\n",
    "\n",
    "ls_samples = ['TMA','ww1', 'ww10', 'ww11', 'ww12', 'ww13', 'ww15', \n",
    "              'ww16', 'ww17', 'ww19', 'ww2', 'ww20', 'ww21', \n",
    "              'ww22', 'ww23', 'ww3', 'ww4', 'ww5', 'ww6', 'ww7', \n",
    "              'ww8', 'ww9']\n",
    "\n",
    "ls_samples = ['TMA1.1', 'TMA1.2', 'TMA1.3', 'TMA2.1', 'TMA2.2', 'TMA2.3']\n",
    "\n",
    "ls_samples = ['GZ10.1', 'GZ10.2', 'GZ10.3', 'TMA',\n",
    " 'GZ7.1', 'GZ6', 'GZ7.2']\n",
    "\n",
    "ls_samples = ['A_GZ2', 'B_GZ1', 'C_GZ5', 'D_GZ4', 'E_GZ3','F_GZ6','G_GZ7', 'H_GZ9','I_GZ10','TMA']"
   ]
  },
  {
   "cell_type": "markdown",
   "metadata": {},
   "source": [
    "## Import all metadata we need from the QC/EDA chapter"
   ]
  },
  {
   "cell_type": "markdown",
   "metadata": {},
   "source": [
    "### Metadata"
   ]
  },
  {
   "cell_type": "markdown",
   "metadata": {},
   "source": [
    "This file contains "
   ]
  },
  {
   "cell_type": "code",
   "execution_count": 6,
   "metadata": {},
   "outputs": [],
   "source": [
    "filename = \"marker_intensity_metadata.csv\"\n",
    "filename = os.path.join(metadata_dir, filename)\n",
    "\n",
    "# Check file exists\n",
    "if not os.path.exists(filename):\n",
    "    print(\"WARNING: Could not find desired file: \"+filename)"
   ]
  },
  {
   "cell_type": "code",
   "execution_count": 7,
   "metadata": {},
   "outputs": [
    {
     "name": "stdout",
     "output_type": "stream",
     "text": [
      "WARNING: 'Marker metadata file' has the following unexpected item(s): \n",
      "['Exp']\n"
     ]
    }
   ],
   "source": [
    "# Open, read in information\n",
    "metadata = pd.read_csv(filename)\n",
    "\n",
    "# Verify size\n",
    "# This part is wrapped in a try/except block because \n",
    "# it wasn't working on the PC workstation, but worked\n",
    "# on MG's personal PC laptop and department loaner MacBook\n",
    "try:\n",
    "    verify_line_no(filename, metadata.shape[0] + 1)\n",
    "except:\n",
    "    pass\n",
    "    \n",
    "# Verify headers are expected\n",
    "exp_cols = ['Round','Target','Channel','target_lower','full_column','marker','location']\n",
    "compare_headers(exp_cols, metadata.columns.values, \"Marker metadata file\")"
   ]
  },
  {
   "cell_type": "code",
   "execution_count": 8,
   "metadata": {},
   "outputs": [
    {
     "data": {
      "text/html": [
       "<div>\n",
       "<style scoped>\n",
       "    .dataframe tbody tr th:only-of-type {\n",
       "        vertical-align: middle;\n",
       "    }\n",
       "\n",
       "    .dataframe tbody tr th {\n",
       "        vertical-align: top;\n",
       "    }\n",
       "\n",
       "    .dataframe thead th {\n",
       "        text-align: right;\n",
       "    }\n",
       "</style>\n",
       "<table border=\"1\" class=\"dataframe\">\n",
       "  <thead>\n",
       "    <tr style=\"text-align: right;\">\n",
       "      <th></th>\n",
       "      <th>Round</th>\n",
       "      <th>Target</th>\n",
       "      <th>Exp</th>\n",
       "      <th>Channel</th>\n",
       "      <th>target_lower</th>\n",
       "      <th>full_column</th>\n",
       "      <th>marker</th>\n",
       "      <th>location</th>\n",
       "    </tr>\n",
       "  </thead>\n",
       "  <tbody>\n",
       "    <tr>\n",
       "      <th>0</th>\n",
       "      <td>R0</td>\n",
       "      <td>AF488</td>\n",
       "      <td>300</td>\n",
       "      <td>c2</td>\n",
       "      <td>af488</td>\n",
       "      <td>AF488_Cell_Intensity_Average</td>\n",
       "      <td>AF488</td>\n",
       "      <td>cell</td>\n",
       "    </tr>\n",
       "    <tr>\n",
       "      <th>1</th>\n",
       "      <td>R0</td>\n",
       "      <td>AF555</td>\n",
       "      <td>1500</td>\n",
       "      <td>c3</td>\n",
       "      <td>af555</td>\n",
       "      <td>AF555_Cell_Intensity_Average</td>\n",
       "      <td>AF555</td>\n",
       "      <td>cell</td>\n",
       "    </tr>\n",
       "    <tr>\n",
       "      <th>2</th>\n",
       "      <td>R0</td>\n",
       "      <td>AF647</td>\n",
       "      <td>1500</td>\n",
       "      <td>c4</td>\n",
       "      <td>af647</td>\n",
       "      <td>AF647_Cell_Intensity_Average</td>\n",
       "      <td>AF647</td>\n",
       "      <td>cell</td>\n",
       "    </tr>\n",
       "    <tr>\n",
       "      <th>3</th>\n",
       "      <td>R0</td>\n",
       "      <td>AF750</td>\n",
       "      <td>1500</td>\n",
       "      <td>c5</td>\n",
       "      <td>af750</td>\n",
       "      <td>AF750_Cell_Intensity_Average</td>\n",
       "      <td>AF750</td>\n",
       "      <td>cell</td>\n",
       "    </tr>\n",
       "    <tr>\n",
       "      <th>4</th>\n",
       "      <td>R1</td>\n",
       "      <td>H3K27me3</td>\n",
       "      <td>200</td>\n",
       "      <td>c2</td>\n",
       "      <td>h3k27me3</td>\n",
       "      <td>H3K27me3_Cell_Intensity_Average</td>\n",
       "      <td>H3K27me3</td>\n",
       "      <td>cell</td>\n",
       "    </tr>\n",
       "  </tbody>\n",
       "</table>\n",
       "</div>"
      ],
      "text/plain": [
       "  Round    Target   Exp Channel target_lower                      full_column  \\\n",
       "0    R0     AF488   300      c2        af488     AF488_Cell_Intensity_Average   \n",
       "1    R0     AF555  1500      c3        af555     AF555_Cell_Intensity_Average   \n",
       "2    R0     AF647  1500      c4        af647     AF647_Cell_Intensity_Average   \n",
       "3    R0     AF750  1500      c5        af750     AF750_Cell_Intensity_Average   \n",
       "4    R1  H3K27me3   200      c2     h3k27me3  H3K27me3_Cell_Intensity_Average   \n",
       "\n",
       "     marker location  \n",
       "0     AF488     cell  \n",
       "1     AF555     cell  \n",
       "2     AF647     cell  \n",
       "3     AF750     cell  \n",
       "4  H3K27me3     cell  "
      ]
     },
     "execution_count": 8,
     "metadata": {},
     "output_type": "execute_result"
    }
   ],
   "source": [
    "# Show some of dataframe - FYI\n",
    "metadata.head()"
   ]
  },
  {
   "cell_type": "markdown",
   "metadata": {},
   "source": [
    "### not_intensities"
   ]
  },
  {
   "cell_type": "markdown",
   "metadata": {},
   "source": [
    "This file should be a csv with the name of a single \"not intensity\" or \"not marker\" column (e.g., ROI_index, Nuc_X_Inv) on each line. No need for each item to actually be present in any dataframe."
   ]
  },
  {
   "cell_type": "code",
   "execution_count": 9,
   "metadata": {},
   "outputs": [],
   "source": [
    "filename = \"not_intensities.csv\"\n",
    "filename = os.path.join(metadata_dir, filename)\n",
    "\n",
    "# Check file exists\n",
    "if not os.path.exists(filename):\n",
    "    print(\"WARNING: Could not find desired file: \"+filename)"
   ]
  },
  {
   "cell_type": "code",
   "execution_count": 10,
   "metadata": {},
   "outputs": [
    {
     "name": "stdout",
     "output_type": "stream",
     "text": [
      "Verifying data read from file is the correct length...\n",
      "\n",
      "not_intensities = \n",
      "['Nuc_X', 'Nuc_X_Inv', 'Nuc_Y', 'Nuc_Y_Inv', 'Nucleus_Roundness', 'Nucleus_Size', 'Cell_Size', 'ROI_index', 'Sample_ID', 'replicate_ID', 'Cell_ID', 'cell_type', 'cluster', 'ID']\n"
     ]
    }
   ],
   "source": [
    "# Open, read in information\n",
    "not_intensities = []\n",
    "with open(filename, 'r') as fh:\n",
    "    not_intensities = fh.read().strip().split(\"\\n\")\n",
    "    # take str, strip whitespace, split on new line character\n",
    "\n",
    "# Verify size\n",
    "print(\"Verifying data read from file is the correct length...\\n\")\n",
    "# Verify size\n",
    "# This part is wrapped in a try/except block because \n",
    "# it wasn't working on the PC workstation, but worked\n",
    "# on MG's personal PC laptop and department loaner MacBook\n",
    "try:\n",
    "    verify_line_no(filename, metadata.shape[0] + 1)\n",
    "except:\n",
    "    pass\n",
    "\n",
    "# Print to console\n",
    "print(\"not_intensities = \")\n",
    "print(not_intensities)"
   ]
  },
  {
   "cell_type": "markdown",
   "metadata": {},
   "source": [
    "### full_to_short_column names"
   ]
  },
  {
   "cell_type": "code",
   "execution_count": 11,
   "metadata": {},
   "outputs": [],
   "source": [
    "filename = \"full_to_short_column_names.csv\"\n",
    "filename = os.path.join(metadata_dir, filename)\n",
    "\n",
    "# Check file exists\n",
    "if not os.path.exists(filename):\n",
    "    print(\"WARNING: Could not find desired file: \" + filename)"
   ]
  },
  {
   "cell_type": "code",
   "execution_count": 12,
   "metadata": {},
   "outputs": [
    {
     "name": "stdout",
     "output_type": "stream",
     "text": [
      "Verifying data read from file is the correct length...\n",
      "\n",
      "full_to_short_names =\n",
      "{'53BP1_Cell_Intensity_Average': '53BP1', 'AF488_Cell_Intensity_Average': 'AF488', 'AF555_Cell_Intensity_Average': 'AF555', 'AF647_Cell_Intensity_Average': 'AF647', 'AF750_Cell_Intensity_Average': 'AF750', 'AXL_Cell_Intensity_Average': 'AXL', 'CCNA2_Cell_Intensity_Average': 'CCNA2', 'CCND1_Cell_Intensity_Average': 'CCND1', 'CD45_Cell_Intensity_Average': 'CD45', 'CD4_Cell_Intensity_Average': 'CD4', 'CD68_Cell_Intensity_Average': 'CD68', 'CD8_Cell_Intensity_Average': 'CD8', 'EGFR_Cell_Intensity_Average': 'EGFR', 'Ecad_Cell_Intensity_Average': 'Ecad', 'FOXP3_Cell_Intensity_Average': 'FOXP3', 'H3K27me3_Cell_Intensity_Average': 'H3K27me3', 'KI67_Cell_Intensity_Average': 'KI67', 'MITF_Cell_Intensity_Average': 'MITF', 'PCNA_Cell_Intensity_Average': 'PCNA', 'PDGFR_Cell_Intensity_Average': 'PDGFR', 'S100_Cell_Intensity_Average': 'S100', 'Vimentin_Cell_Intensity_Average': 'Vimentin', 'p4EBP1_Cell_Intensity_Average': 'p4EBP1', 'p75_Cell_Intensity_Average': 'p75', 'pATM_Cell_Intensity_Average': 'pATM', 'pATR_Cell_Intensity_Average': 'pATR', 'pCHK2_Cell_Intensity_Average': 'pCHK2', 'pEGFR_Cell_Intensity_Average': 'pEGFR', 'pGSK3b_Cell_Intensity_Average': 'pGSK3b', 'pH2AX_Cell_Intensity_Average': 'pH2AX', 'pHH3_Cell_Intensity_Average': 'pHH3', 'pS6_Cell_Intensity_Average': 'pS6'}\n"
     ]
    }
   ],
   "source": [
    "# Open, read in information\n",
    "df = pd.read_csv(filename, header = 0)\n",
    "\n",
    "# Verify size\n",
    "print(\"Verifying data read from file is the correct length...\\n\")\n",
    "# Verify size\n",
    "# This part is wrapped in a try/except block because \n",
    "# it wasn't working on the PC workstation, but worked\n",
    "# on MG's personal PC laptop and department loaner MacBook\n",
    "try:\n",
    "    verify_line_no(filename, metadata.shape[0] + 1)\n",
    "except:\n",
    "    pass\n",
    "\n",
    "# Turn into dictionary\n",
    "full_to_short_names = df.set_index('full_name').T.to_dict('records')[0]\n",
    "\n",
    "# Print information\n",
    "print('full_to_short_names =')\n",
    "print(full_to_short_names)"
   ]
  },
  {
   "cell_type": "markdown",
   "metadata": {},
   "source": [
    "### short_to_full_column_names"
   ]
  },
  {
   "cell_type": "code",
   "execution_count": 13,
   "metadata": {},
   "outputs": [],
   "source": [
    "filename = \"short_to_full_column_names.csv\"\n",
    "filename = os.path.join(metadata_dir, filename)\n",
    "\n",
    "# Check file exists\n",
    "if not os.path.exists(filename):\n",
    "    print(\"WARNING: Could not find desired file: \" + filename)"
   ]
  },
  {
   "cell_type": "code",
   "execution_count": 14,
   "metadata": {},
   "outputs": [
    {
     "name": "stdout",
     "output_type": "stream",
     "text": [
      "Verifying data read from file is the correct length...\n",
      "\n",
      "short_to_full_names =\n",
      "{'53BP1': '53BP1_Cell_Intensity_Average', 'AF488': 'AF488_Cell_Intensity_Average', 'AF555': 'AF555_Cell_Intensity_Average', 'AF647': 'AF647_Cell_Intensity_Average', 'AF750': 'AF750_Cell_Intensity_Average', 'AXL': 'AXL_Cell_Intensity_Average', 'CCNA2': 'CCNA2_Cell_Intensity_Average', 'CCND1': 'CCND1_Cell_Intensity_Average', 'CD45': 'CD45_Cell_Intensity_Average', 'CD4': 'CD4_Cell_Intensity_Average', 'CD68': 'CD68_Cell_Intensity_Average', 'CD8': 'CD8_Cell_Intensity_Average', 'EGFR': 'EGFR_Cell_Intensity_Average', 'Ecad': 'Ecad_Cell_Intensity_Average', 'FOXP3': 'FOXP3_Cell_Intensity_Average', 'H3K27me3': 'H3K27me3_Cell_Intensity_Average', 'KI67': 'KI67_Cell_Intensity_Average', 'MITF': 'MITF_Cell_Intensity_Average', 'PCNA': 'PCNA_Cell_Intensity_Average', 'PDGFR': 'PDGFR_Cell_Intensity_Average', 'S100': 'S100_Cell_Intensity_Average', 'Vimentin': 'Vimentin_Cell_Intensity_Average', 'p4EBP1': 'p4EBP1_Cell_Intensity_Average', 'p75': 'p75_Cell_Intensity_Average', 'pATM': 'pATM_Cell_Intensity_Average', 'pATR': 'pATR_Cell_Intensity_Average', 'pCHK2': 'pCHK2_Cell_Intensity_Average', 'pEGFR': 'pEGFR_Cell_Intensity_Average', 'pGSK3b': 'pGSK3b_Cell_Intensity_Average', 'pH2AX': 'pH2AX_Cell_Intensity_Average', 'pHH3': 'pHH3_Cell_Intensity_Average', 'pS6': 'pS6_Cell_Intensity_Average'}\n"
     ]
    }
   ],
   "source": [
    "# Open, read in information\n",
    "df = pd.read_csv(filename, header = 0)\n",
    "\n",
    "# Verify size\n",
    "print(\"Verifying data read from file is the correct length...\\n\")\n",
    "#verify_line_no(filename, df.shape[0] + 1)\n",
    "\n",
    "# Turn into dictionary\n",
    "short_to_full_names = df.set_index('short_name').T.to_dict('records')[0]\n",
    "\n",
    "# Print information\n",
    "print('short_to_full_names =')\n",
    "print(short_to_full_names)"
   ]
  },
  {
   "cell_type": "markdown",
   "metadata": {},
   "source": [
    "### Color information"
   ]
  },
  {
   "cell_type": "markdown",
   "metadata": {},
   "source": [
    "#### Samples"
   ]
  },
  {
   "cell_type": "code",
   "execution_count": 15,
   "metadata": {},
   "outputs": [],
   "source": [
    "filename = \"sample_color_data.csv\"\n",
    "filename = os.path.join(metadata_dir, filename)\n",
    "\n",
    "# Check file exists\n",
    "if not os.path.exists(filename):\n",
    "    print(\"WARNING: Could not find desired file: \" + filename)"
   ]
  },
  {
   "cell_type": "code",
   "execution_count": 16,
   "metadata": {},
   "outputs": [
    {
     "name": "stdout",
     "output_type": "stream",
     "text": [
      "Verifying data read from file is the correct length...\n",
      "\n",
      "sample_color_dict =\n",
      "{'A_GZ2': (0.9677975592919913, 0.44127456009157356, 0.5358103155058701), 'B_GZ1': (0.8616090647292522, 0.536495730113334, 0.19548899031476086), 'C_GZ5': (0.6804189127793346, 0.6151497514677574, 0.19405452111445337), 'D_GZ4': (0.46810256823426105, 0.6699492535792404, 0.1928958739904499), 'E_GZ3': (0.20125317221201128, 0.6907920815379025, 0.47966761189275336), 'F_GZ6': (0.21044753832183283, 0.6773105080456748, 0.6433941168468681), 'G_GZ7': (0.2197995660828324, 0.6625157876850336, 0.7732093159317209), 'H_GZ9': (0.433280341176423, 0.6065273407962815, 0.9585467098271748), 'I_GZ10': (0.8004936186423958, 0.47703363533737203, 0.9579547196007522), 'TMA': (0.5019607843137255, 0.5019607843137255, 0.5019607843137255)}\n"
     ]
    }
   ],
   "source": [
    "# Open, read in information\n",
    "df = pd.read_csv(filename, header = 0)\n",
    "df = df.drop(columns = ['hex'])\n",
    "\n",
    "# our tuple of float values for rgb, (r, g, b) was read in \n",
    "# as a string '(r, g, b)'. We need to extract the r-, g-, and b-\n",
    "# substrings and convert them back into floats\n",
    "df['rgb'] = df.apply(lambda row: rgb_tuple_from_str(row['rgb']), axis = 1)\n",
    "\n",
    "# Verify size\n",
    "print(\"Verifying data read from file is the correct length...\\n\")\n",
    "#verify_line_no(filename, df.shape[0] + 1)\n",
    "\n",
    "# Turn into dictionary\n",
    "sample_color_dict = df.set_index('Sample_ID').T.to_dict('rgb')[0]\n",
    "\n",
    "# Print information\n",
    "print('sample_color_dict =')\n",
    "print(sample_color_dict)\n"
   ]
  },
  {
   "cell_type": "markdown",
   "metadata": {},
   "source": [
    "#### Channels"
   ]
  },
  {
   "cell_type": "code",
   "execution_count": 17,
   "metadata": {},
   "outputs": [],
   "source": [
    "filename = \"channel_color_data.csv\"\n",
    "filename = os.path.join(metadata_dir, filename)\n",
    "\n",
    "# Check file exists\n",
    "if not os.path.exists(filename):\n",
    "    print(\"WARNING: Could not find desired file: \"+filename)"
   ]
  },
  {
   "cell_type": "code",
   "execution_count": 18,
   "metadata": {},
   "outputs": [
    {
     "name": "stdout",
     "output_type": "stream",
     "text": [
      "Verifying data read from file is the correct length...\n",
      "\n",
      "channel_color_dict =\n",
      "{'c3': (1.0, 0.6470588235294118, 0.0), 'c4': (1.0, 0.0, 0.0), 'c5': (0.25098039215686274, 0.8784313725490196, 0.8156862745098039), 'c2': (0.0, 0.5019607843137255, 0.0)}\n"
     ]
    }
   ],
   "source": [
    "# Open, read in information\n",
    "df = pd.read_csv(filename, header = 0)\n",
    "df = df.drop(columns = ['hex'])\n",
    "\n",
    "# our tuple of float values for rgb, (r, g, b) was read in \n",
    "# as a string '(r, g, b)'. We need to extract the r-, g-, and b-\n",
    "# substrings and convert them back into floats\n",
    "df['rgb'] = df.apply(lambda row: rgb_tuple_from_str(row['rgb']), axis = 1)\n",
    "\n",
    "# Verify size\n",
    "print(\"Verifying data read from file is the correct length...\\n\")\n",
    "#verify_line_no(filename, df.shape[0] + 1)\n",
    "\n",
    "# Turn into dictionary\n",
    "channel_color_dict = df.set_index('Channel').T.to_dict('rgb')[0]\n",
    "\n",
    "# Print information\n",
    "print('channel_color_dict =')\n",
    "print(channel_color_dict)\n"
   ]
  },
  {
   "cell_type": "markdown",
   "metadata": {},
   "source": [
    "#### Round"
   ]
  },
  {
   "cell_type": "code",
   "execution_count": 19,
   "metadata": {},
   "outputs": [],
   "source": [
    "filename = \"round_color_data.csv\"\n",
    "filename = os.path.join(metadata_dir, filename)\n",
    "\n",
    "# Check file exists\n",
    "if not os.path.exists(filename):\n",
    "    print(\"WARNING: Could not find desired file: \"+filename)"
   ]
  },
  {
   "cell_type": "code",
   "execution_count": 20,
   "metadata": {},
   "outputs": [
    {
     "name": "stdout",
     "output_type": "stream",
     "text": [
      "Verifying data read from file is the correct length...\n",
      "\n",
      "round_color_dict =\n",
      "{'R0': (0.28685356234627135, 0.13009829239513535, 0.23110332132624437), 'R1': (0.3736023974468758, 0.214424058315835, 0.3978381676792029), 'R2': (0.4159341362257507, 0.3236230119238674, 0.5522993139842536), 'R3': (0.4347275623260717, 0.45841778084048856, 0.6693193307565182), 'R4': (0.45985383722977585, 0.5938507827180669, 0.7299938636762819), 'R5': (0.5193510814616777, 0.7186903518953451, 0.7537488291211205), 'R6': (0.6251959781814483, 0.8211474484187268, 0.77115296242133), 'R7': (0.7684256891219349, 0.8992667116749021, 0.8171383269422353)}\n"
     ]
    }
   ],
   "source": [
    "# Open, read in information\n",
    "df = pd.read_csv(filename, header = 0)\n",
    "df = df.drop(columns = ['hex'])\n",
    "\n",
    "# our tuple of float values for rgb, (r, g, b) was read in \n",
    "# as a string '(r, g, b)'. We need to extract the r-, g-, and b-\n",
    "# substrings and convert them back into floats\n",
    "df['rgb'] = df.apply(lambda row: rgb_tuple_from_str(row['rgb']), axis = 1)\n",
    "\n",
    "# Verify size\n",
    "print(\"Verifying data read from file is the correct length...\\n\")\n",
    "#verify_line_no(filename, df.shape[0] + 1)\n",
    "\n",
    "# Turn into dictionary\n",
    "round_color_dict = df.set_index('Round').T.to_dict('rgb')[0]\n",
    "\n",
    "# Print information\n",
    "print('round_color_dict =')\n",
    "print(round_color_dict)\n"
   ]
  },
  {
   "cell_type": "markdown",
   "metadata": {},
   "source": [
    "## Import data"
   ]
  },
  {
   "cell_type": "code",
   "execution_count": 21,
   "metadata": {},
   "outputs": [
    {
     "name": "stdout",
     "output_type": "stream",
     "text": [
      "df index name is currently None\n"
     ]
    }
   ],
   "source": [
    "# Import all data files for this portion of workflow\n",
    "\n",
    "# First gather information on expected headers using first file in ls_samples\n",
    "\n",
    "\n",
    "\n",
    "# Read in the first row of the file correpsonding to the first sample (index = 0)\n",
    "# in ls_samples\n",
    "df = pd.read_csv(ls_samples[0] + \n",
    "                 previous_step_suffix_long + \".csv\", nrows = 1, index_col = 0)\n",
    "\n",
    "# Apply the changes to the headers as specified in above funciton\n",
    "df = apply_header_changes(df)\n",
    "\n",
    "# Set variable to hold default header values\n",
    "expected_headers = df.columns.values\n",
    "\n",
    "print(\"df index name is currently\",df.index.name)"
   ]
  },
  {
   "cell_type": "code",
   "execution_count": 22,
   "metadata": {},
   "outputs": [
    {
     "data": {
      "text/html": [
       "<div>\n",
       "<style scoped>\n",
       "    .dataframe tbody tr th:only-of-type {\n",
       "        vertical-align: middle;\n",
       "    }\n",
       "\n",
       "    .dataframe tbody tr th {\n",
       "        vertical-align: top;\n",
       "    }\n",
       "\n",
       "    .dataframe thead th {\n",
       "        text-align: right;\n",
       "    }\n",
       "</style>\n",
       "<table border=\"1\" class=\"dataframe\">\n",
       "  <thead>\n",
       "    <tr style=\"text-align: right;\">\n",
       "      <th></th>\n",
       "      <th>Nuc_Y_Inv</th>\n",
       "      <th>Nucleus_Roundness</th>\n",
       "      <th>Nuc_X_Inv</th>\n",
       "      <th>Cell_Size</th>\n",
       "      <th>Nuc_Y</th>\n",
       "      <th>Nucleus_Size</th>\n",
       "      <th>ROI_index</th>\n",
       "      <th>Sample_ID</th>\n",
       "      <th>Nuc_X</th>\n",
       "      <th>53BP1_Cell_Intensity_Average</th>\n",
       "      <th>...</th>\n",
       "      <th>p4EBP1_Cell_Intensity_Average</th>\n",
       "      <th>p75_Cell_Intensity_Average</th>\n",
       "      <th>pATM_Cell_Intensity_Average</th>\n",
       "      <th>pATR_Cell_Intensity_Average</th>\n",
       "      <th>pCHK2_Cell_Intensity_Average</th>\n",
       "      <th>pEGFR_Cell_Intensity_Average</th>\n",
       "      <th>pGSK3b_Cell_Intensity_Average</th>\n",
       "      <th>pH2AX_Cell_Intensity_Average</th>\n",
       "      <th>pHH3_Cell_Intensity_Average</th>\n",
       "      <th>pS6_Cell_Intensity_Average</th>\n",
       "    </tr>\n",
       "  </thead>\n",
       "  <tbody>\n",
       "    <tr>\n",
       "      <th>A_GZ2_Cell_0</th>\n",
       "      <td>14063.825195</td>\n",
       "      <td>0.619081</td>\n",
       "      <td>10283.475586</td>\n",
       "      <td>329</td>\n",
       "      <td>4503.174805</td>\n",
       "      <td>103</td>\n",
       "      <td>1</td>\n",
       "      <td>A_GZ2</td>\n",
       "      <td>10114.524414</td>\n",
       "      <td>4487.468262</td>\n",
       "      <td>...</td>\n",
       "      <td>2797.301025</td>\n",
       "      <td>922.088135</td>\n",
       "      <td>3000.461914</td>\n",
       "      <td>3341.857178</td>\n",
       "      <td>3237.069824</td>\n",
       "      <td>1425.282715</td>\n",
       "      <td>2911.632324</td>\n",
       "      <td>1159.088135</td>\n",
       "      <td>3308.157959</td>\n",
       "      <td>2330.209717</td>\n",
       "    </tr>\n",
       "  </tbody>\n",
       "</table>\n",
       "<p>1 rows × 41 columns</p>\n",
       "</div>"
      ],
      "text/plain": [
       "                 Nuc_Y_Inv  Nucleus_Roundness     Nuc_X_Inv  Cell_Size  \\\n",
       "A_GZ2_Cell_0  14063.825195           0.619081  10283.475586        329   \n",
       "\n",
       "                    Nuc_Y  Nucleus_Size  ROI_index Sample_ID         Nuc_X  \\\n",
       "A_GZ2_Cell_0  4503.174805           103          1     A_GZ2  10114.524414   \n",
       "\n",
       "              53BP1_Cell_Intensity_Average  ...  \\\n",
       "A_GZ2_Cell_0                   4487.468262  ...   \n",
       "\n",
       "              p4EBP1_Cell_Intensity_Average  p75_Cell_Intensity_Average  \\\n",
       "A_GZ2_Cell_0                    2797.301025                  922.088135   \n",
       "\n",
       "              pATM_Cell_Intensity_Average  pATR_Cell_Intensity_Average  \\\n",
       "A_GZ2_Cell_0                  3000.461914                  3341.857178   \n",
       "\n",
       "              pCHK2_Cell_Intensity_Average  pEGFR_Cell_Intensity_Average  \\\n",
       "A_GZ2_Cell_0                   3237.069824                   1425.282715   \n",
       "\n",
       "              pGSK3b_Cell_Intensity_Average  pH2AX_Cell_Intensity_Average  \\\n",
       "A_GZ2_Cell_0                    2911.632324                   1159.088135   \n",
       "\n",
       "              pHH3_Cell_Intensity_Average  pS6_Cell_Intensity_Average  \n",
       "A_GZ2_Cell_0                  3308.157959                 2330.209717  \n",
       "\n",
       "[1 rows x 41 columns]"
      ]
     },
     "execution_count": 22,
     "metadata": {},
     "output_type": "execute_result"
    }
   ],
   "source": [
    "df.head()"
   ]
  },
  {
   "cell_type": "code",
   "execution_count": 23,
   "metadata": {},
   "outputs": [
    {
     "name": "stdout",
     "output_type": "stream",
     "text": [
      "Used A_GZ2_qc_eda.csv to determine the expected, corrected headers for all files.\n",
      "There headers are: \n",
      "Nuc_Y_Inv, Nucleus_Roundness, Nuc_X_Inv, Cell_Size, Nuc_Y, Nucleus_Size, ROI_index, Sample_ID, Nuc_X, 53BP1_Cell_Intensity_Average, AF488_Cell_Intensity_Average, AF555_Cell_Intensity_Average, AF647_Cell_Intensity_Average, AF750_Cell_Intensity_Average, AXL_Cell_Intensity_Average, CCNA2_Cell_Intensity_Average, CCND1_Cell_Intensity_Average, CD45_Cell_Intensity_Average, CD4_Cell_Intensity_Average, CD68_Cell_Intensity_Average, CD8_Cell_Intensity_Average, EGFR_Cell_Intensity_Average, Ecad_Cell_Intensity_Average, FOXP3_Cell_Intensity_Average, H3K27me3_Cell_Intensity_Average, KI67_Cell_Intensity_Average, MITF_Cell_Intensity_Average, PCNA_Cell_Intensity_Average, PDGFR_Cell_Intensity_Average, S100_Cell_Intensity_Average, Vimentin_Cell_Intensity_Average, p4EBP1_Cell_Intensity_Average, p75_Cell_Intensity_Average, pATM_Cell_Intensity_Average, pATR_Cell_Intensity_Average, pCHK2_Cell_Intensity_Average, pEGFR_Cell_Intensity_Average, pGSK3b_Cell_Intensity_Average, pH2AX_Cell_Intensity_Average, pHH3_Cell_Intensity_Average, pS6_Cell_Intensity_Average.\n"
     ]
    }
   ],
   "source": [
    "print(\"Used \" + ls_samples[0] + previous_step_suffix_long +\n",
    "      \".csv to determine the expected, corrected headers for all files.\")\n",
    "print(\"There headers are: \\n\" + \", \".join([h for h in expected_headers]) + \".\")"
   ]
  },
  {
   "cell_type": "code",
   "execution_count": 24,
   "metadata": {},
   "outputs": [],
   "source": [
    "# Import all dfs\n",
    "\n",
    "## TO-DO: include check that imported df is the expected size and shape...\n",
    "\n",
    "dfs = {}\n",
    "for sample in ls_samples:\n",
    "    # Open file\n",
    "    \n",
    "    if not os.path.exists(sample+previous_step_suffix_long+\".csv\"):\n",
    "        print(\"File \" + sample+previous_step_suffix_long+\".csv\" +\n",
    "             \" does not exist. Removing from analysis...\")\n",
    "        ls_samples.remove(sample)\n",
    "        continue\n",
    "    \n",
    "    df = pd.read_csv(sample + previous_step_suffix_long + \".csv\", \n",
    "                     index_col = 0)\n",
    "    \n",
    "    # Check for empty df\n",
    "    # if so, don't continue trying to process df\n",
    "    if df.shape[0] == 0:\n",
    "        print('Zero content lines detected in ' + sample + ' file.'\n",
    "              'Removing from analysis...')\n",
    "        ls_samples.remove(sample)\n",
    "        continue\n",
    "    \n",
    "    \n",
    "    # Verify that the loaded df are the right length\n",
    "    try:\n",
    "        verify_line_no(sample + previous_step_suffix_long + \".csv\", \n",
    "                   df.shape[0] + 1)\n",
    "    except:\n",
    "        pass\n",
    "    # adding 1 because we expect the header was detected \n",
    "    # during file import and not counted towards length of df\n",
    "    \n",
    "     # Manipulations necessary for concatenation\n",
    "    df = apply_header_changes(df)\n",
    "    df = df[[x for x in sorted(df.columns.values)]]\n",
    "    \n",
    "    # Compare headers of new df against what is expected\n",
    "    compare_headers(expected_headers, df.columns.values, sample)\n",
    "    df['Sample_ID'] = sample\n",
    "\n",
    "    # For cases where we have samples called TMA1.1, TMA1.2, TMA1.3, etc.\n",
    "    # Using regular expressions (regex) to extract the characters in the\n",
    "    # sample name from TMA to the following digits, stopping at the period\n",
    "    #if 'ROI_index' in df.columns.values:\n",
    "    #    df['ROI_slide'] = re.findall(r'(TMA\\d+)',sample)[0]    \n",
    "    \n",
    "    # Add to df of dfs \n",
    "    dfs[sample] = df\n",
    "    \n",
    "\n",
    "\n",
    "\n",
    "#Merge dfs into one df\n",
    "df = pd.concat(dfs.values(), ignore_index=False , sort = False)\n",
    "del dfs\n"
   ]
  },
  {
   "cell_type": "markdown",
   "metadata": {},
   "source": [
    "Let's take a look at a few features to make sure our dataframe is as expected"
   ]
  },
  {
   "cell_type": "code",
   "execution_count": 25,
   "metadata": {},
   "outputs": [
    {
     "data": {
      "text/plain": [
       "(1023317, 41)"
      ]
     },
     "execution_count": 25,
     "metadata": {},
     "output_type": "execute_result"
    }
   ],
   "source": [
    "df.shape"
   ]
  },
  {
   "cell_type": "code",
   "execution_count": 26,
   "metadata": {},
   "outputs": [
    {
     "data": {
      "text/plain": [
       "Index(['A_GZ2_Cell_0', 'A_GZ2_Cell_1', 'A_GZ2_Cell_2', 'A_GZ2_Cell_3',\n",
       "       'A_GZ2_Cell_4', 'A_GZ2_Cell_5', 'A_GZ2_Cell_6', 'A_GZ2_Cell_7',\n",
       "       'A_GZ2_Cell_8', 'A_GZ2_Cell_9',\n",
       "       ...\n",
       "       'TMA_Cell_143424', 'TMA_Cell_143425', 'TMA_Cell_143426',\n",
       "       'TMA_Cell_143427', 'TMA_Cell_143428', 'TMA_Cell_143429',\n",
       "       'TMA_Cell_143430', 'TMA_Cell_143431', 'TMA_Cell_143432',\n",
       "       'TMA_Cell_143433'],\n",
       "      dtype='object', length=1023317)"
      ]
     },
     "execution_count": 26,
     "metadata": {},
     "output_type": "execute_result"
    }
   ],
   "source": [
    "df.index "
   ]
  },
  {
   "cell_type": "code",
   "execution_count": 27,
   "metadata": {},
   "outputs": [],
   "source": [
    "#check for NaN entries (should not be any unless columns do not align)\n",
    "# if there are any null values, then print names of columns containing\n",
    "# null values\n",
    "if df.isnull().any().any():\n",
    "    print(df.columns[df.isnull().any()])\n",
    "\n",
    "#in 'if' statement, false means no NaN entries True means NaN entries "
   ]
  },
  {
   "cell_type": "code",
   "execution_count": 28,
   "metadata": {},
   "outputs": [],
   "source": [
    "## Remove in final workflow\n",
    "\n",
    "if 'bad_header_file' in ls_samples:\n",
    "    ls_samples.remove(\"bad_header_file\")\n",
    "if 'bad_header_file' in df.Sample_ID.unique():\n",
    "    df = df.loc[df['Sample_ID'] != 'bad_header_file',:]"
   ]
  },
  {
   "cell_type": "code",
   "execution_count": 29,
   "metadata": {},
   "outputs": [
    {
     "name": "stdout",
     "output_type": "stream",
     "text": [
      "All expected filenames present in big df Sample_ID column.\n"
     ]
    }
   ],
   "source": [
    "# Check that all expected files were imported into final dataframe\n",
    "\n",
    "if sorted(df.Sample_ID.unique()) == sorted(ls_samples):\n",
    "    print(\"All expected filenames present in big df Sample_ID column.\")\n",
    "else:\n",
    "    compare_headers(['no samples'], df.Sample_ID.unique(), \"big df Sample_ID column\")"
   ]
  },
  {
   "cell_type": "markdown",
   "metadata": {},
   "source": [
    "QC checks..."
   ]
  },
  {
   "cell_type": "markdown",
   "metadata": {},
   "source": [
    "### Filtering"
   ]
  },
  {
   "cell_type": "markdown",
   "metadata": {},
   "source": [
    "#### Filter rows with 0 mean intensity"
   ]
  },
  {
   "cell_type": "code",
   "execution_count": 30,
   "metadata": {},
   "outputs": [],
   "source": [
    "#df = df.rename(columns = short_to_full_names)"
   ]
  },
  {
   "cell_type": "raw",
   "metadata": {},
   "source": [
    "#delete rows that have 0 value mean intensities for intensity columns\n",
    "print(\"df.shape: \", df.shape)\n",
    "df = df.loc[df.apply(\n",
    "    lambda row: \n",
    "    row[~row.index.isin(not_intensities)].mean(), axis = 1) >0 ,:]\n",
    "\n",
    "print(\"df.shape: \", df.shape)\n",
    "# changed this from != 0 to 0\n",
    "# original line of code:\n",
    "#df = df.loc[((df.iloc[:,3:] != 0).all(1) )]"
   ]
  },
  {
   "cell_type": "markdown",
   "metadata": {},
   "source": [
    "## R Shiny Filtering App"
   ]
  },
  {
   "cell_type": "markdown",
   "metadata": {},
   "source": [
    "Save file for filtering app."
   ]
  },
  {
   "cell_type": "code",
   "execution_count": 31,
   "metadata": {},
   "outputs": [],
   "source": [
    "subset_row_count = 10000"
   ]
  },
  {
   "cell_type": "code",
   "execution_count": 32,
   "metadata": {},
   "outputs": [
    {
     "name": "stdout",
     "output_type": "stream",
     "text": [
      "here\n"
     ]
    }
   ],
   "source": [
    "subset_df = create_subset(df, 'Sample_ID', subset_row_count, 'original')"
   ]
  },
  {
   "cell_type": "markdown",
   "metadata": {},
   "source": [
    "How many lines for each sample ID are in our subset df?"
   ]
  },
  {
   "cell_type": "code",
   "execution_count": 34,
   "metadata": {},
   "outputs": [
    {
     "data": {
      "text/plain": [
       "A_GZ2      814\n",
       "B_GZ1       61\n",
       "C_GZ5      185\n",
       "D_GZ4      770\n",
       "E_GZ3      558\n",
       "F_GZ6      600\n",
       "G_GZ7     4872\n",
       "H_GZ9      361\n",
       "I_GZ10     378\n",
       "TMA       1402\n",
       "Name: Sample_ID, dtype: int64"
      ]
     },
     "execution_count": 34,
     "metadata": {},
     "output_type": "execute_result"
    }
   ],
   "source": [
    "subset_df['Sample_ID'].value_counts().sort_index()"
   ]
  },
  {
   "cell_type": "markdown",
   "metadata": {},
   "source": [
    "How do the proportions of cells in the original and subset dfs compare?"
   ]
  },
  {
   "cell_type": "code",
   "execution_count": 35,
   "metadata": {},
   "outputs": [
    {
     "data": {
      "text/plain": [
       "A_GZ2     0.081365\n",
       "B_GZ1     0.006083\n",
       "C_GZ5     0.018506\n",
       "D_GZ4     0.077017\n",
       "E_GZ3     0.055818\n",
       "F_GZ6     0.060010\n",
       "G_GZ7     0.487167\n",
       "H_GZ9     0.036103\n",
       "I_GZ10    0.037764\n",
       "TMA       0.140166\n",
       "Name: Sample_ID, dtype: float64"
      ]
     },
     "execution_count": 35,
     "metadata": {},
     "output_type": "execute_result"
    }
   ],
   "source": [
    "df['Sample_ID'].value_counts().sort_index()/df.shape[0]"
   ]
  },
  {
   "cell_type": "code",
   "execution_count": 36,
   "metadata": {},
   "outputs": [
    {
     "data": {
      "text/plain": [
       "A_GZ2     0.081392\n",
       "B_GZ1     0.006099\n",
       "C_GZ5     0.018498\n",
       "D_GZ4     0.076992\n",
       "E_GZ3     0.055794\n",
       "F_GZ6     0.059994\n",
       "G_GZ7     0.487151\n",
       "H_GZ9     0.036096\n",
       "I_GZ10    0.037796\n",
       "TMA       0.140186\n",
       "Name: Sample_ID, dtype: float64"
      ]
     },
     "execution_count": 36,
     "metadata": {},
     "output_type": "execute_result"
    }
   ],
   "source": [
    "subset_df['Sample_ID'].value_counts().sort_index()/subset_df.shape[0]"
   ]
  },
  {
   "cell_type": "code",
   "execution_count": 38,
   "metadata": {},
   "outputs": [],
   "source": [
    "filename = \"for_filtering_app.csv\"\n",
    "filename = os.path.join(output_data_dir,filename)\n",
    "subset_df.to_csv(filename, index = False)"
   ]
  },
  {
   "cell_type": "code",
   "execution_count": null,
   "metadata": {},
   "outputs": [],
   "source": []
  },
  {
   "cell_type": "code",
   "execution_count": null,
   "metadata": {},
   "outputs": [],
   "source": []
  },
  {
   "cell_type": "code",
   "execution_count": null,
   "metadata": {},
   "outputs": [],
   "source": []
  },
  {
   "cell_type": "markdown",
   "metadata": {},
   "source": [
    "## Perform filtering"
   ]
  },
  {
   "cell_type": "code",
   "execution_count": 39,
   "metadata": {},
   "outputs": [
    {
     "data": {
      "text/plain": [
       "array(['53BP1_Cell_Intensity_Average', 'AF488_Cell_Intensity_Average',\n",
       "       'AF555_Cell_Intensity_Average', 'AF647_Cell_Intensity_Average',\n",
       "       'AF750_Cell_Intensity_Average', 'AXL_Cell_Intensity_Average',\n",
       "       'CCNA2_Cell_Intensity_Average', 'CCND1_Cell_Intensity_Average',\n",
       "       'CD45_Cell_Intensity_Average', 'CD4_Cell_Intensity_Average',\n",
       "       'CD68_Cell_Intensity_Average', 'CD8_Cell_Intensity_Average',\n",
       "       'Cell_Size', 'EGFR_Cell_Intensity_Average',\n",
       "       'Ecad_Cell_Intensity_Average', 'FOXP3_Cell_Intensity_Average',\n",
       "       'H3K27me3_Cell_Intensity_Average', 'KI67_Cell_Intensity_Average',\n",
       "       'MITF_Cell_Intensity_Average', 'Nuc_X', 'Nuc_X_Inv', 'Nuc_Y',\n",
       "       'Nuc_Y_Inv', 'Nucleus_Roundness', 'Nucleus_Size',\n",
       "       'PCNA_Cell_Intensity_Average', 'PDGFR_Cell_Intensity_Average',\n",
       "       'ROI_index', 'S100_Cell_Intensity_Average', 'Sample_ID',\n",
       "       'Vimentin_Cell_Intensity_Average', 'p4EBP1_Cell_Intensity_Average',\n",
       "       'p75_Cell_Intensity_Average', 'pATM_Cell_Intensity_Average',\n",
       "       'pATR_Cell_Intensity_Average', 'pCHK2_Cell_Intensity_Average',\n",
       "       'pEGFR_Cell_Intensity_Average', 'pGSK3b_Cell_Intensity_Average',\n",
       "       'pH2AX_Cell_Intensity_Average', 'pHH3_Cell_Intensity_Average',\n",
       "       'pS6_Cell_Intensity_Average'], dtype=object)"
      ]
     },
     "execution_count": 39,
     "metadata": {},
     "output_type": "execute_result"
    }
   ],
   "source": [
    "# As a reminder to us, here are the features available on which we can filter...\n",
    "df.columns.values"
   ]
  },
  {
   "cell_type": "markdown",
   "metadata": {},
   "source": [
    "### Filter on nuc size and AF"
   ]
  },
  {
   "cell_type": "code",
   "execution_count": 40,
   "metadata": {},
   "outputs": [
    {
     "name": "stdout",
     "output_type": "stream",
     "text": [
      "Number of cells after filtering on nucleus size: 883317\n",
      "Number of cells after filtering on AF555 ___ intensity: 725055\n"
     ]
    }
   ],
   "source": [
    "#delete small cells and objects w/high AF555 Signal (RBCs)\n",
    "df = df.loc[(df['Nucleus_Size'] > 60 )]\n",
    "df = df.loc[(df['Nucleus_Size'] < 600 )]\n",
    "print(\"Number of cells after filtering on nucleus size:\", df.shape[0])\n",
    "\n",
    "#df = df.loc[(df['AF555_Cytoplasm_Intensity_Average'] < 2500)]\n",
    "#df = df.loc[(df['AF555_Nucleus'] < 3000)]\n",
    "df = df.loc[(df['AF555_Cell_Intensity_Average'] < 2500)]\n",
    "print(\"Number of cells after filtering on AF555 ___ intensity:\", df.shape[0])"
   ]
  },
  {
   "cell_type": "markdown",
   "metadata": {},
   "source": [
    "## Assign Cell types"
   ]
  },
  {
   "cell_type": "code",
   "execution_count": 41,
   "metadata": {},
   "outputs": [],
   "source": [
    "#assign tumor cells \n",
    "\n",
    "def assign_cell_type(row):\n",
    "    print(row.keys)\n",
    "    if (row['CKs_Cytoplasm_Intensity_Average'] > 2000)  \\\n",
    "        | (row['Ecad_Cytoplasm_Intensity_Average'] > 1800) \\\n",
    "        | (row['NCad_Cytoplasm_Intensity_Average'] > 2200):\n",
    "            return 'TUMOR'\n",
    "    elif (row['CD45_Cytoplasm_Intensity_Average'] > 4500) \\\n",
    "     | (row['CD4_Cytoplasm_Intensity_Average'] > 3000) \\\n",
    "     | (row['CD68_Cytoplasm_Intensity_Average'] > 3200):\n",
    "        return 'IMMUNE'\n",
    "    else:\n",
    "        return 'STROMA'\n",
    "    \n",
    "\n",
    "    \n",
    "# randoml assigning here just for development purposes\n",
    "def assign_cell_type(row):\n",
    "    n = np.random.randint(0,10)\n",
    "    if n < 2:\n",
    "        return 'IMMUNE'\n",
    "    if n < 5:\n",
    "        return 'CANCER'    \n",
    "    return 'STROMA'\n",
    "\n",
    "# First create a cell_type column and make it blank\n",
    "df['cell_type'] = ''\n",
    "\n",
    "# Then iterate through each sample and perform the cell type assignment as necessary\n",
    "my_list = [] # put sample names here\n",
    "my_list = ls_samples.copy() # comment this line out\n",
    "for sample in my_list:\n",
    "    df.loc[df['Sample_ID'] == sample,'cell_type'] = df.apply(lambda row: assign_cell_type(row), axis = 1)"
   ]
  },
  {
   "cell_type": "markdown",
   "metadata": {},
   "source": [
    "For saving parameters to file:"
   ]
  },
  {
   "cell_type": "code",
   "execution_count": 42,
   "metadata": {},
   "outputs": [],
   "source": [
    "# Create empty dataframe to hold parameters\n",
    "\n",
    "my_cols = ['Sample_ID','a','b']\n",
    "filtering_params = pd.DataFrame(columns = my_cols)"
   ]
  },
  {
   "cell_type": "code",
   "execution_count": 43,
   "metadata": {},
   "outputs": [
    {
     "data": {
      "text/html": [
       "<div>\n",
       "<style scoped>\n",
       "    .dataframe tbody tr th:only-of-type {\n",
       "        vertical-align: middle;\n",
       "    }\n",
       "\n",
       "    .dataframe tbody tr th {\n",
       "        vertical-align: top;\n",
       "    }\n",
       "\n",
       "    .dataframe thead th {\n",
       "        text-align: right;\n",
       "    }\n",
       "</style>\n",
       "<table border=\"1\" class=\"dataframe\">\n",
       "  <thead>\n",
       "    <tr style=\"text-align: right;\">\n",
       "      <th></th>\n",
       "      <th>Sample_ID</th>\n",
       "      <th>a</th>\n",
       "      <th>b</th>\n",
       "    </tr>\n",
       "  </thead>\n",
       "  <tbody>\n",
       "  </tbody>\n",
       "</table>\n",
       "</div>"
      ],
      "text/plain": [
       "Empty DataFrame\n",
       "Columns: [Sample_ID, a, b]\n",
       "Index: []"
      ]
     },
     "execution_count": 43,
     "metadata": {},
     "output_type": "execute_result"
    }
   ],
   "source": [
    "filtering_params"
   ]
  },
  {
   "cell_type": "code",
   "execution_count": 44,
   "metadata": {},
   "outputs": [
    {
     "data": {
      "text/html": [
       "<div>\n",
       "<style scoped>\n",
       "    .dataframe tbody tr th:only-of-type {\n",
       "        vertical-align: middle;\n",
       "    }\n",
       "\n",
       "    .dataframe tbody tr th {\n",
       "        vertical-align: top;\n",
       "    }\n",
       "\n",
       "    .dataframe thead th {\n",
       "        text-align: right;\n",
       "    }\n",
       "</style>\n",
       "<table border=\"1\" class=\"dataframe\">\n",
       "  <thead>\n",
       "    <tr style=\"text-align: right;\">\n",
       "      <th></th>\n",
       "      <th>Sample_ID</th>\n",
       "      <th>a</th>\n",
       "      <th>b</th>\n",
       "    </tr>\n",
       "  </thead>\n",
       "  <tbody>\n",
       "    <tr>\n",
       "      <th>0</th>\n",
       "      <td>my sample</td>\n",
       "      <td>parameter value</td>\n",
       "      <td>parameter value</td>\n",
       "    </tr>\n",
       "  </tbody>\n",
       "</table>\n",
       "</div>"
      ],
      "text/plain": [
       "   Sample_ID                a                b\n",
       "0  my sample  parameter value  parameter value"
      ]
     },
     "execution_count": 44,
     "metadata": {},
     "output_type": "execute_result"
    }
   ],
   "source": [
    "# Add your param info\n",
    "filtering_params = filtering_params.append(\n",
    "    pd.DataFrame(\n",
    "        {'Sample_ID':['my sample'],\n",
    "         'a':['parameter value'],\n",
    "        'b':['parameter value']}), sort = True)\n",
    "\n",
    "filtering_params"
   ]
  },
  {
   "cell_type": "code",
   "execution_count": 45,
   "metadata": {},
   "outputs": [],
   "source": [
    "# Save to file\n",
    "\n",
    "fileaname = \"filtering_params.csv\"\n",
    "filename = os.path.join(output_data_dir, filename)\n",
    "filtering_params.to_csv(filename, index = False)"
   ]
  },
  {
   "cell_type": "markdown",
   "metadata": {},
   "source": [
    "Save counts of each cell type to file"
   ]
  },
  {
   "cell_type": "code",
   "execution_count": 46,
   "metadata": {},
   "outputs": [
    {
     "name": "stdout",
     "output_type": "stream",
     "text": [
      "Cell counts by Sample_ID, by cell type:\n",
      "Sample_ID  cell_type\n",
      "A_GZ2      STROMA        33069\n",
      "           CANCER        19886\n",
      "           IMMUNE        13182\n",
      "B_GZ1      STROMA          690\n",
      "           CANCER          445\n",
      "           IMMUNE          308\n",
      "C_GZ5      STROMA           97\n",
      "           CANCER           56\n",
      "           IMMUNE           32\n",
      "D_GZ4      STROMA        23600\n",
      "           CANCER        14101\n",
      "           IMMUNE         9434\n",
      "E_GZ3      STROMA         2806\n",
      "           CANCER         1613\n",
      "           IMMUNE         1083\n",
      "F_GZ6      STROMA        27571\n",
      "           CANCER        16431\n",
      "           IMMUNE        10960\n",
      "G_GZ7      STROMA       213072\n",
      "           CANCER       127581\n",
      "           IMMUNE        85039\n",
      "I_GZ10     STROMA        16150\n",
      "           CANCER         9560\n",
      "           IMMUNE         6369\n",
      "TMA        STROMA        46063\n",
      "           CANCER        27527\n",
      "           IMMUNE        18330\n",
      "Name: cell_type, dtype: int64\n",
      "Cell counts by cell type:\n",
      "STROMA    363118\n",
      "CANCER    217200\n",
      "IMMUNE    144737\n",
      "Name: cell_type, dtype: int64\n"
     ]
    }
   ],
   "source": [
    "# By Sample_ID, by cell type\n",
    "cell_series = df.groupby('Sample_ID').cell_type.value_counts()\n",
    "filename = \"counts_by_sample_ID_by_cell_type.csv\"\n",
    "filename = os.path.join(output_data_dir, filename)\n",
    "cell_series.to_csv(filename, header = True)\n",
    "print(\"Cell counts by Sample_ID, by cell type:\")\n",
    "print(cell_series)\n",
    "\n",
    "# Just by cell type\n",
    "cell_series = df.cell_type.value_counts()\n",
    "filename = \"counts_by_cell_type.csv\"\n",
    "filename = os.path.join(output_data_dir, filename)\n",
    "cell_series.to_csv(filename, header = True)\n",
    "print(\"Cell counts by cell type:\")\n",
    "print(cell_series)"
   ]
  },
  {
   "cell_type": "markdown",
   "metadata": {},
   "source": [
    "### Establish colors to use throughout workflow"
   ]
  },
  {
   "cell_type": "markdown",
   "metadata": {},
   "source": [
    "Cell type - want colors that are categorical, since Cell Type is a non-ordered category. A categorical color palette will have dissimilar colors."
   ]
  },
  {
   "cell_type": "code",
   "execution_count": 47,
   "metadata": {},
   "outputs": [
    {
     "name": "stdout",
     "output_type": "stream",
     "text": [
      "Unique cell types are: ['IMMUNE' 'STROMA' 'CANCER']\n"
     ]
    },
    {
     "data": {
      "image/png": "[encoded data removed]",
      "text/plain": [
       "<Figure size 216x72 with 1 Axes>"
      ]
     },
     "metadata": {
      "needs_background": "light"
     },
     "output_type": "display_data"
    }
   ],
   "source": [
    "# Get those unique colors\n",
    "cell_types = ['STROMA','CANCER','IMMUNE']\n",
    "color_values = sb.color_palette(\"hls\",n_colors = len(cell_types))#'HLS'\n",
    "# each color value is a tuple of three values: (R, G, B)\n",
    "\n",
    "print(\"Unique cell types are:\",df.cell_type.unique())\n",
    "# Display those unique colors\n",
    "sb.palplot(sb.color_palette(color_values))\n",
    "\n",
    "# allow for user-input of named colors"
   ]
  },
  {
   "cell_type": "markdown",
   "metadata": {},
   "source": [
    "Store in a dictionary"
   ]
  },
  {
   "cell_type": "code",
   "execution_count": 48,
   "metadata": {},
   "outputs": [],
   "source": [
    "celltype_color_dict = dict(zip(cell_types, color_values))"
   ]
  },
  {
   "cell_type": "code",
   "execution_count": 49,
   "metadata": {},
   "outputs": [
    {
     "data": {
      "text/plain": [
       "{'STROMA': (0.86, 0.3712, 0.33999999999999997),\n",
       " 'CANCER': (0.33999999999999997, 0.86, 0.3712),\n",
       " 'IMMUNE': (0.3712, 0.33999999999999997, 0.86)}"
      ]
     },
     "execution_count": 49,
     "metadata": {},
     "output_type": "execute_result"
    }
   ],
   "source": [
    "celltype_color_dict"
   ]
  },
  {
   "cell_type": "code",
   "execution_count": 50,
   "metadata": {},
   "outputs": [
    {
     "data": {
      "image/png": "[encoded data removed]",
      "text/plain": [
       "<Figure size 216x72 with 1 Axes>"
      ]
     },
     "metadata": {
      "needs_background": "light"
     },
     "output_type": "display_data"
    }
   ],
   "source": [
    "## Here is an example of how you might specify the values yourself,\n",
    "# derived from the QC/EDA chapter\n",
    "\n",
    "#celltype_color_dict['CANCER'] = mplc.to_rgb('xkcd:dark sky blue')\n",
    "#celltype_color_dict['IMMUNE'] = mplc.to_rgb('xkcd:reddish orange')\n",
    "#celltype_color_dict['STROMA'] = mplc.to_rgb('xkcd:jungle green')\n",
    "\n",
    "sb.palplot(sb.color_palette(\n",
    "    [celltype_color_dict['IMMUNE'],\n",
    "     celltype_color_dict['STROMA'],\n",
    "     celltype_color_dict['CANCER']]))\n"
   ]
  },
  {
   "cell_type": "markdown",
   "metadata": {},
   "source": [
    "#### Save color information (mapping and legend) to metadata directory"
   ]
  },
  {
   "cell_type": "code",
   "execution_count": 51,
   "metadata": {},
   "outputs": [],
   "source": [
    "# Create dataframe\n",
    "celltype_color_df = color_dict_to_df(celltype_color_dict, \"cell_type\")\n",
    "celltype_color_df.head()\n",
    "\n",
    "# Save to file in metadatadirectory\n",
    "filename = \"celltype_color_data.csv\"\n",
    "filename = os.path.join(metadata_dir, filename)\n",
    "celltype_color_df.to_csv(filename, index = False)"
   ]
  },
  {
   "cell_type": "code",
   "execution_count": 52,
   "metadata": {},
   "outputs": [
    {
     "data": {
      "image/png": "[encoded data removed]",
      "text/plain": [
       "<Figure size 72x72 with 1 Axes>"
      ]
     },
     "metadata": {
      "needs_background": "light"
     },
     "output_type": "display_data"
    }
   ],
   "source": [
    "# Legend of cell type info only\n",
    "\n",
    "g  = plt.figure(figsize = (1,1)).add_subplot(111)\n",
    "g.axis('off')\n",
    "handles = []\n",
    "for item in celltype_color_dict.keys():\n",
    "        h = g.bar(0,0, color = celltype_color_dict[item],\n",
    "                  label = item, linewidth =0)\n",
    "        handles.append(h)\n",
    "first_legend = plt.legend(handles=handles, loc='upper right', title = 'Cell type'),\n",
    "\n",
    "\n",
    "filename = \"Celltype_legend.png\"\n",
    "filename = os.path.join(metadata_images_dir, filename)\n",
    "plt.savefig(filename, bbox_inches = 'tight')"
   ]
  },
  {
   "cell_type": "markdown",
   "metadata": {},
   "source": [
    "#### Plot the post-filtering nucleus sizes, colored by cell type"
   ]
  },
  {
   "cell_type": "code",
   "execution_count": 53,
   "metadata": {},
   "outputs": [],
   "source": [
    "make_distr_plot_per_sample(title = \"Post-filtering nucleus sizes\",\n",
    "                           dfs = [df.loc[df['cell_type'] == 'STROMA',:],\n",
    "                               df.loc[df['cell_type'] == 'IMMUNE',:],\n",
    "                                  df.loc[df['cell_type'] == 'CANCER',:]], \n",
    "                           df_names = ['Immune','Cancer','Stroma'], \n",
    "                           colors = [celltype_color_dict['STROMA'],\n",
    "                               celltype_color_dict['IMMUNE'],\n",
    "                                    celltype_color_dict['CANCER']\n",
    "                                    ], \n",
    "                           x_label = \"Nucleus Size\", \n",
    "                           legend = False,\n",
    "                           markers = ['Nucleus_Size'],\n",
    "                          location = output_images_dir)\n",
    "\n",
    "# note that the traces are layered on top of each other, so if the tallest trace is in front, \n",
    "# then the other two will be tinted accordingly. You can change around the order of the data\n",
    "# in the parameter dfs = [] above, but don't forget to also change the order of the colors = []\n",
    "# parameter accordingly!!"
   ]
  },
  {
   "cell_type": "markdown",
   "metadata": {},
   "source": [
    "#### Bar plots"
   ]
  },
  {
   "cell_type": "code",
   "execution_count": 54,
   "metadata": {},
   "outputs": [
    {
     "data": {
      "text/html": [
       "<div>\n",
       "<style scoped>\n",
       "    .dataframe tbody tr th:only-of-type {\n",
       "        vertical-align: middle;\n",
       "    }\n",
       "\n",
       "    .dataframe tbody tr th {\n",
       "        vertical-align: top;\n",
       "    }\n",
       "\n",
       "    .dataframe thead th {\n",
       "        text-align: right;\n",
       "    }\n",
       "</style>\n",
       "<table border=\"1\" class=\"dataframe\">\n",
       "  <thead>\n",
       "    <tr style=\"text-align: right;\">\n",
       "      <th></th>\n",
       "      <th>counts</th>\n",
       "      <th>Sample_ID</th>\n",
       "      <th>stroma</th>\n",
       "      <th>cancer</th>\n",
       "      <th>immune</th>\n",
       "    </tr>\n",
       "  </thead>\n",
       "  <tbody>\n",
       "    <tr>\n",
       "      <th>A_GZ2</th>\n",
       "      <td>66137</td>\n",
       "      <td>A_GZ2</td>\n",
       "      <td>33069</td>\n",
       "      <td>19886</td>\n",
       "      <td>13182</td>\n",
       "    </tr>\n",
       "    <tr>\n",
       "      <th>B_GZ1</th>\n",
       "      <td>1443</td>\n",
       "      <td>B_GZ1</td>\n",
       "      <td>690</td>\n",
       "      <td>445</td>\n",
       "      <td>308</td>\n",
       "    </tr>\n",
       "    <tr>\n",
       "      <th>C_GZ5</th>\n",
       "      <td>185</td>\n",
       "      <td>C_GZ5</td>\n",
       "      <td>97</td>\n",
       "      <td>56</td>\n",
       "      <td>32</td>\n",
       "    </tr>\n",
       "    <tr>\n",
       "      <th>D_GZ4</th>\n",
       "      <td>47135</td>\n",
       "      <td>D_GZ4</td>\n",
       "      <td>23600</td>\n",
       "      <td>14101</td>\n",
       "      <td>9434</td>\n",
       "    </tr>\n",
       "    <tr>\n",
       "      <th>E_GZ3</th>\n",
       "      <td>5502</td>\n",
       "      <td>E_GZ3</td>\n",
       "      <td>2806</td>\n",
       "      <td>1613</td>\n",
       "      <td>1083</td>\n",
       "    </tr>\n",
       "  </tbody>\n",
       "</table>\n",
       "</div>"
      ],
      "text/plain": [
       "       counts Sample_ID  stroma  cancer  immune\n",
       "A_GZ2   66137     A_GZ2   33069   19886   13182\n",
       "B_GZ1    1443     B_GZ1     690     445     308\n",
       "C_GZ5     185     C_GZ5      97      56      32\n",
       "D_GZ4   47135     D_GZ4   23600   14101    9434\n",
       "E_GZ3    5502     E_GZ3    2806    1613    1083"
      ]
     },
     "execution_count": 54,
     "metadata": {},
     "output_type": "execute_result"
    }
   ],
   "source": [
    "# Get counts for each Sample_ID, sorted by Sample_ID\n",
    "sample_counts = pd.DataFrame(df.Sample_ID.value_counts()).sort_index()\n",
    "sample_counts = sample_counts.rename(columns = {'Sample_ID':'counts'})\n",
    "sample_counts['Sample_ID'] = sample_counts.index\n",
    "#counts['color'] = counts.apply(lambda row: color_dict[row['Sample_ID']], axis = 1)\n",
    "sample_counts\n",
    "\n",
    "# There should be a better way to do this with 'groupby' or something\n",
    "stroma_counts = pd.DataFrame({'stroma':\n",
    "    df.loc[\n",
    "        df['cell_type'] == 'STROMA',:].Sample_ID.value_counts()}).sort_index()\n",
    "\n",
    "immune_counts = pd.DataFrame({'immune':\n",
    "    df.loc[\n",
    "        df['cell_type'] == 'IMMUNE',:].Sample_ID.value_counts()}).sort_index()\n",
    "\n",
    "cancer_counts = pd.DataFrame({'cancer':\n",
    "    df.loc[\n",
    "        df['cell_type'] == 'CANCER',:].Sample_ID.value_counts()}).sort_index()\n",
    "\n",
    "counts = pd.concat([sample_counts, stroma_counts,cancer_counts,immune_counts],\n",
    "                   axis = 1, sort = False)\n",
    "counts.head()"
   ]
  },
  {
   "cell_type": "code",
   "execution_count": 55,
   "metadata": {},
   "outputs": [],
   "source": [
    "def get_perc(row, cell_type):\n",
    "    total = row['stroma'] + row['immune'] + row['cancer']\n",
    "    return round(row[cell_type]/total *100,1)\n",
    "\n",
    "counts['stroma_perc'] = counts.apply(lambda row: get_perc(row, 'stroma'), axis = 1)\n",
    "counts['immune_perc'] = counts.apply(lambda row: get_perc(row, 'immune'), axis = 1)\n",
    "counts['cancer_perc'] = counts.apply(lambda row: get_perc(row, 'cancer'), axis = 1)"
   ]
  },
  {
   "cell_type": "code",
   "execution_count": 56,
   "metadata": {},
   "outputs": [],
   "source": [
    "# By sample ID only - move this to immediately post-filtering, so we can know if we adjusted the filtering parameters correctly.\n",
    "\n",
    "fig = go.Figure()\n",
    "title = 'Post-filtering BS Cell counts by Sample ID'\n",
    "\n",
    "for sample in ls_samples:\n",
    "    fig.add_trace(go.Bar(\n",
    "        x=counts.loc[counts['Sample_ID']==sample,'Sample_ID'], \n",
    "        y = counts.loc[counts['Sample_ID']==sample,'counts'],\n",
    "        text = counts.loc[counts['Sample_ID']==sample,'counts'], textposition='outside',\n",
    "        marker=dict(\n",
    "            color='rgb' + str(sample_color_dict[sample])),\n",
    "            showlegend = False\n",
    "        \n",
    "    ))\n",
    "fig.update_layout(title = title, plot_bgcolor = 'white')\n",
    "fig.update_xaxes(title_text = \"Sample ID\", linecolor = 'black')\n",
    "fig.update_yaxes(title_text = \"Cell count\", linecolor = \"black\")\n",
    "\n",
    "\n",
    "#plot(fig)\n",
    "fig.write_image(output_images_dir + \"/\" + title.replace(\" \",\"_\") + \".png\")\n"
   ]
  },
  {
   "cell_type": "code",
   "execution_count": 57,
   "metadata": {},
   "outputs": [],
   "source": [
    "# By sample ID and cell type - proportion\n",
    "\n",
    "fig = go.Figure()\n",
    "title = 'BS Cell proportions by Sample ID and tissue type'\n",
    "\n",
    "fig = go.Figure(data=[\n",
    "    go.Bar(name='Stroma', x=counts['Sample_ID'], y=counts['stroma_perc'], \n",
    "           text = counts['stroma_perc'], textposition='auto',\n",
    "           marker_color = 'rgb' + str(celltype_color_dict['STROMA'])),\n",
    "    go.Bar(name='Immune', x=counts['Sample_ID'], y=counts['immune_perc'], \n",
    "           text = counts['immune_perc'], textposition='auto',\n",
    "           marker_color = 'rgb' + str(celltype_color_dict['IMMUNE'])),\n",
    "    go.Bar(name='Cancer',x=counts['Sample_ID'], y=counts['cancer_perc'], \n",
    "           text = counts['cancer_perc'], textposition='auto', \n",
    "           marker_color = 'rgb' + str(celltype_color_dict['CANCER']))\n",
    "])\n",
    "    \n",
    "fig.update_layout(title = title, plot_bgcolor = 'white',barmode ='stack')\n",
    "fig.update_xaxes(title = \"Sample\", linecolor = 'black')\n",
    "fig.update_yaxes(title = \"Cell count\", linecolor = 'black')\n",
    "#plot(fig)\n",
    "fig.write_image(output_images_dir + \"/\" + title.replace(\" \",\"_\") + \".png\")\n"
   ]
  },
  {
   "cell_type": "code",
   "execution_count": 58,
   "metadata": {},
   "outputs": [],
   "source": [
    "# By sample ID and cell type - count\n",
    "\n",
    "fig = go.Figure()\n",
    "title = 'BS Cell counts by Sample ID and tissue type'\n",
    "\n",
    "fig = go.Figure(data=[\n",
    "    go.Bar(name='Stroma', x=counts['Sample_ID'], y=counts['stroma'], \n",
    "           text = counts['stroma'], textposition='auto',\n",
    "           marker_color = 'rgb' + str(celltype_color_dict['STROMA'])),\n",
    "    go.Bar(name='Immune', x=counts['Sample_ID'], y=counts['immune'], \n",
    "           text = counts['immune'], textposition='auto',\n",
    "           marker_color = 'rgb' + str(celltype_color_dict['IMMUNE'])),\n",
    "    go.Bar(name='Cancer',x=counts['Sample_ID'], y=counts['cancer'], \n",
    "           text = counts['cancer'], textposition='auto', \n",
    "           marker_color = 'rgb' + str(celltype_color_dict['CANCER']))\n",
    "])\n",
    "    \n",
    "fig.update_layout(title = title, plot_bgcolor = 'white',barmode ='stack')\n",
    "fig.update_xaxes(title = \"Sample\", linecolor = 'black')\n",
    "fig.update_yaxes(title = \"Cell count\", linecolor = 'black')\n",
    "#plot(fig)\n",
    "fig.write_image(output_images_dir + \"/\" + title.replace(\" \",\"_\") + \".png\")\n"
   ]
  },
  {
   "cell_type": "markdown",
   "metadata": {},
   "source": [
    "### Continue with BS"
   ]
  },
  {
   "cell_type": "markdown",
   "metadata": {},
   "source": [
    "#### Divide each marker (and its location) by the right exposure setting for each group of samples"
   ]
  },
  {
   "cell_type": "code",
   "execution_count": 59,
   "metadata": {},
   "outputs": [],
   "source": [
    "def divide_exp_time(col, exp_col):\n",
    "    exp_time = metadata.loc[metadata['full_column'] == col.name, exp_col].values[0]\n",
    "    \n",
    "    return col/exp_time\n",
    "\n",
    "#df.loc[df['ROI_slide'] == 'TMA1',~df.columns.isin(not_intensities)] = \\\n",
    "#    df.loc[df['ROI_slide'] == 'TMA1',~df.columns.isin(not_intensities)].apply(\n",
    "#    lambda column: divide_exp_time(column, 'Exp_TMA1'), axis = 0)\n",
    "\n",
    "#df.loc[df['ROI_slide'] == 'TMA2',~df.columns.isin(not_intensities)] = \\\n",
    "#    df.loc[df['ROI_slide'] == 'TMA2',~df.columns.isin(not_intensities)].apply(\n",
    "#    lambda column: divide_exp_time(column, 'Exp_TMA2'), axis = 0)\n",
    "\n",
    "df.loc[:, ~df.columns.isin(not_intensities)] = \\\n",
    "    df.loc[:, ~df.columns.isin(not_intensities)].apply(\n",
    "    lambda column: divide_exp_time(column, 'Exp'), axis = 0)"
   ]
  },
  {
   "cell_type": "markdown",
   "metadata": {},
   "source": [
    "#### Do background subtraction"
   ]
  },
  {
   "cell_type": "code",
   "execution_count": 60,
   "metadata": {},
   "outputs": [
    {
     "data": {
      "text/html": [
       "<div>\n",
       "<style scoped>\n",
       "    .dataframe tbody tr th:only-of-type {\n",
       "        vertical-align: middle;\n",
       "    }\n",
       "\n",
       "    .dataframe tbody tr th {\n",
       "        vertical-align: top;\n",
       "    }\n",
       "\n",
       "    .dataframe thead th {\n",
       "        text-align: right;\n",
       "    }\n",
       "</style>\n",
       "<table border=\"1\" class=\"dataframe\">\n",
       "  <thead>\n",
       "    <tr style=\"text-align: right;\">\n",
       "      <th></th>\n",
       "      <th>Round</th>\n",
       "      <th>Target</th>\n",
       "      <th>Exp</th>\n",
       "      <th>Channel</th>\n",
       "      <th>target_lower</th>\n",
       "      <th>full_column</th>\n",
       "      <th>marker</th>\n",
       "      <th>location</th>\n",
       "    </tr>\n",
       "  </thead>\n",
       "  <tbody>\n",
       "    <tr>\n",
       "      <th>0</th>\n",
       "      <td>R0</td>\n",
       "      <td>AF488</td>\n",
       "      <td>300</td>\n",
       "      <td>c2</td>\n",
       "      <td>af488</td>\n",
       "      <td>AF488_Cell_Intensity_Average</td>\n",
       "      <td>AF488</td>\n",
       "      <td>cell</td>\n",
       "    </tr>\n",
       "    <tr>\n",
       "      <th>1</th>\n",
       "      <td>R0</td>\n",
       "      <td>AF555</td>\n",
       "      <td>1500</td>\n",
       "      <td>c3</td>\n",
       "      <td>af555</td>\n",
       "      <td>AF555_Cell_Intensity_Average</td>\n",
       "      <td>AF555</td>\n",
       "      <td>cell</td>\n",
       "    </tr>\n",
       "    <tr>\n",
       "      <th>2</th>\n",
       "      <td>R0</td>\n",
       "      <td>AF647</td>\n",
       "      <td>1500</td>\n",
       "      <td>c4</td>\n",
       "      <td>af647</td>\n",
       "      <td>AF647_Cell_Intensity_Average</td>\n",
       "      <td>AF647</td>\n",
       "      <td>cell</td>\n",
       "    </tr>\n",
       "    <tr>\n",
       "      <th>3</th>\n",
       "      <td>R0</td>\n",
       "      <td>AF750</td>\n",
       "      <td>1500</td>\n",
       "      <td>c5</td>\n",
       "      <td>af750</td>\n",
       "      <td>AF750_Cell_Intensity_Average</td>\n",
       "      <td>AF750</td>\n",
       "      <td>cell</td>\n",
       "    </tr>\n",
       "    <tr>\n",
       "      <th>4</th>\n",
       "      <td>R1</td>\n",
       "      <td>H3K27me3</td>\n",
       "      <td>200</td>\n",
       "      <td>c2</td>\n",
       "      <td>h3k27me3</td>\n",
       "      <td>H3K27me3_Cell_Intensity_Average</td>\n",
       "      <td>H3K27me3</td>\n",
       "      <td>cell</td>\n",
       "    </tr>\n",
       "  </tbody>\n",
       "</table>\n",
       "</div>"
      ],
      "text/plain": [
       "  Round    Target   Exp Channel target_lower                      full_column  \\\n",
       "0    R0     AF488   300      c2        af488     AF488_Cell_Intensity_Average   \n",
       "1    R0     AF555  1500      c3        af555     AF555_Cell_Intensity_Average   \n",
       "2    R0     AF647  1500      c4        af647     AF647_Cell_Intensity_Average   \n",
       "3    R0     AF750  1500      c5        af750     AF750_Cell_Intensity_Average   \n",
       "4    R1  H3K27me3   200      c2     h3k27me3  H3K27me3_Cell_Intensity_Average   \n",
       "\n",
       "     marker location  \n",
       "0     AF488     cell  \n",
       "1     AF555     cell  \n",
       "2     AF647     cell  \n",
       "3     AF750     cell  \n",
       "4  H3K27me3     cell  "
      ]
     },
     "execution_count": 60,
     "metadata": {},
     "output_type": "execute_result"
    }
   ],
   "source": [
    "metadata.head()\n"
   ]
  },
  {
   "cell_type": "code",
   "execution_count": 61,
   "metadata": {},
   "outputs": [],
   "source": [
    "metadata.to_csv(\"/Users/groutm/Desktop/metadata_for_PCA_test.csv\", index = False)"
   ]
  },
  {
   "cell_type": "code",
   "execution_count": 62,
   "metadata": {},
   "outputs": [],
   "source": [
    "# this uses a df (metadata) outside of \n",
    "# the scope of the lambda...\n",
    "# careful that this might break inside of a script...\n",
    "\n",
    "def do_background_sub(col):\n",
    "    #print(col.name)\n",
    "    location = metadata.loc[metadata['full_column'] == col.name, 'location'].values[0]\n",
    "    #print('location = ' + location)\n",
    "    channel = metadata.loc[metadata['full_column'] == col.name, 'Channel'].values[0]\n",
    "    #print('channel = ' + channel)\n",
    "    af_target = metadata.loc[\n",
    "        (metadata['Channel']==channel) \\\n",
    "        & (metadata['location']==location) \\\n",
    "        &(metadata['target_lower'].str.contains(r'^af\\d{3}$')),\\\n",
    "        'full_column'].values[0]\n",
    "    #print('af_target = ' + af_target)\n",
    "    # ^ right channel, right location, right maker (AF baseline)\n",
    "    # don't want to subtract an AF channel from itself\n",
    "    if af_target == col.name:\n",
    "        return col\n",
    "    return col - df.loc[:,af_target]\n",
    "\n",
    "\n",
    "\n",
    "df.loc[:,~df.columns.isin(not_intensities)] = \\\n",
    "    df.loc[:,~df.columns.isin(not_intensities)].apply(\n",
    "    lambda column: do_background_sub(column), axis = 0)"
   ]
  },
  {
   "cell_type": "markdown",
   "metadata": {},
   "source": [
    "### Adjust for outliers"
   ]
  },
  {
   "cell_type": "code",
   "execution_count": 63,
   "metadata": {},
   "outputs": [],
   "source": [
    "#remove outliers (replace outliers with X percentile)\n",
    "outlier_percent = 0.005\n",
    "\n",
    "upper_lim = df.loc[\n",
    "    :,~df.columns.isin(not_intensities)].quantile(1 - outlier_percent)\n",
    "\n",
    "upper_outliers = (df.loc[:,~df.columns.isin(not_intensities)] > upper_lim)\n",
    "\n",
    "df.loc[:,~df.columns.isin(not_intensities)] = \\\n",
    "    df.loc[:,~df.columns.isin(not_intensities)].mask(upper_outliers, upper_lim, axis=1)  \n",
    "\n"
   ]
  },
  {
   "cell_type": "code",
   "execution_count": 64,
   "metadata": {},
   "outputs": [
    {
     "data": {
      "text/plain": [
       "53BP1_Cell_Intensity_Average         6.832279\n",
       "AF488_Cell_Intensity_Average        19.727998\n",
       "AF555_Cell_Intensity_Average         1.656746\n",
       "AF647_Cell_Intensity_Average         2.080911\n",
       "AF750_Cell_Intensity_Average         2.672120\n",
       "AXL_Cell_Intensity_Average           2.799535\n",
       "CCNA2_Cell_Intensity_Average         1.216829\n",
       "CCND1_Cell_Intensity_Average         3.208696\n",
       "CD45_Cell_Intensity_Average          2.540298\n",
       "CD4_Cell_Intensity_Average          10.925023\n",
       "CD68_Cell_Intensity_Average          4.234022\n",
       "CD8_Cell_Intensity_Average           9.717770\n",
       "EGFR_Cell_Intensity_Average          3.415605\n",
       "Ecad_Cell_Intensity_Average          9.989728\n",
       "FOXP3_Cell_Intensity_Average         1.501865\n",
       "H3K27me3_Cell_Intensity_Average     21.765149\n",
       "KI67_Cell_Intensity_Average         18.431720\n",
       "MITF_Cell_Intensity_Average          8.859274\n",
       "PCNA_Cell_Intensity_Average         42.410987\n",
       "PDGFR_Cell_Intensity_Average         2.774634\n",
       "S100_Cell_Intensity_Average        217.095536\n",
       "Vimentin_Cell_Intensity_Average    111.419710\n",
       "p4EBP1_Cell_Intensity_Average       10.473388\n",
       "p75_Cell_Intensity_Average           5.490183\n",
       "pATM_Cell_Intensity_Average          2.678883\n",
       "pATR_Cell_Intensity_Average          9.278130\n",
       "pCHK2_Cell_Intensity_Average         5.389704\n",
       "pEGFR_Cell_Intensity_Average        14.257507\n",
       "pGSK3b_Cell_Intensity_Average        6.723391\n",
       "pH2AX_Cell_Intensity_Average         2.370019\n",
       "pHH3_Cell_Intensity_Average          9.559233\n",
       "pS6_Cell_Intensity_Average           7.949636\n",
       "Name: 0.995, dtype: float64"
      ]
     },
     "execution_count": 64,
     "metadata": {},
     "output_type": "execute_result"
    }
   ],
   "source": [
    "# Diplay what the upper limits are for each marker\n",
    "upper_lim"
   ]
  },
  {
   "cell_type": "markdown",
   "metadata": {},
   "source": [
    "#### Set values < 0 to 0"
   ]
  },
  {
   "cell_type": "code",
   "execution_count": 65,
   "metadata": {},
   "outputs": [],
   "source": [
    "# set anything that is below 0 to 0, so that we can do the log transform\n",
    "# this can be improved\n",
    "for f in df.columns[~df.columns.isin(not_intensities)]:\n",
    "    df.loc[df[f] < 0,f] = 0\n"
   ]
  },
  {
   "cell_type": "markdown",
   "metadata": {},
   "source": [
    "### Drop AF columns"
   ]
  },
  {
   "cell_type": "code",
   "execution_count": 66,
   "metadata": {},
   "outputs": [],
   "source": [
    "df = df.filter(regex='^(?!AF\\d{3}).*')\n",
    "\n",
    "## annotate the regex"
   ]
  },
  {
   "cell_type": "markdown",
   "metadata": {},
   "source": [
    "## Further background subtraction visualizations"
   ]
  },
  {
   "cell_type": "markdown",
   "metadata": {},
   "source": [
    "### Heatmap"
   ]
  },
  {
   "cell_type": "markdown",
   "metadata": {},
   "source": [
    "We will only be plotting ~10k cells in the interest of time/computing resources. We want these 10k lines in our original df to be sampled randomly, without replacement, with the caveat that the proportions of all samples in the data remains the same in this subset. If the size of the dataframe is > 10k rows, then we will proceed with the entire dataset."
   ]
  },
  {
   "cell_type": "code",
   "execution_count": 67,
   "metadata": {},
   "outputs": [],
   "source": [
    "subset_row_count = 10000"
   ]
  },
  {
   "cell_type": "code",
   "execution_count": 68,
   "metadata": {},
   "outputs": [],
   "source": [
    "subset_df = create_subset(df, 'Sample_ID', subset_row_count, 'equal')"
   ]
  },
  {
   "cell_type": "markdown",
   "metadata": {},
   "source": [
    "How many lines for each sample ID are in our subset df?"
   ]
  },
  {
   "cell_type": "code",
   "execution_count": 69,
   "metadata": {},
   "outputs": [
    {
     "data": {
      "text/plain": [
       "A_GZ2     1111\n",
       "B_GZ1     1111\n",
       "C_GZ5      185\n",
       "D_GZ4     1111\n",
       "E_GZ3     1111\n",
       "F_GZ6     1111\n",
       "G_GZ7     1111\n",
       "I_GZ10    1111\n",
       "TMA       1111\n",
       "Name: Sample_ID, dtype: int64"
      ]
     },
     "execution_count": 69,
     "metadata": {},
     "output_type": "execute_result"
    }
   ],
   "source": [
    "subset_df['Sample_ID'].value_counts().sort_index()"
   ]
  },
  {
   "cell_type": "markdown",
   "metadata": {},
   "source": [
    "How do the proportions of cells in the original and subset dfs compare?"
   ]
  },
  {
   "cell_type": "code",
   "execution_count": 70,
   "metadata": {},
   "outputs": [
    {
     "data": {
      "text/plain": [
       "A_GZ2     0.091217\n",
       "B_GZ1     0.001990\n",
       "C_GZ5     0.000255\n",
       "D_GZ4     0.065009\n",
       "E_GZ3     0.007588\n",
       "F_GZ6     0.075804\n",
       "G_GZ7     0.587117\n",
       "I_GZ10    0.044244\n",
       "TMA       0.126777\n",
       "Name: Sample_ID, dtype: float64"
      ]
     },
     "execution_count": 70,
     "metadata": {},
     "output_type": "execute_result"
    }
   ],
   "source": [
    "df['Sample_ID'].value_counts().sort_index()/df.shape[0]"
   ]
  },
  {
   "cell_type": "code",
   "execution_count": 71,
   "metadata": {},
   "outputs": [
    {
     "data": {
      "text/plain": [
       "A_GZ2     0.122451\n",
       "B_GZ1     0.122451\n",
       "C_GZ5     0.020390\n",
       "D_GZ4     0.122451\n",
       "E_GZ3     0.122451\n",
       "F_GZ6     0.122451\n",
       "G_GZ7     0.122451\n",
       "I_GZ10    0.122451\n",
       "TMA       0.122451\n",
       "Name: Sample_ID, dtype: float64"
      ]
     },
     "execution_count": 71,
     "metadata": {},
     "output_type": "execute_result"
    }
   ],
   "source": [
    "subset_df['Sample_ID'].value_counts().sort_index()/subset_df.shape[0]"
   ]
  },
  {
   "cell_type": "markdown",
   "metadata": {},
   "source": [
    "Get data structures to map colors to columns and rows..."
   ]
  },
  {
   "cell_type": "code",
   "execution_count": 72,
   "metadata": {},
   "outputs": [
    {
     "data": {
      "text/plain": [
       "A_GZ2_Cell_44292    (0.9677975592919913, 0.44127456009157356, 0.53...\n",
       "A_GZ2_Cell_4520     (0.9677975592919913, 0.44127456009157356, 0.53...\n",
       "A_GZ2_Cell_63038    (0.9677975592919913, 0.44127456009157356, 0.53...\n",
       "A_GZ2_Cell_72045    (0.9677975592919913, 0.44127456009157356, 0.53...\n",
       "Name: Sample_ID, dtype: object"
      ]
     },
     "execution_count": 72,
     "metadata": {},
     "output_type": "execute_result"
    }
   ],
   "source": [
    "sample_row_colors = subset_df.Sample_ID.map(sample_color_dict)\n",
    "\n",
    "sample_row_colors[1:5]"
   ]
  },
  {
   "cell_type": "code",
   "execution_count": 73,
   "metadata": {},
   "outputs": [
    {
     "data": {
      "text/plain": [
       "53BP1_Cell_Intensity_Average    (0.25098039215686274, 0.8784313725490196, 0.81...\n",
       "AXL_Cell_Intensity_Average                         (1.0, 0.6470588235294118, 0.0)\n",
       "CCNA2_Cell_Intensity_Average                       (1.0, 0.6470588235294118, 0.0)\n",
       "CCND1_Cell_Intensity_Average                                      (1.0, 0.0, 0.0)\n",
       "CD45_Cell_Intensity_Average     (0.25098039215686274, 0.8784313725490196, 0.81...\n",
       "Name: Channel, dtype: object"
      ]
     },
     "execution_count": 73,
     "metadata": {},
     "output_type": "execute_result"
    }
   ],
   "source": [
    "column_channel_colors = pd.merge(pd.DataFrame(pd.Series(\n",
    "    subset_df.loc[:,~subset_df.columns.isin(not_intensities)].columns.values)), \n",
    "                  metadata, how = 'left',\n",
    "         left_on = 0, right_on = 'full_column')[[0,'Channel']]['Channel'].map(channel_color_dict)\n",
    "\n",
    "\n",
    "column_channel_colors.index = subset_df.loc[:,~subset_df.columns.isin(not_intensities)].columns.values\n",
    "\n",
    "column_channel_colors.head()"
   ]
  },
  {
   "cell_type": "code",
   "execution_count": 74,
   "metadata": {},
   "outputs": [
    {
     "data": {
      "text/plain": [
       "53BP1_Cell_Intensity_Average    (0.3736023974468758, 0.214424058315835, 0.3978...\n",
       "AXL_Cell_Intensity_Average      (0.4347275623260717, 0.45841778084048856, 0.66...\n",
       "CCNA2_Cell_Intensity_Average    (0.3736023974468758, 0.214424058315835, 0.3978...\n",
       "CCND1_Cell_Intensity_Average    (0.4347275623260717, 0.45841778084048856, 0.66...\n",
       "CD45_Cell_Intensity_Average     (0.6251959781814483, 0.8211474484187268, 0.771...\n",
       "Name: Round, dtype: object"
      ]
     },
     "execution_count": 74,
     "metadata": {},
     "output_type": "execute_result"
    }
   ],
   "source": [
    "column_round_colors = pd.merge(pd.DataFrame(pd.Series(\n",
    "    subset_df.loc[:,~subset_df.columns.isin(not_intensities)].columns.values)), \n",
    "                  metadata, how = 'left',\n",
    "         left_on = 0, right_on = 'full_column')[[0,'Round']]['Round'].map(round_color_dict)\n",
    "\n",
    "\n",
    "column_round_colors.index = subset_df.loc[:,~subset_df.columns.isin(not_intensities)].columns.values\n",
    "\n",
    "column_round_colors.head()"
   ]
  },
  {
   "cell_type": "code",
   "execution_count": 75,
   "metadata": {},
   "outputs": [],
   "source": [
    "# Create data structure to hold everything we need for row/column annotations\n",
    "# annotations is a dictionary\n",
    "## IMPORTANT - if you use 'annotations', it MUST have both 'rows' and 'cols'\n",
    "## objects inside. These can be empty lists, but they must be there!\n",
    "annotations = {}\n",
    "\n",
    "# create a data structure to hold everything we need for only row annotations\n",
    "# row_annotations is a list, where each item therein is a dictioary corresponding\n",
    "# to all of the data pertaining to that particular annotation\n",
    "# Adding each item (e.g., Sample, then Cluster), one at a time to ensure ordering\n",
    "# is as anticipated on figure\n",
    "row_annotations = []\n",
    "row_annotations.append({'label':'Sample','type':'row','mapping':sample_row_colors,'dict':sample_color_dict,\n",
    "                        'location':'center left','bbox_to_anchor':(0, 0.5)})\n",
    "# Add all row information into the annotations dictionary\n",
    "annotations['rows'] = row_annotations\n",
    "\n",
    "\n",
    "# Now we repeat the process for column annotations\n",
    "col_annotations = []\n",
    "col_annotations.append({'label':'Round','type':'column','mapping':column_round_colors,'dict':round_color_dict,\n",
    "                       'location':'upper right','bbox_to_anchor':(1,0.50)})\n",
    "\n",
    "col_annotations.append({'label':'Column','type':'column','mapping':column_channel_colors,'dict':channel_color_dict,\n",
    "                       'location':'upper right','bbox_to_anchor':(1,0.75)})\n",
    "annotations['cols'] = col_annotations"
   ]
  },
  {
   "cell_type": "markdown",
   "metadata": {},
   "source": [
    "#### Actually plot the heatmap"
   ]
  },
  {
   "cell_type": "code",
   "execution_count": 76,
   "metadata": {},
   "outputs": [
    {
     "data": {
      "image/png": "[encoded data removed]",
      "text/plain": [
       "<Figure size 2880x2160 with 6 Axes>"
      ]
     },
     "metadata": {},
     "output_type": "display_data"
    }
   ],
   "source": [
    "heatmap_function(data = subset_df.loc[:,~subset_df.columns.isin(not_intensities)],\n",
    "    title = \"Background substraction heatmap\",\n",
    "               # define method, metric, and color map\n",
    "          method = 'ward', metric = 'euclidean',cmap = 'coolwarm',\n",
    "               # colorbar (legend coloring of main plot) \n",
    "               cbar_kws = {'label':'BS Intens.'},\n",
    "               # xticklabels - want to have the nicknames instead of full names\n",
    "    xticklabels = [full_to_short_names[name] for name in \n",
    "                     subset_df.loc[:,\n",
    "                                 ~subset_df.columns.isin(not_intensities)].columns.values],\n",
    "                 save_loc = output_images_dir,\n",
    "                 row_cluster = True, col_cluster = True,\n",
    "                    annotations = annotations\n",
    "          )"
   ]
  },
  {
   "cell_type": "markdown",
   "metadata": {},
   "source": [
    "   #### XY plot - one per sample, colored by cell type"
   ]
  },
  {
   "cell_type": "markdown",
   "metadata": {},
   "source": [
    "I needed to make a subset of the original df, since the original was too big for my computer to plot"
   ]
  },
  {
   "cell_type": "code",
   "execution_count": 77,
   "metadata": {},
   "outputs": [],
   "source": [
    "subset_row_count = 10000"
   ]
  },
  {
   "cell_type": "code",
   "execution_count": 78,
   "metadata": {},
   "outputs": [
    {
     "name": "stdout",
     "output_type": "stream",
     "text": [
      "here\n"
     ]
    }
   ],
   "source": [
    "subset_df = create_subset(df, 'Sample_ID', subset_row_count, 'original')"
   ]
  },
  {
   "cell_type": "markdown",
   "metadata": {},
   "source": [
    "How many lines for each sample ID are in our subset df?"
   ]
  },
  {
   "cell_type": "code",
   "execution_count": 79,
   "metadata": {},
   "outputs": [
    {
     "data": {
      "text/plain": [
       "A_GZ2      912\n",
       "B_GZ1       20\n",
       "C_GZ5        3\n",
       "D_GZ4      650\n",
       "E_GZ3       76\n",
       "F_GZ6      758\n",
       "G_GZ7     5871\n",
       "I_GZ10     442\n",
       "TMA       1268\n",
       "Name: Sample_ID, dtype: int64"
      ]
     },
     "execution_count": 79,
     "metadata": {},
     "output_type": "execute_result"
    }
   ],
   "source": [
    "subset_df['Sample_ID'].value_counts().sort_index()"
   ]
  },
  {
   "cell_type": "markdown",
   "metadata": {},
   "source": [
    "How do the proportions of cells in the original and subset dfs compare?"
   ]
  },
  {
   "cell_type": "code",
   "execution_count": 80,
   "metadata": {},
   "outputs": [
    {
     "data": {
      "text/plain": [
       "A_GZ2     0.091217\n",
       "B_GZ1     0.001990\n",
       "C_GZ5     0.000255\n",
       "D_GZ4     0.065009\n",
       "E_GZ3     0.007588\n",
       "F_GZ6     0.075804\n",
       "G_GZ7     0.587117\n",
       "I_GZ10    0.044244\n",
       "TMA       0.126777\n",
       "Name: Sample_ID, dtype: float64"
      ]
     },
     "execution_count": 80,
     "metadata": {},
     "output_type": "execute_result"
    }
   ],
   "source": [
    "df['Sample_ID'].value_counts().sort_index()/df.shape[0]"
   ]
  },
  {
   "cell_type": "code",
   "execution_count": 81,
   "metadata": {},
   "outputs": [
    {
     "data": {
      "text/plain": [
       "A_GZ2     0.0912\n",
       "B_GZ1     0.0020\n",
       "C_GZ5     0.0003\n",
       "D_GZ4     0.0650\n",
       "E_GZ3     0.0076\n",
       "F_GZ6     0.0758\n",
       "G_GZ7     0.5871\n",
       "I_GZ10    0.0442\n",
       "TMA       0.1268\n",
       "Name: Sample_ID, dtype: float64"
      ]
     },
     "execution_count": 81,
     "metadata": {},
     "output_type": "execute_result"
    }
   ],
   "source": [
    "subset_df['Sample_ID'].value_counts().sort_index()/subset_df.shape[0]"
   ]
  },
  {
   "cell_type": "code",
   "execution_count": 82,
   "metadata": {},
   "outputs": [],
   "source": [
    "for sample in ls_samples:\n",
    "    location_colors = subset_df.loc[subset_df['Sample_ID'] == sample,['Nuc_X','Nuc_Y_Inv','cell_type']]\n",
    "\n",
    "    fig = go.Figure()\n",
    "    title = sample + \" Background Subtracted XY Map\"\n",
    "\n",
    "    for celltype in subset_df.loc[subset_df['Sample_ID'] == sample,'cell_type'].unique():\n",
    "        fig.add_scatter(\n",
    "            mode = 'markers',\n",
    "            marker=dict(\n",
    "                        size=2, opacity = 0.70, # size is dot size, higher opacity = less opaque\n",
    "                        color='rgb' + str(celltype_color_dict[celltype])#,\n",
    "                #line = dict(width = 2, color = 'gray') # line around each marker\n",
    "                       ),\n",
    "        x = location_colors.loc[location_colors['cell_type']==celltype,'Nuc_X'],\n",
    "        y = location_colors.loc[location_colors['cell_type']==celltype,'Nuc_Y_Inv'],\n",
    "        name = celltype)\n",
    "\n",
    "\n",
    "    fig.update_layout(title = title, plot_bgcolor = 'white',\n",
    "                     legend= {'itemsizing': 'constant'}) # make the legend dots a bit bigger    \n",
    "    fig.update_xaxes(title_text = 'Nuc_X', linecolor = 'black')\n",
    "    fig.update_yaxes(title_text = 'Nuc_Y_Inv', linecolor = 'black')\n",
    "\n",
    "\n",
    "    #plot(fig)\n",
    "    fig.write_image(output_images_dir + \"/\" + title.replace(\" \",\"_\") + \".png\")\n",
    "\n"
   ]
  },
  {
   "cell_type": "markdown",
   "metadata": {},
   "source": [
    "### R Shiny - PCA"
   ]
  },
  {
   "cell_type": "code",
   "execution_count": 83,
   "metadata": {},
   "outputs": [],
   "source": [
    "filename = \"for_PCA.csv\"\n",
    "filename = os.path.join(output_data_dir, filename)\n",
    "subset_df.to_csv(filename, index = False)"
   ]
  },
  {
   "cell_type": "markdown",
   "metadata": {},
   "source": [
    "### Distributions"
   ]
  },
  {
   "cell_type": "markdown",
   "metadata": {},
   "source": [
    "#### One per sample, one per marker"
   ]
  },
  {
   "cell_type": "raw",
   "metadata": {},
   "source": [
    "# per-sample, per-marker distribution plots\n",
    "\n",
    "df = df.rename(columns = full_to_short_names)\n",
    "\n",
    "for sample in ls_samples:\n",
    "#for sample in [s for s in ls_samples if df.loc[df['Sample_ID'] == s,:].shape[0] > 0]:\n",
    "#for sample in ['ww10','TMA','ww12']:\n",
    "    for marker in [m for m in df.columns.values if m not in not_intensities]:\n",
    "        make_distr_plot_per_sample(\n",
    "        title = sample + \" \" + marker + \" BS\",\n",
    "        dfs = [\n",
    "            df.loc[df['Sample_ID']==sample,:].copy()],\n",
    "        df_names = [sample],\n",
    "        colors = [sample_color_dict[sample]],\n",
    "        x_label = \"Intensity\",\n",
    "        legend = False,\n",
    "        markers = marker,\n",
    "        location = output_images_dir)     \n",
    "\n",
    "df = df.rename(columns = short_to_full_names)\n"
   ]
  },
  {
   "cell_type": "markdown",
   "metadata": {},
   "source": [
    "#### Distributions - one per channel"
   ]
  },
  {
   "cell_type": "markdown",
   "metadata": {},
   "source": [
    "All samples are represented individually on each plot"
   ]
  },
  {
   "cell_type": "code",
   "execution_count": 84,
   "metadata": {},
   "outputs": [
    {
     "data": {
      "text/html": [
       "<div>\n",
       "<style scoped>\n",
       "    .dataframe tbody tr th:only-of-type {\n",
       "        vertical-align: middle;\n",
       "    }\n",
       "\n",
       "    .dataframe tbody tr th {\n",
       "        vertical-align: top;\n",
       "    }\n",
       "\n",
       "    .dataframe thead th {\n",
       "        text-align: right;\n",
       "    }\n",
       "</style>\n",
       "<table border=\"1\" class=\"dataframe\">\n",
       "  <thead>\n",
       "    <tr style=\"text-align: right;\">\n",
       "      <th></th>\n",
       "      <th>Target</th>\n",
       "      <th>Channel</th>\n",
       "    </tr>\n",
       "  </thead>\n",
       "  <tbody>\n",
       "    <tr>\n",
       "      <th>0</th>\n",
       "      <td>AF488</td>\n",
       "      <td>c2</td>\n",
       "    </tr>\n",
       "    <tr>\n",
       "      <th>1</th>\n",
       "      <td>AF555</td>\n",
       "      <td>c3</td>\n",
       "    </tr>\n",
       "    <tr>\n",
       "      <th>2</th>\n",
       "      <td>AF647</td>\n",
       "      <td>c4</td>\n",
       "    </tr>\n",
       "    <tr>\n",
       "      <th>3</th>\n",
       "      <td>AF750</td>\n",
       "      <td>c5</td>\n",
       "    </tr>\n",
       "  </tbody>\n",
       "</table>\n",
       "</div>"
      ],
      "text/plain": [
       "  Target Channel\n",
       "0  AF488      c2\n",
       "1  AF555      c3\n",
       "2  AF647      c4\n",
       "3  AF750      c5"
      ]
     },
     "execution_count": 84,
     "metadata": {},
     "output_type": "execute_result"
    }
   ],
   "source": [
    "metadata.loc[ (metadata['target_lower'].str.contains(r'^af\\d{3}$')), ['Target','Channel']]"
   ]
  },
  {
   "cell_type": "raw",
   "metadata": {},
   "source": [
    "for c in metadata.Channel.unique():\n",
    "    my_cols = metadata.loc[metadata['Channel'] == c, 'full_column']\n",
    "    channel_data = df.loc[:,[f for f in my_cols if f in df.columns]]\n",
    "    channel_data = channel_data.rename(columns = full_to_short_names)\n",
    "    wavelength = metadata.loc[(metadata['Channel'] == c) \\\n",
    "                              & (metadata['target_lower'].str.contains(r'^af\\d{3}$')), 'Target'].values[0]\n",
    "    make_distr_plot_per_sample(\n",
    "        title = \"Distribution of \" + wavelength + \" markers across all BS cells\",\n",
    "        dfs = [channel_data],\n",
    "            df_names = [''],\n",
    "                              colors = sb.color_palette(\"hls\",n_colors = channel_data.shape[1]),\n",
    "                              x_label = \"Intensity\",\n",
    "                              legend = True,\n",
    "    location = output_images_dir, not_intensities = not_intensities)\n",
    "\n",
    "## make sure it's clear how to set xlims manually for these plots"
   ]
  },
  {
   "cell_type": "markdown",
   "metadata": {},
   "source": [
    "### Scatterplot - cell size vs nucleus size, color = nulceus roundess"
   ]
  },
  {
   "cell_type": "markdown",
   "metadata": {},
   "source": [
    "Useful now that we have performed filtering. Note that real workflow will use the appropriate features that are lacking in this dataset."
   ]
  },
  {
   "cell_type": "code",
   "execution_count": 85,
   "metadata": {},
   "outputs": [
    {
     "data": {
      "text/plain": [
       "Index(['Cell_Size', 'Nuc_X', 'Nuc_X_Inv', 'Nuc_Y', 'Nuc_Y_Inv',\n",
       "       'Nucleus_Roundness', 'Nucleus_Size', 'ROI_index', 'Sample_ID',\n",
       "       'cell_type'],\n",
       "      dtype='object')"
      ]
     },
     "execution_count": 85,
     "metadata": {},
     "output_type": "execute_result"
    }
   ],
   "source": [
    "df.columns[df.columns.isin(not_intensities)]"
   ]
  },
  {
   "cell_type": "code",
   "execution_count": 86,
   "metadata": {},
   "outputs": [],
   "source": [
    "title = \"Nucleus size by cell size for post-filtering data\"\n",
    "x_label = \"Nucleus Size\"\n",
    "y_label = \"Cell Size\" # cell size\n",
    "\n",
    "fig = px.scatter(subset_df, x=\"Cell_Size\", y=\"Nucleus_Size\",\n",
    "                 color='Nucleus_Roundness')\n",
    "                 \n",
    "fig.update_layout(title_text=title, font=dict(size=18), \n",
    "        plot_bgcolor = 'white', showlegend = True )\n",
    "\n",
    "# Adjust opacity of traces and size of marker\n",
    "fig.update_traces(opacity=0.6, marker ={'size':5})\n",
    "# Adjust x-axis parameters\n",
    "fig.update_xaxes(title_text = x_label, showline=True, linewidth=2, linecolor='black', \n",
    "        tickfont=dict(size=18))\n",
    "    # Adjust y-axis parameters\n",
    "fig.update_yaxes(title_text = y_label, showline=True, linewidth=2, linecolor='black',\n",
    "        tickfont=dict(size=18))\n",
    "    \n",
    "#plot(fig)\n",
    "filename = title.replace(\" \",\"_\") + \".png\"\n",
    "filename = os.path.join(output_images_dir, filename)\n",
    "fig.write_image(filename)"
   ]
  },
  {
   "cell_type": "markdown",
   "metadata": {},
   "source": [
    "### Drop any other rows or columns we want to before saving data"
   ]
  },
  {
   "cell_type": "code",
   "execution_count": 87,
   "metadata": {},
   "outputs": [
    {
     "data": {
      "text/plain": [
       "array(['53BP1_Cell_Intensity_Average', 'AXL_Cell_Intensity_Average',\n",
       "       'CCNA2_Cell_Intensity_Average', 'CCND1_Cell_Intensity_Average',\n",
       "       'CD45_Cell_Intensity_Average', 'CD4_Cell_Intensity_Average',\n",
       "       'CD68_Cell_Intensity_Average', 'CD8_Cell_Intensity_Average',\n",
       "       'Cell_Size', 'EGFR_Cell_Intensity_Average',\n",
       "       'Ecad_Cell_Intensity_Average', 'FOXP3_Cell_Intensity_Average',\n",
       "       'H3K27me3_Cell_Intensity_Average', 'KI67_Cell_Intensity_Average',\n",
       "       'MITF_Cell_Intensity_Average', 'Nuc_X', 'Nuc_X_Inv', 'Nuc_Y',\n",
       "       'Nuc_Y_Inv', 'Nucleus_Roundness', 'Nucleus_Size',\n",
       "       'PCNA_Cell_Intensity_Average', 'PDGFR_Cell_Intensity_Average',\n",
       "       'ROI_index', 'S100_Cell_Intensity_Average', 'Sample_ID',\n",
       "       'Vimentin_Cell_Intensity_Average', 'p4EBP1_Cell_Intensity_Average',\n",
       "       'p75_Cell_Intensity_Average', 'pATM_Cell_Intensity_Average',\n",
       "       'pATR_Cell_Intensity_Average', 'pCHK2_Cell_Intensity_Average',\n",
       "       'pEGFR_Cell_Intensity_Average', 'pGSK3b_Cell_Intensity_Average',\n",
       "       'pH2AX_Cell_Intensity_Average', 'pHH3_Cell_Intensity_Average',\n",
       "       'pS6_Cell_Intensity_Average', 'cell_type'], dtype=object)"
      ]
     },
     "execution_count": 87,
     "metadata": {},
     "output_type": "execute_result"
    }
   ],
   "source": [
    "# Let's take a look\n",
    "df.columns.values"
   ]
  },
  {
   "cell_type": "markdown",
   "metadata": {},
   "source": [
    "For the sake of example, I will operate on a copy of df, called df_copy"
   ]
  },
  {
   "cell_type": "code",
   "execution_count": null,
   "metadata": {},
   "outputs": [],
   "source": [
    "# You MUST do df.copy()\n",
    "# 'df_copy = df' would essentially \n",
    "# give you two different names for the\n",
    "# SAME dataframe, so operating on one\n",
    "# would also operate on the other\n",
    "df_copy = df.copy()"
   ]
  },
  {
   "cell_type": "markdown",
   "metadata": {},
   "source": [
    "#### Operate on entire rows or columns"
   ]
  },
  {
   "cell_type": "code",
   "execution_count": null,
   "metadata": {},
   "outputs": [],
   "source": [
    "# Drop columns\n",
    "my_cols = []\n",
    "df_copy = df_copy.drop(columns = my_cols)"
   ]
  },
  {
   "cell_type": "code",
   "execution_count": null,
   "metadata": {},
   "outputs": [],
   "source": [
    "# Keep only specific columns (explained below)\n",
    "my_cols = []\n",
    "my_cols = df.columns.values\n",
    "df_copy = df_copy.loc[:,my_cols]"
   ]
  },
  {
   "cell_type": "markdown",
   "metadata": {},
   "source": [
    "#### Operate on rows and columns using filtering criteria"
   ]
  },
  {
   "cell_type": "code",
   "execution_count": null,
   "metadata": {},
   "outputs": [],
   "source": [
    "# Keep only certain rows based off of criteria\n",
    "\n",
    "# use df.loc[] to filter\n",
    "# df.loc[rows,columns]\n",
    "# df.loc[:,certain_cols] --> keep all rows ':', only certain cols\n",
    "# df.loc[certain_rows,:] --> keep only certain row, all cols ':'\n",
    "\n",
    "# Say we only want certain values for Sample_ID\n",
    "print(df_copy.Sample_ID.unique())\n",
    "keep = ['TMA1.1','TMA1.2','TMA1.3','TMA2.1','TMA2.2','TMA2.3']\n",
    "df_copy = df_copy.loc[df_copy['Sample_ID'].isin(keep),:]\n",
    "print(df_copy.Sample_ID.unique())"
   ]
  },
  {
   "cell_type": "code",
   "execution_count": null,
   "metadata": {},
   "outputs": [],
   "source": [
    "# Filter on multiple criteria\n",
    "# '&' or 'and'\n",
    "# '|' or 'or'\n",
    "# you MUST have parentheses around each logic expression!\n",
    "df_copy = df_copy.loc[\n",
    "    (df_copy['Sample_ID'].isin(['TMA1.1','TMA1.2','TMA1.3'])) \\\n",
    "    ## backslash above used to break line for readability, but tell Python to act like it's all one line\n",
    "        | (df_copy['Sample_ID'].isin(['TMA2.1','TMA2.2','TMA2.3'])),:]\n",
    "print(df_copy.Sample_ID.unique())"
   ]
  },
  {
   "cell_type": "code",
   "execution_count": null,
   "metadata": {},
   "outputs": [],
   "source": [
    "# Remove rows based off of certain criteria\n",
    "# note the negating tilde '~'!\n",
    "\n",
    "df_copy = df_copy.loc[\n",
    "    (~df_copy['Sample_ID'].isin(['TMA1.1','TMA1.2','TMA1.3'])) \\\n",
    "    ## backslash above used to break line for readability, but tell Python to act like it's all one line\n",
    "        & (~df_copy['Sample_ID'].isin(['TMA2.1','TMA2.2','TMA2.3'])),:]\n",
    "print(df_copy.Sample_ID.unique())"
   ]
  },
  {
   "cell_type": "markdown",
   "metadata": {},
   "source": [
    "### Save the data by Sample_ID"
   ]
  },
  {
   "cell_type": "code",
   "execution_count": 88,
   "metadata": {},
   "outputs": [
    {
     "name": "stdout",
     "output_type": "stream",
     "text": [
      "File by name /Users/groutm/Desktop/gz_new/gz_new_bs/A_GZ2_bs.csv already exists.\n",
      "File by name /Users/groutm/Desktop/gz_new/gz_new_bs/B_GZ1_bs.csv already exists.\n",
      "File by name /Users/groutm/Desktop/gz_new/gz_new_bs/C_GZ5_bs.csv already exists.\n",
      "File by name /Users/groutm/Desktop/gz_new/gz_new_bs/D_GZ4_bs.csv already exists.\n",
      "File by name /Users/groutm/Desktop/gz_new/gz_new_bs/E_GZ3_bs.csv already exists.\n",
      "File by name /Users/groutm/Desktop/gz_new/gz_new_bs/F_GZ6_bs.csv already exists.\n",
      "File by name /Users/groutm/Desktop/gz_new/gz_new_bs/G_GZ7_bs.csv already exists.\n",
      "File by name /Users/groutm/Desktop/gz_new/gz_new_bs/H_GZ9_bs.csv already exists.\n",
      "File by name /Users/groutm/Desktop/gz_new/gz_new_bs/I_GZ10_bs.csv already exists.\n",
      "File by name /Users/groutm/Desktop/gz_new/gz_new_bs/TMA_bs.csv already exists.\n"
     ]
    }
   ],
   "source": [
    "# Check for existence of output file first\n",
    "for sample in ls_samples:\n",
    "    filename = os.path.join(output_data_dir+ \"/\" + sample + \"_\" + step_suffix + \".csv\")\n",
    "    if os.path.exists(filename):\n",
    "        print(\"File by name \"+filename+\" already exists.\")"
   ]
  },
  {
   "cell_type": "code",
   "execution_count": 89,
   "metadata": {},
   "outputs": [],
   "source": [
    "# Save output files\n",
    "for sample in ls_samples:\n",
    "    df_save = df.loc[df['Sample_ID'] == sample,:]\n",
    "    filename = os.path.join(output_data_dir,   sample + \"_\" + step_suffix + \".csv\")\n",
    "    df_save.to_csv(filename, index = True)\n"
   ]
  },
  {
   "cell_type": "code",
   "execution_count": null,
   "metadata": {},
   "outputs": [],
   "source": []
  }
 ],
 "metadata": {
  "kernelspec": {
   "display_name": "Python [default]",
   "language": "python",
   "name": "python3"
  },
  "language_info": {
   "codemirror_mode": {
    "name": "ipython",
    "version": 3
   },
   "file_extension": ".py",
   "mimetype": "text/x-python",
   "name": "python",
   "nbconvert_exporter": "python",
   "pygments_lexer": "ipython3",
   "version": "3.5.6"
  }
 },
 "nbformat": 4,
 "nbformat_minor": 4
}
