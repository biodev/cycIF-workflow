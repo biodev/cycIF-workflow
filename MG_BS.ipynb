{
 "cells": [
  {
   "cell_type": "markdown",
   "metadata": {},
   "source": [
    "# Background subtraction notebook\n",
    "\n",
    "12/04/2019"
   ]
  },
  {
   "cell_type": "code",
   "execution_count": null,
   "metadata": {},
   "outputs": [],
   "source": [
    "import os\n",
    "import random\n",
    "import re\n",
    "import pandas as pd\n",
    "import numpy as np\n",
    "import seaborn as sb\n",
    "import matplotlib.pyplot as plt\n",
    "import matplotlib.colors as mplc\n",
    "import subprocess\n",
    "\n",
    "\n",
    "from scipy import signal\n",
    "\n",
    "import plotly.figure_factory as ff\n",
    "import plotly\n",
    "import plotly.graph_objs as go\n",
    "from plotly.offline import download_plotlyjs, init_notebook_mode, plot, iplot \n",
    "import plotly.express as px\n",
    "init_notebook_mode(connected = True)"
   ]
  },
  {
   "cell_type": "code",
   "execution_count": null,
   "metadata": {},
   "outputs": [],
   "source": [
    "from cycif_modules import *"
   ]
  },
  {
   "cell_type": "markdown",
   "metadata": {},
   "source": [
    "## Functions"
   ]
  },
  {
   "cell_type": "code",
   "execution_count": null,
   "metadata": {},
   "outputs": [],
   "source": [
    "# This may change for each experiment, so I have not sequestered\n",
    "# this code in the my_modules.py file\n",
    "\n",
    "# This function takes in a dataframe, changes the names\n",
    "# of the column in various ways, and returns the dataframe.\n",
    "# For best accuracy and generalizability, the code uses\n",
    "# regular expressions (regex) to find strings for replacement.\n",
    "def apply_header_changes(df):\n",
    "    # remove lowercase x at beginning of name\n",
    "    df.columns = df.columns.str.replace(\"^x\",\"\")\n",
    "    # remove space at beginning of name\n",
    "    df.columns = df.columns.str.replace(\"^ \",\"\")\n",
    "    # replace space with underscore\n",
    "    df.columns = df.columns.str.replace(\" \",\"_\")\n",
    "    # fix typos\n",
    "    df.columns = df.columns.str.replace(\"CKD1\",\"CDK1\")\n",
    "    df.columns = df.columns.str.replace(\"GAG3\",\"GATA3\")\n",
    "    return df"
   ]
  },
  {
   "cell_type": "markdown",
   "metadata": {},
   "source": [
    "## Begin Workflow"
   ]
  },
  {
   "cell_type": "markdown",
   "metadata": {},
   "source": [
    "### Get directories"
   ]
  },
  {
   "cell_type": "code",
   "execution_count": null,
   "metadata": {},
   "outputs": [],
   "source": [
    "#set directory\n",
    "## needs to be user iput\n",
    "\n",
    "# Base directory for project\n",
    "base_dir = '/Users/groutm/Desktop/weewin'\n",
    "base_dir = '/Users/groutm/Desktop/reproducibility'\n",
    "base_dir = 'Z:\\Marilyne\\Axioscan\\Gao_Zhang\\Segmentation'\n",
    "#base_dir = '/Users/groutm/Desktop/gz'\n",
    "\n",
    "project_name = 'ww'\n",
    "project_name = 'repro'\n",
    "project_name = 'gz'\n",
    "\n",
    "\n",
    "step_suffix = 'bs'\n",
    "previous_step_suffix_long = \"_qc_eda\"\n",
    "\n",
    "# Initial input data directory\n",
    "#input_data_dir = r'/Users/groutm/Desktop/TMAdata'\n",
    "#input_data_dir = r'/Users/groutm/Desktop/ww_data'\n",
    "input_data_dir = os.path.join(base_dir, project_name + previous_step_suffix_long)\n",
    "\n",
    "\n",
    "# BS directory\n",
    "#output_data_dir = r'/Users/groutm/Desktop/TMAoutputdata'\n",
    "#output_data_dir = r'/Users/groutm/Desktop/ww_outputdata'\n",
    "output_data_dir = os.path.join(base_dir, project_name + \"_\" + step_suffix)\n",
    "\n",
    "# BS images subdirectory\n",
    "#output_images_dir = r'/Users/groutm/Desktop/TMAimages'\n",
    "#output_images_dir = r'/Users/groutm/Desktop/wwimages'\n",
    "output_images_dir = os.path.join(output_data_dir,\"images\")\n",
    "\n",
    "# Metadata directories\n",
    "metadata_dir = os.path.join(base_dir, project_name + \"_metadata\")\n",
    "metadata_images_dir = os.path.join(metadata_dir,\"images\")\n",
    "\n",
    "for d in [base_dir, input_data_dir, output_data_dir, output_images_dir, \n",
    "          metadata_dir, metadata_images_dir]:\n",
    "    if not os.path.exists(d):\n",
    "        os.makedirs(d)\n",
    "\n",
    "os.chdir(input_data_dir)\n",
    "\n"
   ]
  },
  {
   "cell_type": "code",
   "execution_count": 5,
   "metadata": {},
   "outputs": [],
   "source": [
    "## Comment for final workflow\n",
    "\n",
    "ls_samples = ['TMA','ww1', 'ww10', 'ww11', 'ww12', 'ww13', 'ww15', \n",
    "              'ww16', 'ww17', 'ww19', 'ww2', 'ww20', 'ww21', \n",
    "              'ww22', 'ww23', 'ww3', 'ww4', 'ww5', 'ww6', 'ww7', \n",
    "              'ww8', 'ww9']#,'bad_header_file']\n",
    "\n",
    "ls_samples = ['TMA1.1', 'TMA1.2', 'TMA1.3', 'TMA2.1', 'TMA2.2', 'TMA2.3']\n",
    "\n",
    "ls_samples = ['GZ10.1', 'GZ10.2', 'GZ10.3', 'TMA',\n",
    " 'GZ7.1', 'GZ6', 'GZ7.2']"
   ]
  },
  {
   "cell_type": "markdown",
   "metadata": {},
   "source": [
    "## Import all metadata we need from the QC/EDA chapter"
   ]
  },
  {
   "cell_type": "markdown",
   "metadata": {},
   "source": [
    "### metadata"
   ]
  },
  {
   "cell_type": "code",
   "execution_count": 6,
   "metadata": {},
   "outputs": [],
   "source": [
    "filename = \"marker_intensity_metadata.csv\"\n",
    "filename = os.path.join(metadata_dir, filename)\n",
    "\n",
    "# Check file exists\n",
    "if not os.path.exists(filename):\n",
    "    print(\"WARNING: Could not find desired file: \"+filename)"
   ]
  },
  {
   "cell_type": "code",
   "execution_count": 7,
   "metadata": {},
   "outputs": [
    {
     "name": "stdout",
     "output_type": "stream",
     "text": [
      "WARNING: 'Marker metadata file' has the following unexpected item(s): \n",
      "['Exp']\n"
     ]
    }
   ],
   "source": [
    "# Open, read in information\n",
    "metadata = pd.read_csv(filename)\n",
    "\n",
    "# Verify size\n",
    "#verify_line_no(filename, metadata.shape[0] + 1)\n",
    "\n",
    "\n",
    "# Verify headers\n",
    "exp_cols = ['Round','Target','Channel','target_lower','full_column','marker','location']\n",
    "compare_headers(exp_cols, metadata.columns.values, \"Marker metadata file\")"
   ]
  },
  {
   "cell_type": "code",
   "execution_count": 8,
   "metadata": {},
   "outputs": [
    {
     "data": {
      "text/html": [
       "<div>\n",
       "<style scoped>\n",
       "    .dataframe tbody tr th:only-of-type {\n",
       "        vertical-align: middle;\n",
       "    }\n",
       "\n",
       "    .dataframe tbody tr th {\n",
       "        vertical-align: top;\n",
       "    }\n",
       "\n",
       "    .dataframe thead th {\n",
       "        text-align: right;\n",
       "    }\n",
       "</style>\n",
       "<table border=\"1\" class=\"dataframe\">\n",
       "  <thead>\n",
       "    <tr style=\"text-align: right;\">\n",
       "      <th></th>\n",
       "      <th>Round</th>\n",
       "      <th>Target</th>\n",
       "      <th>Exp</th>\n",
       "      <th>Channel</th>\n",
       "      <th>target_lower</th>\n",
       "      <th>full_column</th>\n",
       "      <th>marker</th>\n",
       "      <th>location</th>\n",
       "    </tr>\n",
       "  </thead>\n",
       "  <tbody>\n",
       "    <tr>\n",
       "      <th>0</th>\n",
       "      <td>R0</td>\n",
       "      <td>AF488</td>\n",
       "      <td>300</td>\n",
       "      <td>c2</td>\n",
       "      <td>af488</td>\n",
       "      <td>AF488_Cell_Intensity_Average</td>\n",
       "      <td>AF488</td>\n",
       "      <td>cell</td>\n",
       "    </tr>\n",
       "    <tr>\n",
       "      <th>1</th>\n",
       "      <td>R0</td>\n",
       "      <td>AF555</td>\n",
       "      <td>1500</td>\n",
       "      <td>c3</td>\n",
       "      <td>af555</td>\n",
       "      <td>AF555_Cell_Intensity_Average</td>\n",
       "      <td>AF555</td>\n",
       "      <td>cell</td>\n",
       "    </tr>\n",
       "    <tr>\n",
       "      <th>2</th>\n",
       "      <td>R0</td>\n",
       "      <td>AF647</td>\n",
       "      <td>1500</td>\n",
       "      <td>c4</td>\n",
       "      <td>af647</td>\n",
       "      <td>AF647_Cell_Intensity_Average</td>\n",
       "      <td>AF647</td>\n",
       "      <td>cell</td>\n",
       "    </tr>\n",
       "    <tr>\n",
       "      <th>3</th>\n",
       "      <td>R0</td>\n",
       "      <td>AF750</td>\n",
       "      <td>1500</td>\n",
       "      <td>c5</td>\n",
       "      <td>af750</td>\n",
       "      <td>AF750_Cell_Intensity_Average</td>\n",
       "      <td>AF750</td>\n",
       "      <td>cell</td>\n",
       "    </tr>\n",
       "    <tr>\n",
       "      <th>4</th>\n",
       "      <td>R1</td>\n",
       "      <td>H3K27me3</td>\n",
       "      <td>200</td>\n",
       "      <td>c2</td>\n",
       "      <td>h3k27me3</td>\n",
       "      <td>H3K27me3_Cell_Intensity_Average</td>\n",
       "      <td>H3K27me3</td>\n",
       "      <td>cell</td>\n",
       "    </tr>\n",
       "  </tbody>\n",
       "</table>\n",
       "</div>"
      ],
      "text/plain": [
       "  Round    Target   Exp Channel target_lower                      full_column  \\\n",
       "0    R0     AF488   300      c2        af488     AF488_Cell_Intensity_Average   \n",
       "1    R0     AF555  1500      c3        af555     AF555_Cell_Intensity_Average   \n",
       "2    R0     AF647  1500      c4        af647     AF647_Cell_Intensity_Average   \n",
       "3    R0     AF750  1500      c5        af750     AF750_Cell_Intensity_Average   \n",
       "4    R1  H3K27me3   200      c2     h3k27me3  H3K27me3_Cell_Intensity_Average   \n",
       "\n",
       "     marker location  \n",
       "0     AF488     cell  \n",
       "1     AF555     cell  \n",
       "2     AF647     cell  \n",
       "3     AF750     cell  \n",
       "4  H3K27me3     cell  "
      ]
     },
     "execution_count": 8,
     "metadata": {},
     "output_type": "execute_result"
    }
   ],
   "source": [
    "# Show some of dataframe - FYI\n",
    "metadata.head()"
   ]
  },
  {
   "cell_type": "markdown",
   "metadata": {},
   "source": [
    "### not_intensities"
   ]
  },
  {
   "cell_type": "code",
   "execution_count": 9,
   "metadata": {},
   "outputs": [],
   "source": [
    "filename = \"not_intensities.csv\"\n",
    "filename = os.path.join(metadata_dir, filename)\n",
    "\n",
    "# Check file exists\n",
    "if not os.path.exists(filename):\n",
    "    print(\"WARNING: Could not find desired file: \"+filename)"
   ]
  },
  {
   "cell_type": "code",
   "execution_count": 10,
   "metadata": {},
   "outputs": [
    {
     "name": "stdout",
     "output_type": "stream",
     "text": [
      "Verifying data read from file is the correct length...\n",
      "\n",
      "not_intensities = \n",
      "['Nuc_X', 'Nuc_X_Inv', 'Nuc_Y', 'Nuc_Y_Inv', 'Nucleus_Roundness', 'Nucleus_Size', 'Cell_Size', 'ROI_index', 'Sample_ID', 'replicate_ID', 'Cell_ID', 'cell_type', 'cluster', 'ROI_slide']\n"
     ]
    }
   ],
   "source": [
    "# Open, read in information\n",
    "not_intensities = []\n",
    "with open(filename, 'r') as fh:\n",
    "    not_intensities = fh.read().strip().split(\"\\n\")\n",
    "    # take str, strip whitespace, split on new line character\n",
    "\n",
    "# Verify size\n",
    "print(\"Verifying data read from file is the correct length...\\n\")\n",
    "#verify_line_no(filename, len(not_intensities))\n",
    "\n",
    "# Print to console\n",
    "print(\"not_intensities = \")\n",
    "print(not_intensities)"
   ]
  },
  {
   "cell_type": "markdown",
   "metadata": {},
   "source": [
    "### full_to_short_column names"
   ]
  },
  {
   "cell_type": "code",
   "execution_count": 11,
   "metadata": {},
   "outputs": [],
   "source": [
    "filename = \"full_to_short_column_names.csv\"\n",
    "filename = os.path.join(metadata_dir, filename)\n",
    "\n",
    "# Check file exists\n",
    "if not os.path.exists(filename):\n",
    "    print(\"WARNING: Could not find desired file: \" + filename)"
   ]
  },
  {
   "cell_type": "code",
   "execution_count": 12,
   "metadata": {},
   "outputs": [
    {
     "name": "stdout",
     "output_type": "stream",
     "text": [
      "Verifying data read from file is the correct length...\n",
      "\n",
      "full_to_short_names =\n",
      "{'53BP1_Cell_Intensity_Average': '53BP1', 'AF488_Cell_Intensity_Average': 'AF488', 'AF555_Cell_Intensity_Average': 'AF555', 'AF647_Cell_Intensity_Average': 'AF647', 'AF750_Cell_Intensity_Average': 'AF750', 'AXL_Cell_Intensity_Average': 'AXL', 'CCNA2_Cell_Intensity_Average': 'CCNA2', 'CCND1_Cell_Intensity_Average': 'CCND1', 'CD45_Cell_Intensity_Average': 'CD45', 'CD4_Cell_Intensity_Average': 'CD4', 'CD68_Cell_Intensity_Average': 'CD68', 'CD8_Cell_Intensity_Average': 'CD8', 'EGFR_Cell_Intensity_Average': 'EGFR', 'Ecad_Cell_Intensity_Average': 'Ecad', 'FOXP3_Cell_Intensity_Average': 'FOXP3', 'H3K27me3_Cell_Intensity_Average': 'H3K27me3', 'KI67_Cell_Intensity_Average': 'KI67', 'MITF_Cell_Intensity_Average': 'MITF', 'PCNA_Cell_Intensity_Average': 'PCNA', 'PDGFR_Cell_Intensity_Average': 'PDGFR', 'S100_Cell_Intensity_Average': 'S100', 'Vimentin_Cell_Intensity_Average': 'Vimentin', 'p4EBP1_Cell_Intensity_Average': 'p4EBP1', 'p75_Cell_Intensity_Average': 'p75', 'pATM_Cell_Intensity_Average': 'pATM', 'pATR_Cell_Intensity_Average': 'pATR', 'pCHK2_Cell_Intensity_Average': 'pCHK2', 'pEGFR_Cell_Intensity_Average': 'pEGFR', 'pGSK3b_Cell_Intensity_Average': 'pGSK3b', 'pH2AX_Cell_Intensity_Average': 'pH2AX', 'pHH3_Cell_Intensity_Average': 'pHH3', 'pS6_Cell_Intensity_Average': 'pS6'}\n"
     ]
    }
   ],
   "source": [
    "# Open, read in information\n",
    "df = pd.read_csv(filename, header = 0)\n",
    "\n",
    "# Verify size\n",
    "print(\"Verifying data read from file is the correct length...\\n\")\n",
    "#verify_line_no(filename, df.shape[0] + 1)\n",
    "\n",
    "# Turn into dictionary\n",
    "full_to_short_names = df.set_index('full_name').T.to_dict('records')[0]\n",
    "\n",
    "# Print information\n",
    "print('full_to_short_names =')\n",
    "print(full_to_short_names)"
   ]
  },
  {
   "cell_type": "markdown",
   "metadata": {},
   "source": [
    "### short_to_full_column_names"
   ]
  },
  {
   "cell_type": "code",
   "execution_count": 13,
   "metadata": {},
   "outputs": [],
   "source": [
    "filename = \"short_to_full_column_names.csv\"\n",
    "filename = os.path.join(metadata_dir, filename)\n",
    "\n",
    "# Check file exists\n",
    "if not os.path.exists(filename):\n",
    "    print(\"WARNING: Could not find desired file: \" + filename)"
   ]
  },
  {
   "cell_type": "code",
   "execution_count": 14,
   "metadata": {},
   "outputs": [
    {
     "name": "stdout",
     "output_type": "stream",
     "text": [
      "Verifying data read from file is the correct length...\n",
      "\n",
      "short_to_full_names =\n",
      "{'53BP1': '53BP1_Cell_Intensity_Average', 'AF488': 'AF488_Cell_Intensity_Average', 'AF555': 'AF555_Cell_Intensity_Average', 'AF647': 'AF647_Cell_Intensity_Average', 'AF750': 'AF750_Cell_Intensity_Average', 'AXL': 'AXL_Cell_Intensity_Average', 'CCNA2': 'CCNA2_Cell_Intensity_Average', 'CCND1': 'CCND1_Cell_Intensity_Average', 'CD45': 'CD45_Cell_Intensity_Average', 'CD4': 'CD4_Cell_Intensity_Average', 'CD68': 'CD68_Cell_Intensity_Average', 'CD8': 'CD8_Cell_Intensity_Average', 'EGFR': 'EGFR_Cell_Intensity_Average', 'Ecad': 'Ecad_Cell_Intensity_Average', 'FOXP3': 'FOXP3_Cell_Intensity_Average', 'H3K27me3': 'H3K27me3_Cell_Intensity_Average', 'KI67': 'KI67_Cell_Intensity_Average', 'MITF': 'MITF_Cell_Intensity_Average', 'PCNA': 'PCNA_Cell_Intensity_Average', 'PDGFR': 'PDGFR_Cell_Intensity_Average', 'S100': 'S100_Cell_Intensity_Average', 'Vimentin': 'Vimentin_Cell_Intensity_Average', 'p4EBP1': 'p4EBP1_Cell_Intensity_Average', 'p75': 'p75_Cell_Intensity_Average', 'pATM': 'pATM_Cell_Intensity_Average', 'pATR': 'pATR_Cell_Intensity_Average', 'pCHK2': 'pCHK2_Cell_Intensity_Average', 'pEGFR': 'pEGFR_Cell_Intensity_Average', 'pGSK3b': 'pGSK3b_Cell_Intensity_Average', 'pH2AX': 'pH2AX_Cell_Intensity_Average', 'pHH3': 'pHH3_Cell_Intensity_Average', 'pS6': 'pS6_Cell_Intensity_Average'}\n"
     ]
    }
   ],
   "source": [
    "# Open, read in information\n",
    "df = pd.read_csv(filename, header = 0)\n",
    "\n",
    "# Verify size\n",
    "print(\"Verifying data read from file is the correct length...\\n\")\n",
    "#verify_line_no(filename, df.shape[0] + 1)\n",
    "\n",
    "# Turn into dictionary\n",
    "short_to_full_names = df.set_index('short_name').T.to_dict('records')[0]\n",
    "\n",
    "# Print information\n",
    "print('short_to_full_names =')\n",
    "print(short_to_full_names)"
   ]
  },
  {
   "cell_type": "markdown",
   "metadata": {},
   "source": [
    "### color information"
   ]
  },
  {
   "cell_type": "markdown",
   "metadata": {},
   "source": [
    "#### Samples"
   ]
  },
  {
   "cell_type": "code",
   "execution_count": 15,
   "metadata": {},
   "outputs": [],
   "source": [
    "filename = \"sample_color_data.csv\"\n",
    "filename = os.path.join(metadata_dir, filename)\n",
    "\n",
    "# Check file exists\n",
    "if not os.path.exists(filename):\n",
    "    print(\"WARNING: Could not find desired file: \" + filename)"
   ]
  },
  {
   "cell_type": "code",
   "execution_count": 16,
   "metadata": {},
   "outputs": [
    {
     "name": "stdout",
     "output_type": "stream",
     "text": [
      "Verifying data read from file is the correct length...\n",
      "\n",
      "sample_color_dict =\n",
      "{'GZ10.1': (0.9677975592919913, 0.44127456009157356, 0.5358103155058701), 'GZ10.2': (0.775731904186273, 0.5784925270759935, 0.19475566538551872), 'GZ10.3': (0.5105309046900421, 0.6614299289084904, 0.1930849118538962), 'GZ6': (0.20433460114757862, 0.6863857739476534, 0.5407103379425205), 'GZ7.1': (0.21662978923073606, 0.6676586160122123, 0.7318695594345369), 'GZ7.2': (0.5049017849530067, 0.5909119231215284, 0.9584657252128558), 'TMA': (0.5019607843137255, 0.5019607843137255, 0.5019607843137255)}\n"
     ]
    }
   ],
   "source": [
    "# Open, read in information\n",
    "df = pd.read_csv(filename, header = 0)\n",
    "df = df.drop(columns = ['hex'])\n",
    "\n",
    "# our tuple of float values for rgb, (r, g, b) was read in \n",
    "# as a string '(r, g, b)'. We need to extract the r-, g-, and b-\n",
    "# substrings and convert them back into floats\n",
    "df['rgb'] = df.apply(lambda row: rgb_tuple_from_str(row['rgb']), axis = 1)\n",
    "\n",
    "# Verify size\n",
    "print(\"Verifying data read from file is the correct length...\\n\")\n",
    "#verify_line_no(filename, df.shape[0] + 1)\n",
    "\n",
    "# Turn into dictionary\n",
    "sample_color_dict = df.set_index('Sample_ID').T.to_dict('rgb')[0]\n",
    "\n",
    "# Print information\n",
    "print('sample_color_dict =')\n",
    "print(sample_color_dict)\n"
   ]
  },
  {
   "cell_type": "markdown",
   "metadata": {},
   "source": [
    "#### Channels"
   ]
  },
  {
   "cell_type": "code",
   "execution_count": 17,
   "metadata": {},
   "outputs": [],
   "source": [
    "filename = \"channel_color_data.csv\"\n",
    "filename = os.path.join(metadata_dir, filename)\n",
    "\n",
    "# Check file exists\n",
    "if not os.path.exists(filename):\n",
    "    print(\"WARNING: Could not find desired file: \"+filename)"
   ]
  },
  {
   "cell_type": "code",
   "execution_count": 18,
   "metadata": {},
   "outputs": [
    {
     "name": "stdout",
     "output_type": "stream",
     "text": [
      "Verifying data read from file is the correct length...\n",
      "\n",
      "channel_color_dict =\n",
      "{'c3': (1.0, 0.0, 0.0), 'c4': (1.0, 0.6470588235294118, 0.0), 'c5': (0.25098039215686274, 0.8784313725490196, 0.8156862745098039), 'c2': (0.0, 0.5019607843137255, 0.0)}\n"
     ]
    }
   ],
   "source": [
    "# Open, read in information\n",
    "df = pd.read_csv(filename, header = 0)\n",
    "df = df.drop(columns = ['hex'])\n",
    "\n",
    "# our tuple of float values for rgb, (r, g, b) was read in \n",
    "# as a string '(r, g, b)'. We need to extract the r-, g-, and b-\n",
    "# substrings and convert them back into floats\n",
    "df['rgb'] = df.apply(lambda row: rgb_tuple_from_str(row['rgb']), axis = 1)\n",
    "\n",
    "# Verify size\n",
    "print(\"Verifying data read from file is the correct length...\\n\")\n",
    "#verify_line_no(filename, df.shape[0] + 1)\n",
    "\n",
    "# Turn into dictionary\n",
    "channel_color_dict = df.set_index('Channel').T.to_dict('rgb')[0]\n",
    "\n",
    "# Print information\n",
    "print('channel_color_dict =')\n",
    "print(channel_color_dict)\n"
   ]
  },
  {
   "cell_type": "markdown",
   "metadata": {},
   "source": [
    "#### Round"
   ]
  },
  {
   "cell_type": "code",
   "execution_count": 19,
   "metadata": {},
   "outputs": [],
   "source": [
    "filename = \"round_color_data.csv\"\n",
    "filename = os.path.join(metadata_dir, filename)\n",
    "\n",
    "# Check file exists\n",
    "if not os.path.exists(filename):\n",
    "    print(\"WARNING: Could not find desired file: \"+filename)"
   ]
  },
  {
   "cell_type": "code",
   "execution_count": 20,
   "metadata": {},
   "outputs": [
    {
     "name": "stdout",
     "output_type": "stream",
     "text": [
      "Verifying data read from file is the correct length...\n",
      "\n",
      "round_color_dict =\n",
      "{'R0': (0.28685356234627135, 0.13009829239513535, 0.23110332132624437), 'R1': (0.3736023974468758, 0.214424058315835, 0.3978381676792029), 'R2': (0.4159341362257507, 0.3236230119238674, 0.5522993139842536), 'R3': (0.4347275623260717, 0.45841778084048856, 0.6693193307565182), 'R4': (0.45985383722977585, 0.5938507827180669, 0.7299938636762819), 'R5': (0.5193510814616777, 0.7186903518953451, 0.7537488291211205), 'R6': (0.6251959781814483, 0.8211474484187268, 0.77115296242133), 'R7': (0.7684256891219349, 0.8992667116749021, 0.8171383269422353)}\n"
     ]
    }
   ],
   "source": [
    "# Open, read in information\n",
    "df = pd.read_csv(filename, header = 0)\n",
    "df = df.drop(columns = ['hex'])\n",
    "\n",
    "# our tuple of float values for rgb, (r, g, b) was read in \n",
    "# as a string '(r, g, b)'. We need to extract the r-, g-, and b-\n",
    "# substrings and convert them back into floats\n",
    "df['rgb'] = df.apply(lambda row: rgb_tuple_from_str(row['rgb']), axis = 1)\n",
    "\n",
    "# Verify size\n",
    "print(\"Verifying data read from file is the correct length...\\n\")\n",
    "#verify_line_no(filename, df.shape[0] + 1)\n",
    "\n",
    "# Turn into dictionary\n",
    "round_color_dict = df.set_index('Round').T.to_dict('rgb')[0]\n",
    "\n",
    "# Print information\n",
    "print('round_color_dict =')\n",
    "print(round_color_dict)\n"
   ]
  },
  {
   "cell_type": "markdown",
   "metadata": {},
   "source": [
    "## Import data"
   ]
  },
  {
   "cell_type": "markdown",
   "metadata": {},
   "source": [
    "Prompt user for any samples to remove from analysis"
   ]
  },
  {
   "cell_type": "raw",
   "metadata": {},
   "source": [
    "## Note to self - make sure downstream steps all work without all samples included... ##\n",
    "\n",
    "#create an output file name for scaled data\n",
    "## needs to be user input\n",
    "#output_data_filename = 'ww_output.csv'\n",
    "\n",
    "\n",
    "ls_samples = [sample for sample in os.listdir() if sample.endswith(\".csv\")]\n",
    "\n",
    "print(\"The following CSV files were detected:\")\n",
    "print([sample for sample in ls_samples])"
   ]
  },
  {
   "cell_type": "markdown",
   "metadata": {},
   "source": [
    "Prompt user for any files they would like excluded from analysis."
   ]
  },
  {
   "cell_type": "raw",
   "metadata": {},
   "source": [
    "## Uncomment for final workflow\n",
    "\n",
    "response = input(\"If there are any files you wish to exclude from analysis, \"\n",
    "                \"please enter them now in a comma-separated list \"\n",
    "                \"(e.g., 'sample001.csv, sample001.csv'). \"\n",
    "                 \"Press ENTER to continue.\").strip()\n",
    "if response == \"\":\n",
    "    print(\"\\nNo files excluded.\")\n",
    "    \n",
    "else:\n",
    "    print(\"\\nExcluding files: \" + \", \".join([f for f in response.split(\",\")]) \n",
    "         + \".\")\n",
    "    \n",
    "ls_samples = [f.replace(previous_step_suffix_long + \".csv\",\"\") for f in ls_samples if f not in response.split(\",\")]\n",
    "\n",
    "print(\"\\n Final file list for analysis: \" + \", \".join([f for f in ls_samples]))\n"
   ]
  },
  {
   "cell_type": "markdown",
   "metadata": {},
   "source": [
    "## Need to have QC checks here..."
   ]
  },
  {
   "cell_type": "code",
   "execution_count": 21,
   "metadata": {},
   "outputs": [
    {
     "name": "stdout",
     "output_type": "stream",
     "text": [
      "df index name is currently None\n"
     ]
    }
   ],
   "source": [
    "# Import all data files for this portion of workflow\n",
    "\n",
    "# First gather information on expected headers using first file in ls_samples\n",
    "\n",
    "\n",
    "\n",
    "# Read in the first row of the file correpsonding to the first sample (index = 0)\n",
    "# in ls_samples\n",
    "df = pd.read_csv(ls_samples[0] + \n",
    "                 previous_step_suffix_long + \".csv\", nrows = 1, index_col = 0)\n",
    "\n",
    "# Apply the changes to the headers as specified in above funciton\n",
    "df = apply_header_changes(df)\n",
    "\n",
    "# Set variable to hold default header values\n",
    "expected_headers = df.columns.values\n",
    "\n",
    "print(\"df index name is currently\",df.index.name)"
   ]
  },
  {
   "cell_type": "code",
   "execution_count": 22,
   "metadata": {},
   "outputs": [
    {
     "data": {
      "text/html": [
       "<div>\n",
       "<style scoped>\n",
       "    .dataframe tbody tr th:only-of-type {\n",
       "        vertical-align: middle;\n",
       "    }\n",
       "\n",
       "    .dataframe tbody tr th {\n",
       "        vertical-align: top;\n",
       "    }\n",
       "\n",
       "    .dataframe thead th {\n",
       "        text-align: right;\n",
       "    }\n",
       "</style>\n",
       "<table border=\"1\" class=\"dataframe\">\n",
       "  <thead>\n",
       "    <tr style=\"text-align: right;\">\n",
       "      <th></th>\n",
       "      <th>Nuc_X_Inv</th>\n",
       "      <th>Nuc_Y</th>\n",
       "      <th>ROI_index</th>\n",
       "      <th>Nuc_Y_Inv</th>\n",
       "      <th>Nuc_X</th>\n",
       "      <th>Nucleus_Size</th>\n",
       "      <th>Sample_ID</th>\n",
       "      <th>Cell_Size</th>\n",
       "      <th>53BP1_Cell_Intensity_Average</th>\n",
       "      <th>AF488_Cell_Intensity_Average</th>\n",
       "      <th>...</th>\n",
       "      <th>p4EBP1_Cell_Intensity_Average</th>\n",
       "      <th>p75_Cell_Intensity_Average</th>\n",
       "      <th>pATM_Cell_Intensity_Average</th>\n",
       "      <th>pATR_Cell_Intensity_Average</th>\n",
       "      <th>pCHK2_Cell_Intensity_Average</th>\n",
       "      <th>pEGFR_Cell_Intensity_Average</th>\n",
       "      <th>pGSK3b_Cell_Intensity_Average</th>\n",
       "      <th>pH2AX_Cell_Intensity_Average</th>\n",
       "      <th>pHH3_Cell_Intensity_Average</th>\n",
       "      <th>pS6_Cell_Intensity_Average</th>\n",
       "    </tr>\n",
       "  </thead>\n",
       "  <tbody>\n",
       "    <tr>\n",
       "      <th>GZ10.1_Cell_0</th>\n",
       "      <td>11751.910156</td>\n",
       "      <td>2262.992432</td>\n",
       "      <td>NaN</td>\n",
       "      <td>10795.007812</td>\n",
       "      <td>4782.089355</td>\n",
       "      <td>134</td>\n",
       "      <td>GZ10.1</td>\n",
       "      <td>269</td>\n",
       "      <td>8043.925781</td>\n",
       "      <td>4631.438477</td>\n",
       "      <td>...</td>\n",
       "      <td>5303.646973</td>\n",
       "      <td>1010.148682</td>\n",
       "      <td>5804.490723</td>\n",
       "      <td>4455.914551</td>\n",
       "      <td>5744.397949</td>\n",
       "      <td>3047.275146</td>\n",
       "      <td>5783.817871</td>\n",
       "      <td>14420.100586</td>\n",
       "      <td>4312.605957</td>\n",
       "      <td>1750.282471</td>\n",
       "    </tr>\n",
       "  </tbody>\n",
       "</table>\n",
       "<p>1 rows × 40 columns</p>\n",
       "</div>"
      ],
      "text/plain": [
       "                  Nuc_X_Inv        Nuc_Y  ROI_index     Nuc_Y_Inv  \\\n",
       "GZ10.1_Cell_0  11751.910156  2262.992432        NaN  10795.007812   \n",
       "\n",
       "                     Nuc_X  Nucleus_Size Sample_ID  Cell_Size  \\\n",
       "GZ10.1_Cell_0  4782.089355           134    GZ10.1        269   \n",
       "\n",
       "               53BP1_Cell_Intensity_Average  AF488_Cell_Intensity_Average  \\\n",
       "GZ10.1_Cell_0                   8043.925781                   4631.438477   \n",
       "\n",
       "               ...  p4EBP1_Cell_Intensity_Average  p75_Cell_Intensity_Average  \\\n",
       "GZ10.1_Cell_0  ...                    5303.646973                 1010.148682   \n",
       "\n",
       "               pATM_Cell_Intensity_Average  pATR_Cell_Intensity_Average  \\\n",
       "GZ10.1_Cell_0                  5804.490723                  4455.914551   \n",
       "\n",
       "               pCHK2_Cell_Intensity_Average  pEGFR_Cell_Intensity_Average  \\\n",
       "GZ10.1_Cell_0                   5744.397949                   3047.275146   \n",
       "\n",
       "               pGSK3b_Cell_Intensity_Average  pH2AX_Cell_Intensity_Average  \\\n",
       "GZ10.1_Cell_0                    5783.817871                  14420.100586   \n",
       "\n",
       "               pHH3_Cell_Intensity_Average  pS6_Cell_Intensity_Average  \n",
       "GZ10.1_Cell_0                  4312.605957                 1750.282471  \n",
       "\n",
       "[1 rows x 40 columns]"
      ]
     },
     "execution_count": 22,
     "metadata": {},
     "output_type": "execute_result"
    }
   ],
   "source": [
    "df.head()"
   ]
  },
  {
   "cell_type": "code",
   "execution_count": 23,
   "metadata": {},
   "outputs": [
    {
     "name": "stdout",
     "output_type": "stream",
     "text": [
      "Used GZ10.1_qc_eda.csv to determine the expected, corrected headers for all files.\n",
      "There headers are: \n",
      "Nuc_X_Inv, Nuc_Y, ROI_index, Nuc_Y_Inv, Nuc_X, Nucleus_Size, Sample_ID, Cell_Size, 53BP1_Cell_Intensity_Average, AF488_Cell_Intensity_Average, AF555_Cell_Intensity_Average, AF647_Cell_Intensity_Average, AF750_Cell_Intensity_Average, AXL_Cell_Intensity_Average, CCNA2_Cell_Intensity_Average, CCND1_Cell_Intensity_Average, CD45_Cell_Intensity_Average, CD4_Cell_Intensity_Average, CD68_Cell_Intensity_Average, CD8_Cell_Intensity_Average, EGFR_Cell_Intensity_Average, Ecad_Cell_Intensity_Average, FOXP3_Cell_Intensity_Average, H3K27me3_Cell_Intensity_Average, KI67_Cell_Intensity_Average, MITF_Cell_Intensity_Average, PCNA_Cell_Intensity_Average, PDGFR_Cell_Intensity_Average, S100_Cell_Intensity_Average, Vimentin_Cell_Intensity_Average, p4EBP1_Cell_Intensity_Average, p75_Cell_Intensity_Average, pATM_Cell_Intensity_Average, pATR_Cell_Intensity_Average, pCHK2_Cell_Intensity_Average, pEGFR_Cell_Intensity_Average, pGSK3b_Cell_Intensity_Average, pH2AX_Cell_Intensity_Average, pHH3_Cell_Intensity_Average, pS6_Cell_Intensity_Average.\n"
     ]
    }
   ],
   "source": [
    "print(\"Used \" + ls_samples[0] + previous_step_suffix_long +\n",
    "      \".csv to determine the expected, corrected headers for all files.\")\n",
    "print(\"There headers are: \\n\" + \", \".join([h for h in expected_headers]) + \".\")"
   ]
  },
  {
   "cell_type": "code",
   "execution_count": 24,
   "metadata": {},
   "outputs": [
    {
     "data": {
      "text/plain": [
       "\"df = df.copy().reset_index(drop=True)\\nindex = []\\nfor sample in ls_samples:\\n    df_chunk = df.loc[df['Sample_ID'] == sample,:].copy()\\n    old_index = df_chunk.index\\n    df_chunk = df_chunk.reset_index(drop=True)\\n    df_chunk = df_chunk.set_index(f'{sample}_Cell_' + df_chunk.index.astype(str))\\n    index = index + df_chunk.index.values.tolist()\\n\\ndf.index =  index\\ndf = df.loc[:,~df.columns.isin(['level_0','index'])]\""
      ]
     },
     "execution_count": 24,
     "metadata": {},
     "output_type": "execute_result"
    }
   ],
   "source": [
    "# Import all dfs\n",
    "\n",
    "## TO-DO: include check that imported df is the expected size and shape...\n",
    "\n",
    "dfs = {}\n",
    "for sample in ls_samples:\n",
    "    # Open file\n",
    "    ################################\n",
    "    # only reading first 500 lines #\n",
    "    ################################\n",
    "    df = pd.read_csv(sample + previous_step_suffix_long + \".csv\", \n",
    "                     index_col = 0) #,  nrows = 500)\n",
    "    \n",
    "    # Check for empty df\n",
    "    # if so, don't continue trying to process df\n",
    "    if df.shape[0] == 0:\n",
    "        print('Zero content lines detected in ' + sample + ' file.'\n",
    "              'Removing from analysis...')\n",
    "        ls_samples.remove(sample)\n",
    "        continue\n",
    "    \n",
    "    # Instead of reading only the top 500 row in the file,\n",
    "    # let's read in all rows and then only use a random\n",
    "    # sampling (w/o replacement) of 500\n",
    "    \n",
    "    #if df.shape[0] > 1000:\n",
    "    #    random_rows = np.random.choice(\n",
    "    #        a = df.shape[0], size=1000, replace=False, p=None)\n",
    "    #    df = df.iloc[random_rows,:]\n",
    "    \n",
    "    # Verify that the loaded df are the right length\n",
    "    #verify_line_no(sample + previous_step_suffix_long + \".csv\", \n",
    "    #               df.shape[0] + 1)\n",
    "    # adding 1 because we expect the header was detected \n",
    "    # during file import and not counted towards length of df\n",
    "    \n",
    "     # Manipulations necessary for concatenation\n",
    "    df = apply_header_changes(df)\n",
    "    df = df[[x for x in sorted(df.columns.values)]]\n",
    "    \n",
    "    # Compare headers of new df against what is expected\n",
    "    compare_headers(expected_headers, df.columns.values, sample)\n",
    "    df['Sample_ID'] = sample\n",
    "\n",
    "    # For cases where we have samples called TMA1.1, TMA1.2, TMA1.3, etc.\n",
    "    # Using regular expressions (regex) to extract the characters in the\n",
    "    # sample name from TMA to the following digits, stopping at the period\n",
    "    #if 'ROI_index' in df.columns.values:\n",
    "    #    df['ROI_slide'] = re.findall(r'(TMA\\d+)',sample)[0]    \n",
    "    \n",
    "    # Add to df of dfs \n",
    "    dfs[sample] = df\n",
    "    \n",
    "\n",
    "\n",
    "\n",
    "#Merge dfs into one df\n",
    "df = pd.concat(dfs.values(), ignore_index=False , sort = False)\n",
    "del dfs\n",
    "\n",
    "# set index to Sample_ID + cell number\n",
    "## TO-DO: THIS WILL ACTUALLY BE IMPORTED INSTEAD\n",
    "\"\"\"df = df.copy().reset_index(drop=True)\n",
    "index = []\n",
    "for sample in ls_samples:\n",
    "    df_chunk = df.loc[df['Sample_ID'] == sample,:].copy()\n",
    "    old_index = df_chunk.index\n",
    "    df_chunk = df_chunk.reset_index(drop=True)\n",
    "    df_chunk = df_chunk.set_index(f'{sample}_Cell_' + df_chunk.index.astype(str))\n",
    "    index = index + df_chunk.index.values.tolist()\n",
    "\n",
    "df.index =  index\n",
    "df = df.loc[:,~df.columns.isin(['level_0','index'])]\"\"\""
   ]
  },
  {
   "cell_type": "markdown",
   "metadata": {},
   "source": [
    "Let's take a look at a few features to make sure our dataframe is as expected"
   ]
  },
  {
   "cell_type": "code",
   "execution_count": 25,
   "metadata": {},
   "outputs": [
    {
     "data": {
      "text/plain": [
       "(397158, 40)"
      ]
     },
     "execution_count": 25,
     "metadata": {},
     "output_type": "execute_result"
    }
   ],
   "source": [
    "df.shape"
   ]
  },
  {
   "cell_type": "code",
   "execution_count": 26,
   "metadata": {},
   "outputs": [
    {
     "data": {
      "text/plain": [
       "Index(['GZ10.1_Cell_0', 'GZ10.1_Cell_1', 'GZ10.1_Cell_2', 'GZ10.1_Cell_3',\n",
       "       'GZ10.1_Cell_4', 'GZ10.1_Cell_5', 'GZ10.1_Cell_6', 'GZ10.1_Cell_7',\n",
       "       'GZ10.1_Cell_8', 'GZ10.1_Cell_9',\n",
       "       ...\n",
       "       'GZ7.2_Cell_155171', 'GZ7.2_Cell_155172', 'GZ7.2_Cell_155173',\n",
       "       'GZ7.2_Cell_155174', 'GZ7.2_Cell_155175', 'GZ7.2_Cell_155176',\n",
       "       'GZ7.2_Cell_155177', 'GZ7.2_Cell_155178', 'GZ7.2_Cell_155179',\n",
       "       'GZ7.2_Cell_155180'],\n",
       "      dtype='object', length=397158)"
      ]
     },
     "execution_count": 26,
     "metadata": {},
     "output_type": "execute_result"
    }
   ],
   "source": [
    "df.index "
   ]
  },
  {
   "cell_type": "code",
   "execution_count": 27,
   "metadata": {},
   "outputs": [
    {
     "name": "stdout",
     "output_type": "stream",
     "text": [
      "Index(['ROI_index'], dtype='object')\n"
     ]
    }
   ],
   "source": [
    "#check for NaN entries (should not be any unless columns do not align)\n",
    "# if there are any null values, then print names of columns containing\n",
    "# null values\n",
    "if df.isnull().any().any():\n",
    "    print(df.columns[df.isnull().any()])\n",
    "\n",
    "#in 'if' statement, false means no NaN entries True means NaN entries "
   ]
  },
  {
   "cell_type": "code",
   "execution_count": 28,
   "metadata": {},
   "outputs": [],
   "source": [
    "## Remove in final workflow\n",
    "\n",
    "if 'bad_header_file' in ls_samples:\n",
    "    ls_samples.remove(\"bad_header_file\")\n",
    "if 'bad_header_file' in df.Sample_ID.unique():\n",
    "    df = df.loc[df['Sample_ID'] != 'bad_header_file',:]"
   ]
  },
  {
   "cell_type": "code",
   "execution_count": 29,
   "metadata": {},
   "outputs": [
    {
     "name": "stdout",
     "output_type": "stream",
     "text": [
      "All expected filenames present in big df Sample_ID column.\n"
     ]
    }
   ],
   "source": [
    "# Check that all expected files were imported into final dataframe\n",
    "\n",
    "if sorted(df.Sample_ID.unique()) == sorted(ls_samples):\n",
    "    print(\"All expected filenames present in big df Sample_ID column.\")\n",
    "else:\n",
    "    compare_headers(['no samples'], df.Sample_ID.unique(), \"big df Sample_ID column\")"
   ]
  },
  {
   "cell_type": "markdown",
   "metadata": {},
   "source": [
    "QC checks..."
   ]
  },
  {
   "cell_type": "markdown",
   "metadata": {},
   "source": [
    "### Filtering"
   ]
  },
  {
   "cell_type": "markdown",
   "metadata": {},
   "source": [
    "#### Filter rows with 0 mean intensity"
   ]
  },
  {
   "cell_type": "code",
   "execution_count": 30,
   "metadata": {},
   "outputs": [],
   "source": [
    "#df = df.rename(columns = short_to_full_names)"
   ]
  },
  {
   "cell_type": "code",
   "execution_count": 31,
   "metadata": {},
   "outputs": [
    {
     "name": "stdout",
     "output_type": "stream",
     "text": [
      "df.shape:  (397158, 40)\n"
     ]
    },
    {
     "ename": "KeyboardInterrupt",
     "evalue": "",
     "output_type": "error",
     "traceback": [
      "\u001b[0;31m---------------------------------------------------------------------------\u001b[0m",
      "\u001b[0;31mKeyboardInterrupt\u001b[0m                         Traceback (most recent call last)",
      "\u001b[0;32m<ipython-input-31-f192f685d793>\u001b[0m in \u001b[0;36m<module>\u001b[0;34m\u001b[0m\n\u001b[1;32m      3\u001b[0m df = df.loc[df.apply(\n\u001b[1;32m      4\u001b[0m     \u001b[0;32mlambda\u001b[0m \u001b[0mrow\u001b[0m\u001b[0;34m:\u001b[0m\u001b[0;34m\u001b[0m\u001b[0;34m\u001b[0m\u001b[0m\n\u001b[0;32m----> 5\u001b[0;31m     row[~row.index.isin(not_intensities)].mean(), axis = 1) >0 ,:]\n\u001b[0m\u001b[1;32m      6\u001b[0m \u001b[0;34m\u001b[0m\u001b[0m\n\u001b[1;32m      7\u001b[0m \u001b[0mprint\u001b[0m\u001b[0;34m(\u001b[0m\u001b[0;34m\"df.shape: \"\u001b[0m\u001b[0;34m,\u001b[0m \u001b[0mdf\u001b[0m\u001b[0;34m.\u001b[0m\u001b[0mshape\u001b[0m\u001b[0;34m)\u001b[0m\u001b[0;34m\u001b[0m\u001b[0;34m\u001b[0m\u001b[0m\n",
      "\u001b[0;32m~/anaconda3/lib/python3.7/site-packages/pandas/core/frame.py\u001b[0m in \u001b[0;36mapply\u001b[0;34m(self, func, axis, broadcast, raw, reduce, result_type, args, **kwds)\u001b[0m\n\u001b[1;32m   6485\u001b[0m                          \u001b[0margs\u001b[0m\u001b[0;34m=\u001b[0m\u001b[0margs\u001b[0m\u001b[0;34m,\u001b[0m\u001b[0;34m\u001b[0m\u001b[0;34m\u001b[0m\u001b[0m\n\u001b[1;32m   6486\u001b[0m                          kwds=kwds)\n\u001b[0;32m-> 6487\u001b[0;31m         \u001b[0;32mreturn\u001b[0m \u001b[0mop\u001b[0m\u001b[0;34m.\u001b[0m\u001b[0mget_result\u001b[0m\u001b[0;34m(\u001b[0m\u001b[0;34m)\u001b[0m\u001b[0;34m\u001b[0m\u001b[0;34m\u001b[0m\u001b[0m\n\u001b[0m\u001b[1;32m   6488\u001b[0m \u001b[0;34m\u001b[0m\u001b[0m\n\u001b[1;32m   6489\u001b[0m     \u001b[0;32mdef\u001b[0m \u001b[0mapplymap\u001b[0m\u001b[0;34m(\u001b[0m\u001b[0mself\u001b[0m\u001b[0;34m,\u001b[0m \u001b[0mfunc\u001b[0m\u001b[0;34m)\u001b[0m\u001b[0;34m:\u001b[0m\u001b[0;34m\u001b[0m\u001b[0;34m\u001b[0m\u001b[0m\n",
      "\u001b[0;32m~/anaconda3/lib/python3.7/site-packages/pandas/core/apply.py\u001b[0m in \u001b[0;36mget_result\u001b[0;34m(self)\u001b[0m\n\u001b[1;32m    149\u001b[0m             \u001b[0;32mreturn\u001b[0m \u001b[0mself\u001b[0m\u001b[0;34m.\u001b[0m\u001b[0mapply_raw\u001b[0m\u001b[0;34m(\u001b[0m\u001b[0;34m)\u001b[0m\u001b[0;34m\u001b[0m\u001b[0;34m\u001b[0m\u001b[0m\n\u001b[1;32m    150\u001b[0m \u001b[0;34m\u001b[0m\u001b[0m\n\u001b[0;32m--> 151\u001b[0;31m         \u001b[0;32mreturn\u001b[0m \u001b[0mself\u001b[0m\u001b[0;34m.\u001b[0m\u001b[0mapply_standard\u001b[0m\u001b[0;34m(\u001b[0m\u001b[0;34m)\u001b[0m\u001b[0;34m\u001b[0m\u001b[0;34m\u001b[0m\u001b[0m\n\u001b[0m\u001b[1;32m    152\u001b[0m \u001b[0;34m\u001b[0m\u001b[0m\n\u001b[1;32m    153\u001b[0m     \u001b[0;32mdef\u001b[0m \u001b[0mapply_empty_result\u001b[0m\u001b[0;34m(\u001b[0m\u001b[0mself\u001b[0m\u001b[0;34m)\u001b[0m\u001b[0;34m:\u001b[0m\u001b[0;34m\u001b[0m\u001b[0;34m\u001b[0m\u001b[0m\n",
      "\u001b[0;32m~/anaconda3/lib/python3.7/site-packages/pandas/core/apply.py\u001b[0m in \u001b[0;36mapply_standard\u001b[0;34m(self)\u001b[0m\n\u001b[1;32m    249\u001b[0m                                           \u001b[0maxis\u001b[0m\u001b[0;34m=\u001b[0m\u001b[0mself\u001b[0m\u001b[0;34m.\u001b[0m\u001b[0maxis\u001b[0m\u001b[0;34m,\u001b[0m\u001b[0;34m\u001b[0m\u001b[0;34m\u001b[0m\u001b[0m\n\u001b[1;32m    250\u001b[0m                                           \u001b[0mdummy\u001b[0m\u001b[0;34m=\u001b[0m\u001b[0mdummy\u001b[0m\u001b[0;34m,\u001b[0m\u001b[0;34m\u001b[0m\u001b[0;34m\u001b[0m\u001b[0m\n\u001b[0;32m--> 251\u001b[0;31m                                           labels=labels)\n\u001b[0m\u001b[1;32m    252\u001b[0m                 \u001b[0;32mreturn\u001b[0m \u001b[0mself\u001b[0m\u001b[0;34m.\u001b[0m\u001b[0mobj\u001b[0m\u001b[0;34m.\u001b[0m\u001b[0m_constructor_sliced\u001b[0m\u001b[0;34m(\u001b[0m\u001b[0mresult\u001b[0m\u001b[0;34m,\u001b[0m \u001b[0mindex\u001b[0m\u001b[0;34m=\u001b[0m\u001b[0mlabels\u001b[0m\u001b[0;34m)\u001b[0m\u001b[0;34m\u001b[0m\u001b[0;34m\u001b[0m\u001b[0m\n\u001b[1;32m    253\u001b[0m             \u001b[0;32mexcept\u001b[0m \u001b[0mException\u001b[0m\u001b[0;34m:\u001b[0m\u001b[0;34m\u001b[0m\u001b[0;34m\u001b[0m\u001b[0m\n",
      "\u001b[0;32mpandas/_libs/reduction.pyx\u001b[0m in \u001b[0;36mpandas._libs.reduction.reduce\u001b[0;34m()\u001b[0m\n",
      "\u001b[0;32mpandas/_libs/reduction.pyx\u001b[0m in \u001b[0;36mpandas._libs.reduction.Reducer.get_result\u001b[0;34m()\u001b[0m\n",
      "\u001b[0;32m~/anaconda3/lib/python3.7/site-packages/pandas/core/series.py\u001b[0m in \u001b[0;36mname\u001b[0;34m(self, value)\u001b[0m\n\u001b[1;32m    397\u001b[0m         \u001b[0;32mreturn\u001b[0m \u001b[0mself\u001b[0m\u001b[0;34m.\u001b[0m\u001b[0m_name\u001b[0m\u001b[0;34m\u001b[0m\u001b[0;34m\u001b[0m\u001b[0m\n\u001b[1;32m    398\u001b[0m \u001b[0;34m\u001b[0m\u001b[0m\n\u001b[0;32m--> 399\u001b[0;31m     \u001b[0;34m@\u001b[0m\u001b[0mname\u001b[0m\u001b[0;34m.\u001b[0m\u001b[0msetter\u001b[0m\u001b[0;34m\u001b[0m\u001b[0;34m\u001b[0m\u001b[0m\n\u001b[0m\u001b[1;32m    400\u001b[0m     \u001b[0;32mdef\u001b[0m \u001b[0mname\u001b[0m\u001b[0;34m(\u001b[0m\u001b[0mself\u001b[0m\u001b[0;34m,\u001b[0m \u001b[0mvalue\u001b[0m\u001b[0;34m)\u001b[0m\u001b[0;34m:\u001b[0m\u001b[0;34m\u001b[0m\u001b[0;34m\u001b[0m\u001b[0m\n\u001b[1;32m    401\u001b[0m         \u001b[0;32mif\u001b[0m \u001b[0mvalue\u001b[0m \u001b[0;32mis\u001b[0m \u001b[0;32mnot\u001b[0m \u001b[0;32mNone\u001b[0m \u001b[0;32mand\u001b[0m \u001b[0;32mnot\u001b[0m \u001b[0mis_hashable\u001b[0m\u001b[0;34m(\u001b[0m\u001b[0mvalue\u001b[0m\u001b[0;34m)\u001b[0m\u001b[0;34m:\u001b[0m\u001b[0;34m\u001b[0m\u001b[0;34m\u001b[0m\u001b[0m\n",
      "\u001b[0;31mKeyboardInterrupt\u001b[0m: "
     ]
    }
   ],
   "source": [
    "#delete rows that have 0 value mean intensities for intensity columns\n",
    "print(\"df.shape: \", df.shape)\n",
    "df = df.loc[df.apply(\n",
    "    lambda row: \n",
    "    row[~row.index.isin(not_intensities)].mean(), axis = 1) >0 ,:]\n",
    "\n",
    "print(\"df.shape: \", df.shape)\n",
    "# changed this from != 0 to 0\n",
    "# original line of code:\n",
    "#df = df.loc[((df.iloc[:,3:] != 0).all(1) )]"
   ]
  },
  {
   "cell_type": "markdown",
   "metadata": {},
   "source": [
    "## R Shiny Filtering App"
   ]
  },
  {
   "cell_type": "code",
   "execution_count": 32,
   "metadata": {},
   "outputs": [
    {
     "data": {
      "text/plain": [
       "array(['53BP1_Cell_Intensity_Average', 'AF488_Cell_Intensity_Average',\n",
       "       'AF555_Cell_Intensity_Average', 'AF647_Cell_Intensity_Average',\n",
       "       'AF750_Cell_Intensity_Average', 'AXL_Cell_Intensity_Average',\n",
       "       'CCNA2_Cell_Intensity_Average', 'CCND1_Cell_Intensity_Average',\n",
       "       'CD45_Cell_Intensity_Average', 'CD4_Cell_Intensity_Average',\n",
       "       'CD68_Cell_Intensity_Average', 'CD8_Cell_Intensity_Average',\n",
       "       'Cell_Size', 'EGFR_Cell_Intensity_Average',\n",
       "       'Ecad_Cell_Intensity_Average', 'FOXP3_Cell_Intensity_Average',\n",
       "       'H3K27me3_Cell_Intensity_Average', 'KI67_Cell_Intensity_Average',\n",
       "       'MITF_Cell_Intensity_Average', 'Nuc_X', 'Nuc_X_Inv', 'Nuc_Y',\n",
       "       'Nuc_Y_Inv', 'Nucleus_Size', 'PCNA_Cell_Intensity_Average',\n",
       "       'PDGFR_Cell_Intensity_Average', 'ROI_index',\n",
       "       'S100_Cell_Intensity_Average', 'Sample_ID',\n",
       "       'Vimentin_Cell_Intensity_Average', 'p4EBP1_Cell_Intensity_Average',\n",
       "       'p75_Cell_Intensity_Average', 'pATM_Cell_Intensity_Average',\n",
       "       'pATR_Cell_Intensity_Average', 'pCHK2_Cell_Intensity_Average',\n",
       "       'pEGFR_Cell_Intensity_Average', 'pGSK3b_Cell_Intensity_Average',\n",
       "       'pH2AX_Cell_Intensity_Average', 'pHH3_Cell_Intensity_Average',\n",
       "       'pS6_Cell_Intensity_Average'], dtype=object)"
      ]
     },
     "execution_count": 32,
     "metadata": {},
     "output_type": "execute_result"
    }
   ],
   "source": [
    "df.columns.values"
   ]
  },
  {
   "cell_type": "code",
   "execution_count": 33,
   "metadata": {},
   "outputs": [
    {
     "name": "stdout",
     "output_type": "stream",
     "text": [
      "Number of cells after filtering on nucleus size: 284159\n",
      "Number of cells after filtering on AF555 ___ intensity: 264904\n"
     ]
    }
   ],
   "source": [
    "#delete small cells and objects w/high AF555 Signal (RBCs)\n",
    "df = df.loc[(df['Nucleus_Size'] > 80 )]\n",
    "df = df.loc[(df['Nucleus_Size'] < 400 )]\n",
    "print(\"Number of cells after filtering on nucleus size:\", df.shape[0])\n",
    "\n",
    "#df = df.loc[(df['AF555_Cytoplasm_Intensity_Average'] < 2500)]\n",
    "#df = df.loc[(df['AF555_Nucleus'] < 3000)]\n",
    "df = df.loc[(df['AF555_Cell_Intensity_Average'] < 2500)]\n",
    "print(\"Number of cells after filtering on AF555 ___ intensity:\", df.shape[0])"
   ]
  },
  {
   "cell_type": "markdown",
   "metadata": {},
   "source": [
    "#### Assign Cell types"
   ]
  },
  {
   "cell_type": "code",
   "execution_count": 34,
   "metadata": {},
   "outputs": [],
   "source": [
    "#df.columns.values"
   ]
  },
  {
   "cell_type": "code",
   "execution_count": 35,
   "metadata": {},
   "outputs": [],
   "source": [
    "#assign tumor cells \n",
    "\n",
    "def assign_cell_type(row):\n",
    "    if (row['CKs_Cytoplasm_Intensity_Average'] > 2000)  \\\n",
    "        | (row['Ecad_Cytoplasm_Intensity_Average'] > 1800) \\\n",
    "        | (row['NCad_Cytoplasm_Intensity_Average'] > 2200):\n",
    "            return 'TUMOR'\n",
    "    elif (row['CD45_Cytoplasm_Intensity_Average'] > 4500) \\\n",
    "     | (row['CD4_Cytoplasm_Intensity_Average'] > 3000) \\\n",
    "     | (row['CD68_Cytoplasm_Intensity_Average'] > 3200):\n",
    "        return 'IMMUNE'\n",
    "    else:\n",
    "        return 'STROMA'\n",
    "    \n",
    "\n",
    "    \n",
    "# randoml assigning here just for development purposes\n",
    "def assign_cell_type(row):\n",
    "    n = np.random.randint(0,10)\n",
    "    if n < 2:\n",
    "        return 'IMMUNE'\n",
    "    if n < 5:\n",
    "        return 'CANCER'    \n",
    "    return 'STROMA'\n",
    "\n",
    "#df['cell_type'] = df.apply(lambda row: assign_cell_type(row), axis = 1)\n",
    "df['cell_type'] = df.apply(lambda row: assign_cell_type(row), axis = 1)"
   ]
  },
  {
   "cell_type": "markdown",
   "metadata": {},
   "source": [
    "Save counts of each cell type to file"
   ]
  },
  {
   "cell_type": "code",
   "execution_count": 46,
   "metadata": {},
   "outputs": [
    {
     "name": "stdout",
     "output_type": "stream",
     "text": [
      "Cell counts by Sample_ID, by cell type:\n",
      "Sample_ID  cell_type\n",
      "GZ10.1     STROMA        1569\n",
      "           CANCER         918\n",
      "           IMMUNE         630\n",
      "GZ10.2     STROMA        1327\n",
      "           CANCER         788\n",
      "           IMMUNE         550\n",
      "GZ10.3     STROMA        3553\n",
      "           CANCER        2101\n",
      "           IMMUNE        1396\n",
      "GZ6        STROMA       24566\n",
      "           CANCER       14460\n",
      "           IMMUNE        9885\n",
      "GZ7.1      STROMA        4700\n",
      "           CANCER        2921\n",
      "           IMMUNE        1956\n",
      "GZ7.2      STROMA       59409\n",
      "           CANCER       35883\n",
      "           IMMUNE       23602\n",
      "TMA        STROMA       37385\n",
      "           CANCER       22595\n",
      "           IMMUNE       14710\n",
      "Name: cell_type, dtype: int64\n",
      "Cell counts by cell type:\n",
      "STROMA    132509\n",
      "CANCER     79666\n",
      "IMMUNE     52729\n",
      "Name: cell_type, dtype: int64\n"
     ]
    }
   ],
   "source": [
    "# By Sample_ID, by cell type\n",
    "cell_series = df.groupby('Sample_ID').cell_type.value_counts()\n",
    "filename = \"counts_by_sample_ID_by_cell_type.csv\"\n",
    "filename = os.path.join(output_data_dir, filename)\n",
    "cell_series.to_csv(filename, header = True)\n",
    "print(\"Cell counts by Sample_ID, by cell type:\")\n",
    "print(cell_series)\n",
    "\n",
    "# Just by cell type\n",
    "cell_series = df.cell_type.value_counts()\n",
    "filename = \"counts_by_cell_type.csv\"\n",
    "filename = os.path.join(output_data_dir, filename)\n",
    "cell_series.to_csv(filename, header = True)\n",
    "print(\"Cell counts by cell type:\")\n",
    "print(cell_series)"
   ]
  },
  {
   "cell_type": "markdown",
   "metadata": {},
   "source": [
    "### Establish colors to use throughout workflow"
   ]
  },
  {
   "cell_type": "markdown",
   "metadata": {},
   "source": [
    "Cell type - want colors that are categorical, since Cell Type is a non-ordered category. A categorical color palette will have dissimilar colors."
   ]
  },
  {
   "cell_type": "code",
   "execution_count": 47,
   "metadata": {},
   "outputs": [
    {
     "name": "stdout",
     "output_type": "stream",
     "text": [
      "Unique cell types are: ['IMMUNE' 'STROMA' 'CANCER']\n"
     ]
    },
    {
     "data": {
      "image/png": "[encoded data removed]",
      "text/plain": [
       "<Figure size 216x72 with 1 Axes>"
      ]
     },
     "metadata": {
      "needs_background": "light"
     },
     "output_type": "display_data"
    }
   ],
   "source": [
    "# Get those unique colors\n",
    "cell_types = ['STROMA','CANCER','IMMUNE']\n",
    "color_values = sb.color_palette(\"hls\",n_colors = len(cell_types))#'HLS'\n",
    "# each color value is a tuple of three values: (R, G, B)\n",
    "\n",
    "print(\"Unique cell types are:\",df.cell_type.unique())\n",
    "# Display those unique colors\n",
    "sb.palplot(sb.color_palette(color_values))\n",
    "\n",
    "# allow for user-input of named colors"
   ]
  },
  {
   "cell_type": "markdown",
   "metadata": {},
   "source": [
    "Store in a dictionary"
   ]
  },
  {
   "cell_type": "code",
   "execution_count": 65,
   "metadata": {},
   "outputs": [],
   "source": [
    "celltype_color_dict = dict(zip(cell_types, color_values))"
   ]
  },
  {
   "cell_type": "code",
   "execution_count": 66,
   "metadata": {},
   "outputs": [
    {
     "data": {
      "text/plain": [
       "{'STROMA': (0.86, 0.3712, 0.33999999999999997),\n",
       " 'CANCER': (0.33999999999999997, 0.86, 0.3712),\n",
       " 'IMMUNE': (0.3712, 0.33999999999999997, 0.86)}"
      ]
     },
     "execution_count": 66,
     "metadata": {},
     "output_type": "execute_result"
    }
   ],
   "source": [
    "celltype_color_dict"
   ]
  },
  {
   "cell_type": "code",
   "execution_count": 67,
   "metadata": {},
   "outputs": [
    {
     "data": {
      "image/png": "[encoded data removed]",
      "text/plain": [
       "<Figure size 216x72 with 1 Axes>"
      ]
     },
     "metadata": {
      "needs_background": "light"
     },
     "output_type": "display_data"
    }
   ],
   "source": [
    "## Here is an example of how you might specify the values yourself,\n",
    "# derived from the QC/EDA chapter\n",
    "\n",
    "#celltype_color_dict['CANCER'] = mplc.to_rgb('xkcd:dark sky blue')\n",
    "#celltype_color_dict['IMMUNE'] = mplc.to_rgb('xkcd:reddish orange')\n",
    "#celltype_color_dict['STROMA'] = mplc.to_rgb('xkcd:jungle green')\n",
    "\n",
    "sb.palplot(sb.color_palette(\n",
    "    [celltype_color_dict['IMMUNE'],\n",
    "     celltype_color_dict['STROMA'],\n",
    "     celltype_color_dict['CANCER']]))\n"
   ]
  },
  {
   "cell_type": "markdown",
   "metadata": {},
   "source": [
    "#### Save color information (mapping and legend) to metadata directory"
   ]
  },
  {
   "cell_type": "code",
   "execution_count": 68,
   "metadata": {},
   "outputs": [],
   "source": [
    "# Create dataframe\n",
    "celltype_color_df = color_dict_to_df(celltype_color_dict, \"cell_type\")\n",
    "celltype_color_df.head()\n",
    "\n",
    "# Save to file in metadatadirectory\n",
    "filename = \"celltype_color_data.csv\"\n",
    "filename = os.path.join(metadata_dir, filename)\n",
    "celltype_color_df.to_csv(filename, index = False)"
   ]
  },
  {
   "cell_type": "code",
   "execution_count": 69,
   "metadata": {},
   "outputs": [
    {
     "data": {
      "image/png": "[encoded data removed]",
      "text/plain": [
       "<Figure size 72x72 with 1 Axes>"
      ]
     },
     "metadata": {
      "needs_background": "light"
     },
     "output_type": "display_data"
    }
   ],
   "source": [
    "# Legend of cell type info only\n",
    "\n",
    "g  = plt.figure(figsize = (1,1)).add_subplot(111)\n",
    "g.axis('off')\n",
    "handles = []\n",
    "for item in celltype_color_dict.keys():\n",
    "        h = g.bar(0,0, color = celltype_color_dict[item],\n",
    "                  label = item, linewidth =0)\n",
    "        handles.append(h)\n",
    "first_legend = plt.legend(handles=handles, loc='upper right', title = 'Cell type'),\n",
    "\n",
    "\n",
    "filename = \"Celltype_legend.png\"\n",
    "filename = os.path.join(metadata_images_dir, filename)\n",
    "plt.savefig(filename, bbox_inches = 'tight')"
   ]
  },
  {
   "cell_type": "markdown",
   "metadata": {},
   "source": [
    "#### Plot the post-filtering nucleus sizes, colored by cell type"
   ]
  },
  {
   "cell_type": "code",
   "execution_count": 72,
   "metadata": {},
   "outputs": [],
   "source": [
    "make_distr_plot_per_sample(title = \"Post-filtering nucleus sizes\",\n",
    "                           dfs = [df.loc[df['cell_type'] == 'STROMA',:],\n",
    "                               df.loc[df['cell_type'] == 'IMMUNE',:],\n",
    "                                  df.loc[df['cell_type'] == 'CANCER',:]], \n",
    "                           df_names = ['Immune','Cancer','Stroma'], \n",
    "                           colors = [celltype_color_dict['STROMA'],\n",
    "                               celltype_color_dict['IMMUNE'],\n",
    "                                    celltype_color_dict['CANCER']\n",
    "                                    ], \n",
    "                           x_label = \"Nucleus Size\", \n",
    "                           legend = False,\n",
    "                           markers = ['Nucleus_Size'],\n",
    "                          location = output_images_dir)\n",
    "\n",
    "# note that the traces are layered on top of each other, so if the tallest trace is in front, \n",
    "# then the other two will be tinted accordingly. You can change around the order of the data\n",
    "# in the parameter dfs = [] above, but don't forget to also change the order of the colors = []\n",
    "# parameter accordingly!!"
   ]
  },
  {
   "cell_type": "markdown",
   "metadata": {},
   "source": [
    "#### Bar plots"
   ]
  },
  {
   "cell_type": "code",
   "execution_count": 73,
   "metadata": {},
   "outputs": [
    {
     "data": {
      "text/html": [
       "<div>\n",
       "<style scoped>\n",
       "    .dataframe tbody tr th:only-of-type {\n",
       "        vertical-align: middle;\n",
       "    }\n",
       "\n",
       "    .dataframe tbody tr th {\n",
       "        vertical-align: top;\n",
       "    }\n",
       "\n",
       "    .dataframe thead th {\n",
       "        text-align: right;\n",
       "    }\n",
       "</style>\n",
       "<table border=\"1\" class=\"dataframe\">\n",
       "  <thead>\n",
       "    <tr style=\"text-align: right;\">\n",
       "      <th></th>\n",
       "      <th>counts</th>\n",
       "      <th>Sample_ID</th>\n",
       "      <th>stroma</th>\n",
       "      <th>cancer</th>\n",
       "      <th>immune</th>\n",
       "    </tr>\n",
       "  </thead>\n",
       "  <tbody>\n",
       "    <tr>\n",
       "      <th>GZ10.1</th>\n",
       "      <td>3117</td>\n",
       "      <td>GZ10.1</td>\n",
       "      <td>1569</td>\n",
       "      <td>918</td>\n",
       "      <td>630</td>\n",
       "    </tr>\n",
       "    <tr>\n",
       "      <th>GZ10.2</th>\n",
       "      <td>2665</td>\n",
       "      <td>GZ10.2</td>\n",
       "      <td>1327</td>\n",
       "      <td>788</td>\n",
       "      <td>550</td>\n",
       "    </tr>\n",
       "    <tr>\n",
       "      <th>GZ10.3</th>\n",
       "      <td>7050</td>\n",
       "      <td>GZ10.3</td>\n",
       "      <td>3553</td>\n",
       "      <td>2101</td>\n",
       "      <td>1396</td>\n",
       "    </tr>\n",
       "    <tr>\n",
       "      <th>GZ6</th>\n",
       "      <td>48911</td>\n",
       "      <td>GZ6</td>\n",
       "      <td>24566</td>\n",
       "      <td>14460</td>\n",
       "      <td>9885</td>\n",
       "    </tr>\n",
       "    <tr>\n",
       "      <th>GZ7.1</th>\n",
       "      <td>9577</td>\n",
       "      <td>GZ7.1</td>\n",
       "      <td>4700</td>\n",
       "      <td>2921</td>\n",
       "      <td>1956</td>\n",
       "    </tr>\n",
       "  </tbody>\n",
       "</table>\n",
       "</div>"
      ],
      "text/plain": [
       "        counts Sample_ID  stroma  cancer  immune\n",
       "GZ10.1    3117    GZ10.1    1569     918     630\n",
       "GZ10.2    2665    GZ10.2    1327     788     550\n",
       "GZ10.3    7050    GZ10.3    3553    2101    1396\n",
       "GZ6      48911       GZ6   24566   14460    9885\n",
       "GZ7.1     9577     GZ7.1    4700    2921    1956"
      ]
     },
     "execution_count": 73,
     "metadata": {},
     "output_type": "execute_result"
    }
   ],
   "source": [
    "# Get counts for each Sample_ID, sorted by Sample_ID\n",
    "sample_counts = pd.DataFrame(df.Sample_ID.value_counts()).sort_index()\n",
    "sample_counts = sample_counts.rename(columns = {'Sample_ID':'counts'})\n",
    "sample_counts['Sample_ID'] = sample_counts.index\n",
    "#counts['color'] = counts.apply(lambda row: color_dict[row['Sample_ID']], axis = 1)\n",
    "sample_counts\n",
    "\n",
    "# There should be a better way to do this with 'groupby' or something\n",
    "stroma_counts = pd.DataFrame({'stroma':\n",
    "    df.loc[\n",
    "        df['cell_type'] == 'STROMA',:].Sample_ID.value_counts()}).sort_index()\n",
    "\n",
    "immune_counts = pd.DataFrame({'immune':\n",
    "    df.loc[\n",
    "        df['cell_type'] == 'IMMUNE',:].Sample_ID.value_counts()}).sort_index()\n",
    "\n",
    "cancer_counts = pd.DataFrame({'cancer':\n",
    "    df.loc[\n",
    "        df['cell_type'] == 'CANCER',:].Sample_ID.value_counts()}).sort_index()\n",
    "\n",
    "counts = pd.concat([sample_counts, stroma_counts,cancer_counts,immune_counts],\n",
    "                   axis = 1, sort = False)\n",
    "counts.head()"
   ]
  },
  {
   "cell_type": "code",
   "execution_count": 74,
   "metadata": {},
   "outputs": [],
   "source": [
    "def get_perc(row, cell_type):\n",
    "    total = row['stroma'] + row['immune'] + row['cancer']\n",
    "    return round(row[cell_type]/total *100,1)\n",
    "\n",
    "counts['stroma_perc'] = counts.apply(lambda row: get_perc(row, 'stroma'), axis = 1)\n",
    "counts['immune_perc'] = counts.apply(lambda row: get_perc(row, 'immune'), axis = 1)\n",
    "counts['cancer_perc'] = counts.apply(lambda row: get_perc(row, 'cancer'), axis = 1)"
   ]
  },
  {
   "cell_type": "code",
   "execution_count": 76,
   "metadata": {},
   "outputs": [],
   "source": [
    "# By sample ID only - move this to immediately post-filtering, so we can know if we adjusted the filtering parameters correctly.\n",
    "\n",
    "fig = go.Figure()\n",
    "title = 'Post-filtering BS Cell counts by Sample ID'\n",
    "\n",
    "for sample in ls_samples:\n",
    "    fig.add_trace(go.Bar(\n",
    "        x=counts.loc[counts['Sample_ID']==sample,'Sample_ID'], \n",
    "        y = counts.loc[counts['Sample_ID']==sample,'counts'],\n",
    "        text = counts.loc[counts['Sample_ID']==sample,'counts'], textposition='outside',\n",
    "        marker=dict(\n",
    "            color='rgb' + str(sample_color_dict[sample])),\n",
    "            showlegend = False\n",
    "        \n",
    "    ))\n",
    "fig.update_layout(title = title, plot_bgcolor = 'white')\n",
    "fig.update_xaxes(title_text = \"Sample ID\", linecolor = 'black')\n",
    "fig.update_yaxes(title_text = \"Cell count\", linecolor = \"black\")\n",
    "\n",
    "\n",
    "#plot(fig)\n",
    "fig.write_image(output_images_dir + \"/\" + title.replace(\" \",\"_\") + \".png\")\n"
   ]
  },
  {
   "cell_type": "code",
   "execution_count": 77,
   "metadata": {},
   "outputs": [],
   "source": [
    "# By sample ID and cell type - proportion\n",
    "\n",
    "fig = go.Figure()\n",
    "title = 'BS Cell proportions by Sample ID and tissue type'\n",
    "\n",
    "fig = go.Figure(data=[\n",
    "    go.Bar(name='Stroma', x=counts['Sample_ID'], y=counts['stroma_perc'], \n",
    "           text = counts['stroma_perc'], textposition='auto',\n",
    "           marker_color = 'rgb' + str(celltype_color_dict['STROMA'])),\n",
    "    go.Bar(name='Immune', x=counts['Sample_ID'], y=counts['immune_perc'], \n",
    "           text = counts['immune_perc'], textposition='auto',\n",
    "           marker_color = 'rgb' + str(celltype_color_dict['IMMUNE'])),\n",
    "    go.Bar(name='Cancer',x=counts['Sample_ID'], y=counts['cancer_perc'], \n",
    "           text = counts['cancer_perc'], textposition='auto', \n",
    "           marker_color = 'rgb' + str(celltype_color_dict['CANCER']))\n",
    "])\n",
    "    \n",
    "fig.update_layout(title = title, plot_bgcolor = 'white',barmode ='stack')\n",
    "fig.update_xaxes(title = \"Sample\", linecolor = 'black')\n",
    "fig.update_yaxes(title = \"Cell count\", linecolor = 'black')\n",
    "#plot(fig)\n",
    "fig.write_image(output_images_dir + \"/\" + title.replace(\" \",\"_\") + \".png\")\n"
   ]
  },
  {
   "cell_type": "code",
   "execution_count": 78,
   "metadata": {},
   "outputs": [],
   "source": [
    "# By sample ID and cell type - count\n",
    "\n",
    "fig = go.Figure()\n",
    "title = 'BS Cell counts by Sample ID and tissue type'\n",
    "\n",
    "fig = go.Figure(data=[\n",
    "    go.Bar(name='Stroma', x=counts['Sample_ID'], y=counts['stroma'], \n",
    "           text = counts['stroma'], textposition='auto',\n",
    "           marker_color = 'rgb' + str(celltype_color_dict['STROMA'])),\n",
    "    go.Bar(name='Immune', x=counts['Sample_ID'], y=counts['immune'], \n",
    "           text = counts['immune'], textposition='auto',\n",
    "           marker_color = 'rgb' + str(celltype_color_dict['IMMUNE'])),\n",
    "    go.Bar(name='Cancer',x=counts['Sample_ID'], y=counts['cancer'], \n",
    "           text = counts['cancer'], textposition='auto', \n",
    "           marker_color = 'rgb' + str(celltype_color_dict['CANCER']))\n",
    "])\n",
    "    \n",
    "fig.update_layout(title = title, plot_bgcolor = 'white',barmode ='stack')\n",
    "fig.update_xaxes(title = \"Sample\", linecolor = 'black')\n",
    "fig.update_yaxes(title = \"Cell count\", linecolor = 'black')\n",
    "#plot(fig)\n",
    "fig.write_image(output_images_dir + \"/\" + title.replace(\" \",\"_\") + \".png\")\n"
   ]
  },
  {
   "cell_type": "markdown",
   "metadata": {},
   "source": [
    "### Continue with BS"
   ]
  },
  {
   "cell_type": "markdown",
   "metadata": {},
   "source": [
    "#### Divide each marker (and its location) by the right exposure setting for each group of samples"
   ]
  },
  {
   "cell_type": "code",
   "execution_count": 79,
   "metadata": {},
   "outputs": [],
   "source": [
    "def divide_exp_time(col, exp_col):\n",
    "    exp_time = metadata.loc[metadata['full_column'] == col.name, exp_col].values[0]\n",
    "    \n",
    "    return col/exp_time\n",
    "\n",
    "#df.loc[df['ROI_slide'] == 'TMA1',~df.columns.isin(not_intensities)] = \\\n",
    "#    df.loc[df['ROI_slide'] == 'TMA1',~df.columns.isin(not_intensities)].apply(\n",
    "#    lambda column: divide_exp_time(column, 'Exp_TMA1'), axis = 0)\n",
    "\n",
    "#df.loc[df['ROI_slide'] == 'TMA2',~df.columns.isin(not_intensities)] = \\\n",
    "#    df.loc[df['ROI_slide'] == 'TMA2',~df.columns.isin(not_intensities)].apply(\n",
    "#    lambda column: divide_exp_time(column, 'Exp_TMA2'), axis = 0)\n",
    "\n",
    "df.loc[:, ~df.columns.isin(not_intensities)] = \\\n",
    "    df.loc[:, ~df.columns.isin(not_intensities)].apply(\n",
    "    lambda column: divide_exp_time(column, 'Exp'), axis = 0)"
   ]
  },
  {
   "cell_type": "markdown",
   "metadata": {},
   "source": [
    "#### Do background subtraction"
   ]
  },
  {
   "cell_type": "code",
   "execution_count": 80,
   "metadata": {},
   "outputs": [
    {
     "data": {
      "text/html": [
       "<div>\n",
       "<style scoped>\n",
       "    .dataframe tbody tr th:only-of-type {\n",
       "        vertical-align: middle;\n",
       "    }\n",
       "\n",
       "    .dataframe tbody tr th {\n",
       "        vertical-align: top;\n",
       "    }\n",
       "\n",
       "    .dataframe thead th {\n",
       "        text-align: right;\n",
       "    }\n",
       "</style>\n",
       "<table border=\"1\" class=\"dataframe\">\n",
       "  <thead>\n",
       "    <tr style=\"text-align: right;\">\n",
       "      <th></th>\n",
       "      <th>Round</th>\n",
       "      <th>Target</th>\n",
       "      <th>Exp</th>\n",
       "      <th>Channel</th>\n",
       "      <th>target_lower</th>\n",
       "      <th>full_column</th>\n",
       "      <th>marker</th>\n",
       "      <th>location</th>\n",
       "    </tr>\n",
       "  </thead>\n",
       "  <tbody>\n",
       "    <tr>\n",
       "      <th>0</th>\n",
       "      <td>R0</td>\n",
       "      <td>AF488</td>\n",
       "      <td>300</td>\n",
       "      <td>c2</td>\n",
       "      <td>af488</td>\n",
       "      <td>AF488_Cell_Intensity_Average</td>\n",
       "      <td>AF488</td>\n",
       "      <td>cell</td>\n",
       "    </tr>\n",
       "    <tr>\n",
       "      <th>1</th>\n",
       "      <td>R0</td>\n",
       "      <td>AF555</td>\n",
       "      <td>1500</td>\n",
       "      <td>c3</td>\n",
       "      <td>af555</td>\n",
       "      <td>AF555_Cell_Intensity_Average</td>\n",
       "      <td>AF555</td>\n",
       "      <td>cell</td>\n",
       "    </tr>\n",
       "    <tr>\n",
       "      <th>2</th>\n",
       "      <td>R0</td>\n",
       "      <td>AF647</td>\n",
       "      <td>1500</td>\n",
       "      <td>c4</td>\n",
       "      <td>af647</td>\n",
       "      <td>AF647_Cell_Intensity_Average</td>\n",
       "      <td>AF647</td>\n",
       "      <td>cell</td>\n",
       "    </tr>\n",
       "    <tr>\n",
       "      <th>3</th>\n",
       "      <td>R0</td>\n",
       "      <td>AF750</td>\n",
       "      <td>1500</td>\n",
       "      <td>c5</td>\n",
       "      <td>af750</td>\n",
       "      <td>AF750_Cell_Intensity_Average</td>\n",
       "      <td>AF750</td>\n",
       "      <td>cell</td>\n",
       "    </tr>\n",
       "    <tr>\n",
       "      <th>4</th>\n",
       "      <td>R1</td>\n",
       "      <td>H3K27me3</td>\n",
       "      <td>200</td>\n",
       "      <td>c2</td>\n",
       "      <td>h3k27me3</td>\n",
       "      <td>H3K27me3_Cell_Intensity_Average</td>\n",
       "      <td>H3K27me3</td>\n",
       "      <td>cell</td>\n",
       "    </tr>\n",
       "  </tbody>\n",
       "</table>\n",
       "</div>"
      ],
      "text/plain": [
       "  Round    Target   Exp Channel target_lower                      full_column  \\\n",
       "0    R0     AF488   300      c2        af488     AF488_Cell_Intensity_Average   \n",
       "1    R0     AF555  1500      c3        af555     AF555_Cell_Intensity_Average   \n",
       "2    R0     AF647  1500      c4        af647     AF647_Cell_Intensity_Average   \n",
       "3    R0     AF750  1500      c5        af750     AF750_Cell_Intensity_Average   \n",
       "4    R1  H3K27me3   200      c2     h3k27me3  H3K27me3_Cell_Intensity_Average   \n",
       "\n",
       "     marker location  \n",
       "0     AF488     cell  \n",
       "1     AF555     cell  \n",
       "2     AF647     cell  \n",
       "3     AF750     cell  \n",
       "4  H3K27me3     cell  "
      ]
     },
     "execution_count": 80,
     "metadata": {},
     "output_type": "execute_result"
    }
   ],
   "source": [
    "metadata.head()\n"
   ]
  },
  {
   "cell_type": "code",
   "execution_count": 81,
   "metadata": {},
   "outputs": [],
   "source": [
    "#metadata.to_csv(\"/Users/groutm/Desktop/metadata_for_PCA_test.csv\", index = False)"
   ]
  },
  {
   "cell_type": "code",
   "execution_count": 82,
   "metadata": {},
   "outputs": [],
   "source": [
    "# this uses a df (metadata) outside of \n",
    "# the scope of the lambda...\n",
    "# careful that this might break inside of a script...\n",
    "\n",
    "def do_background_sub(col):\n",
    "    #print(col.name)\n",
    "    location = metadata.loc[metadata['full_column'] == col.name, 'location'].values[0]\n",
    "    #print('location = ' + location)\n",
    "    channel = metadata.loc[metadata['full_column'] == col.name, 'Channel'].values[0]\n",
    "    #print('channel = ' + channel)\n",
    "    af_target = metadata.loc[\n",
    "        (metadata['Channel']==channel) \\\n",
    "        & (metadata['location']==location) \\\n",
    "        &(metadata['target_lower'].str.contains(r'^af\\d{3}$')),\\\n",
    "        'full_column'].values[0]\n",
    "    #print('af_target = ' + af_target)\n",
    "    # ^ right channel, right location, right maker (AF baseline)\n",
    "    # don't want to subtract an AF channel from itself\n",
    "    if af_target == col.name:\n",
    "        return col\n",
    "    return col - df.loc[:,af_target]\n",
    "\n",
    "\n",
    "\n",
    "df.loc[:,~df.columns.isin(not_intensities)] = \\\n",
    "    df.loc[:,~df.columns.isin(not_intensities)].apply(\n",
    "    lambda column: do_background_sub(column), axis = 0)"
   ]
  },
  {
   "cell_type": "markdown",
   "metadata": {},
   "source": [
    "### Adjust for outliers"
   ]
  },
  {
   "cell_type": "code",
   "execution_count": 83,
   "metadata": {},
   "outputs": [],
   "source": [
    "#remove outliers (replace outliers with X percentile)\n",
    "outlier_percent = 0.005\n",
    "\n",
    "upper_lim = df.loc[\n",
    "    :,~df.columns.isin(not_intensities)].quantile(1 - outlier_percent)\n",
    "\n",
    "upper_outliers = (df.loc[:,~df.columns.isin(not_intensities)] > upper_lim)\n",
    "\n",
    "df.loc[:,~df.columns.isin(not_intensities)] = \\\n",
    "    df.loc[:,~df.columns.isin(not_intensities)].mask(upper_outliers, upper_lim, axis=1)  \n",
    "\n"
   ]
  },
  {
   "cell_type": "code",
   "execution_count": 84,
   "metadata": {},
   "outputs": [
    {
     "data": {
      "text/plain": [
       "53BP1_Cell_Intensity_Average         6.993699\n",
       "AF488_Cell_Intensity_Average        19.193284\n",
       "AF555_Cell_Intensity_Average         1.652411\n",
       "AF647_Cell_Intensity_Average         2.208852\n",
       "AF750_Cell_Intensity_Average         2.847269\n",
       "AXL_Cell_Intensity_Average           3.010828\n",
       "CCNA2_Cell_Intensity_Average         1.404557\n",
       "CCND1_Cell_Intensity_Average         4.667710\n",
       "CD45_Cell_Intensity_Average          2.391201\n",
       "CD4_Cell_Intensity_Average           8.210989\n",
       "CD68_Cell_Intensity_Average          0.851941\n",
       "CD8_Cell_Intensity_Average           8.393081\n",
       "EGFR_Cell_Intensity_Average          3.743017\n",
       "Ecad_Cell_Intensity_Average         12.257645\n",
       "FOXP3_Cell_Intensity_Average         1.606848\n",
       "H3K27me3_Cell_Intensity_Average     24.710162\n",
       "KI67_Cell_Intensity_Average         23.111107\n",
       "MITF_Cell_Intensity_Average          4.770764\n",
       "PCNA_Cell_Intensity_Average         47.316364\n",
       "PDGFR_Cell_Intensity_Average         2.861989\n",
       "S100_Cell_Intensity_Average         62.288417\n",
       "Vimentin_Cell_Intensity_Average    128.318279\n",
       "p4EBP1_Cell_Intensity_Average       11.460417\n",
       "p75_Cell_Intensity_Average           5.255231\n",
       "pATM_Cell_Intensity_Average          2.924812\n",
       "pATR_Cell_Intensity_Average          5.494217\n",
       "pCHK2_Cell_Intensity_Average         4.824594\n",
       "pEGFR_Cell_Intensity_Average        17.178688\n",
       "pGSK3b_Cell_Intensity_Average        7.985238\n",
       "pH2AX_Cell_Intensity_Average         2.579303\n",
       "pHH3_Cell_Intensity_Average          8.759711\n",
       "pS6_Cell_Intensity_Average           8.954846\n",
       "Name: 0.995, dtype: float64"
      ]
     },
     "execution_count": 84,
     "metadata": {},
     "output_type": "execute_result"
    }
   ],
   "source": [
    "# Diplay what the upper limits are for each marker\n",
    "upper_lim"
   ]
  },
  {
   "cell_type": "markdown",
   "metadata": {},
   "source": [
    "#### Set values < 0 to 0"
   ]
  },
  {
   "cell_type": "code",
   "execution_count": 85,
   "metadata": {},
   "outputs": [],
   "source": [
    "# set anything that is below 0 to 0, so that we can do the log transform\n",
    "# this can be improved\n",
    "for f in df.columns[~df.columns.isin(not_intensities)]:\n",
    "    df.loc[df[f] < 0,f] = 0\n"
   ]
  },
  {
   "cell_type": "markdown",
   "metadata": {},
   "source": [
    "### Drop AF columns"
   ]
  },
  {
   "cell_type": "code",
   "execution_count": 86,
   "metadata": {},
   "outputs": [],
   "source": [
    "df = df.filter(regex='^(?!AF\\d{3}).*')\n",
    "\n",
    "## annotate the regex"
   ]
  },
  {
   "cell_type": "markdown",
   "metadata": {},
   "source": [
    "## Further background subtraction visualizations"
   ]
  },
  {
   "cell_type": "markdown",
   "metadata": {},
   "source": [
    "### Heatmap"
   ]
  },
  {
   "cell_type": "markdown",
   "metadata": {},
   "source": [
    "We will only be plotting ~10k cells in the interest of time/computing resources. We want these 10k lines in our original df to be sampled randomly, without replacement, with the caveat that the proportions of all samples in the data remains the same in this subset. If the size of the dataframe is > 10k rows, then we will proceed with the entire dataset."
   ]
  },
  {
   "cell_type": "code",
   "execution_count": 88,
   "metadata": {},
   "outputs": [],
   "source": [
    "heatmap_row_count = min(10000, df.shape[0])"
   ]
  },
  {
   "cell_type": "code",
   "execution_count": 89,
   "metadata": {},
   "outputs": [
    {
     "data": {
      "text/html": [
       "<div>\n",
       "<style scoped>\n",
       "    .dataframe tbody tr th:only-of-type {\n",
       "        vertical-align: middle;\n",
       "    }\n",
       "\n",
       "    .dataframe tbody tr th {\n",
       "        vertical-align: top;\n",
       "    }\n",
       "\n",
       "    .dataframe thead th {\n",
       "        text-align: right;\n",
       "    }\n",
       "</style>\n",
       "<table border=\"1\" class=\"dataframe\">\n",
       "  <thead>\n",
       "    <tr style=\"text-align: right;\">\n",
       "      <th></th>\n",
       "      <th>current_row_count</th>\n",
       "      <th>prop</th>\n",
       "      <th>desired_row_count</th>\n",
       "    </tr>\n",
       "  </thead>\n",
       "  <tbody>\n",
       "    <tr>\n",
       "      <th>GZ10.1</th>\n",
       "      <td>3117</td>\n",
       "      <td>0.011767</td>\n",
       "      <td>118</td>\n",
       "    </tr>\n",
       "    <tr>\n",
       "      <th>GZ10.2</th>\n",
       "      <td>2665</td>\n",
       "      <td>0.010060</td>\n",
       "      <td>101</td>\n",
       "    </tr>\n",
       "    <tr>\n",
       "      <th>GZ10.3</th>\n",
       "      <td>7050</td>\n",
       "      <td>0.026613</td>\n",
       "      <td>266</td>\n",
       "    </tr>\n",
       "    <tr>\n",
       "      <th>GZ6</th>\n",
       "      <td>48911</td>\n",
       "      <td>0.184637</td>\n",
       "      <td>1846</td>\n",
       "    </tr>\n",
       "    <tr>\n",
       "      <th>GZ7.1</th>\n",
       "      <td>9577</td>\n",
       "      <td>0.036153</td>\n",
       "      <td>362</td>\n",
       "    </tr>\n",
       "    <tr>\n",
       "      <th>GZ7.2</th>\n",
       "      <td>118894</td>\n",
       "      <td>0.448819</td>\n",
       "      <td>4488</td>\n",
       "    </tr>\n",
       "    <tr>\n",
       "      <th>TMA</th>\n",
       "      <td>74690</td>\n",
       "      <td>0.281951</td>\n",
       "      <td>2820</td>\n",
       "    </tr>\n",
       "  </tbody>\n",
       "</table>\n",
       "</div>"
      ],
      "text/plain": [
       "        current_row_count      prop  desired_row_count\n",
       "GZ10.1               3117  0.011767                118\n",
       "GZ10.2               2665  0.010060                101\n",
       "GZ10.3               7050  0.026613                266\n",
       "GZ6                 48911  0.184637               1846\n",
       "GZ7.1                9577  0.036153                362\n",
       "GZ7.2              118894  0.448819               4488\n",
       "TMA                 74690  0.281951               2820"
      ]
     },
     "execution_count": 89,
     "metadata": {},
     "output_type": "execute_result"
    }
   ],
   "source": [
    "# Create df of each feature type, its proportion in the full df,\n",
    "# and the number of rows we want for a sum of heatmap_row_count rows\n",
    "counts_for_heatmap = create_equal_value_counts(df, 'Sample_ID',heatmap_row_count)\n",
    "counts_for_heatmap"
   ]
  },
  {
   "cell_type": "code",
   "execution_count": 92,
   "metadata": {},
   "outputs": [],
   "source": [
    "# Create new df to hold our heatmap data\n",
    "heatmap_data = pd.DataFrame(columns = df.columns)\n",
    "\n",
    "# populate the df\n",
    "for sample in df.Sample_ID.unique():\n",
    "    a = counts_for_heatmap.loc[counts_for_heatmap.index == sample,'current_row_count'].values[0]\n",
    "    size = counts_for_heatmap.loc[counts_for_heatmap.index == sample,'desired_row_count'].values[0]\n",
    "    random_rows = np.random.choice(a = a, size = size, replace = False)\n",
    "    df_sample = df.loc[df['Sample_ID'] == sample,:]\n",
    "    heatmap_data = heatmap_data.append(df_sample.iloc[random_rows,:])"
   ]
  },
  {
   "cell_type": "code",
   "execution_count": 93,
   "metadata": {},
   "outputs": [
    {
     "data": {
      "text/html": [
       "<div>\n",
       "<style scoped>\n",
       "    .dataframe tbody tr th:only-of-type {\n",
       "        vertical-align: middle;\n",
       "    }\n",
       "\n",
       "    .dataframe tbody tr th {\n",
       "        vertical-align: top;\n",
       "    }\n",
       "\n",
       "    .dataframe thead th {\n",
       "        text-align: right;\n",
       "    }\n",
       "</style>\n",
       "<table border=\"1\" class=\"dataframe\">\n",
       "  <thead>\n",
       "    <tr style=\"text-align: right;\">\n",
       "      <th></th>\n",
       "      <th>current_row_count</th>\n",
       "      <th>prop</th>\n",
       "      <th>desired_row_count</th>\n",
       "    </tr>\n",
       "  </thead>\n",
       "  <tbody>\n",
       "    <tr>\n",
       "      <th>GZ10.1</th>\n",
       "      <td>118</td>\n",
       "      <td>0.011799</td>\n",
       "      <td>118</td>\n",
       "    </tr>\n",
       "    <tr>\n",
       "      <th>GZ10.2</th>\n",
       "      <td>101</td>\n",
       "      <td>0.010099</td>\n",
       "      <td>101</td>\n",
       "    </tr>\n",
       "    <tr>\n",
       "      <th>GZ10.3</th>\n",
       "      <td>266</td>\n",
       "      <td>0.026597</td>\n",
       "      <td>266</td>\n",
       "    </tr>\n",
       "    <tr>\n",
       "      <th>GZ6</th>\n",
       "      <td>1846</td>\n",
       "      <td>0.184582</td>\n",
       "      <td>1846</td>\n",
       "    </tr>\n",
       "    <tr>\n",
       "      <th>GZ7.1</th>\n",
       "      <td>362</td>\n",
       "      <td>0.036196</td>\n",
       "      <td>362</td>\n",
       "    </tr>\n",
       "    <tr>\n",
       "      <th>GZ7.2</th>\n",
       "      <td>4488</td>\n",
       "      <td>0.448755</td>\n",
       "      <td>4488</td>\n",
       "    </tr>\n",
       "    <tr>\n",
       "      <th>TMA</th>\n",
       "      <td>2820</td>\n",
       "      <td>0.281972</td>\n",
       "      <td>2820</td>\n",
       "    </tr>\n",
       "  </tbody>\n",
       "</table>\n",
       "</div>"
      ],
      "text/plain": [
       "        current_row_count      prop  desired_row_count\n",
       "GZ10.1                118  0.011799                118\n",
       "GZ10.2                101  0.010099                101\n",
       "GZ10.3                266  0.026597                266\n",
       "GZ6                  1846  0.184582               1846\n",
       "GZ7.1                 362  0.036196                362\n",
       "GZ7.2                4488  0.448755               4488\n",
       "TMA                  2820  0.281972               2820"
      ]
     },
     "execution_count": 93,
     "metadata": {},
     "output_type": "execute_result"
    }
   ],
   "source": [
    "## We want to make sure our sampling worked as expected.\n",
    "\n",
    "# In our new dataframe, how many rows do we actually have for each sample?\n",
    "# What is the proportion of each sample's rows of the total dataframe?\n",
    "\n",
    "# Compare this with the 'counts_for_heatmap' above\n",
    "# Note there might be slight differences in 'prop' due to rounding\n",
    "\n",
    "create_equal_value_counts(heatmap_data, 'Sample_ID', heatmap_data.shape[0])"
   ]
  },
  {
   "cell_type": "markdown",
   "metadata": {},
   "source": [
    "Get data structures to map colors to columns and rows..."
   ]
  },
  {
   "cell_type": "code",
   "execution_count": 94,
   "metadata": {},
   "outputs": [
    {
     "data": {
      "text/plain": [
       "GZ10.1_Cell_3785    (0.9677975592919913, 0.44127456009157356, 0.53...\n",
       "GZ10.1_Cell_3554    (0.9677975592919913, 0.44127456009157356, 0.53...\n",
       "GZ10.1_Cell_125     (0.9677975592919913, 0.44127456009157356, 0.53...\n",
       "GZ10.1_Cell_2961    (0.9677975592919913, 0.44127456009157356, 0.53...\n",
       "Name: Sample_ID, dtype: object"
      ]
     },
     "execution_count": 94,
     "metadata": {},
     "output_type": "execute_result"
    }
   ],
   "source": [
    "sample_row_colors = heatmap_data.Sample_ID.map(sample_color_dict)\n",
    "\n",
    "sample_row_colors[1:5]"
   ]
  },
  {
   "cell_type": "code",
   "execution_count": 95,
   "metadata": {},
   "outputs": [
    {
     "data": {
      "text/plain": [
       "53BP1_Cell_Intensity_Average    (0.25098039215686274, 0.8784313725490196, 0.81...\n",
       "AXL_Cell_Intensity_Average                                        (1.0, 0.0, 0.0)\n",
       "CCNA2_Cell_Intensity_Average                                      (1.0, 0.0, 0.0)\n",
       "CCND1_Cell_Intensity_Average                       (1.0, 0.6470588235294118, 0.0)\n",
       "CD45_Cell_Intensity_Average     (0.25098039215686274, 0.8784313725490196, 0.81...\n",
       "Name: Channel, dtype: object"
      ]
     },
     "execution_count": 95,
     "metadata": {},
     "output_type": "execute_result"
    }
   ],
   "source": [
    "column_channel_colors = pd.merge(pd.DataFrame(pd.Series(\n",
    "    heatmap_data.loc[:,~heatmap_data.columns.isin(not_intensities)].columns.values)), \n",
    "                  metadata, how = 'left',\n",
    "         left_on = 0, right_on = 'full_column')[[0,'Channel']]['Channel'].map(channel_color_dict)\n",
    "\n",
    "\n",
    "column_channel_colors.index = heatmap_data.loc[:,~heatmap_data.columns.isin(not_intensities)].columns.values\n",
    "\n",
    "column_channel_colors.head()"
   ]
  },
  {
   "cell_type": "code",
   "execution_count": 96,
   "metadata": {},
   "outputs": [
    {
     "data": {
      "text/plain": [
       "53BP1_Cell_Intensity_Average    (0.3736023974468758, 0.214424058315835, 0.3978...\n",
       "AXL_Cell_Intensity_Average      (0.4347275623260717, 0.45841778084048856, 0.66...\n",
       "CCNA2_Cell_Intensity_Average    (0.3736023974468758, 0.214424058315835, 0.3978...\n",
       "CCND1_Cell_Intensity_Average    (0.4347275623260717, 0.45841778084048856, 0.66...\n",
       "CD45_Cell_Intensity_Average     (0.6251959781814483, 0.8211474484187268, 0.771...\n",
       "Name: Round, dtype: object"
      ]
     },
     "execution_count": 96,
     "metadata": {},
     "output_type": "execute_result"
    }
   ],
   "source": [
    "column_round_colors = pd.merge(pd.DataFrame(pd.Series(\n",
    "    heatmap_data.loc[:,~heatmap_data.columns.isin(not_intensities)].columns.values)), \n",
    "                  metadata, how = 'left',\n",
    "         left_on = 0, right_on = 'full_column')[[0,'Round']]['Round'].map(round_color_dict)\n",
    "\n",
    "\n",
    "column_round_colors.index = heatmap_data.loc[:,~heatmap_data.columns.isin(not_intensities)].columns.values\n",
    "\n",
    "column_round_colors.head()"
   ]
  },
  {
   "cell_type": "code",
   "execution_count": 97,
   "metadata": {},
   "outputs": [],
   "source": [
    "# Create data structure to hold everything we need for row/column annotations\n",
    "# annotations is a dictionary\n",
    "## IMPORTANT - if you use 'annotations', it MUST have both 'rows' and 'cols'\n",
    "## objects inside. These can be empty lists, but they must be there!\n",
    "annotations = {}\n",
    "\n",
    "# create a data structure to hold everything we need for only row annotations\n",
    "# row_annotations is a list, where each item therein is a dictioary corresponding\n",
    "# to all of the data pertaining to that particular annotation\n",
    "# Adding each item (e.g., Sample, then Cluster), one at a time to ensure ordering\n",
    "# is as anticipated on figure\n",
    "row_annotations = []\n",
    "row_annotations.append({'label':'Sample','type':'row','mapping':sample_row_colors,'dict':sample_color_dict,\n",
    "                        'location':'center left','bbox_to_anchor':(0, 0.5)})\n",
    "# Add all row information into the annotations dictionary\n",
    "annotations['rows'] = row_annotations\n",
    "\n",
    "\n",
    "# Now we repeat the process for column annotations\n",
    "col_annotations = []\n",
    "col_annotations.append({'label':'Round','type':'column','mapping':column_round_colors,'dict':round_color_dict,\n",
    "                       'location':'upper right','bbox_to_anchor':(1,0.50)})\n",
    "\n",
    "col_annotations.append({'label':'Column','type':'column','mapping':column_channel_colors,'dict':channel_color_dict,\n",
    "                       'location':'upper right','bbox_to_anchor':(1,0.75)})\n",
    "annotations['cols'] = col_annotations"
   ]
  },
  {
   "cell_type": "markdown",
   "metadata": {},
   "source": [
    "#### Actually plot the heatmap"
   ]
  },
  {
   "cell_type": "code",
   "execution_count": 98,
   "metadata": {},
   "outputs": [
    {
     "data": {
      "image/png": "[encoded data removed]",
      "text/plain": [
       "<Figure size 2880x2160 with 6 Axes>"
      ]
     },
     "metadata": {},
     "output_type": "display_data"
    }
   ],
   "source": [
    "heatmap_function(data = heatmap_data.loc[:,~heatmap_data.columns.isin(not_intensities)],\n",
    "    title = \"Background substraction heatmap\",\n",
    "               # define method, metric, and color map\n",
    "          method = 'ward', metric = 'euclidean',cmap = 'coolwarm',\n",
    "               # colorbar (legend coloring of main plot) \n",
    "               cbar_kws = {'label':'BS Intens.'},\n",
    "               # xticklabels - want to have the nicknames instead of full names\n",
    "    xticklabels = [full_to_short_names[name] for name in \n",
    "                     heatmap_data.loc[:,\n",
    "                                 ~heatmap_data.columns.isin(not_intensities)].columns.values],\n",
    "                 save_loc = output_images_dir,\n",
    "                 row_cluster = True, col_cluster = True,\n",
    "                    annotations = annotations\n",
    "          )"
   ]
  },
  {
   "cell_type": "markdown",
   "metadata": {},
   "source": [
    "   #### XY plot - one per sample, colored by cell type"
   ]
  },
  {
   "cell_type": "code",
   "execution_count": 106,
   "metadata": {},
   "outputs": [],
   "source": [
    "for sample in ls_samples:\n",
    "    location_colors = df.loc[df['Sample_ID'] == sample,['Nuc_X','Nuc_Y_Inv','cell_type']]\n",
    "\n",
    "    fig = go.Figure()\n",
    "    title = sample + \" Background Subtracted XY Map\"\n",
    "\n",
    "    for celltype in df.loc[df['Sample_ID'] == sample,'cell_type'].unique():\n",
    "        fig.add_scatter(\n",
    "            mode = 'markers',\n",
    "            marker=dict(\n",
    "                        size=2, opacity = 0.70, # size is dot size, higher opacity = less opaque\n",
    "                        color='rgb' + str(celltype_color_dict[celltype])#,\n",
    "                #line = dict(width = 2, color = 'gray') # line around each marker\n",
    "                       ),\n",
    "        x = location_colors.loc[location_colors['cell_type']==celltype,'Nuc_X'],\n",
    "        y = location_colors.loc[location_colors['cell_type']==celltype,'Nuc_Y_Inv'],\n",
    "        name = celltype)\n",
    "\n",
    "\n",
    "    fig.update_layout(title = title, plot_bgcolor = 'white',\n",
    "                     legend= {'itemsizing': 'constant'}) # make the legend dots a bit bigger    \n",
    "    fig.update_xaxes(title_text = 'Nuc_X', linecolor = 'black')\n",
    "    fig.update_yaxes(title_text = 'Nuc_Y_Inv', linecolor = 'black')\n",
    "\n",
    "\n",
    "    #plot(fig)\n",
    "    fig.write_image(output_images_dir + \"/\" + title.replace(\" \",\"_\") + \".png\")\n",
    "\n"
   ]
  },
  {
   "cell_type": "markdown",
   "metadata": {},
   "source": [
    "### Distributions"
   ]
  },
  {
   "cell_type": "markdown",
   "metadata": {},
   "source": [
    "#### One per sample, one per marker"
   ]
  },
  {
   "cell_type": "code",
   "execution_count": 107,
   "metadata": {},
   "outputs": [],
   "source": [
    "# per-sample, per-marker distribution plots\n",
    "\n",
    "df = df.rename(columns = full_to_short_names)\n",
    "\n",
    "for sample in ls_samples:\n",
    "#for sample in [s for s in ls_samples if df.loc[df['Sample_ID'] == s,:].shape[0] > 0]:\n",
    "#for sample in ['ww10','TMA','ww12']:\n",
    "    for marker in [m for m in df.columns.values if m not in not_intensities]:\n",
    "        make_distr_plot_per_sample(\n",
    "        title = sample + \" \" + marker + \" BS\",\n",
    "        dfs = [\n",
    "            df.loc[df['Sample_ID']==sample,:].copy()],\n",
    "        df_names = [sample],\n",
    "        colors = [sample_color_dict[sample]],\n",
    "        x_label = \"Intensity\",\n",
    "        legend = False,\n",
    "        markers = marker,\n",
    "        location = output_images_dir)     \n",
    "\n",
    "df = df.rename(columns = short_to_full_names)\n"
   ]
  },
  {
   "cell_type": "markdown",
   "metadata": {},
   "source": [
    "#### Distributions - one per channel"
   ]
  },
  {
   "cell_type": "markdown",
   "metadata": {},
   "source": [
    "All samples are represented individually on each plot"
   ]
  },
  {
   "cell_type": "code",
   "execution_count": 108,
   "metadata": {},
   "outputs": [
    {
     "data": {
      "text/html": [
       "<div>\n",
       "<style scoped>\n",
       "    .dataframe tbody tr th:only-of-type {\n",
       "        vertical-align: middle;\n",
       "    }\n",
       "\n",
       "    .dataframe tbody tr th {\n",
       "        vertical-align: top;\n",
       "    }\n",
       "\n",
       "    .dataframe thead th {\n",
       "        text-align: right;\n",
       "    }\n",
       "</style>\n",
       "<table border=\"1\" class=\"dataframe\">\n",
       "  <thead>\n",
       "    <tr style=\"text-align: right;\">\n",
       "      <th></th>\n",
       "      <th>Target</th>\n",
       "      <th>Channel</th>\n",
       "    </tr>\n",
       "  </thead>\n",
       "  <tbody>\n",
       "    <tr>\n",
       "      <th>0</th>\n",
       "      <td>AF488</td>\n",
       "      <td>c2</td>\n",
       "    </tr>\n",
       "    <tr>\n",
       "      <th>1</th>\n",
       "      <td>AF555</td>\n",
       "      <td>c3</td>\n",
       "    </tr>\n",
       "    <tr>\n",
       "      <th>2</th>\n",
       "      <td>AF647</td>\n",
       "      <td>c4</td>\n",
       "    </tr>\n",
       "    <tr>\n",
       "      <th>3</th>\n",
       "      <td>AF750</td>\n",
       "      <td>c5</td>\n",
       "    </tr>\n",
       "  </tbody>\n",
       "</table>\n",
       "</div>"
      ],
      "text/plain": [
       "  Target Channel\n",
       "0  AF488      c2\n",
       "1  AF555      c3\n",
       "2  AF647      c4\n",
       "3  AF750      c5"
      ]
     },
     "execution_count": 108,
     "metadata": {},
     "output_type": "execute_result"
    }
   ],
   "source": [
    "metadata.loc[ (metadata['target_lower'].str.contains(r'^af\\d{3}$')), ['Target','Channel']]"
   ]
  },
  {
   "cell_type": "code",
   "execution_count": 109,
   "metadata": {},
   "outputs": [],
   "source": [
    "for c in metadata.Channel.unique():\n",
    "    my_cols = metadata.loc[metadata['Channel'] == c, 'full_column']\n",
    "    channel_data = df.loc[:,[f for f in my_cols if f in df.columns]]\n",
    "    channel_data = channel_data.rename(columns = full_to_short_names)\n",
    "    wavelength = metadata.loc[(metadata['Channel'] == c) \\\n",
    "                              & (metadata['target_lower'].str.contains(r'^af\\d{3}$')), 'Target'].values[0]\n",
    "    make_distr_plot_per_sample(\n",
    "        title = \"Distribution of \" + wavelength + \" markers across all BS cells\",\n",
    "        dfs = [channel_data],\n",
    "            df_names = [''],\n",
    "                              colors = sb.color_palette(\"hls\",n_colors = channel_data.shape[1]),\n",
    "                              x_label = \"Intensity\",\n",
    "                              legend = True,\n",
    "    location = output_images_dir, not_intensities = not_intensities)\n",
    "\n",
    "## make sure it's clear how to set xlims manually for these plots"
   ]
  },
  {
   "cell_type": "markdown",
   "metadata": {},
   "source": [
    "### Scatterplot - cell size vs nucleus size, color = nulceus roundess"
   ]
  },
  {
   "cell_type": "markdown",
   "metadata": {},
   "source": [
    "Useful now that we have performed filtering. Note that real workflow will use the appropriate features that are lacking in this dataset."
   ]
  },
  {
   "cell_type": "code",
   "execution_count": 115,
   "metadata": {},
   "outputs": [
    {
     "data": {
      "text/plain": [
       "Index(['Cell_Size', 'Nuc_X', 'Nuc_X_Inv', 'Nuc_Y', 'Nuc_Y_Inv', 'Nucleus_Size',\n",
       "       'ROI_index', 'Sample_ID', 'cell_type'],\n",
       "      dtype='object')"
      ]
     },
     "execution_count": 115,
     "metadata": {},
     "output_type": "execute_result"
    }
   ],
   "source": [
    "df.columns[df.columns.isin(not_intensities)]"
   ]
  },
  {
   "cell_type": "code",
   "execution_count": 122,
   "metadata": {},
   "outputs": [],
   "source": [
    "title = \"Nucleus size by cell size for post-filtering data\"\n",
    "x_label = \"Nucleus Size\"\n",
    "y_label = \"Cell Size\" # cell size\n",
    "\n",
    "fig = px.scatter(df, x=\"Nucleus_Size\", y=\"Cell_Size\",\n",
    "                 color='Cell_Size')\n",
    "                 \n",
    "fig.update_layout(title_text=title, font=dict(size=18), \n",
    "        plot_bgcolor = 'white', showlegend = True )\n",
    "\n",
    "# Adjust opacity of traces and size of marker\n",
    "fig.update_traces(opacity=0.6, marker ={'size':5})\n",
    "# Adjust x-axis parameters\n",
    "fig.update_xaxes(title_text = x_label, showline=True, linewidth=2, linecolor='black', \n",
    "        tickfont=dict(size=18))\n",
    "    # Adjust y-axis parameters\n",
    "fig.update_yaxes(title_text = y_label, showline=True, linewidth=2, linecolor='black',\n",
    "        tickfont=dict(size=18))\n",
    "    \n",
    "#plot(fig)\n",
    "fig.write_image(output_images_dir + \"/\" + title.replace(\" \",\"_\") + \".png\")"
   ]
  },
  {
   "cell_type": "markdown",
   "metadata": {},
   "source": [
    "### Drop any other rows or columns we want to before saving data"
   ]
  },
  {
   "cell_type": "code",
   "execution_count": null,
   "metadata": {},
   "outputs": [],
   "source": [
    "# Let's take a look\n",
    "df.columns.values"
   ]
  },
  {
   "cell_type": "markdown",
   "metadata": {},
   "source": [
    "For the sake of example, I will operate on a copy of df, called df_copy"
   ]
  },
  {
   "cell_type": "code",
   "execution_count": null,
   "metadata": {},
   "outputs": [],
   "source": [
    "# You MUST do df.copy()\n",
    "# 'df_copy = df' would essentially \n",
    "# give you two different names for the\n",
    "# SAME dataframe, so operating on one\n",
    "# would also operate on the other\n",
    "df_copy = df.copy()"
   ]
  },
  {
   "cell_type": "markdown",
   "metadata": {},
   "source": [
    "#### Operate on entire rows or columns"
   ]
  },
  {
   "cell_type": "code",
   "execution_count": null,
   "metadata": {},
   "outputs": [],
   "source": [
    "# Drop columns\n",
    "my_cols = []\n",
    "df_copy = df_copy.drop(columns = my_cols)"
   ]
  },
  {
   "cell_type": "code",
   "execution_count": null,
   "metadata": {},
   "outputs": [],
   "source": [
    "# Keep only specific columns (explained below)\n",
    "my_cols = []\n",
    "my_cols = df.columns.values\n",
    "df_copy = df_copy.loc[:,my_cols]"
   ]
  },
  {
   "cell_type": "markdown",
   "metadata": {},
   "source": [
    "#### Operate on rows and columns using filtering criteria"
   ]
  },
  {
   "cell_type": "code",
   "execution_count": null,
   "metadata": {},
   "outputs": [],
   "source": [
    "# Keep only certain rows based off of criteria\n",
    "\n",
    "# use df.loc[] to filter\n",
    "# df.loc[rows,columns]\n",
    "# df.loc[:,certain_cols] --> keep all rows ':', only certain cols\n",
    "# df.loc[certain_rows,:] --> keep only certain row, all cols ':'\n",
    "\n",
    "# Say we only want certain values for Sample_ID\n",
    "print(df_copy.Sample_ID.unique())\n",
    "keep = ['TMA1.1','TMA1.2','TMA1.3','TMA2.1','TMA2.2','TMA2.3']\n",
    "df_copy = df_copy.loc[df_copy['Sample_ID'].isin(keep),:]\n",
    "print(df_copy.Sample_ID.unique())"
   ]
  },
  {
   "cell_type": "code",
   "execution_count": null,
   "metadata": {},
   "outputs": [],
   "source": [
    "# Filter on multiple criteria\n",
    "# '&' or 'and'\n",
    "# '|' or 'or'\n",
    "# you MUST have parentheses around each logic expression!\n",
    "df_copy = df_copy.loc[\n",
    "    (df_copy['Sample_ID'].isin(['TMA1.1','TMA1.2','TMA1.3'])) \\\n",
    "    ## backslash above used to break line for readability, but tell Python to act like it's all one line\n",
    "        | (df_copy['Sample_ID'].isin(['TMA2.1','TMA2.2','TMA2.3'])),:]\n",
    "print(df_copy.Sample_ID.unique())"
   ]
  },
  {
   "cell_type": "code",
   "execution_count": null,
   "metadata": {},
   "outputs": [],
   "source": [
    "# Remove rows based off of certain criteria\n",
    "# note the negating tilde '~'!\n",
    "\n",
    "df_copy = df_copy.loc[\n",
    "    (~df_copy['Sample_ID'].isin(['TMA1.1','TMA1.2','TMA1.3'])) \\\n",
    "    ## backslash above used to break line for readability, but tell Python to act like it's all one line\n",
    "        & (~df_copy['Sample_ID'].isin(['TMA2.1','TMA2.2','TMA2.3'])),:]\n",
    "print(df_copy.Sample_ID.unique())"
   ]
  },
  {
   "cell_type": "markdown",
   "metadata": {},
   "source": [
    "### Save the data by Sample_ID"
   ]
  },
  {
   "cell_type": "code",
   "execution_count": 111,
   "metadata": {},
   "outputs": [],
   "source": [
    "# Check for existence of output file first\n",
    "for sample in ls_samples:\n",
    "    filename = os.path.join(output_data_dir+ \"/\" + sample + \"_\" + step_suffix + \".csv\")\n",
    "    if os.path.exists(filename):\n",
    "        print(\"File by name \"+filename+\" already exists.\")"
   ]
  },
  {
   "cell_type": "code",
   "execution_count": 123,
   "metadata": {},
   "outputs": [],
   "source": [
    "# Save output files\n",
    "for sample in ls_samples:\n",
    "    df_save = df.loc[df['Sample_ID'] == sample,:]\n",
    "    filename = os.path.join(output_data_dir+ \"/\" + sample + \"_\" + step_suffix + \".csv\")\n",
    "    df_save.to_csv(filename, index = True)\n"
   ]
  },
  {
   "cell_type": "code",
   "execution_count": null,
   "metadata": {},
   "outputs": [],
   "source": []
  }
 ],
 "metadata": {
  "kernelspec": {
   "display_name": "Python 3",
   "language": "python",
   "name": "python3"
  },
  "language_info": {
   "codemirror_mode": {
    "name": "ipython",
    "version": 3
   },
   "file_extension": ".py",
   "mimetype": "text/x-python",
   "name": "python",
   "nbconvert_exporter": "python",
   "pygments_lexer": "ipython3",
   "version": "3.7.3"
  }
 },
 "nbformat": 4,
 "nbformat_minor": 4
}
